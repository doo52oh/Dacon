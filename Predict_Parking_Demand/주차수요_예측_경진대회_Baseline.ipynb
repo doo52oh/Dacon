{
  "nbformat": 4,
  "nbformat_minor": 0,
  "metadata": {
    "colab": {
      "name": " 주차수요 예측 경진대회_Baseline.ipynb",
      "provenance": [],
      "authorship_tag": "ABX9TyOe+Bb6s+qSAMABWFsAEN9g",
      "include_colab_link": true
    },
    "kernelspec": {
      "name": "python3",
      "display_name": "Python 3"
    },
    "language_info": {
      "name": "python"
    }
  },
  "cells": [
    {
      "cell_type": "markdown",
      "metadata": {
        "id": "view-in-github",
        "colab_type": "text"
      },
      "source": [
        "<a href=\"https://colab.research.google.com/github/doo52oh/Dacon/blob/main/Predict_Parking_Demand/%EC%A3%BC%EC%B0%A8%EC%88%98%EC%9A%94_%EC%98%88%EC%B8%A1_%EA%B2%BD%EC%A7%84%EB%8C%80%ED%9A%8C_Baseline.ipynb\" target=\"_parent\"><img src=\"https://colab.research.google.com/assets/colab-badge.svg\" alt=\"Open In Colab\"/></a>"
      ]
    },
    {
      "cell_type": "markdown",
      "metadata": {
        "id": "BFGE8RKMOx96"
      },
      "source": [
        "# 주차수요예측 baseline\n",
        "\n",
        "Dacon 내 baseline 스크립트 바탕\n",
        "\n",
        "score : 130.4656\n",
        "\n",
        "추후 EDA를 통해 변수 추가 및 변경, 모형 추가 예정"
      ]
    },
    {
      "cell_type": "code",
      "metadata": {
        "id": "eDO5-WvhCVL0"
      },
      "source": [
        "import pandas as pd\n",
        "import numpy as np\n",
        "from sklearn.ensemble import RandomForestRegressor\n",
        "from tqdm import tqdm"
      ],
      "execution_count": 2,
      "outputs": []
    },
    {
      "cell_type": "markdown",
      "metadata": {
        "id": "dEU5j85xMnSu"
      },
      "source": [
        "# Data"
      ]
    },
    {
      "cell_type": "code",
      "metadata": {
        "id": "5P4OXSpjMghf"
      },
      "source": [
        "train = pd.read_csv('train.csv')\n",
        "test = pd.read_csv('test.csv')\n",
        "submission = pd.read_csv('sample_submission.csv')"
      ],
      "execution_count": 4,
      "outputs": []
    },
    {
      "cell_type": "code",
      "metadata": {
        "colab": {
          "base_uri": "https://localhost:8080/"
        },
        "id": "uZ2BEROoMvUH",
        "outputId": "b44e82f5-dca1-4f03-f323-6c62ed2fda77"
      },
      "source": [
        "train.info()"
      ],
      "execution_count": 7,
      "outputs": [
        {
          "output_type": "stream",
          "text": [
            "<class 'pandas.core.frame.DataFrame'>\n",
            "RangeIndex: 2952 entries, 0 to 2951\n",
            "Data columns (total 15 columns):\n",
            " #   Column                        Non-Null Count  Dtype  \n",
            "---  ------                        --------------  -----  \n",
            " 0   단지코드                          2952 non-null   object \n",
            " 1   총세대수                          2952 non-null   int64  \n",
            " 2   임대건물구분                        2952 non-null   object \n",
            " 3   지역                            2952 non-null   object \n",
            " 4   공급유형                          2952 non-null   object \n",
            " 5   전용면적                          2952 non-null   float64\n",
            " 6   전용면적별세대수                      2952 non-null   int64  \n",
            " 7   공가수                           2952 non-null   float64\n",
            " 8   자격유형                          2952 non-null   object \n",
            " 9   임대보증금                         2383 non-null   object \n",
            " 10  임대료                           2383 non-null   object \n",
            " 11  도보 10분거리 내 지하철역 수(환승노선 수 반영)  2741 non-null   float64\n",
            " 12  도보 10분거리 내 버스정류장 수            2948 non-null   float64\n",
            " 13  단지내주차면수                       2952 non-null   float64\n",
            " 14  등록차량수                         2952 non-null   float64\n",
            "dtypes: float64(6), int64(2), object(7)\n",
            "memory usage: 346.1+ KB\n"
          ],
          "name": "stdout"
        }
      ]
    },
    {
      "cell_type": "code",
      "metadata": {
        "colab": {
          "base_uri": "https://localhost:8080/"
        },
        "id": "wd038mJCM1R0",
        "outputId": "5f02b78e-1c36-489e-c77c-f4c8c0afa8fb"
      },
      "source": [
        "test.info()"
      ],
      "execution_count": 8,
      "outputs": [
        {
          "output_type": "stream",
          "text": [
            "<class 'pandas.core.frame.DataFrame'>\n",
            "RangeIndex: 1022 entries, 0 to 1021\n",
            "Data columns (total 14 columns):\n",
            " #   Column                        Non-Null Count  Dtype  \n",
            "---  ------                        --------------  -----  \n",
            " 0   단지코드                          1022 non-null   object \n",
            " 1   총세대수                          1022 non-null   int64  \n",
            " 2   임대건물구분                        1022 non-null   object \n",
            " 3   지역                            1022 non-null   object \n",
            " 4   공급유형                          1022 non-null   object \n",
            " 5   전용면적                          1022 non-null   float64\n",
            " 6   전용면적별세대수                      1022 non-null   int64  \n",
            " 7   공가수                           1022 non-null   float64\n",
            " 8   자격유형                          1020 non-null   object \n",
            " 9   임대보증금                         842 non-null    object \n",
            " 10  임대료                           842 non-null    object \n",
            " 11  도보 10분거리 내 지하철역 수(환승노선 수 반영)  980 non-null    float64\n",
            " 12  도보 10분거리 내 버스정류장 수            1022 non-null   float64\n",
            " 13  단지내주차면수                       1022 non-null   float64\n",
            "dtypes: float64(5), int64(2), object(7)\n",
            "memory usage: 111.9+ KB\n"
          ],
          "name": "stdout"
        }
      ]
    },
    {
      "cell_type": "code",
      "metadata": {
        "id": "d0TXc8EiM6PF"
      },
      "source": [
        "train['지하철'] = train['도보 10분거리 내 지하철역 수(환승노선 수 반영)']\n",
        "train['버스']   = train['도보 10분거리 내 버스정류장 수'] \n",
        "\n",
        "\n",
        "test['지하철'] = test['도보 10분거리 내 지하철역 수(환승노선 수 반영)']\n",
        "test['버스']   = test['도보 10분거리 내 버스정류장 수'] "
      ],
      "execution_count": 9,
      "outputs": []
    },
    {
      "cell_type": "code",
      "metadata": {
        "colab": {
          "base_uri": "https://localhost:8080/"
        },
        "id": "HbS8GExkNREK",
        "outputId": "1a7f9643-223c-437d-be2c-3cf18bf71d4a"
      },
      "source": [
        "train.columns"
      ],
      "execution_count": 10,
      "outputs": [
        {
          "output_type": "execute_result",
          "data": {
            "text/plain": [
              "Index(['단지코드', '총세대수', '임대건물구분', '지역', '공급유형', '전용면적', '전용면적별세대수', '공가수',\n",
              "       '자격유형', '임대보증금', '임대료', '도보 10분거리 내 지하철역 수(환승노선 수 반영)',\n",
              "       '도보 10분거리 내 버스정류장 수', '단지내주차면수', '등록차량수', '지하철', '버스'],\n",
              "      dtype='object')"
            ]
          },
          "metadata": {
            "tags": []
          },
          "execution_count": 10
        }
      ]
    },
    {
      "cell_type": "code",
      "metadata": {
        "colab": {
          "base_uri": "https://localhost:8080/",
          "height": 204
        },
        "id": "lXweth26NT5b",
        "outputId": "f0fc947a-641f-4771-870e-8c82e9ef6c3e"
      },
      "source": [
        "train[['도보 10분거리 내 지하철역 수(환승노선 수 반영)', '지하철', '도보 10분거리 내 버스정류장 수', '버스']].head()"
      ],
      "execution_count": 14,
      "outputs": [
        {
          "output_type": "execute_result",
          "data": {
            "text/html": [
              "<div>\n",
              "<style scoped>\n",
              "    .dataframe tbody tr th:only-of-type {\n",
              "        vertical-align: middle;\n",
              "    }\n",
              "\n",
              "    .dataframe tbody tr th {\n",
              "        vertical-align: top;\n",
              "    }\n",
              "\n",
              "    .dataframe thead th {\n",
              "        text-align: right;\n",
              "    }\n",
              "</style>\n",
              "<table border=\"1\" class=\"dataframe\">\n",
              "  <thead>\n",
              "    <tr style=\"text-align: right;\">\n",
              "      <th></th>\n",
              "      <th>도보 10분거리 내 지하철역 수(환승노선 수 반영)</th>\n",
              "      <th>지하철</th>\n",
              "      <th>도보 10분거리 내 버스정류장 수</th>\n",
              "      <th>버스</th>\n",
              "    </tr>\n",
              "  </thead>\n",
              "  <tbody>\n",
              "    <tr>\n",
              "      <th>0</th>\n",
              "      <td>0.0</td>\n",
              "      <td>0.0</td>\n",
              "      <td>3.0</td>\n",
              "      <td>3.0</td>\n",
              "    </tr>\n",
              "    <tr>\n",
              "      <th>1</th>\n",
              "      <td>0.0</td>\n",
              "      <td>0.0</td>\n",
              "      <td>3.0</td>\n",
              "      <td>3.0</td>\n",
              "    </tr>\n",
              "    <tr>\n",
              "      <th>2</th>\n",
              "      <td>0.0</td>\n",
              "      <td>0.0</td>\n",
              "      <td>3.0</td>\n",
              "      <td>3.0</td>\n",
              "    </tr>\n",
              "    <tr>\n",
              "      <th>3</th>\n",
              "      <td>0.0</td>\n",
              "      <td>0.0</td>\n",
              "      <td>3.0</td>\n",
              "      <td>3.0</td>\n",
              "    </tr>\n",
              "    <tr>\n",
              "      <th>4</th>\n",
              "      <td>0.0</td>\n",
              "      <td>0.0</td>\n",
              "      <td>3.0</td>\n",
              "      <td>3.0</td>\n",
              "    </tr>\n",
              "  </tbody>\n",
              "</table>\n",
              "</div>"
            ],
            "text/plain": [
              "   도보 10분거리 내 지하철역 수(환승노선 수 반영)  지하철  도보 10분거리 내 버스정류장 수   버스\n",
              "0                           0.0  0.0                 3.0  3.0\n",
              "1                           0.0  0.0                 3.0  3.0\n",
              "2                           0.0  0.0                 3.0  3.0\n",
              "3                           0.0  0.0                 3.0  3.0\n",
              "4                           0.0  0.0                 3.0  3.0"
            ]
          },
          "metadata": {
            "tags": []
          },
          "execution_count": 14
        }
      ]
    },
    {
      "cell_type": "code",
      "metadata": {
        "colab": {
          "base_uri": "https://localhost:8080/",
          "height": 204
        },
        "id": "40ppJbveNghf",
        "outputId": "d3f3edc7-708e-4d49-86fd-3b6eb247ee44"
      },
      "source": [
        "test[['도보 10분거리 내 지하철역 수(환승노선 수 반영)', '지하철', '도보 10분거리 내 버스정류장 수', '버스']].head()"
      ],
      "execution_count": 12,
      "outputs": [
        {
          "output_type": "execute_result",
          "data": {
            "text/html": [
              "<div>\n",
              "<style scoped>\n",
              "    .dataframe tbody tr th:only-of-type {\n",
              "        vertical-align: middle;\n",
              "    }\n",
              "\n",
              "    .dataframe tbody tr th {\n",
              "        vertical-align: top;\n",
              "    }\n",
              "\n",
              "    .dataframe thead th {\n",
              "        text-align: right;\n",
              "    }\n",
              "</style>\n",
              "<table border=\"1\" class=\"dataframe\">\n",
              "  <thead>\n",
              "    <tr style=\"text-align: right;\">\n",
              "      <th></th>\n",
              "      <th>도보 10분거리 내 지하철역 수(환승노선 수 반영)</th>\n",
              "      <th>지하철</th>\n",
              "      <th>도보 10분거리 내 버스정류장 수</th>\n",
              "      <th>버스</th>\n",
              "    </tr>\n",
              "  </thead>\n",
              "  <tbody>\n",
              "    <tr>\n",
              "      <th>0</th>\n",
              "      <td>0.0</td>\n",
              "      <td>0.0</td>\n",
              "      <td>2.0</td>\n",
              "      <td>2.0</td>\n",
              "    </tr>\n",
              "    <tr>\n",
              "      <th>1</th>\n",
              "      <td>0.0</td>\n",
              "      <td>0.0</td>\n",
              "      <td>2.0</td>\n",
              "      <td>2.0</td>\n",
              "    </tr>\n",
              "    <tr>\n",
              "      <th>2</th>\n",
              "      <td>0.0</td>\n",
              "      <td>0.0</td>\n",
              "      <td>2.0</td>\n",
              "      <td>2.0</td>\n",
              "    </tr>\n",
              "    <tr>\n",
              "      <th>3</th>\n",
              "      <td>0.0</td>\n",
              "      <td>0.0</td>\n",
              "      <td>2.0</td>\n",
              "      <td>2.0</td>\n",
              "    </tr>\n",
              "    <tr>\n",
              "      <th>4</th>\n",
              "      <td>0.0</td>\n",
              "      <td>0.0</td>\n",
              "      <td>2.0</td>\n",
              "      <td>2.0</td>\n",
              "    </tr>\n",
              "  </tbody>\n",
              "</table>\n",
              "</div>"
            ],
            "text/plain": [
              "   도보 10분거리 내 지하철역 수(환승노선 수 반영)  지하철  도보 10분거리 내 버스정류장 수   버스\n",
              "0                           0.0  0.0                 2.0  2.0\n",
              "1                           0.0  0.0                 2.0  2.0\n",
              "2                           0.0  0.0                 2.0  2.0\n",
              "3                           0.0  0.0                 2.0  2.0\n",
              "4                           0.0  0.0                 2.0  2.0"
            ]
          },
          "metadata": {
            "tags": []
          },
          "execution_count": 12
        }
      ]
    },
    {
      "cell_type": "markdown",
      "metadata": {
        "id": "Gr-qmYIqNsJt"
      },
      "source": [
        "# 지역명 숫자로 맵핑"
      ]
    },
    {
      "cell_type": "code",
      "metadata": {
        "id": "1JedKTpQNkAH"
      },
      "source": [
        "local_map = {}\n",
        "for i, loc in enumerate(train['지역'].unique()):\n",
        "    local_map[loc] = i"
      ],
      "execution_count": 15,
      "outputs": []
    },
    {
      "cell_type": "code",
      "metadata": {
        "id": "NHz2zn7yNvA5"
      },
      "source": [
        "train['지역'] = train['지역'].map(local_map)\n",
        "test['지역'] = test['지역'].map(local_map)"
      ],
      "execution_count": 16,
      "outputs": []
    },
    {
      "cell_type": "markdown",
      "metadata": {
        "id": "mmn4c-uGN04i"
      },
      "source": [
        "# 전용면적 5배수 변경"
      ]
    },
    {
      "cell_type": "code",
      "metadata": {
        "id": "juPoi-JKNyYp"
      },
      "source": [
        "train['전용면적'] = train['전용면적']//5*5\n",
        "test['전용면적'] = test['전용면적']//5*5"
      ],
      "execution_count": 17,
      "outputs": []
    },
    {
      "cell_type": "markdown",
      "metadata": {
        "id": "Cxx9MOSrN5ht"
      },
      "source": [
        "# 전용면적 상/하한 적용\n",
        "\n",
        "상한 100, 하한 15"
      ]
    },
    {
      "cell_type": "code",
      "metadata": {
        "id": "-d0cKBA8N4Ey"
      },
      "source": [
        "idx = train[train['전용면적']>100].index\n",
        "train.loc[idx, '전용면적'] = 100\n",
        "idx = test[test['전용면적']>100].index\n",
        "test.loc[idx, '전용면적'] = 100\n",
        "\n",
        "idx = train[train['전용면적']<15].index\n",
        "train.loc[idx, '전용면적'] = 15\n",
        "idx = test[test['전용면적']<15].index\n",
        "test.loc[idx, '전용면적'] = 15"
      ],
      "execution_count": 18,
      "outputs": []
    },
    {
      "cell_type": "code",
      "metadata": {
        "colab": {
          "base_uri": "https://localhost:8080/"
        },
        "id": "UWbdXUHkOB1l",
        "outputId": "981f9a2d-42af-48de-9cf0-a91b0a8cfaee"
      },
      "source": [
        "test['전용면적'].unique()"
      ],
      "execution_count": 19,
      "outputs": [
        {
          "output_type": "execute_result",
          "data": {
            "text/plain": [
              "array([ 35.,  45.,  50.,  30.,  55.,  25.,  75., 100.,  15.,  20.,  40.,\n",
              "        60.,  80.,  70.])"
            ]
          },
          "metadata": {
            "tags": []
          },
          "execution_count": 19
        }
      ]
    },
    {
      "cell_type": "markdown",
      "metadata": {
        "id": "YhxHxIoiOF0-"
      },
      "source": [
        "# 단지별 데이터 1차원으로 취합\n"
      ]
    },
    {
      "cell_type": "code",
      "metadata": {
        "id": "D6mz9XGAODly"
      },
      "source": [
        "columns = ['단지코드', '총세대수', '공가수', '지역', '단지내주차면수', '지하철', '버스']\n",
        "target = '등록차량수'\n",
        "area_columns = []\n",
        "for area in train['전용면적'].unique():\n",
        "    area_columns.append(f'면적_{area}')"
      ],
      "execution_count": 20,
      "outputs": []
    },
    {
      "cell_type": "code",
      "metadata": {
        "id": "oNdvmJfmOI0E"
      },
      "source": [
        "new_train = pd.DataFrame()\n",
        "new_test = pd.DataFrame()"
      ],
      "execution_count": 21,
      "outputs": []
    },
    {
      "cell_type": "code",
      "metadata": {
        "colab": {
          "base_uri": "https://localhost:8080/"
        },
        "id": "H1oRVl_jOJ3J",
        "outputId": "88d16898-5a54-4ae4-e460-7ab9a5ba8240"
      },
      "source": [
        "for i, code in tqdm(enumerate(train['단지코드'].unique())):\n",
        "    temp = train[train['단지코드']==code]\n",
        "    temp.index = range(temp.shape[0])\n",
        "    for col in columns:\n",
        "        new_train.loc[i, col] = temp.loc[0, col]\n",
        "    \n",
        "    for col in area_columns:\n",
        "        area = float(col.split('_')[-1])\n",
        "        new_train.loc[i, col] = temp[temp['전용면적']==area]['전용면적별세대수'].sum()\n",
        "    \n",
        "    new_train.loc[i, '등록차량수'] = temp.loc[0, '등록차량수']\n",
        "    \n",
        "for i, code in tqdm(enumerate(test['단지코드'].unique())):\n",
        "    temp = test[test['단지코드']==code]\n",
        "    temp.index = range(temp.shape[0])\n",
        "    for col in columns:\n",
        "        new_test.loc[i, col] = temp.loc[0, col]\n",
        "    \n",
        "    for col in area_columns:\n",
        "        area = float(col.split('_')[-1])\n",
        "        new_test.loc[i, col] = temp[temp['전용면적']==area]['전용면적별세대수'].sum()"
      ],
      "execution_count": 22,
      "outputs": [
        {
          "output_type": "stream",
          "text": [
            "423it [00:09, 46.16it/s]\n",
            "150it [00:03, 45.74it/s]\n"
          ],
          "name": "stderr"
        }
      ]
    },
    {
      "cell_type": "code",
      "metadata": {
        "colab": {
          "base_uri": "https://localhost:8080/",
          "height": 437
        },
        "id": "Vv6ntB-zOLu6",
        "outputId": "0f39b25e-fcf2-44ae-b02c-c14dc2a82563"
      },
      "source": [
        "new_train"
      ],
      "execution_count": 23,
      "outputs": [
        {
          "output_type": "execute_result",
          "data": {
            "text/html": [
              "<div>\n",
              "<style scoped>\n",
              "    .dataframe tbody tr th:only-of-type {\n",
              "        vertical-align: middle;\n",
              "    }\n",
              "\n",
              "    .dataframe tbody tr th {\n",
              "        vertical-align: top;\n",
              "    }\n",
              "\n",
              "    .dataframe thead th {\n",
              "        text-align: right;\n",
              "    }\n",
              "</style>\n",
              "<table border=\"1\" class=\"dataframe\">\n",
              "  <thead>\n",
              "    <tr style=\"text-align: right;\">\n",
              "      <th></th>\n",
              "      <th>단지코드</th>\n",
              "      <th>총세대수</th>\n",
              "      <th>공가수</th>\n",
              "      <th>지역</th>\n",
              "      <th>단지내주차면수</th>\n",
              "      <th>지하철</th>\n",
              "      <th>버스</th>\n",
              "      <th>면적_35.0</th>\n",
              "      <th>면적_50.0</th>\n",
              "      <th>면적_55.0</th>\n",
              "      <th>면적_30.0</th>\n",
              "      <th>면적_45.0</th>\n",
              "      <th>면적_40.0</th>\n",
              "      <th>면적_25.0</th>\n",
              "      <th>면적_70.0</th>\n",
              "      <th>면적_15.0</th>\n",
              "      <th>면적_20.0</th>\n",
              "      <th>면적_100.0</th>\n",
              "      <th>면적_60.0</th>\n",
              "      <th>면적_75.0</th>\n",
              "      <th>면적_80.0</th>\n",
              "      <th>면적_65.0</th>\n",
              "      <th>등록차량수</th>\n",
              "    </tr>\n",
              "  </thead>\n",
              "  <tbody>\n",
              "    <tr>\n",
              "      <th>0</th>\n",
              "      <td>C2483</td>\n",
              "      <td>900.0</td>\n",
              "      <td>38.0</td>\n",
              "      <td>0.0</td>\n",
              "      <td>1425.0</td>\n",
              "      <td>0.0</td>\n",
              "      <td>3.0</td>\n",
              "      <td>149.0</td>\n",
              "      <td>665.0</td>\n",
              "      <td>86.0</td>\n",
              "      <td>0.0</td>\n",
              "      <td>0.0</td>\n",
              "      <td>0.0</td>\n",
              "      <td>0.0</td>\n",
              "      <td>0.0</td>\n",
              "      <td>0.0</td>\n",
              "      <td>0.0</td>\n",
              "      <td>0.0</td>\n",
              "      <td>0.0</td>\n",
              "      <td>0.0</td>\n",
              "      <td>0.0</td>\n",
              "      <td>0.0</td>\n",
              "      <td>1015.0</td>\n",
              "    </tr>\n",
              "    <tr>\n",
              "      <th>1</th>\n",
              "      <td>C2515</td>\n",
              "      <td>545.0</td>\n",
              "      <td>17.0</td>\n",
              "      <td>1.0</td>\n",
              "      <td>624.0</td>\n",
              "      <td>0.0</td>\n",
              "      <td>3.0</td>\n",
              "      <td>80.0</td>\n",
              "      <td>132.0</td>\n",
              "      <td>0.0</td>\n",
              "      <td>276.0</td>\n",
              "      <td>57.0</td>\n",
              "      <td>0.0</td>\n",
              "      <td>0.0</td>\n",
              "      <td>0.0</td>\n",
              "      <td>0.0</td>\n",
              "      <td>0.0</td>\n",
              "      <td>0.0</td>\n",
              "      <td>0.0</td>\n",
              "      <td>0.0</td>\n",
              "      <td>0.0</td>\n",
              "      <td>0.0</td>\n",
              "      <td>205.0</td>\n",
              "    </tr>\n",
              "    <tr>\n",
              "      <th>2</th>\n",
              "      <td>C1407</td>\n",
              "      <td>1216.0</td>\n",
              "      <td>13.0</td>\n",
              "      <td>2.0</td>\n",
              "      <td>1285.0</td>\n",
              "      <td>1.0</td>\n",
              "      <td>1.0</td>\n",
              "      <td>0.0</td>\n",
              "      <td>124.0</td>\n",
              "      <td>0.0</td>\n",
              "      <td>390.0</td>\n",
              "      <td>340.0</td>\n",
              "      <td>362.0</td>\n",
              "      <td>0.0</td>\n",
              "      <td>0.0</td>\n",
              "      <td>0.0</td>\n",
              "      <td>0.0</td>\n",
              "      <td>0.0</td>\n",
              "      <td>0.0</td>\n",
              "      <td>0.0</td>\n",
              "      <td>0.0</td>\n",
              "      <td>0.0</td>\n",
              "      <td>1064.0</td>\n",
              "    </tr>\n",
              "    <tr>\n",
              "      <th>3</th>\n",
              "      <td>C1945</td>\n",
              "      <td>755.0</td>\n",
              "      <td>6.0</td>\n",
              "      <td>3.0</td>\n",
              "      <td>734.0</td>\n",
              "      <td>1.0</td>\n",
              "      <td>3.0</td>\n",
              "      <td>240.0</td>\n",
              "      <td>303.0</td>\n",
              "      <td>212.0</td>\n",
              "      <td>0.0</td>\n",
              "      <td>0.0</td>\n",
              "      <td>0.0</td>\n",
              "      <td>0.0</td>\n",
              "      <td>0.0</td>\n",
              "      <td>0.0</td>\n",
              "      <td>0.0</td>\n",
              "      <td>0.0</td>\n",
              "      <td>0.0</td>\n",
              "      <td>0.0</td>\n",
              "      <td>0.0</td>\n",
              "      <td>0.0</td>\n",
              "      <td>730.0</td>\n",
              "    </tr>\n",
              "    <tr>\n",
              "      <th>4</th>\n",
              "      <td>C1470</td>\n",
              "      <td>696.0</td>\n",
              "      <td>14.0</td>\n",
              "      <td>4.0</td>\n",
              "      <td>645.0</td>\n",
              "      <td>0.0</td>\n",
              "      <td>2.0</td>\n",
              "      <td>254.0</td>\n",
              "      <td>246.0</td>\n",
              "      <td>0.0</td>\n",
              "      <td>0.0</td>\n",
              "      <td>196.0</td>\n",
              "      <td>0.0</td>\n",
              "      <td>0.0</td>\n",
              "      <td>0.0</td>\n",
              "      <td>0.0</td>\n",
              "      <td>0.0</td>\n",
              "      <td>0.0</td>\n",
              "      <td>0.0</td>\n",
              "      <td>0.0</td>\n",
              "      <td>0.0</td>\n",
              "      <td>0.0</td>\n",
              "      <td>553.0</td>\n",
              "    </tr>\n",
              "    <tr>\n",
              "      <th>...</th>\n",
              "      <td>...</td>\n",
              "      <td>...</td>\n",
              "      <td>...</td>\n",
              "      <td>...</td>\n",
              "      <td>...</td>\n",
              "      <td>...</td>\n",
              "      <td>...</td>\n",
              "      <td>...</td>\n",
              "      <td>...</td>\n",
              "      <td>...</td>\n",
              "      <td>...</td>\n",
              "      <td>...</td>\n",
              "      <td>...</td>\n",
              "      <td>...</td>\n",
              "      <td>...</td>\n",
              "      <td>...</td>\n",
              "      <td>...</td>\n",
              "      <td>...</td>\n",
              "      <td>...</td>\n",
              "      <td>...</td>\n",
              "      <td>...</td>\n",
              "      <td>...</td>\n",
              "      <td>...</td>\n",
              "    </tr>\n",
              "    <tr>\n",
              "      <th>418</th>\n",
              "      <td>C2586</td>\n",
              "      <td>90.0</td>\n",
              "      <td>7.0</td>\n",
              "      <td>9.0</td>\n",
              "      <td>66.0</td>\n",
              "      <td>0.0</td>\n",
              "      <td>3.0</td>\n",
              "      <td>36.0</td>\n",
              "      <td>0.0</td>\n",
              "      <td>0.0</td>\n",
              "      <td>0.0</td>\n",
              "      <td>0.0</td>\n",
              "      <td>0.0</td>\n",
              "      <td>42.0</td>\n",
              "      <td>0.0</td>\n",
              "      <td>12.0</td>\n",
              "      <td>0.0</td>\n",
              "      <td>0.0</td>\n",
              "      <td>0.0</td>\n",
              "      <td>0.0</td>\n",
              "      <td>0.0</td>\n",
              "      <td>0.0</td>\n",
              "      <td>57.0</td>\n",
              "    </tr>\n",
              "    <tr>\n",
              "      <th>419</th>\n",
              "      <td>C2035</td>\n",
              "      <td>492.0</td>\n",
              "      <td>24.0</td>\n",
              "      <td>5.0</td>\n",
              "      <td>521.0</td>\n",
              "      <td>0.0</td>\n",
              "      <td>1.0</td>\n",
              "      <td>156.0</td>\n",
              "      <td>0.0</td>\n",
              "      <td>0.0</td>\n",
              "      <td>0.0</td>\n",
              "      <td>180.0</td>\n",
              "      <td>0.0</td>\n",
              "      <td>156.0</td>\n",
              "      <td>0.0</td>\n",
              "      <td>0.0</td>\n",
              "      <td>0.0</td>\n",
              "      <td>0.0</td>\n",
              "      <td>0.0</td>\n",
              "      <td>0.0</td>\n",
              "      <td>0.0</td>\n",
              "      <td>0.0</td>\n",
              "      <td>246.0</td>\n",
              "    </tr>\n",
              "    <tr>\n",
              "      <th>420</th>\n",
              "      <td>C2020</td>\n",
              "      <td>40.0</td>\n",
              "      <td>7.0</td>\n",
              "      <td>8.0</td>\n",
              "      <td>25.0</td>\n",
              "      <td>1.0</td>\n",
              "      <td>2.0</td>\n",
              "      <td>15.0</td>\n",
              "      <td>0.0</td>\n",
              "      <td>0.0</td>\n",
              "      <td>0.0</td>\n",
              "      <td>0.0</td>\n",
              "      <td>0.0</td>\n",
              "      <td>5.0</td>\n",
              "      <td>0.0</td>\n",
              "      <td>20.0</td>\n",
              "      <td>0.0</td>\n",
              "      <td>0.0</td>\n",
              "      <td>0.0</td>\n",
              "      <td>0.0</td>\n",
              "      <td>0.0</td>\n",
              "      <td>0.0</td>\n",
              "      <td>19.0</td>\n",
              "    </tr>\n",
              "    <tr>\n",
              "      <th>421</th>\n",
              "      <td>C2437</td>\n",
              "      <td>90.0</td>\n",
              "      <td>12.0</td>\n",
              "      <td>11.0</td>\n",
              "      <td>30.0</td>\n",
              "      <td>0.0</td>\n",
              "      <td>1.0</td>\n",
              "      <td>0.0</td>\n",
              "      <td>0.0</td>\n",
              "      <td>0.0</td>\n",
              "      <td>0.0</td>\n",
              "      <td>0.0</td>\n",
              "      <td>0.0</td>\n",
              "      <td>0.0</td>\n",
              "      <td>0.0</td>\n",
              "      <td>0.0</td>\n",
              "      <td>90.0</td>\n",
              "      <td>0.0</td>\n",
              "      <td>0.0</td>\n",
              "      <td>0.0</td>\n",
              "      <td>0.0</td>\n",
              "      <td>0.0</td>\n",
              "      <td>16.0</td>\n",
              "    </tr>\n",
              "    <tr>\n",
              "      <th>422</th>\n",
              "      <td>C2532</td>\n",
              "      <td>239.0</td>\n",
              "      <td>7.0</td>\n",
              "      <td>5.0</td>\n",
              "      <td>166.0</td>\n",
              "      <td>0.0</td>\n",
              "      <td>1.0</td>\n",
              "      <td>0.0</td>\n",
              "      <td>201.0</td>\n",
              "      <td>0.0</td>\n",
              "      <td>0.0</td>\n",
              "      <td>38.0</td>\n",
              "      <td>0.0</td>\n",
              "      <td>0.0</td>\n",
              "      <td>0.0</td>\n",
              "      <td>0.0</td>\n",
              "      <td>0.0</td>\n",
              "      <td>0.0</td>\n",
              "      <td>0.0</td>\n",
              "      <td>0.0</td>\n",
              "      <td>0.0</td>\n",
              "      <td>0.0</td>\n",
              "      <td>146.0</td>\n",
              "    </tr>\n",
              "  </tbody>\n",
              "</table>\n",
              "<p>423 rows × 23 columns</p>\n",
              "</div>"
            ],
            "text/plain": [
              "      단지코드    총세대수   공가수    지역  ...  면적_75.0  면적_80.0  면적_65.0   등록차량수\n",
              "0    C2483   900.0  38.0   0.0  ...      0.0      0.0      0.0  1015.0\n",
              "1    C2515   545.0  17.0   1.0  ...      0.0      0.0      0.0   205.0\n",
              "2    C1407  1216.0  13.0   2.0  ...      0.0      0.0      0.0  1064.0\n",
              "3    C1945   755.0   6.0   3.0  ...      0.0      0.0      0.0   730.0\n",
              "4    C1470   696.0  14.0   4.0  ...      0.0      0.0      0.0   553.0\n",
              "..     ...     ...   ...   ...  ...      ...      ...      ...     ...\n",
              "418  C2586    90.0   7.0   9.0  ...      0.0      0.0      0.0    57.0\n",
              "419  C2035   492.0  24.0   5.0  ...      0.0      0.0      0.0   246.0\n",
              "420  C2020    40.0   7.0   8.0  ...      0.0      0.0      0.0    19.0\n",
              "421  C2437    90.0  12.0  11.0  ...      0.0      0.0      0.0    16.0\n",
              "422  C2532   239.0   7.0   5.0  ...      0.0      0.0      0.0   146.0\n",
              "\n",
              "[423 rows x 23 columns]"
            ]
          },
          "metadata": {
            "tags": []
          },
          "execution_count": 23
        }
      ]
    },
    {
      "cell_type": "markdown",
      "metadata": {
        "id": "zcDzSl3AOWOW"
      },
      "source": [
        "# 결측치 처리\n",
        "\n",
        "임의 -1 처리. 추후 EDA를 통해 변경 예정"
      ]
    },
    {
      "cell_type": "code",
      "metadata": {
        "id": "zQsO3kXdOQtf"
      },
      "source": [
        "new_train = new_train.fillna(-1)\n",
        "new_test = new_test.fillna(-1)"
      ],
      "execution_count": 24,
      "outputs": []
    },
    {
      "cell_type": "markdown",
      "metadata": {
        "id": "huKjxWBpOgjF"
      },
      "source": [
        "# 학습"
      ]
    },
    {
      "cell_type": "code",
      "metadata": {
        "id": "ToYIBMp5OcoH"
      },
      "source": [
        "x_train = new_train.iloc[:, 1:-1]\n",
        "y_train = new_train.iloc[:,-1]\n",
        "x_test = new_test.iloc[:,1:]"
      ],
      "execution_count": 25,
      "outputs": []
    },
    {
      "cell_type": "code",
      "metadata": {
        "id": "3yb-hI4eOkdw"
      },
      "source": [
        "model = RandomForestRegressor(n_jobs=-1, random_state=42)"
      ],
      "execution_count": 26,
      "outputs": []
    },
    {
      "cell_type": "code",
      "metadata": {
        "colab": {
          "base_uri": "https://localhost:8080/"
        },
        "id": "_AePcO9UOlj7",
        "outputId": "5ad0e738-5527-4b54-eedf-d8fc720a80db"
      },
      "source": [
        "model.fit(x_train, y_train)"
      ],
      "execution_count": 27,
      "outputs": [
        {
          "output_type": "execute_result",
          "data": {
            "text/plain": [
              "RandomForestRegressor(bootstrap=True, ccp_alpha=0.0, criterion='mse',\n",
              "                      max_depth=None, max_features='auto', max_leaf_nodes=None,\n",
              "                      max_samples=None, min_impurity_decrease=0.0,\n",
              "                      min_impurity_split=None, min_samples_leaf=1,\n",
              "                      min_samples_split=2, min_weight_fraction_leaf=0.0,\n",
              "                      n_estimators=100, n_jobs=-1, oob_score=False,\n",
              "                      random_state=42, verbose=0, warm_start=False)"
            ]
          },
          "metadata": {
            "tags": []
          },
          "execution_count": 27
        }
      ]
    },
    {
      "cell_type": "markdown",
      "metadata": {
        "id": "2VYEUjE5OpaQ"
      },
      "source": [
        "# 예측 및 제출"
      ]
    },
    {
      "cell_type": "code",
      "metadata": {
        "id": "HIhYJDJZOm2f"
      },
      "source": [
        "pred = model.predict(x_test)"
      ],
      "execution_count": 28,
      "outputs": []
    },
    {
      "cell_type": "code",
      "metadata": {
        "id": "WoC2tzlwOrCG"
      },
      "source": [
        "submission['num'] = pred"
      ],
      "execution_count": 29,
      "outputs": []
    },
    {
      "cell_type": "code",
      "metadata": {
        "id": "Y4k7uaWrOsPU"
      },
      "source": [
        "submission.to_csv('baseline.csv', index=False)"
      ],
      "execution_count": 30,
      "outputs": []
    },
    {
      "cell_type": "code",
      "metadata": {
        "id": "ne1PxtnHOtkj"
      },
      "source": [
        ""
      ],
      "execution_count": null,
      "outputs": []
    }
  ]
}