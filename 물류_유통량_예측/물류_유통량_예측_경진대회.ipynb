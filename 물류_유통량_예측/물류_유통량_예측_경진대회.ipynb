{
  "nbformat": 4,
  "nbformat_minor": 0,
  "metadata": {
    "colab": {
      "name": "물류 유통량 예측 경진대회.ipynb",
      "provenance": [],
      "collapsed_sections": [],
      "authorship_tag": "ABX9TyM1n+aDTPxV/5TiKEDDWi3g",
      "include_colab_link": true
    },
    "kernelspec": {
      "name": "python3",
      "display_name": "Python 3"
    },
    "language_info": {
      "name": "python"
    }
  },
  "cells": [
    {
      "cell_type": "markdown",
      "metadata": {
        "id": "view-in-github",
        "colab_type": "text"
      },
      "source": [
        "<a href=\"https://colab.research.google.com/github/doo52oh/Dacon/blob/main/%EB%AC%BC%EB%A5%98_%EC%9C%A0%ED%86%B5%EB%9F%89_%EC%98%88%EC%B8%A1/%EB%AC%BC%EB%A5%98_%EC%9C%A0%ED%86%B5%EB%9F%89_%EC%98%88%EC%B8%A1_%EA%B2%BD%EC%A7%84%EB%8C%80%ED%9A%8C.ipynb\" target=\"_parent\"><img src=\"https://colab.research.google.com/assets/colab-badge.svg\" alt=\"Open In Colab\"/></a>"
      ]
    },
    {
      "cell_type": "code",
      "source": [
        "!sudo apt-get install -y fonts-nanum\n",
        "!sudo fc-cache -fv\n",
        "!rm ~/.cache/matplotlib -rf"
      ],
      "metadata": {
        "colab": {
          "base_uri": "https://localhost:8080/"
        },
        "id": "_qU9Dcb6bhcc",
        "outputId": "0feb7a92-c19c-400d-e810-4db21666d05a"
      },
      "execution_count": null,
      "outputs": [
        {
          "output_type": "stream",
          "name": "stdout",
          "text": [
            "Reading package lists... Done\n",
            "Building dependency tree       \n",
            "Reading state information... Done\n",
            "The following NEW packages will be installed:\n",
            "  fonts-nanum\n",
            "0 upgraded, 1 newly installed, 0 to remove and 37 not upgraded.\n",
            "Need to get 9,604 kB of archives.\n",
            "After this operation, 29.5 MB of additional disk space will be used.\n",
            "Get:1 http://archive.ubuntu.com/ubuntu bionic/universe amd64 fonts-nanum all 20170925-1 [9,604 kB]\n",
            "Fetched 9,604 kB in 1s (6,475 kB/s)\n",
            "debconf: unable to initialize frontend: Dialog\n",
            "debconf: (No usable dialog-like program is installed, so the dialog based frontend cannot be used. at /usr/share/perl5/Debconf/FrontEnd/Dialog.pm line 76, <> line 1.)\n",
            "debconf: falling back to frontend: Readline\n",
            "debconf: unable to initialize frontend: Readline\n",
            "debconf: (This frontend requires a controlling tty.)\n",
            "debconf: falling back to frontend: Teletype\n",
            "dpkg-preconfigure: unable to re-open stdin: \n",
            "Selecting previously unselected package fonts-nanum.\n",
            "(Reading database ... 155222 files and directories currently installed.)\n",
            "Preparing to unpack .../fonts-nanum_20170925-1_all.deb ...\n",
            "Unpacking fonts-nanum (20170925-1) ...\n",
            "Setting up fonts-nanum (20170925-1) ...\n",
            "Processing triggers for fontconfig (2.12.6-0ubuntu2) ...\n",
            "/usr/share/fonts: caching, new cache contents: 0 fonts, 1 dirs\n",
            "/usr/share/fonts/truetype: caching, new cache contents: 0 fonts, 3 dirs\n",
            "/usr/share/fonts/truetype/humor-sans: caching, new cache contents: 1 fonts, 0 dirs\n",
            "/usr/share/fonts/truetype/liberation: caching, new cache contents: 16 fonts, 0 dirs\n",
            "/usr/share/fonts/truetype/nanum: caching, new cache contents: 10 fonts, 0 dirs\n",
            "/usr/local/share/fonts: caching, new cache contents: 0 fonts, 0 dirs\n",
            "/root/.local/share/fonts: skipping, no such directory\n",
            "/root/.fonts: skipping, no such directory\n",
            "/var/cache/fontconfig: cleaning cache directory\n",
            "/root/.cache/fontconfig: not cleaning non-existent cache directory\n",
            "/root/.fontconfig: not cleaning non-existent cache directory\n",
            "fc-cache: succeeded\n"
          ]
        }
      ]
    },
    {
      "cell_type": "markdown",
      "source": [
        "# 물류 유통량 예측 경진대회\n",
        "\n",
        "* index : 인덱스\n",
        "* SEND_SPG_INNB : 송하인_격자공간고유번호\n",
        "* REC_SPG_INNB : 수하인 격자공간고유번호\n",
        "* DL_GD_LCLS_NM : 카테고리_대\n",
        "* DL_GD_MCLS_NM : 카테고리_중\n",
        "* INVC_CONT : 운송장 건 수\n"
      ],
      "metadata": {
        "id": "5t_urN_GUwIS"
      }
    },
    {
      "cell_type": "code",
      "source": [
        "import pandas as pd\n",
        "import matplotlib.pyplot as plt\n",
        "import seaborn as sns\n",
        "\n",
        "import warnings\n",
        "warnings.filterwarnings(action='ignore')\n",
        "\n",
        "# pd.set_option('display.max_rows', None) \n",
        "\n",
        "plt.rc('font', family='NanumBarunGothic') "
      ],
      "metadata": {
        "id": "noTwNhnZblvg"
      },
      "execution_count": null,
      "outputs": []
    },
    {
      "cell_type": "code",
      "execution_count": null,
      "metadata": {
        "id": "xKAFJJPiLE4Z"
      },
      "outputs": [],
      "source": [
        "\n",
        "\n",
        "train = pd.read_csv('train_df.csv',encoding = 'cp949')\n",
        "test = pd.read_csv('test_df.csv',encoding = 'cp949')\n",
        "\n",
        "submission = pd.read_csv('sample_submission.csv')"
      ]
    },
    {
      "cell_type": "code",
      "source": [
        "train.head()"
      ],
      "metadata": {
        "colab": {
          "base_uri": "https://localhost:8080/",
          "height": 206
        },
        "id": "KjQPTgdORS9U",
        "outputId": "a91076ae-0d21-4548-f23d-170c7770813f"
      },
      "execution_count": null,
      "outputs": [
        {
          "output_type": "execute_result",
          "data": {
            "text/html": [
              "<div>\n",
              "<style scoped>\n",
              "    .dataframe tbody tr th:only-of-type {\n",
              "        vertical-align: middle;\n",
              "    }\n",
              "\n",
              "    .dataframe tbody tr th {\n",
              "        vertical-align: top;\n",
              "    }\n",
              "\n",
              "    .dataframe thead th {\n",
              "        text-align: right;\n",
              "    }\n",
              "</style>\n",
              "<table border=\"1\" class=\"dataframe\">\n",
              "  <thead>\n",
              "    <tr style=\"text-align: right;\">\n",
              "      <th></th>\n",
              "      <th>index</th>\n",
              "      <th>SEND_SPG_INNB</th>\n",
              "      <th>REC_SPG_INNB</th>\n",
              "      <th>DL_GD_LCLS_NM</th>\n",
              "      <th>DL_GD_MCLS_NM</th>\n",
              "      <th>INVC_CONT</th>\n",
              "    </tr>\n",
              "  </thead>\n",
              "  <tbody>\n",
              "    <tr>\n",
              "      <th>0</th>\n",
              "      <td>0</td>\n",
              "      <td>1129000014045300</td>\n",
              "      <td>5011000220046300</td>\n",
              "      <td>패션의류</td>\n",
              "      <td>상의</td>\n",
              "      <td>3</td>\n",
              "    </tr>\n",
              "    <tr>\n",
              "      <th>1</th>\n",
              "      <td>1</td>\n",
              "      <td>1135000009051200</td>\n",
              "      <td>5011000178037300</td>\n",
              "      <td>생활/건강</td>\n",
              "      <td>반려동물</td>\n",
              "      <td>3</td>\n",
              "    </tr>\n",
              "    <tr>\n",
              "      <th>2</th>\n",
              "      <td>2</td>\n",
              "      <td>1135000030093100</td>\n",
              "      <td>5011000265091400</td>\n",
              "      <td>패션의류</td>\n",
              "      <td>기타패션의류</td>\n",
              "      <td>9</td>\n",
              "    </tr>\n",
              "    <tr>\n",
              "      <th>3</th>\n",
              "      <td>3</td>\n",
              "      <td>1154500002014200</td>\n",
              "      <td>5011000315087400</td>\n",
              "      <td>식품</td>\n",
              "      <td>농산물</td>\n",
              "      <td>10</td>\n",
              "    </tr>\n",
              "    <tr>\n",
              "      <th>4</th>\n",
              "      <td>4</td>\n",
              "      <td>1165000021008300</td>\n",
              "      <td>5011000177051200</td>\n",
              "      <td>식품</td>\n",
              "      <td>가공식품</td>\n",
              "      <td>3</td>\n",
              "    </tr>\n",
              "  </tbody>\n",
              "</table>\n",
              "</div>"
            ],
            "text/plain": [
              "   index     SEND_SPG_INNB  ...  DL_GD_MCLS_NM INVC_CONT\n",
              "0      0  1129000014045300  ...             상의         3\n",
              "1      1  1135000009051200  ...           반려동물         3\n",
              "2      2  1135000030093100  ...         기타패션의류         9\n",
              "3      3  1154500002014200  ...            농산물        10\n",
              "4      4  1165000021008300  ...           가공식품         3\n",
              "\n",
              "[5 rows x 6 columns]"
            ]
          },
          "metadata": {},
          "execution_count": 3
        }
      ]
    },
    {
      "cell_type": "code",
      "source": [
        "test.head()"
      ],
      "metadata": {
        "colab": {
          "base_uri": "https://localhost:8080/",
          "height": 206
        },
        "id": "JigSRfFXRVPl",
        "outputId": "d97e63b4-b150-4d65-bb6e-175ce76daaab"
      },
      "execution_count": null,
      "outputs": [
        {
          "output_type": "execute_result",
          "data": {
            "text/html": [
              "<div>\n",
              "<style scoped>\n",
              "    .dataframe tbody tr th:only-of-type {\n",
              "        vertical-align: middle;\n",
              "    }\n",
              "\n",
              "    .dataframe tbody tr th {\n",
              "        vertical-align: top;\n",
              "    }\n",
              "\n",
              "    .dataframe thead th {\n",
              "        text-align: right;\n",
              "    }\n",
              "</style>\n",
              "<table border=\"1\" class=\"dataframe\">\n",
              "  <thead>\n",
              "    <tr style=\"text-align: right;\">\n",
              "      <th></th>\n",
              "      <th>index</th>\n",
              "      <th>SEND_SPG_INNB</th>\n",
              "      <th>REC_SPG_INNB</th>\n",
              "      <th>DL_GD_LCLS_NM</th>\n",
              "      <th>DL_GD_MCLS_NM</th>\n",
              "    </tr>\n",
              "  </thead>\n",
              "  <tbody>\n",
              "    <tr>\n",
              "      <th>0</th>\n",
              "      <td>32000</td>\n",
              "      <td>5013000043028400</td>\n",
              "      <td>1165000021097200</td>\n",
              "      <td>식품</td>\n",
              "      <td>농산물</td>\n",
              "    </tr>\n",
              "    <tr>\n",
              "      <th>1</th>\n",
              "      <td>32001</td>\n",
              "      <td>5013000044016100</td>\n",
              "      <td>1154500002066400</td>\n",
              "      <td>식품</td>\n",
              "      <td>농산물</td>\n",
              "    </tr>\n",
              "    <tr>\n",
              "      <th>2</th>\n",
              "      <td>32002</td>\n",
              "      <td>5013000205030200</td>\n",
              "      <td>4139000102013200</td>\n",
              "      <td>식품</td>\n",
              "      <td>농산물</td>\n",
              "    </tr>\n",
              "    <tr>\n",
              "      <th>3</th>\n",
              "      <td>32003</td>\n",
              "      <td>5013000205030200</td>\n",
              "      <td>4221000040093400</td>\n",
              "      <td>식품</td>\n",
              "      <td>농산물</td>\n",
              "    </tr>\n",
              "    <tr>\n",
              "      <th>4</th>\n",
              "      <td>32004</td>\n",
              "      <td>5013000268011400</td>\n",
              "      <td>2726000004017100</td>\n",
              "      <td>식품</td>\n",
              "      <td>농산물</td>\n",
              "    </tr>\n",
              "  </tbody>\n",
              "</table>\n",
              "</div>"
            ],
            "text/plain": [
              "   index     SEND_SPG_INNB      REC_SPG_INNB DL_GD_LCLS_NM DL_GD_MCLS_NM\n",
              "0  32000  5013000043028400  1165000021097200            식품           농산물\n",
              "1  32001  5013000044016100  1154500002066400            식품           농산물\n",
              "2  32002  5013000205030200  4139000102013200            식품           농산물\n",
              "3  32003  5013000205030200  4221000040093400            식품           농산물\n",
              "4  32004  5013000268011400  2726000004017100            식품           농산물"
            ]
          },
          "metadata": {},
          "execution_count": 4
        }
      ]
    },
    {
      "cell_type": "code",
      "source": [
        "train.info()"
      ],
      "metadata": {
        "colab": {
          "base_uri": "https://localhost:8080/"
        },
        "id": "M8A2m-RlRX-M",
        "outputId": "46fb9d5a-1097-4473-b450-acf797017c77"
      },
      "execution_count": null,
      "outputs": [
        {
          "output_type": "stream",
          "name": "stdout",
          "text": [
            "<class 'pandas.core.frame.DataFrame'>\n",
            "RangeIndex: 32000 entries, 0 to 31999\n",
            "Data columns (total 6 columns):\n",
            " #   Column         Non-Null Count  Dtype \n",
            "---  ------         --------------  ----- \n",
            " 0   index          32000 non-null  int64 \n",
            " 1   SEND_SPG_INNB  32000 non-null  int64 \n",
            " 2   REC_SPG_INNB   32000 non-null  int64 \n",
            " 3   DL_GD_LCLS_NM  32000 non-null  object\n",
            " 4   DL_GD_MCLS_NM  32000 non-null  object\n",
            " 5   INVC_CONT      32000 non-null  int64 \n",
            "dtypes: int64(4), object(2)\n",
            "memory usage: 1.5+ MB\n"
          ]
        }
      ]
    },
    {
      "cell_type": "code",
      "source": [
        "test.info()"
      ],
      "metadata": {
        "colab": {
          "base_uri": "https://localhost:8080/"
        },
        "id": "ISsqpj1pRbZm",
        "outputId": "8d62cfe2-2544-43ec-bc28-88f968b4e7c5"
      },
      "execution_count": null,
      "outputs": [
        {
          "output_type": "stream",
          "name": "stdout",
          "text": [
            "<class 'pandas.core.frame.DataFrame'>\n",
            "RangeIndex: 4640 entries, 0 to 4639\n",
            "Data columns (total 5 columns):\n",
            " #   Column         Non-Null Count  Dtype \n",
            "---  ------         --------------  ----- \n",
            " 0   index          4640 non-null   int64 \n",
            " 1   SEND_SPG_INNB  4640 non-null   int64 \n",
            " 2   REC_SPG_INNB   4640 non-null   int64 \n",
            " 3   DL_GD_LCLS_NM  4640 non-null   object\n",
            " 4   DL_GD_MCLS_NM  4640 non-null   object\n",
            "dtypes: int64(3), object(2)\n",
            "memory usage: 181.4+ KB\n"
          ]
        }
      ]
    },
    {
      "cell_type": "code",
      "source": [
        "train.isnull().sum()"
      ],
      "metadata": {
        "colab": {
          "base_uri": "https://localhost:8080/"
        },
        "id": "iQ6SIycMRdSs",
        "outputId": "fd58329a-1c6c-42fb-ae6f-b8b6a3942718"
      },
      "execution_count": null,
      "outputs": [
        {
          "output_type": "execute_result",
          "data": {
            "text/plain": [
              "index            0\n",
              "SEND_SPG_INNB    0\n",
              "REC_SPG_INNB     0\n",
              "DL_GD_LCLS_NM    0\n",
              "DL_GD_MCLS_NM    0\n",
              "INVC_CONT        0\n",
              "dtype: int64"
            ]
          },
          "metadata": {},
          "execution_count": 7
        }
      ]
    },
    {
      "cell_type": "code",
      "source": [
        "test.isnull().sum()"
      ],
      "metadata": {
        "colab": {
          "base_uri": "https://localhost:8080/"
        },
        "id": "o9WLF6AlRghM",
        "outputId": "bab054b3-982d-47a7-97bb-87a489383fbc"
      },
      "execution_count": null,
      "outputs": [
        {
          "output_type": "execute_result",
          "data": {
            "text/plain": [
              "index            0\n",
              "SEND_SPG_INNB    0\n",
              "REC_SPG_INNB     0\n",
              "DL_GD_LCLS_NM    0\n",
              "DL_GD_MCLS_NM    0\n",
              "dtype: int64"
            ]
          },
          "metadata": {},
          "execution_count": 8
        }
      ]
    },
    {
      "cell_type": "markdown",
      "source": [
        "# EDA\n",
        "\n",
        "데이터 수 확인"
      ],
      "metadata": {
        "id": "BodxTmElVZtO"
      }
    },
    {
      "cell_type": "code",
      "source": [
        "train.SEND_SPG_INNB.value_counts()"
      ],
      "metadata": {
        "colab": {
          "base_uri": "https://localhost:8080/"
        },
        "id": "Q6XmMcACVZga",
        "outputId": "cd7bad5f-4963-4f84-83ce-3c21d536176f"
      },
      "execution_count": null,
      "outputs": [
        {
          "output_type": "execute_result",
          "data": {
            "text/plain": [
              "5011000078068400    4227\n",
              "5013000610049100    1994\n",
              "5013000731055200    1335\n",
              "5011000137030100    1206\n",
              "5013000821028200     773\n",
              "                    ... \n",
              "5011000263040400       1\n",
              "5011000595029400       1\n",
              "4833000396037100       1\n",
              "5011000172003300       1\n",
              "2623000016044400       1\n",
              "Name: SEND_SPG_INNB, Length: 3684, dtype: int64"
            ]
          },
          "metadata": {},
          "execution_count": 9
        }
      ]
    },
    {
      "cell_type": "code",
      "source": [
        "train.REC_SPG_INNB.value_counts()"
      ],
      "metadata": {
        "colab": {
          "base_uri": "https://localhost:8080/"
        },
        "id": "fNlou7b8Wbci",
        "outputId": "d4ca9bed-111f-47ae-a3ca-3eaba661adf8"
      },
      "execution_count": null,
      "outputs": [
        {
          "output_type": "execute_result",
          "data": {
            "text/plain": [
              "5011000543041100    31\n",
              "5011000596012200    27\n",
              "5013000635005300    24\n",
              "5011000544072300    20\n",
              "5011000318044100    20\n",
              "                    ..\n",
              "4615000058100300     1\n",
              "4413300195016200     1\n",
              "4827000664030200     1\n",
              "1168000027057100     1\n",
              "2726000056072100     1\n",
              "Name: REC_SPG_INNB, Length: 27826, dtype: int64"
            ]
          },
          "metadata": {},
          "execution_count": 10
        }
      ]
    },
    {
      "cell_type": "code",
      "source": [
        "train.DL_GD_LCLS_NM.value_counts()"
      ],
      "metadata": {
        "colab": {
          "base_uri": "https://localhost:8080/"
        },
        "id": "ayv2EfNjX19Y",
        "outputId": "b82018a8-915f-4137-bc51-00953bb4574d"
      },
      "execution_count": null,
      "outputs": [
        {
          "output_type": "execute_result",
          "data": {
            "text/plain": [
              "식품        27738\n",
              "생활/건강      2020\n",
              "여행/문화      1192\n",
              "패션의류        582\n",
              "디지털/가전      241\n",
              "화장품/미용      227\n",
              "Name: DL_GD_LCLS_NM, dtype: int64"
            ]
          },
          "metadata": {},
          "execution_count": 11
        }
      ]
    },
    {
      "cell_type": "code",
      "source": [
        "a = train['REC_SPG_INNB'].groupby(train['DL_GD_LCLS_NM'])\n",
        "a.size().sort_values(ascending=False)"
      ],
      "metadata": {
        "colab": {
          "base_uri": "https://localhost:8080/"
        },
        "id": "sGIaoDqkWrbi",
        "outputId": "7749336f-9061-415b-e10e-febf49670460"
      },
      "execution_count": null,
      "outputs": [
        {
          "output_type": "execute_result",
          "data": {
            "text/plain": [
              "DL_GD_LCLS_NM\n",
              "식품        27738\n",
              "생활/건강      2020\n",
              "여행/문화      1192\n",
              "패션의류        582\n",
              "디지털/가전      241\n",
              "화장품/미용      227\n",
              "Name: REC_SPG_INNB, dtype: int64"
            ]
          },
          "metadata": {},
          "execution_count": 12
        }
      ]
    },
    {
      "cell_type": "code",
      "source": [
        "a.nunique().sort_values(ascending=False)"
      ],
      "metadata": {
        "colab": {
          "base_uri": "https://localhost:8080/"
        },
        "id": "6a41n7mxX_ys",
        "outputId": "5732f288-d530-4cdb-97ad-b34fe370b1c6"
      },
      "execution_count": null,
      "outputs": [
        {
          "output_type": "execute_result",
          "data": {
            "text/plain": [
              "DL_GD_LCLS_NM\n",
              "식품        25197\n",
              "생활/건강      1818\n",
              "여행/문화      1060\n",
              "패션의류        537\n",
              "디지털/가전      231\n",
              "화장품/미용      207\n",
              "Name: REC_SPG_INNB, dtype: int64"
            ]
          },
          "metadata": {},
          "execution_count": 13
        }
      ]
    },
    {
      "cell_type": "code",
      "source": [
        "M = train['REC_SPG_INNB'].groupby(train['DL_GD_MCLS_NM'])\n",
        "M.size().sort_values(ascending=False)"
      ],
      "metadata": {
        "colab": {
          "base_uri": "https://localhost:8080/"
        },
        "id": "djbMy4iOYEvU",
        "outputId": "48f85e10-d94a-4c36-e096-4591cebd018c"
      },
      "execution_count": null,
      "outputs": [
        {
          "output_type": "execute_result",
          "data": {
            "text/plain": [
              "DL_GD_MCLS_NM\n",
              "농산물          22162\n",
              "문화컨텐츠         1192\n",
              "음료            1126\n",
              "수산             931\n",
              "가공식품           923\n",
              "기타식품           766\n",
              "건강식품           651\n",
              "음반             635\n",
              "축산             418\n",
              "냉동/간편조리식품      413\n",
              "반려동물           358\n",
              "과자             348\n",
              "생활용품           343\n",
              "주방용품           328\n",
              "상의             321\n",
              "기타패션의류         261\n",
              "기타디지털/가전       241\n",
              "스킨케어           227\n",
              "문구/사무용품        180\n",
              "건강용품           176\n",
              "Name: REC_SPG_INNB, dtype: int64"
            ]
          },
          "metadata": {},
          "execution_count": 14
        }
      ]
    },
    {
      "cell_type": "code",
      "source": [
        "M.nunique().sort_values(ascending=False)"
      ],
      "metadata": {
        "colab": {
          "base_uri": "https://localhost:8080/"
        },
        "id": "S7lt_RPFYNfw",
        "outputId": "9e22904b-8fb9-4220-99ea-a7359032fd1c"
      },
      "execution_count": null,
      "outputs": [
        {
          "output_type": "execute_result",
          "data": {
            "text/plain": [
              "DL_GD_MCLS_NM\n",
              "농산물          20646\n",
              "음료            1088\n",
              "문화컨텐츠         1060\n",
              "수산             924\n",
              "가공식품           850\n",
              "기타식품           756\n",
              "음반             635\n",
              "건강식품           608\n",
              "축산             412\n",
              "냉동/간편조리식품      406\n",
              "과자             342\n",
              "반려동물           335\n",
              "생활용품           328\n",
              "주방용품           304\n",
              "상의             301\n",
              "기타패션의류         244\n",
              "기타디지털/가전       231\n",
              "스킨케어           207\n",
              "문구/사무용품        167\n",
              "건강용품           166\n",
              "Name: REC_SPG_INNB, dtype: int64"
            ]
          },
          "metadata": {},
          "execution_count": 15
        }
      ]
    },
    {
      "cell_type": "markdown",
      "source": [
        "### 상품별 수신횟수"
      ],
      "metadata": {
        "id": "0E90k1k3YzHd"
      }
    },
    {
      "cell_type": "code",
      "source": [
        "train['cate'] = train['DL_GD_LCLS_NM'] + '_' + train['DL_GD_MCLS_NM']\n",
        "train.head()"
      ],
      "metadata": {
        "colab": {
          "base_uri": "https://localhost:8080/",
          "height": 206
        },
        "id": "9LXltK3_Yy7k",
        "outputId": "7dc36f41-f701-4bf0-c7e1-3f2cc573e780"
      },
      "execution_count": null,
      "outputs": [
        {
          "output_type": "execute_result",
          "data": {
            "text/html": [
              "<div>\n",
              "<style scoped>\n",
              "    .dataframe tbody tr th:only-of-type {\n",
              "        vertical-align: middle;\n",
              "    }\n",
              "\n",
              "    .dataframe tbody tr th {\n",
              "        vertical-align: top;\n",
              "    }\n",
              "\n",
              "    .dataframe thead th {\n",
              "        text-align: right;\n",
              "    }\n",
              "</style>\n",
              "<table border=\"1\" class=\"dataframe\">\n",
              "  <thead>\n",
              "    <tr style=\"text-align: right;\">\n",
              "      <th></th>\n",
              "      <th>index</th>\n",
              "      <th>SEND_SPG_INNB</th>\n",
              "      <th>REC_SPG_INNB</th>\n",
              "      <th>DL_GD_LCLS_NM</th>\n",
              "      <th>DL_GD_MCLS_NM</th>\n",
              "      <th>INVC_CONT</th>\n",
              "      <th>cate</th>\n",
              "    </tr>\n",
              "  </thead>\n",
              "  <tbody>\n",
              "    <tr>\n",
              "      <th>0</th>\n",
              "      <td>0</td>\n",
              "      <td>1129000014045300</td>\n",
              "      <td>5011000220046300</td>\n",
              "      <td>패션의류</td>\n",
              "      <td>상의</td>\n",
              "      <td>3</td>\n",
              "      <td>패션의류_상의</td>\n",
              "    </tr>\n",
              "    <tr>\n",
              "      <th>1</th>\n",
              "      <td>1</td>\n",
              "      <td>1135000009051200</td>\n",
              "      <td>5011000178037300</td>\n",
              "      <td>생활/건강</td>\n",
              "      <td>반려동물</td>\n",
              "      <td>3</td>\n",
              "      <td>생활/건강_반려동물</td>\n",
              "    </tr>\n",
              "    <tr>\n",
              "      <th>2</th>\n",
              "      <td>2</td>\n",
              "      <td>1135000030093100</td>\n",
              "      <td>5011000265091400</td>\n",
              "      <td>패션의류</td>\n",
              "      <td>기타패션의류</td>\n",
              "      <td>9</td>\n",
              "      <td>패션의류_기타패션의류</td>\n",
              "    </tr>\n",
              "    <tr>\n",
              "      <th>3</th>\n",
              "      <td>3</td>\n",
              "      <td>1154500002014200</td>\n",
              "      <td>5011000315087400</td>\n",
              "      <td>식품</td>\n",
              "      <td>농산물</td>\n",
              "      <td>10</td>\n",
              "      <td>식품_농산물</td>\n",
              "    </tr>\n",
              "    <tr>\n",
              "      <th>4</th>\n",
              "      <td>4</td>\n",
              "      <td>1165000021008300</td>\n",
              "      <td>5011000177051200</td>\n",
              "      <td>식품</td>\n",
              "      <td>가공식품</td>\n",
              "      <td>3</td>\n",
              "      <td>식품_가공식품</td>\n",
              "    </tr>\n",
              "  </tbody>\n",
              "</table>\n",
              "</div>"
            ],
            "text/plain": [
              "   index     SEND_SPG_INNB  ...  INVC_CONT         cate\n",
              "0      0  1129000014045300  ...          3      패션의류_상의\n",
              "1      1  1135000009051200  ...          3   생활/건강_반려동물\n",
              "2      2  1135000030093100  ...          9  패션의류_기타패션의류\n",
              "3      3  1154500002014200  ...         10       식품_농산물\n",
              "4      4  1165000021008300  ...          3      식품_가공식품\n",
              "\n",
              "[5 rows x 7 columns]"
            ]
          },
          "metadata": {},
          "execution_count": 16
        }
      ]
    },
    {
      "cell_type": "code",
      "source": [
        "c =  train.pivot_table(values='INVC_CONT', index = 'cate', aggfunc=sum).reset_index().sort_values(by = 'INVC_CONT', ascending=False)\n",
        "c.head()"
      ],
      "metadata": {
        "colab": {
          "base_uri": "https://localhost:8080/",
          "height": 206
        },
        "id": "fX8YC1yDa6-P",
        "outputId": "4ef96e53-9f7e-4179-a05a-1a9ff5947116"
      },
      "execution_count": null,
      "outputs": [
        {
          "output_type": "execute_result",
          "data": {
            "text/html": [
              "<div>\n",
              "<style scoped>\n",
              "    .dataframe tbody tr th:only-of-type {\n",
              "        vertical-align: middle;\n",
              "    }\n",
              "\n",
              "    .dataframe tbody tr th {\n",
              "        vertical-align: top;\n",
              "    }\n",
              "\n",
              "    .dataframe thead th {\n",
              "        text-align: right;\n",
              "    }\n",
              "</style>\n",
              "<table border=\"1\" class=\"dataframe\">\n",
              "  <thead>\n",
              "    <tr style=\"text-align: right;\">\n",
              "      <th></th>\n",
              "      <th>cate</th>\n",
              "      <th>INVC_CONT</th>\n",
              "    </tr>\n",
              "  </thead>\n",
              "  <tbody>\n",
              "    <tr>\n",
              "      <th>12</th>\n",
              "      <td>식품_농산물</td>\n",
              "      <td>95239</td>\n",
              "    </tr>\n",
              "    <tr>\n",
              "      <th>14</th>\n",
              "      <td>식품_음료</td>\n",
              "      <td>6469</td>\n",
              "    </tr>\n",
              "    <tr>\n",
              "      <th>7</th>\n",
              "      <td>식품_가공식품</td>\n",
              "      <td>6283</td>\n",
              "    </tr>\n",
              "    <tr>\n",
              "      <th>16</th>\n",
              "      <td>여행/문화_문화컨텐츠</td>\n",
              "      <td>5911</td>\n",
              "    </tr>\n",
              "    <tr>\n",
              "      <th>13</th>\n",
              "      <td>식품_수산</td>\n",
              "      <td>5258</td>\n",
              "    </tr>\n",
              "  </tbody>\n",
              "</table>\n",
              "</div>"
            ],
            "text/plain": [
              "           cate  INVC_CONT\n",
              "12       식품_농산물      95239\n",
              "14        식품_음료       6469\n",
              "7       식품_가공식품       6283\n",
              "16  여행/문화_문화컨텐츠       5911\n",
              "13        식품_수산       5258"
            ]
          },
          "metadata": {},
          "execution_count": 24
        }
      ]
    },
    {
      "cell_type": "code",
      "source": [
        "plt.figure(figsize=(26,8))\n",
        "sns.barplot(data = c, x = 'cate', y = 'INVC_CONT')"
      ],
      "metadata": {
        "colab": {
          "base_uri": "https://localhost:8080/",
          "height": 441
        },
        "id": "t83-5k6zc9yH",
        "outputId": "193aa53a-e46f-469f-dd07-9b8c0863f6eb"
      },
      "execution_count": null,
      "outputs": [
        {
          "output_type": "execute_result",
          "data": {
            "text/plain": [
              "<matplotlib.axes._subplots.AxesSubplot at 0x7f8c8ac74950>"
            ]
          },
          "metadata": {},
          "execution_count": 28
        },
        {
          "output_type": "display_data",
          "data": {
            "image/png": "[encoded data removed]",
            "text/plain": [
              "<Figure size 1872x576 with 1 Axes>"
            ]
          },
          "metadata": {
            "needs_background": "light"
          }
        }
      ]
    },
    {
      "cell_type": "markdown",
      "source": [
        "# 지역별 상품 수신횟수"
      ],
      "metadata": {
        "id": "mfN-9oQ5eafl"
      }
    },
    {
      "cell_type": "code",
      "source": [
        "r =  train.pivot_table(values='INVC_CONT', columns= 'cate',index = ['REC_SPG_INNB'], aggfunc=sum).fillna(0)\n",
        "r"
      ],
      "metadata": {
        "id": "UIxWcG0teZ9n"
      },
      "execution_count": null,
      "outputs": []
    },
    {
      "cell_type": "markdown",
      "source": [
        "# 데이터 전처리"
      ],
      "metadata": {
        "id": "OB30ZITURsHS"
      }
    },
    {
      "cell_type": "code",
      "source": [
        "train['REC_SPG_INNB_2'] = train['REC_SPG_INNB'].apply(lambda x: 'C' + '_' + str(x) if type(x) == int else x)\n",
        "train['SEND_SPG_INNB_2'] = train['SEND_SPG_INNB'].apply(lambda x: 'C' + '_' + str(x) if type(x) == int else x)\n",
        "\n",
        "test['REC_SPG_INNB_2'] = test['REC_SPG_INNB'].apply(lambda x: 'C' + '_' + str(x) if type(x) == int else x)\n",
        "test['SEND_SPG_INNB_2'] = test['SEND_SPG_INNB'].apply(lambda x: 'C' + '_' + str(x) if type(x) == int else x)\n",
        "\n",
        "# train['cate'] = train['DL_GD_LCLS_NM'] + '_' + train['DL_GD_MCLS_NM']\n",
        "# test['cate'] = test['DL_GD_LCLS_NM'] + '_' + test['DL_GD_MCLS_NM']"
      ],
      "metadata": {
        "id": "79IDI-wGkJ0h"
      },
      "execution_count": null,
      "outputs": []
    },
    {
      "cell_type": "code",
      "source": [
        "train.head()"
      ],
      "metadata": {
        "colab": {
          "base_uri": "https://localhost:8080/",
          "height": 206
        },
        "id": "0TfRLxYKmKwV",
        "outputId": "8f3e1c71-ce93-4749-c4c2-41ae376b2af9"
      },
      "execution_count": null,
      "outputs": [
        {
          "output_type": "execute_result",
          "data": {
            "text/html": [
              "<div>\n",
              "<style scoped>\n",
              "    .dataframe tbody tr th:only-of-type {\n",
              "        vertical-align: middle;\n",
              "    }\n",
              "\n",
              "    .dataframe tbody tr th {\n",
              "        vertical-align: top;\n",
              "    }\n",
              "\n",
              "    .dataframe thead th {\n",
              "        text-align: right;\n",
              "    }\n",
              "</style>\n",
              "<table border=\"1\" class=\"dataframe\">\n",
              "  <thead>\n",
              "    <tr style=\"text-align: right;\">\n",
              "      <th></th>\n",
              "      <th>index</th>\n",
              "      <th>SEND_SPG_INNB</th>\n",
              "      <th>REC_SPG_INNB</th>\n",
              "      <th>DL_GD_LCLS_NM</th>\n",
              "      <th>DL_GD_MCLS_NM</th>\n",
              "      <th>INVC_CONT</th>\n",
              "      <th>REC_SPG_INNB_2</th>\n",
              "      <th>SEND_SPG_INNB_2</th>\n",
              "    </tr>\n",
              "  </thead>\n",
              "  <tbody>\n",
              "    <tr>\n",
              "      <th>0</th>\n",
              "      <td>0</td>\n",
              "      <td>1129000014045300</td>\n",
              "      <td>5011000220046300</td>\n",
              "      <td>패션의류</td>\n",
              "      <td>상의</td>\n",
              "      <td>3</td>\n",
              "      <td>C_5011000220046300</td>\n",
              "      <td>C_1129000014045300</td>\n",
              "    </tr>\n",
              "    <tr>\n",
              "      <th>1</th>\n",
              "      <td>1</td>\n",
              "      <td>1135000009051200</td>\n",
              "      <td>5011000178037300</td>\n",
              "      <td>생활/건강</td>\n",
              "      <td>반려동물</td>\n",
              "      <td>3</td>\n",
              "      <td>C_5011000178037300</td>\n",
              "      <td>C_1135000009051200</td>\n",
              "    </tr>\n",
              "    <tr>\n",
              "      <th>2</th>\n",
              "      <td>2</td>\n",
              "      <td>1135000030093100</td>\n",
              "      <td>5011000265091400</td>\n",
              "      <td>패션의류</td>\n",
              "      <td>기타패션의류</td>\n",
              "      <td>9</td>\n",
              "      <td>C_5011000265091400</td>\n",
              "      <td>C_1135000030093100</td>\n",
              "    </tr>\n",
              "    <tr>\n",
              "      <th>3</th>\n",
              "      <td>3</td>\n",
              "      <td>1154500002014200</td>\n",
              "      <td>5011000315087400</td>\n",
              "      <td>식품</td>\n",
              "      <td>농산물</td>\n",
              "      <td>10</td>\n",
              "      <td>C_5011000315087400</td>\n",
              "      <td>C_1154500002014200</td>\n",
              "    </tr>\n",
              "    <tr>\n",
              "      <th>4</th>\n",
              "      <td>4</td>\n",
              "      <td>1165000021008300</td>\n",
              "      <td>5011000177051200</td>\n",
              "      <td>식품</td>\n",
              "      <td>가공식품</td>\n",
              "      <td>3</td>\n",
              "      <td>C_5011000177051200</td>\n",
              "      <td>C_1165000021008300</td>\n",
              "    </tr>\n",
              "  </tbody>\n",
              "</table>\n",
              "</div>"
            ],
            "text/plain": [
              "   index     SEND_SPG_INNB  ...      REC_SPG_INNB_2     SEND_SPG_INNB_2\n",
              "0      0  1129000014045300  ...  C_5011000220046300  C_1129000014045300\n",
              "1      1  1135000009051200  ...  C_5011000178037300  C_1135000009051200\n",
              "2      2  1135000030093100  ...  C_5011000265091400  C_1135000030093100\n",
              "3      3  1154500002014200  ...  C_5011000315087400  C_1154500002014200\n",
              "4      4  1165000021008300  ...  C_5011000177051200  C_1165000021008300\n",
              "\n",
              "[5 rows x 8 columns]"
            ]
          },
          "metadata": {},
          "execution_count": 10
        }
      ]
    },
    {
      "cell_type": "code",
      "source": [
        "train.info()"
      ],
      "metadata": {
        "colab": {
          "base_uri": "https://localhost:8080/"
        },
        "id": "Tjz4KZX8kr8B",
        "outputId": "797c50dc-c021-425b-d46d-a0299d4804b7"
      },
      "execution_count": null,
      "outputs": [
        {
          "output_type": "stream",
          "name": "stdout",
          "text": [
            "<class 'pandas.core.frame.DataFrame'>\n",
            "RangeIndex: 32000 entries, 0 to 31999\n",
            "Data columns (total 8 columns):\n",
            " #   Column           Non-Null Count  Dtype \n",
            "---  ------           --------------  ----- \n",
            " 0   index            32000 non-null  int64 \n",
            " 1   SEND_SPG_INNB    32000 non-null  int64 \n",
            " 2   REC_SPG_INNB     32000 non-null  int64 \n",
            " 3   DL_GD_LCLS_NM    32000 non-null  object\n",
            " 4   DL_GD_MCLS_NM    32000 non-null  object\n",
            " 5   INVC_CONT        32000 non-null  int64 \n",
            " 6   REC_SPG_INNB_2   32000 non-null  object\n",
            " 7   SEND_SPG_INNB_2  32000 non-null  object\n",
            "dtypes: int64(4), object(4)\n",
            "memory usage: 2.0+ MB\n"
          ]
        }
      ]
    },
    {
      "cell_type": "code",
      "source": [
        "test.head()"
      ],
      "metadata": {
        "colab": {
          "base_uri": "https://localhost:8080/",
          "height": 206
        },
        "id": "zOHKjqeMmqlx",
        "outputId": "c39facbe-e384-45ac-d7d5-cb7967ddafe8"
      },
      "execution_count": null,
      "outputs": [
        {
          "output_type": "execute_result",
          "data": {
            "text/html": [
              "<div>\n",
              "<style scoped>\n",
              "    .dataframe tbody tr th:only-of-type {\n",
              "        vertical-align: middle;\n",
              "    }\n",
              "\n",
              "    .dataframe tbody tr th {\n",
              "        vertical-align: top;\n",
              "    }\n",
              "\n",
              "    .dataframe thead th {\n",
              "        text-align: right;\n",
              "    }\n",
              "</style>\n",
              "<table border=\"1\" class=\"dataframe\">\n",
              "  <thead>\n",
              "    <tr style=\"text-align: right;\">\n",
              "      <th></th>\n",
              "      <th>index</th>\n",
              "      <th>SEND_SPG_INNB</th>\n",
              "      <th>REC_SPG_INNB</th>\n",
              "      <th>DL_GD_LCLS_NM</th>\n",
              "      <th>DL_GD_MCLS_NM</th>\n",
              "      <th>REC_SPG_INNB_2</th>\n",
              "      <th>SEND_SPG_INNB_2</th>\n",
              "    </tr>\n",
              "  </thead>\n",
              "  <tbody>\n",
              "    <tr>\n",
              "      <th>0</th>\n",
              "      <td>32000</td>\n",
              "      <td>5013000043028400</td>\n",
              "      <td>1165000021097200</td>\n",
              "      <td>식품</td>\n",
              "      <td>농산물</td>\n",
              "      <td>C_1165000021097200</td>\n",
              "      <td>C_5013000043028400</td>\n",
              "    </tr>\n",
              "    <tr>\n",
              "      <th>1</th>\n",
              "      <td>32001</td>\n",
              "      <td>5013000044016100</td>\n",
              "      <td>1154500002066400</td>\n",
              "      <td>식품</td>\n",
              "      <td>농산물</td>\n",
              "      <td>C_1154500002066400</td>\n",
              "      <td>C_5013000044016100</td>\n",
              "    </tr>\n",
              "    <tr>\n",
              "      <th>2</th>\n",
              "      <td>32002</td>\n",
              "      <td>5013000205030200</td>\n",
              "      <td>4139000102013200</td>\n",
              "      <td>식품</td>\n",
              "      <td>농산물</td>\n",
              "      <td>C_4139000102013200</td>\n",
              "      <td>C_5013000205030200</td>\n",
              "    </tr>\n",
              "    <tr>\n",
              "      <th>3</th>\n",
              "      <td>32003</td>\n",
              "      <td>5013000205030200</td>\n",
              "      <td>4221000040093400</td>\n",
              "      <td>식품</td>\n",
              "      <td>농산물</td>\n",
              "      <td>C_4221000040093400</td>\n",
              "      <td>C_5013000205030200</td>\n",
              "    </tr>\n",
              "    <tr>\n",
              "      <th>4</th>\n",
              "      <td>32004</td>\n",
              "      <td>5013000268011400</td>\n",
              "      <td>2726000004017100</td>\n",
              "      <td>식품</td>\n",
              "      <td>농산물</td>\n",
              "      <td>C_2726000004017100</td>\n",
              "      <td>C_5013000268011400</td>\n",
              "    </tr>\n",
              "  </tbody>\n",
              "</table>\n",
              "</div>"
            ],
            "text/plain": [
              "   index     SEND_SPG_INNB  ...      REC_SPG_INNB_2     SEND_SPG_INNB_2\n",
              "0  32000  5013000043028400  ...  C_1165000021097200  C_5013000043028400\n",
              "1  32001  5013000044016100  ...  C_1154500002066400  C_5013000044016100\n",
              "2  32002  5013000205030200  ...  C_4139000102013200  C_5013000205030200\n",
              "3  32003  5013000205030200  ...  C_4221000040093400  C_5013000205030200\n",
              "4  32004  5013000268011400  ...  C_2726000004017100  C_5013000268011400\n",
              "\n",
              "[5 rows x 7 columns]"
            ]
          },
          "metadata": {},
          "execution_count": 12
        }
      ]
    },
    {
      "cell_type": "code",
      "source": [
        "test.info()"
      ],
      "metadata": {
        "colab": {
          "base_uri": "https://localhost:8080/"
        },
        "id": "10-CqzbumtnH",
        "outputId": "9f8105b8-604e-4a28-e9d5-cf9449671106"
      },
      "execution_count": null,
      "outputs": [
        {
          "output_type": "stream",
          "name": "stdout",
          "text": [
            "<class 'pandas.core.frame.DataFrame'>\n",
            "RangeIndex: 4640 entries, 0 to 4639\n",
            "Data columns (total 7 columns):\n",
            " #   Column           Non-Null Count  Dtype \n",
            "---  ------           --------------  ----- \n",
            " 0   index            4640 non-null   int64 \n",
            " 1   SEND_SPG_INNB    4640 non-null   int64 \n",
            " 2   REC_SPG_INNB     4640 non-null   int64 \n",
            " 3   DL_GD_LCLS_NM    4640 non-null   object\n",
            " 4   DL_GD_MCLS_NM    4640 non-null   object\n",
            " 5   REC_SPG_INNB_2   4640 non-null   object\n",
            " 6   SEND_SPG_INNB_2  4640 non-null   object\n",
            "dtypes: int64(3), object(4)\n",
            "memory usage: 253.9+ KB\n"
          ]
        }
      ]
    },
    {
      "cell_type": "code",
      "source": [
        "train_df = train[['SEND_SPG_INNB_2','REC_SPG_INNB_2','DL_GD_LCLS_NM', 'DL_GD_MCLS_NM', 'INVC_CONT']]\n",
        "test_df = test[['SEND_SPG_INNB_2','REC_SPG_INNB_2','DL_GD_LCLS_NM', 'DL_GD_MCLS_NM']]"
      ],
      "metadata": {
        "id": "4s4GcKAymzuz"
      },
      "execution_count": null,
      "outputs": []
    },
    {
      "cell_type": "code",
      "source": [
        "# 원핫 인코딩\n",
        "train_one = pd.get_dummies(train_df[['DL_GD_LCLS_NM', 'DL_GD_MCLS_NM']])\n",
        "test_one = pd.get_dummies(test_df[['DL_GD_LCLS_NM', 'DL_GD_MCLS_NM']])"
      ],
      "metadata": {
        "id": "MBliRxe1RmUt"
      },
      "execution_count": null,
      "outputs": []
    },
    {
      "cell_type": "code",
      "source": [
        "train_le = train_df[['SEND_SPG_INNB_2','REC_SPG_INNB_2']]\n",
        "test_le = test_df[['SEND_SPG_INNB_2','REC_SPG_INNB_2']]"
      ],
      "metadata": {
        "id": "2fYyKQEBo8fe"
      },
      "execution_count": null,
      "outputs": []
    },
    {
      "cell_type": "code",
      "source": [
        "train.shape, test.shape"
      ],
      "metadata": {
        "colab": {
          "base_uri": "https://localhost:8080/"
        },
        "id": "QN6o3uz0uFHn",
        "outputId": "b0c4a31b-0482-435f-dbfb-aebde18a137e"
      },
      "execution_count": null,
      "outputs": [
        {
          "output_type": "execute_result",
          "data": {
            "text/plain": [
              "((32000, 8), (4640, 7))"
            ]
          },
          "metadata": {},
          "execution_count": 45
        }
      ]
    },
    {
      "cell_type": "code",
      "source": [
        "df = pd.concat([train_le, test_le], axis = 0)\n",
        "print(df.shape)\n",
        "df.head()"
      ],
      "metadata": {
        "colab": {
          "base_uri": "https://localhost:8080/",
          "height": 224
        },
        "id": "iCksL0ALuKRt",
        "outputId": "b124e545-7d0c-4162-9cc0-85c0067f843f"
      },
      "execution_count": null,
      "outputs": [
        {
          "output_type": "stream",
          "name": "stdout",
          "text": [
            "(36640, 2)\n"
          ]
        },
        {
          "output_type": "execute_result",
          "data": {
            "text/html": [
              "<div>\n",
              "<style scoped>\n",
              "    .dataframe tbody tr th:only-of-type {\n",
              "        vertical-align: middle;\n",
              "    }\n",
              "\n",
              "    .dataframe tbody tr th {\n",
              "        vertical-align: top;\n",
              "    }\n",
              "\n",
              "    .dataframe thead th {\n",
              "        text-align: right;\n",
              "    }\n",
              "</style>\n",
              "<table border=\"1\" class=\"dataframe\">\n",
              "  <thead>\n",
              "    <tr style=\"text-align: right;\">\n",
              "      <th></th>\n",
              "      <th>SEND_SPG_INNB_2</th>\n",
              "      <th>REC_SPG_INNB_2</th>\n",
              "    </tr>\n",
              "  </thead>\n",
              "  <tbody>\n",
              "    <tr>\n",
              "      <th>0</th>\n",
              "      <td>C_1129000014045300</td>\n",
              "      <td>C_5011000220046300</td>\n",
              "    </tr>\n",
              "    <tr>\n",
              "      <th>1</th>\n",
              "      <td>C_1135000009051200</td>\n",
              "      <td>C_5011000178037300</td>\n",
              "    </tr>\n",
              "    <tr>\n",
              "      <th>2</th>\n",
              "      <td>C_1135000030093100</td>\n",
              "      <td>C_5011000265091400</td>\n",
              "    </tr>\n",
              "    <tr>\n",
              "      <th>3</th>\n",
              "      <td>C_1154500002014200</td>\n",
              "      <td>C_5011000315087400</td>\n",
              "    </tr>\n",
              "    <tr>\n",
              "      <th>4</th>\n",
              "      <td>C_1165000021008300</td>\n",
              "      <td>C_5011000177051200</td>\n",
              "    </tr>\n",
              "  </tbody>\n",
              "</table>\n",
              "</div>"
            ],
            "text/plain": [
              "      SEND_SPG_INNB_2      REC_SPG_INNB_2\n",
              "0  C_1129000014045300  C_5011000220046300\n",
              "1  C_1135000009051200  C_5011000178037300\n",
              "2  C_1135000030093100  C_5011000265091400\n",
              "3  C_1154500002014200  C_5011000315087400\n",
              "4  C_1165000021008300  C_5011000177051200"
            ]
          },
          "metadata": {},
          "execution_count": 46
        }
      ]
    },
    {
      "cell_type": "code",
      "source": [
        "#Labeling\n",
        "from sklearn.preprocessing import LabelEncoder\n",
        "\n",
        "le = LabelEncoder()\n",
        "df['SEND_SPG_INNB_2']=le.fit_transform(df['SEND_SPG_INNB_2'])\n",
        "# le.transform(train_df.SEND_SPG_INNB_2)\n",
        "\n",
        "le = LabelEncoder()\n",
        "df.REC_SPG_INNB_2=le.fit_transform(df.REC_SPG_INNB_2)\n",
        "# le.transform(train_df.REC_SPG_INNB_2)"
      ],
      "metadata": {
        "id": "lKQL3p2MmLuv"
      },
      "execution_count": null,
      "outputs": []
    },
    {
      "cell_type": "code",
      "source": [
        "df.head().sort_values(by='REC_SPG_INNB_2')"
      ],
      "metadata": {
        "colab": {
          "base_uri": "https://localhost:8080/",
          "height": 206
        },
        "id": "Qnk2nF90vhrs",
        "outputId": "87a01fee-4070-4585-b0aa-a65215c672db"
      },
      "execution_count": null,
      "outputs": [
        {
          "output_type": "execute_result",
          "data": {
            "text/html": [
              "<div>\n",
              "<style scoped>\n",
              "    .dataframe tbody tr th:only-of-type {\n",
              "        vertical-align: middle;\n",
              "    }\n",
              "\n",
              "    .dataframe tbody tr th {\n",
              "        vertical-align: top;\n",
              "    }\n",
              "\n",
              "    .dataframe thead th {\n",
              "        text-align: right;\n",
              "    }\n",
              "</style>\n",
              "<table border=\"1\" class=\"dataframe\">\n",
              "  <thead>\n",
              "    <tr style=\"text-align: right;\">\n",
              "      <th></th>\n",
              "      <th>SEND_SPG_INNB_2</th>\n",
              "      <th>REC_SPG_INNB_2</th>\n",
              "    </tr>\n",
              "  </thead>\n",
              "  <tbody>\n",
              "    <tr>\n",
              "      <th>4</th>\n",
              "      <td>314</td>\n",
              "      <td>26852</td>\n",
              "    </tr>\n",
              "    <tr>\n",
              "      <th>1</th>\n",
              "      <td>146</td>\n",
              "      <td>26856</td>\n",
              "    </tr>\n",
              "    <tr>\n",
              "      <th>0</th>\n",
              "      <td>127</td>\n",
              "      <td>27303</td>\n",
              "    </tr>\n",
              "    <tr>\n",
              "      <th>2</th>\n",
              "      <td>153</td>\n",
              "      <td>27637</td>\n",
              "    </tr>\n",
              "    <tr>\n",
              "      <th>3</th>\n",
              "      <td>237</td>\n",
              "      <td>28109</td>\n",
              "    </tr>\n",
              "  </tbody>\n",
              "</table>\n",
              "</div>"
            ],
            "text/plain": [
              "   SEND_SPG_INNB_2  REC_SPG_INNB_2\n",
              "4              314           26852\n",
              "1              146           26856\n",
              "0              127           27303\n",
              "2              153           27637\n",
              "3              237           28109"
            ]
          },
          "metadata": {},
          "execution_count": 48
        }
      ]
    },
    {
      "cell_type": "code",
      "source": [
        "train_le = df.iloc[:32000,:]\n",
        "test_le = df.iloc[32000:,:]\n",
        "\n",
        "train_le.shape, test_le.shape"
      ],
      "metadata": {
        "colab": {
          "base_uri": "https://localhost:8080/"
        },
        "id": "-oL0714Av2j0",
        "outputId": "b058a3de-fe84-4150-b0b0-5be181b85b13"
      },
      "execution_count": null,
      "outputs": [
        {
          "output_type": "execute_result",
          "data": {
            "text/plain": [
              "((32000, 2), (4640, 2))"
            ]
          },
          "metadata": {},
          "execution_count": 49
        }
      ]
    },
    {
      "cell_type": "code",
      "source": [
        "train_full = pd.concat([train_le, train_one], axis = 1)\n",
        "test_full = pd.concat([test_le,test_one], axis = 1)\n",
        "\n",
        "train_full.shape, test_full.shape"
      ],
      "metadata": {
        "colab": {
          "base_uri": "https://localhost:8080/"
        },
        "id": "nmtcJgeRwfZa",
        "outputId": "111abbbf-7b81-463d-f50d-9ce253747937"
      },
      "execution_count": null,
      "outputs": [
        {
          "output_type": "execute_result",
          "data": {
            "text/plain": [
              "((32000, 28), (4640, 28))"
            ]
          },
          "metadata": {},
          "execution_count": 50
        }
      ]
    },
    {
      "cell_type": "code",
      "source": [
        "from lightgbm import LGBMRegressor\n",
        "\n",
        "train_X = train_full\n",
        "train_Y = train_df['INVC_CONT']\n",
        "\n",
        "#모델 정의\n",
        "model = LGBMRegressor()"
      ],
      "metadata": {
        "id": "Fd771n-ZRx60"
      },
      "execution_count": null,
      "outputs": []
    },
    {
      "cell_type": "code",
      "source": [
        "# 모델 학습\n",
        "model.fit(train_X,train_Y)"
      ],
      "metadata": {
        "id": "mKww-rZAR3Ze",
        "colab": {
          "base_uri": "https://localhost:8080/"
        },
        "outputId": "8b8c9b9d-27ed-484f-8dcb-d9a325a211ae"
      },
      "execution_count": null,
      "outputs": [
        {
          "output_type": "execute_result",
          "data": {
            "text/plain": [
              "LGBMRegressor()"
            ]
          },
          "metadata": {},
          "execution_count": 52
        }
      ]
    },
    {
      "cell_type": "code",
      "source": [
        "# test 데이터 예측\n",
        "pred = model.predict(test_full)"
      ],
      "metadata": {
        "id": "fvub1JdPR5QN"
      },
      "execution_count": null,
      "outputs": []
    },
    {
      "cell_type": "markdown",
      "source": [
        "# 정답파일 생성"
      ],
      "metadata": {
        "id": "3IrkPkGFR9_A"
      }
    },
    {
      "cell_type": "code",
      "source": [
        "submission['INVC_CONT'] = pred"
      ],
      "metadata": {
        "id": "TbUjlYfGR7VA"
      },
      "execution_count": null,
      "outputs": []
    },
    {
      "cell_type": "code",
      "source": [
        "submission.to_csv('lgb_cate.csv',index = False)"
      ],
      "metadata": {
        "id": "ByHj5rCNSJXo"
      },
      "execution_count": null,
      "outputs": []
    },
    {
      "cell_type": "code",
      "source": [
        ""
      ],
      "metadata": {
        "id": "EtqTHAPKSLMg"
      },
      "execution_count": null,
      "outputs": []
    }
  ]
}