{
  "nbformat": 4,
  "nbformat_minor": 0,
  "metadata": {
    "colab": {
      "name": "물류 유통량 예측 경진대회.ipynb",
      "provenance": [],
      "authorship_tag": "ABX9TyPK6irtsblpQnCH6ywB9O9B",
      "include_colab_link": true
    },
    "kernelspec": {
      "name": "python3",
      "display_name": "Python 3"
    },
    "language_info": {
      "name": "python"
    }
  },
  "cells": [
    {
      "cell_type": "markdown",
      "metadata": {
        "id": "view-in-github",
        "colab_type": "text"
      },
      "source": [
        "<a href=\"https://colab.research.google.com/github/doo52oh/Dacon/blob/main/%EB%AC%BC%EB%A5%98_%EC%9C%A0%ED%86%B5%EB%9F%89_%EC%98%88%EC%B8%A1/%EB%AC%BC%EB%A5%98%EB%9F%89_%EC%98%88%EC%B8%A1_baseline.ipynb\" target=\"_parent\"><img src=\"https://colab.research.google.com/assets/colab-badge.svg\" alt=\"Open In Colab\"/></a>"
      ]
    },
    {
      "cell_type": "code",
      "execution_count": 1,
      "metadata": {
        "id": "xKAFJJPiLE4Z"
      },
      "outputs": [],
      "source": [
        "import pandas as pd\n",
        "\n",
        "train = pd.read_csv('train_df.csv',encoding = 'cp949')\n",
        "test = pd.read_csv('test_df.csv',encoding = 'cp949')\n",
        "\n",
        "submission = pd.read_csv('sample_submission.csv')"
      ]
    },
    {
      "cell_type": "code",
      "source": [
        "train.head()"
      ],
      "metadata": {
        "colab": {
          "base_uri": "https://localhost:8080/",
          "height": 206
        },
        "id": "KjQPTgdORS9U",
        "outputId": "35de85e3-dde1-4a2d-a748-0c5adba1f4b0"
      },
      "execution_count": 2,
      "outputs": [
        {
          "output_type": "execute_result",
          "data": {
            "text/html": [
              "<div>\n",
              "<style scoped>\n",
              "    .dataframe tbody tr th:only-of-type {\n",
              "        vertical-align: middle;\n",
              "    }\n",
              "\n",
              "    .dataframe tbody tr th {\n",
              "        vertical-align: top;\n",
              "    }\n",
              "\n",
              "    .dataframe thead th {\n",
              "        text-align: right;\n",
              "    }\n",
              "</style>\n",
              "<table border=\"1\" class=\"dataframe\">\n",
              "  <thead>\n",
              "    <tr style=\"text-align: right;\">\n",
              "      <th></th>\n",
              "      <th>index</th>\n",
              "      <th>SEND_SPG_INNB</th>\n",
              "      <th>REC_SPG_INNB</th>\n",
              "      <th>DL_GD_LCLS_NM</th>\n",
              "      <th>DL_GD_MCLS_NM</th>\n",
              "      <th>INVC_CONT</th>\n",
              "    </tr>\n",
              "  </thead>\n",
              "  <tbody>\n",
              "    <tr>\n",
              "      <th>0</th>\n",
              "      <td>0</td>\n",
              "      <td>1129000014045300</td>\n",
              "      <td>5011000220046300</td>\n",
              "      <td>패션의류</td>\n",
              "      <td>상의</td>\n",
              "      <td>3</td>\n",
              "    </tr>\n",
              "    <tr>\n",
              "      <th>1</th>\n",
              "      <td>1</td>\n",
              "      <td>1135000009051200</td>\n",
              "      <td>5011000178037300</td>\n",
              "      <td>생활/건강</td>\n",
              "      <td>반려동물</td>\n",
              "      <td>3</td>\n",
              "    </tr>\n",
              "    <tr>\n",
              "      <th>2</th>\n",
              "      <td>2</td>\n",
              "      <td>1135000030093100</td>\n",
              "      <td>5011000265091400</td>\n",
              "      <td>패션의류</td>\n",
              "      <td>기타패션의류</td>\n",
              "      <td>9</td>\n",
              "    </tr>\n",
              "    <tr>\n",
              "      <th>3</th>\n",
              "      <td>3</td>\n",
              "      <td>1154500002014200</td>\n",
              "      <td>5011000315087400</td>\n",
              "      <td>식품</td>\n",
              "      <td>농산물</td>\n",
              "      <td>10</td>\n",
              "    </tr>\n",
              "    <tr>\n",
              "      <th>4</th>\n",
              "      <td>4</td>\n",
              "      <td>1165000021008300</td>\n",
              "      <td>5011000177051200</td>\n",
              "      <td>식품</td>\n",
              "      <td>가공식품</td>\n",
              "      <td>3</td>\n",
              "    </tr>\n",
              "  </tbody>\n",
              "</table>\n",
              "</div>"
            ],
            "text/plain": [
              "   index     SEND_SPG_INNB  ...  DL_GD_MCLS_NM INVC_CONT\n",
              "0      0  1129000014045300  ...             상의         3\n",
              "1      1  1135000009051200  ...           반려동물         3\n",
              "2      2  1135000030093100  ...         기타패션의류         9\n",
              "3      3  1154500002014200  ...            농산물        10\n",
              "4      4  1165000021008300  ...           가공식품         3\n",
              "\n",
              "[5 rows x 6 columns]"
            ]
          },
          "metadata": {},
          "execution_count": 2
        }
      ]
    },
    {
      "cell_type": "code",
      "source": [
        "test.head()"
      ],
      "metadata": {
        "colab": {
          "base_uri": "https://localhost:8080/",
          "height": 206
        },
        "id": "JigSRfFXRVPl",
        "outputId": "c62d2032-9cbf-46be-9299-f782c83960b6"
      },
      "execution_count": 3,
      "outputs": [
        {
          "output_type": "execute_result",
          "data": {
            "text/html": [
              "<div>\n",
              "<style scoped>\n",
              "    .dataframe tbody tr th:only-of-type {\n",
              "        vertical-align: middle;\n",
              "    }\n",
              "\n",
              "    .dataframe tbody tr th {\n",
              "        vertical-align: top;\n",
              "    }\n",
              "\n",
              "    .dataframe thead th {\n",
              "        text-align: right;\n",
              "    }\n",
              "</style>\n",
              "<table border=\"1\" class=\"dataframe\">\n",
              "  <thead>\n",
              "    <tr style=\"text-align: right;\">\n",
              "      <th></th>\n",
              "      <th>index</th>\n",
              "      <th>SEND_SPG_INNB</th>\n",
              "      <th>REC_SPG_INNB</th>\n",
              "      <th>DL_GD_LCLS_NM</th>\n",
              "      <th>DL_GD_MCLS_NM</th>\n",
              "    </tr>\n",
              "  </thead>\n",
              "  <tbody>\n",
              "    <tr>\n",
              "      <th>0</th>\n",
              "      <td>32000</td>\n",
              "      <td>5013000043028400</td>\n",
              "      <td>1165000021097200</td>\n",
              "      <td>식품</td>\n",
              "      <td>농산물</td>\n",
              "    </tr>\n",
              "    <tr>\n",
              "      <th>1</th>\n",
              "      <td>32001</td>\n",
              "      <td>5013000044016100</td>\n",
              "      <td>1154500002066400</td>\n",
              "      <td>식품</td>\n",
              "      <td>농산물</td>\n",
              "    </tr>\n",
              "    <tr>\n",
              "      <th>2</th>\n",
              "      <td>32002</td>\n",
              "      <td>5013000205030200</td>\n",
              "      <td>4139000102013200</td>\n",
              "      <td>식품</td>\n",
              "      <td>농산물</td>\n",
              "    </tr>\n",
              "    <tr>\n",
              "      <th>3</th>\n",
              "      <td>32003</td>\n",
              "      <td>5013000205030200</td>\n",
              "      <td>4221000040093400</td>\n",
              "      <td>식품</td>\n",
              "      <td>농산물</td>\n",
              "    </tr>\n",
              "    <tr>\n",
              "      <th>4</th>\n",
              "      <td>32004</td>\n",
              "      <td>5013000268011400</td>\n",
              "      <td>2726000004017100</td>\n",
              "      <td>식품</td>\n",
              "      <td>농산물</td>\n",
              "    </tr>\n",
              "  </tbody>\n",
              "</table>\n",
              "</div>"
            ],
            "text/plain": [
              "   index     SEND_SPG_INNB      REC_SPG_INNB DL_GD_LCLS_NM DL_GD_MCLS_NM\n",
              "0  32000  5013000043028400  1165000021097200            식품           농산물\n",
              "1  32001  5013000044016100  1154500002066400            식품           농산물\n",
              "2  32002  5013000205030200  4139000102013200            식품           농산물\n",
              "3  32003  5013000205030200  4221000040093400            식품           농산물\n",
              "4  32004  5013000268011400  2726000004017100            식품           농산물"
            ]
          },
          "metadata": {},
          "execution_count": 3
        }
      ]
    },
    {
      "cell_type": "code",
      "source": [
        "train.info()"
      ],
      "metadata": {
        "colab": {
          "base_uri": "https://localhost:8080/"
        },
        "id": "M8A2m-RlRX-M",
        "outputId": "a1dfe33b-3e92-4768-a4cf-9476f05358ad"
      },
      "execution_count": 4,
      "outputs": [
        {
          "output_type": "stream",
          "name": "stdout",
          "text": [
            "<class 'pandas.core.frame.DataFrame'>\n",
            "RangeIndex: 32000 entries, 0 to 31999\n",
            "Data columns (total 6 columns):\n",
            " #   Column         Non-Null Count  Dtype \n",
            "---  ------         --------------  ----- \n",
            " 0   index          32000 non-null  int64 \n",
            " 1   SEND_SPG_INNB  32000 non-null  int64 \n",
            " 2   REC_SPG_INNB   32000 non-null  int64 \n",
            " 3   DL_GD_LCLS_NM  32000 non-null  object\n",
            " 4   DL_GD_MCLS_NM  32000 non-null  object\n",
            " 5   INVC_CONT      32000 non-null  int64 \n",
            "dtypes: int64(4), object(2)\n",
            "memory usage: 1.5+ MB\n"
          ]
        }
      ]
    },
    {
      "cell_type": "code",
      "source": [
        "test.info()"
      ],
      "metadata": {
        "colab": {
          "base_uri": "https://localhost:8080/"
        },
        "id": "ISsqpj1pRbZm",
        "outputId": "4716fa73-e559-486a-e847-5ea44b8835a5"
      },
      "execution_count": 5,
      "outputs": [
        {
          "output_type": "stream",
          "name": "stdout",
          "text": [
            "<class 'pandas.core.frame.DataFrame'>\n",
            "RangeIndex: 4640 entries, 0 to 4639\n",
            "Data columns (total 5 columns):\n",
            " #   Column         Non-Null Count  Dtype \n",
            "---  ------         --------------  ----- \n",
            " 0   index          4640 non-null   int64 \n",
            " 1   SEND_SPG_INNB  4640 non-null   int64 \n",
            " 2   REC_SPG_INNB   4640 non-null   int64 \n",
            " 3   DL_GD_LCLS_NM  4640 non-null   object\n",
            " 4   DL_GD_MCLS_NM  4640 non-null   object\n",
            "dtypes: int64(3), object(2)\n",
            "memory usage: 181.4+ KB\n"
          ]
        }
      ]
    },
    {
      "cell_type": "code",
      "source": [
        "train.isnull().sum()"
      ],
      "metadata": {
        "colab": {
          "base_uri": "https://localhost:8080/"
        },
        "id": "iQ6SIycMRdSs",
        "outputId": "3390c7a1-757b-45e0-b395-cbb2443bdbfe"
      },
      "execution_count": 6,
      "outputs": [
        {
          "output_type": "execute_result",
          "data": {
            "text/plain": [
              "index            0\n",
              "SEND_SPG_INNB    0\n",
              "REC_SPG_INNB     0\n",
              "DL_GD_LCLS_NM    0\n",
              "DL_GD_MCLS_NM    0\n",
              "INVC_CONT        0\n",
              "dtype: int64"
            ]
          },
          "metadata": {},
          "execution_count": 6
        }
      ]
    },
    {
      "cell_type": "code",
      "source": [
        "test.isnull().sum()"
      ],
      "metadata": {
        "colab": {
          "base_uri": "https://localhost:8080/"
        },
        "id": "o9WLF6AlRghM",
        "outputId": "fff740f9-735e-42fe-f2e0-80a84e9f9fa0"
      },
      "execution_count": 7,
      "outputs": [
        {
          "output_type": "execute_result",
          "data": {
            "text/plain": [
              "index            0\n",
              "SEND_SPG_INNB    0\n",
              "REC_SPG_INNB     0\n",
              "DL_GD_LCLS_NM    0\n",
              "DL_GD_MCLS_NM    0\n",
              "dtype: int64"
            ]
          },
          "metadata": {},
          "execution_count": 7
        }
      ]
    },
    {
      "cell_type": "markdown",
      "source": [
        "# 데이터 전처리"
      ],
      "metadata": {
        "id": "OB30ZITURsHS"
      }
    },
    {
      "cell_type": "code",
      "source": [
        "# 원핫 인코딩\n",
        "train_one = pd.get_dummies(train)\n",
        "test_one = pd.get_dummies(test)"
      ],
      "metadata": {
        "id": "MBliRxe1RmUt"
      },
      "execution_count": 8,
      "outputs": []
    },
    {
      "cell_type": "code",
      "source": [
        "from lightgbm import LGBMRegressor\n",
        "\n",
        "train_X = train_one.drop('INVC_CONT',axis = 1)\n",
        "train_Y = train_one['INVC_CONT']\n",
        "\n",
        "#모델 정의\n",
        "model = LGBMRegressor()"
      ],
      "metadata": {
        "id": "Fd771n-ZRx60"
      },
      "execution_count": 9,
      "outputs": []
    },
    {
      "cell_type": "code",
      "source": [
        "# 모델 학습\n",
        "model.fit(train_X,train_Y)"
      ],
      "metadata": {
        "colab": {
          "base_uri": "https://localhost:8080/"
        },
        "id": "mKww-rZAR3Ze",
        "outputId": "15e5679d-c06e-4c96-8e2a-e2345614e6d6"
      },
      "execution_count": 10,
      "outputs": [
        {
          "output_type": "execute_result",
          "data": {
            "text/plain": [
              "LGBMRegressor()"
            ]
          },
          "metadata": {},
          "execution_count": 10
        }
      ]
    },
    {
      "cell_type": "code",
      "source": [
        "# test 데이터 예측\n",
        "pred = model.predict(test_one)"
      ],
      "metadata": {
        "id": "fvub1JdPR5QN"
      },
      "execution_count": 11,
      "outputs": []
    },
    {
      "cell_type": "markdown",
      "source": [
        "# 정답파일 생성"
      ],
      "metadata": {
        "id": "3IrkPkGFR9_A"
      }
    },
    {
      "cell_type": "code",
      "source": [
        "submission['INVC_CONT'] = pred"
      ],
      "metadata": {
        "id": "TbUjlYfGR7VA"
      },
      "execution_count": 12,
      "outputs": []
    },
    {
      "cell_type": "code",
      "source": [
        "submission.to_csv('baseline.csv',index = False)"
      ],
      "metadata": {
        "id": "ByHj5rCNSJXo"
      },
      "execution_count": 13,
      "outputs": []
    },
    {
      "cell_type": "code",
      "source": [
        ""
      ],
      "metadata": {
        "id": "EtqTHAPKSLMg"
      },
      "execution_count": null,
      "outputs": []
    }
  ]
}