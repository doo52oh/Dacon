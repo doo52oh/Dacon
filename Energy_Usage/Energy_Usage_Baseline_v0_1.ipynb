{
  "nbformat": 4,
  "nbformat_minor": 0,
  "metadata": {
    "colab": {
      "name": "Energy_Usage_Baseline_v0.1.ipynb",
      "provenance": [],
      "authorship_tag": "ABX9TyO8Tccm0FGKeT4YTfJMHNlL",
      "include_colab_link": true
    },
    "kernelspec": {
      "name": "python3",
      "display_name": "Python 3"
    },
    "language_info": {
      "name": "python"
    }
  },
  "cells": [
    {
      "cell_type": "markdown",
      "metadata": {
        "id": "view-in-github",
        "colab_type": "text"
      },
      "source": [
        "<a href=\"https://colab.research.google.com/github/doo52oh/Dacon/blob/main/Energy_Usage/Energy_Usage_Baseline_v0_1.ipynb\" target=\"_parent\"><img src=\"https://colab.research.google.com/assets/colab-badge.svg\" alt=\"Open In Colab\"/></a>"
      ]
    },
    {
      "cell_type": "markdown",
      "metadata": {
        "id": "Ey4dAzkKaLop"
      },
      "source": [
        "# 전력사용량 예측\n",
        "\n",
        "\n",
        "## Columns\n",
        "  1) num : 건물번호  \n",
        "  2) date_time : 시간  \n",
        "  3) 전력사용량 (kwh)  \n",
        "  4) 기온  \n",
        "  5) 풍속 (m/s)  \n",
        "  6) 습도 (%)  \n",
        "  7) 강수량 (mm)  \n",
        "  8) 일조 (hr)  \n",
        "  9) 비전기냉방설비운영  - 0,1  \n",
        "  10) 태양광보유  - 0, 1\n"
      ]
    },
    {
      "cell_type": "code",
      "metadata": {
        "id": "Qsuv-u9QYiVm"
      },
      "source": [
        "import pandas as pd\n",
        "import numpy as np\n",
        "\n",
        "import matplotlib.pyplot as plt\n",
        "import seaborn as sns\n",
        "\n",
        "import time"
      ],
      "execution_count": 61,
      "outputs": []
    },
    {
      "cell_type": "code",
      "metadata": {
        "id": "BZmxxG3GceQM"
      },
      "source": [
        "train = pd.read_csv('train.csv', encoding='euc-kr', parse_dates=['date_time'])\n",
        "test = pd.read_csv('test.csv', encoding='euc-kr', parse_dates=['date_time'])\n",
        "submission = pd.read_csv('sample_submission.csv', encoding='euc-kr')"
      ],
      "execution_count": 2,
      "outputs": []
    },
    {
      "cell_type": "code",
      "metadata": {
        "colab": {
          "base_uri": "https://localhost:8080/"
        },
        "id": "3ZgfYu2LcsHG",
        "outputId": "6db5a50a-3e66-45e5-8aeb-f400859d76f7"
      },
      "source": [
        "train.info()"
      ],
      "execution_count": 3,
      "outputs": [
        {
          "output_type": "stream",
          "text": [
            "<class 'pandas.core.frame.DataFrame'>\n",
            "RangeIndex: 122400 entries, 0 to 122399\n",
            "Data columns (total 10 columns):\n",
            " #   Column      Non-Null Count   Dtype         \n",
            "---  ------      --------------   -----         \n",
            " 0   num         122400 non-null  int64         \n",
            " 1   date_time   122400 non-null  datetime64[ns]\n",
            " 2   전력사용량(kWh)  122400 non-null  float64       \n",
            " 3   기온(°C)      122400 non-null  float64       \n",
            " 4   풍속(m/s)     122400 non-null  float64       \n",
            " 5   습도(%)       122400 non-null  float64       \n",
            " 6   강수량(mm)     122400 non-null  float64       \n",
            " 7   일조(hr)      122400 non-null  float64       \n",
            " 8   비전기냉방설비운영   122400 non-null  float64       \n",
            " 9   태양광보유       122400 non-null  float64       \n",
            "dtypes: datetime64[ns](1), float64(8), int64(1)\n",
            "memory usage: 9.3 MB\n"
          ],
          "name": "stdout"
        }
      ]
    },
    {
      "cell_type": "code",
      "metadata": {
        "colab": {
          "base_uri": "https://localhost:8080/"
        },
        "id": "j7lYjYh7cw7m",
        "outputId": "26a2acf5-5e83-485f-aed9-783f682703e2"
      },
      "source": [
        "test.info()\n"
      ],
      "execution_count": 4,
      "outputs": [
        {
          "output_type": "stream",
          "text": [
            "<class 'pandas.core.frame.DataFrame'>\n",
            "RangeIndex: 10080 entries, 0 to 10079\n",
            "Data columns (total 9 columns):\n",
            " #   Column        Non-Null Count  Dtype         \n",
            "---  ------        --------------  -----         \n",
            " 0   num           10080 non-null  int64         \n",
            " 1   date_time     10080 non-null  datetime64[ns]\n",
            " 2   기온(°C)        3360 non-null   float64       \n",
            " 3   풍속(m/s)       3360 non-null   float64       \n",
            " 4   습도(%)         3360 non-null   float64       \n",
            " 5   강수량(mm, 6시간)  1680 non-null   float64       \n",
            " 6   일조(hr, 3시간)   3360 non-null   float64       \n",
            " 7   비전기냉방설비운영     2296 non-null   float64       \n",
            " 8   태양광보유         1624 non-null   float64       \n",
            "dtypes: datetime64[ns](1), float64(7), int64(1)\n",
            "memory usage: 708.9 KB\n"
          ],
          "name": "stdout"
        }
      ]
    },
    {
      "cell_type": "code",
      "metadata": {
        "colab": {
          "base_uri": "https://localhost:8080/"
        },
        "id": "R5VxHyIiczMV",
        "outputId": "61a24b47-439c-43d6-9770-7c52f2e9f146"
      },
      "source": [
        "train.isnull().sum().sum() # null 체크"
      ],
      "execution_count": 5,
      "outputs": [
        {
          "output_type": "execute_result",
          "data": {
            "text/plain": [
              "0"
            ]
          },
          "metadata": {
            "tags": []
          },
          "execution_count": 5
        }
      ]
    },
    {
      "cell_type": "code",
      "metadata": {
        "colab": {
          "base_uri": "https://localhost:8080/"
        },
        "id": "6e8JLzgcc2yr",
        "outputId": "39ad776e-2f13-45a9-b174-7059a10b6ef0"
      },
      "source": [
        "test.isnull().sum().sum()"
      ],
      "execution_count": 6,
      "outputs": [
        {
          "output_type": "execute_result",
          "data": {
            "text/plain": [
              "51520"
            ]
          },
          "metadata": {
            "tags": []
          },
          "execution_count": 6
        }
      ]
    },
    {
      "cell_type": "code",
      "metadata": {
        "colab": {
          "base_uri": "https://localhost:8080/"
        },
        "id": "Rek7qn0mdAYU",
        "outputId": "e248eb93-1956-41dc-bdbc-11bb36d99682"
      },
      "source": [
        "test.isnull().sum()"
      ],
      "execution_count": 7,
      "outputs": [
        {
          "output_type": "execute_result",
          "data": {
            "text/plain": [
              "num                0\n",
              "date_time          0\n",
              "기온(°C)          6720\n",
              "풍속(m/s)         6720\n",
              "습도(%)           6720\n",
              "강수량(mm, 6시간)    8400\n",
              "일조(hr, 3시간)     6720\n",
              "비전기냉방설비운영       7784\n",
              "태양광보유           8456\n",
              "dtype: int64"
            ]
          },
          "metadata": {
            "tags": []
          },
          "execution_count": 7
        }
      ]
    },
    {
      "cell_type": "code",
      "metadata": {
        "colab": {
          "base_uri": "https://localhost:8080/",
          "height": 204
        },
        "id": "pDFg1Jz-dHIH",
        "outputId": "8f2673d3-86c6-43ce-8522-c1f4f5b1c764"
      },
      "source": [
        "train.head()"
      ],
      "execution_count": 8,
      "outputs": [
        {
          "output_type": "execute_result",
          "data": {
            "text/html": [
              "<div>\n",
              "<style scoped>\n",
              "    .dataframe tbody tr th:only-of-type {\n",
              "        vertical-align: middle;\n",
              "    }\n",
              "\n",
              "    .dataframe tbody tr th {\n",
              "        vertical-align: top;\n",
              "    }\n",
              "\n",
              "    .dataframe thead th {\n",
              "        text-align: right;\n",
              "    }\n",
              "</style>\n",
              "<table border=\"1\" class=\"dataframe\">\n",
              "  <thead>\n",
              "    <tr style=\"text-align: right;\">\n",
              "      <th></th>\n",
              "      <th>num</th>\n",
              "      <th>date_time</th>\n",
              "      <th>전력사용량(kWh)</th>\n",
              "      <th>기온(°C)</th>\n",
              "      <th>풍속(m/s)</th>\n",
              "      <th>습도(%)</th>\n",
              "      <th>강수량(mm)</th>\n",
              "      <th>일조(hr)</th>\n",
              "      <th>비전기냉방설비운영</th>\n",
              "      <th>태양광보유</th>\n",
              "    </tr>\n",
              "  </thead>\n",
              "  <tbody>\n",
              "    <tr>\n",
              "      <th>0</th>\n",
              "      <td>1</td>\n",
              "      <td>2020-06-01 00:00:00</td>\n",
              "      <td>8179.056</td>\n",
              "      <td>17.6</td>\n",
              "      <td>2.5</td>\n",
              "      <td>92.0</td>\n",
              "      <td>0.8</td>\n",
              "      <td>0.0</td>\n",
              "      <td>0.0</td>\n",
              "      <td>0.0</td>\n",
              "    </tr>\n",
              "    <tr>\n",
              "      <th>1</th>\n",
              "      <td>1</td>\n",
              "      <td>2020-06-01 01:00:00</td>\n",
              "      <td>8135.640</td>\n",
              "      <td>17.7</td>\n",
              "      <td>2.9</td>\n",
              "      <td>91.0</td>\n",
              "      <td>0.3</td>\n",
              "      <td>0.0</td>\n",
              "      <td>0.0</td>\n",
              "      <td>0.0</td>\n",
              "    </tr>\n",
              "    <tr>\n",
              "      <th>2</th>\n",
              "      <td>1</td>\n",
              "      <td>2020-06-01 02:00:00</td>\n",
              "      <td>8107.128</td>\n",
              "      <td>17.5</td>\n",
              "      <td>3.2</td>\n",
              "      <td>91.0</td>\n",
              "      <td>0.0</td>\n",
              "      <td>0.0</td>\n",
              "      <td>0.0</td>\n",
              "      <td>0.0</td>\n",
              "    </tr>\n",
              "    <tr>\n",
              "      <th>3</th>\n",
              "      <td>1</td>\n",
              "      <td>2020-06-01 03:00:00</td>\n",
              "      <td>8048.808</td>\n",
              "      <td>17.1</td>\n",
              "      <td>3.2</td>\n",
              "      <td>91.0</td>\n",
              "      <td>0.0</td>\n",
              "      <td>0.0</td>\n",
              "      <td>0.0</td>\n",
              "      <td>0.0</td>\n",
              "    </tr>\n",
              "    <tr>\n",
              "      <th>4</th>\n",
              "      <td>1</td>\n",
              "      <td>2020-06-01 04:00:00</td>\n",
              "      <td>8043.624</td>\n",
              "      <td>17.0</td>\n",
              "      <td>3.3</td>\n",
              "      <td>92.0</td>\n",
              "      <td>0.0</td>\n",
              "      <td>0.0</td>\n",
              "      <td>0.0</td>\n",
              "      <td>0.0</td>\n",
              "    </tr>\n",
              "  </tbody>\n",
              "</table>\n",
              "</div>"
            ],
            "text/plain": [
              "   num           date_time  전력사용량(kWh)  ...  일조(hr)  비전기냉방설비운영  태양광보유\n",
              "0    1 2020-06-01 00:00:00    8179.056  ...     0.0        0.0    0.0\n",
              "1    1 2020-06-01 01:00:00    8135.640  ...     0.0        0.0    0.0\n",
              "2    1 2020-06-01 02:00:00    8107.128  ...     0.0        0.0    0.0\n",
              "3    1 2020-06-01 03:00:00    8048.808  ...     0.0        0.0    0.0\n",
              "4    1 2020-06-01 04:00:00    8043.624  ...     0.0        0.0    0.0\n",
              "\n",
              "[5 rows x 10 columns]"
            ]
          },
          "metadata": {
            "tags": []
          },
          "execution_count": 8
        }
      ]
    },
    {
      "cell_type": "code",
      "metadata": {
        "colab": {
          "base_uri": "https://localhost:8080/",
          "height": 204
        },
        "id": "aF4meBu6dIGW",
        "outputId": "ec54d7a6-e517-4ae4-c6e0-4e42ac2b22a0"
      },
      "source": [
        "test.head()"
      ],
      "execution_count": 9,
      "outputs": [
        {
          "output_type": "execute_result",
          "data": {
            "text/html": [
              "<div>\n",
              "<style scoped>\n",
              "    .dataframe tbody tr th:only-of-type {\n",
              "        vertical-align: middle;\n",
              "    }\n",
              "\n",
              "    .dataframe tbody tr th {\n",
              "        vertical-align: top;\n",
              "    }\n",
              "\n",
              "    .dataframe thead th {\n",
              "        text-align: right;\n",
              "    }\n",
              "</style>\n",
              "<table border=\"1\" class=\"dataframe\">\n",
              "  <thead>\n",
              "    <tr style=\"text-align: right;\">\n",
              "      <th></th>\n",
              "      <th>num</th>\n",
              "      <th>date_time</th>\n",
              "      <th>기온(°C)</th>\n",
              "      <th>풍속(m/s)</th>\n",
              "      <th>습도(%)</th>\n",
              "      <th>강수량(mm, 6시간)</th>\n",
              "      <th>일조(hr, 3시간)</th>\n",
              "      <th>비전기냉방설비운영</th>\n",
              "      <th>태양광보유</th>\n",
              "    </tr>\n",
              "  </thead>\n",
              "  <tbody>\n",
              "    <tr>\n",
              "      <th>0</th>\n",
              "      <td>1</td>\n",
              "      <td>2020-08-25 00:00:00</td>\n",
              "      <td>27.8</td>\n",
              "      <td>1.5</td>\n",
              "      <td>74.0</td>\n",
              "      <td>0.0</td>\n",
              "      <td>0.0</td>\n",
              "      <td>NaN</td>\n",
              "      <td>NaN</td>\n",
              "    </tr>\n",
              "    <tr>\n",
              "      <th>1</th>\n",
              "      <td>1</td>\n",
              "      <td>2020-08-25 01:00:00</td>\n",
              "      <td>NaN</td>\n",
              "      <td>NaN</td>\n",
              "      <td>NaN</td>\n",
              "      <td>NaN</td>\n",
              "      <td>NaN</td>\n",
              "      <td>NaN</td>\n",
              "      <td>NaN</td>\n",
              "    </tr>\n",
              "    <tr>\n",
              "      <th>2</th>\n",
              "      <td>1</td>\n",
              "      <td>2020-08-25 02:00:00</td>\n",
              "      <td>NaN</td>\n",
              "      <td>NaN</td>\n",
              "      <td>NaN</td>\n",
              "      <td>NaN</td>\n",
              "      <td>NaN</td>\n",
              "      <td>NaN</td>\n",
              "      <td>NaN</td>\n",
              "    </tr>\n",
              "    <tr>\n",
              "      <th>3</th>\n",
              "      <td>1</td>\n",
              "      <td>2020-08-25 03:00:00</td>\n",
              "      <td>27.3</td>\n",
              "      <td>1.1</td>\n",
              "      <td>78.0</td>\n",
              "      <td>NaN</td>\n",
              "      <td>0.0</td>\n",
              "      <td>NaN</td>\n",
              "      <td>NaN</td>\n",
              "    </tr>\n",
              "    <tr>\n",
              "      <th>4</th>\n",
              "      <td>1</td>\n",
              "      <td>2020-08-25 04:00:00</td>\n",
              "      <td>NaN</td>\n",
              "      <td>NaN</td>\n",
              "      <td>NaN</td>\n",
              "      <td>NaN</td>\n",
              "      <td>NaN</td>\n",
              "      <td>NaN</td>\n",
              "      <td>NaN</td>\n",
              "    </tr>\n",
              "  </tbody>\n",
              "</table>\n",
              "</div>"
            ],
            "text/plain": [
              "   num           date_time  기온(°C)  ...  일조(hr, 3시간)  비전기냉방설비운영  태양광보유\n",
              "0    1 2020-08-25 00:00:00    27.8  ...          0.0        NaN    NaN\n",
              "1    1 2020-08-25 01:00:00     NaN  ...          NaN        NaN    NaN\n",
              "2    1 2020-08-25 02:00:00     NaN  ...          NaN        NaN    NaN\n",
              "3    1 2020-08-25 03:00:00    27.3  ...          0.0        NaN    NaN\n",
              "4    1 2020-08-25 04:00:00     NaN  ...          NaN        NaN    NaN\n",
              "\n",
              "[5 rows x 9 columns]"
            ]
          },
          "metadata": {
            "tags": []
          },
          "execution_count": 9
        }
      ]
    },
    {
      "cell_type": "markdown",
      "metadata": {
        "id": "m-hiO3Eik6tg"
      },
      "source": [
        "## Preprocess"
      ]
    },
    {
      "cell_type": "code",
      "metadata": {
        "id": "XMjdE3p2j-FB"
      },
      "source": [
        "train['year'] = train['date_time'].dt.year\n",
        "train['month'] = train['date_time'].dt.month\n",
        "train['day'] = train['date_time'].dt.day\n",
        "train['hour'] = train['date_time'].dt.hour\n",
        "train['min'] = train['date_time'].dt.minute\n",
        "train['sec'] = train['date_time'].dt.second\n",
        "train['day_of_week'] = train['date_time'].dt.dayofweek"
      ],
      "execution_count": 10,
      "outputs": []
    },
    {
      "cell_type": "code",
      "metadata": {
        "id": "uImV27_KksNx"
      },
      "source": [
        "test['year'] = test['date_time'].dt.year\n",
        "test['month'] = test['date_time'].dt.month\n",
        "test['day'] = test['date_time'].dt.day\n",
        "test['hour'] = test['date_time'].dt.hour\n",
        "test['min'] = test['date_time'].dt.minute\n",
        "test['sec'] = test['date_time'].dt.second\n",
        "test['day_of_week'] = test['date_time'].dt.dayofweek"
      ],
      "execution_count": 11,
      "outputs": []
    },
    {
      "cell_type": "code",
      "metadata": {
        "colab": {
          "base_uri": "https://localhost:8080/"
        },
        "id": "A3CDBEsLmibh",
        "outputId": "18be670c-0155-465f-d7d6-ba49e530b97f"
      },
      "source": [
        "train.info()"
      ],
      "execution_count": 12,
      "outputs": [
        {
          "output_type": "stream",
          "text": [
            "<class 'pandas.core.frame.DataFrame'>\n",
            "RangeIndex: 122400 entries, 0 to 122399\n",
            "Data columns (total 17 columns):\n",
            " #   Column       Non-Null Count   Dtype         \n",
            "---  ------       --------------   -----         \n",
            " 0   num          122400 non-null  int64         \n",
            " 1   date_time    122400 non-null  datetime64[ns]\n",
            " 2   전력사용량(kWh)   122400 non-null  float64       \n",
            " 3   기온(°C)       122400 non-null  float64       \n",
            " 4   풍속(m/s)      122400 non-null  float64       \n",
            " 5   습도(%)        122400 non-null  float64       \n",
            " 6   강수량(mm)      122400 non-null  float64       \n",
            " 7   일조(hr)       122400 non-null  float64       \n",
            " 8   비전기냉방설비운영    122400 non-null  float64       \n",
            " 9   태양광보유        122400 non-null  float64       \n",
            " 10  year         122400 non-null  int64         \n",
            " 11  month        122400 non-null  int64         \n",
            " 12  day          122400 non-null  int64         \n",
            " 13  hour         122400 non-null  int64         \n",
            " 14  min          122400 non-null  int64         \n",
            " 15  sec          122400 non-null  int64         \n",
            " 16  day_of_week  122400 non-null  int64         \n",
            "dtypes: datetime64[ns](1), float64(8), int64(8)\n",
            "memory usage: 15.9 MB\n"
          ],
          "name": "stdout"
        }
      ]
    },
    {
      "cell_type": "code",
      "metadata": {
        "id": "lrthfk-fk_Eh"
      },
      "source": [
        "def days_of_week (day):\n",
        "  if   day == 0:\n",
        "    return 'Mon'\n",
        "  elif day == 1:\n",
        "    return 'Tue'\n",
        "  elif day == 2:\n",
        "    return 'Wed'\n",
        "  elif day == 3:\n",
        "    return 'Thur'\n",
        "  elif day == 4:\n",
        "    return 'Fri'\n",
        "  elif day == 5:\n",
        "    return 'Sat'\n",
        "  elif day == 6:\n",
        "    return 'Sun'\n",
        "  else:\n",
        "    return 'err'\n",
        "\n",
        "\n",
        "# 주말 여부\n",
        "def weekend(x):\n",
        "    if x.dayofweek in [5, 6]:\n",
        "        return 1\n",
        "    else: \n",
        "        return 0\n",
        "\n",
        "\n",
        "train['dow'] = train['day_of_week'].apply(days_of_week)\n",
        "test['dow'] = test['day_of_week'].apply(days_of_week)\n",
        "\n",
        "train['weekday'] = train['date_time'].apply(weekend)\n",
        "train['weekend'] = train['date_time'].apply(weekend)\n",
        "test['weekday'] = test['date_time'].apply(weekend)\n",
        "test['weekend'] = test['date_time'].apply(weekend)"
      ],
      "execution_count": 39,
      "outputs": []
    },
    {
      "cell_type": "code",
      "metadata": {
        "colab": {
          "base_uri": "https://localhost:8080/",
          "height": 204
        },
        "id": "U8x9dFIemEad",
        "outputId": "7f198857-f034-4cf3-ebdd-9c15a69e60e5"
      },
      "source": [
        "train.head()"
      ],
      "execution_count": 40,
      "outputs": [
        {
          "output_type": "execute_result",
          "data": {
            "text/html": [
              "<div>\n",
              "<style scoped>\n",
              "    .dataframe tbody tr th:only-of-type {\n",
              "        vertical-align: middle;\n",
              "    }\n",
              "\n",
              "    .dataframe tbody tr th {\n",
              "        vertical-align: top;\n",
              "    }\n",
              "\n",
              "    .dataframe thead th {\n",
              "        text-align: right;\n",
              "    }\n",
              "</style>\n",
              "<table border=\"1\" class=\"dataframe\">\n",
              "  <thead>\n",
              "    <tr style=\"text-align: right;\">\n",
              "      <th></th>\n",
              "      <th>num</th>\n",
              "      <th>date_time</th>\n",
              "      <th>전력사용량(kWh)</th>\n",
              "      <th>기온(°C)</th>\n",
              "      <th>풍속(m/s)</th>\n",
              "      <th>습도(%)</th>\n",
              "      <th>강수량(mm)</th>\n",
              "      <th>일조(hr)</th>\n",
              "      <th>비전기냉방설비운영</th>\n",
              "      <th>태양광보유</th>\n",
              "      <th>year</th>\n",
              "      <th>month</th>\n",
              "      <th>day</th>\n",
              "      <th>hour</th>\n",
              "      <th>min</th>\n",
              "      <th>sec</th>\n",
              "      <th>day_of_week</th>\n",
              "      <th>dow</th>\n",
              "      <th>weekday</th>\n",
              "      <th>불쾌지수</th>\n",
              "      <th>weekend</th>\n",
              "    </tr>\n",
              "  </thead>\n",
              "  <tbody>\n",
              "    <tr>\n",
              "      <th>0</th>\n",
              "      <td>1</td>\n",
              "      <td>2020-06-01 00:00:00</td>\n",
              "      <td>8179.056</td>\n",
              "      <td>17.6</td>\n",
              "      <td>2.5</td>\n",
              "      <td>92.0</td>\n",
              "      <td>0.8</td>\n",
              "      <td>0.0</td>\n",
              "      <td>0.0</td>\n",
              "      <td>0.0</td>\n",
              "      <td>2020</td>\n",
              "      <td>6</td>\n",
              "      <td>1</td>\n",
              "      <td>0</td>\n",
              "      <td>0</td>\n",
              "      <td>0</td>\n",
              "      <td>0</td>\n",
              "      <td>Mon</td>\n",
              "      <td>0</td>\n",
              "      <td>63.43008</td>\n",
              "      <td>0</td>\n",
              "    </tr>\n",
              "    <tr>\n",
              "      <th>1</th>\n",
              "      <td>1</td>\n",
              "      <td>2020-06-01 01:00:00</td>\n",
              "      <td>8135.640</td>\n",
              "      <td>17.7</td>\n",
              "      <td>2.9</td>\n",
              "      <td>91.0</td>\n",
              "      <td>0.3</td>\n",
              "      <td>0.0</td>\n",
              "      <td>0.0</td>\n",
              "      <td>0.0</td>\n",
              "      <td>2020</td>\n",
              "      <td>6</td>\n",
              "      <td>1</td>\n",
              "      <td>1</td>\n",
              "      <td>0</td>\n",
              "      <td>0</td>\n",
              "      <td>0</td>\n",
              "      <td>Mon</td>\n",
              "      <td>0</td>\n",
              "      <td>63.56993</td>\n",
              "      <td>0</td>\n",
              "    </tr>\n",
              "    <tr>\n",
              "      <th>2</th>\n",
              "      <td>1</td>\n",
              "      <td>2020-06-01 02:00:00</td>\n",
              "      <td>8107.128</td>\n",
              "      <td>17.5</td>\n",
              "      <td>3.2</td>\n",
              "      <td>91.0</td>\n",
              "      <td>0.0</td>\n",
              "      <td>0.0</td>\n",
              "      <td>0.0</td>\n",
              "      <td>0.0</td>\n",
              "      <td>2020</td>\n",
              "      <td>6</td>\n",
              "      <td>1</td>\n",
              "      <td>2</td>\n",
              "      <td>0</td>\n",
              "      <td>0</td>\n",
              "      <td>0</td>\n",
              "      <td>Mon</td>\n",
              "      <td>0</td>\n",
              "      <td>63.22775</td>\n",
              "      <td>0</td>\n",
              "    </tr>\n",
              "    <tr>\n",
              "      <th>3</th>\n",
              "      <td>1</td>\n",
              "      <td>2020-06-01 03:00:00</td>\n",
              "      <td>8048.808</td>\n",
              "      <td>17.1</td>\n",
              "      <td>3.2</td>\n",
              "      <td>91.0</td>\n",
              "      <td>0.0</td>\n",
              "      <td>0.0</td>\n",
              "      <td>0.0</td>\n",
              "      <td>0.0</td>\n",
              "      <td>2020</td>\n",
              "      <td>6</td>\n",
              "      <td>1</td>\n",
              "      <td>3</td>\n",
              "      <td>0</td>\n",
              "      <td>0</td>\n",
              "      <td>0</td>\n",
              "      <td>Mon</td>\n",
              "      <td>0</td>\n",
              "      <td>62.54339</td>\n",
              "      <td>0</td>\n",
              "    </tr>\n",
              "    <tr>\n",
              "      <th>4</th>\n",
              "      <td>1</td>\n",
              "      <td>2020-06-01 04:00:00</td>\n",
              "      <td>8043.624</td>\n",
              "      <td>17.0</td>\n",
              "      <td>3.3</td>\n",
              "      <td>92.0</td>\n",
              "      <td>0.0</td>\n",
              "      <td>0.0</td>\n",
              "      <td>0.0</td>\n",
              "      <td>0.0</td>\n",
              "      <td>2020</td>\n",
              "      <td>6</td>\n",
              "      <td>1</td>\n",
              "      <td>4</td>\n",
              "      <td>0</td>\n",
              "      <td>0</td>\n",
              "      <td>0</td>\n",
              "      <td>Mon</td>\n",
              "      <td>0</td>\n",
              "      <td>62.39760</td>\n",
              "      <td>0</td>\n",
              "    </tr>\n",
              "  </tbody>\n",
              "</table>\n",
              "</div>"
            ],
            "text/plain": [
              "   num           date_time  전력사용량(kWh)  기온(°C)  ...  dow  weekday      불쾌지수  weekend\n",
              "0    1 2020-06-01 00:00:00    8179.056    17.6  ...  Mon        0  63.43008        0\n",
              "1    1 2020-06-01 01:00:00    8135.640    17.7  ...  Mon        0  63.56993        0\n",
              "2    1 2020-06-01 02:00:00    8107.128    17.5  ...  Mon        0  63.22775        0\n",
              "3    1 2020-06-01 03:00:00    8048.808    17.1  ...  Mon        0  62.54339        0\n",
              "4    1 2020-06-01 04:00:00    8043.624    17.0  ...  Mon        0  62.39760        0\n",
              "\n",
              "[5 rows x 21 columns]"
            ]
          },
          "metadata": {
            "tags": []
          },
          "execution_count": 40
        }
      ]
    },
    {
      "cell_type": "code",
      "metadata": {
        "colab": {
          "base_uri": "https://localhost:8080/",
          "height": 204
        },
        "id": "j840O9fJl8PY",
        "outputId": "82a9d974-39fc-411c-e15b-46937e0cca30"
      },
      "source": [
        "train[['day_of_week', 'dow']].head()"
      ],
      "execution_count": 41,
      "outputs": [
        {
          "output_type": "execute_result",
          "data": {
            "text/html": [
              "<div>\n",
              "<style scoped>\n",
              "    .dataframe tbody tr th:only-of-type {\n",
              "        vertical-align: middle;\n",
              "    }\n",
              "\n",
              "    .dataframe tbody tr th {\n",
              "        vertical-align: top;\n",
              "    }\n",
              "\n",
              "    .dataframe thead th {\n",
              "        text-align: right;\n",
              "    }\n",
              "</style>\n",
              "<table border=\"1\" class=\"dataframe\">\n",
              "  <thead>\n",
              "    <tr style=\"text-align: right;\">\n",
              "      <th></th>\n",
              "      <th>day_of_week</th>\n",
              "      <th>dow</th>\n",
              "    </tr>\n",
              "  </thead>\n",
              "  <tbody>\n",
              "    <tr>\n",
              "      <th>0</th>\n",
              "      <td>0</td>\n",
              "      <td>Mon</td>\n",
              "    </tr>\n",
              "    <tr>\n",
              "      <th>1</th>\n",
              "      <td>0</td>\n",
              "      <td>Mon</td>\n",
              "    </tr>\n",
              "    <tr>\n",
              "      <th>2</th>\n",
              "      <td>0</td>\n",
              "      <td>Mon</td>\n",
              "    </tr>\n",
              "    <tr>\n",
              "      <th>3</th>\n",
              "      <td>0</td>\n",
              "      <td>Mon</td>\n",
              "    </tr>\n",
              "    <tr>\n",
              "      <th>4</th>\n",
              "      <td>0</td>\n",
              "      <td>Mon</td>\n",
              "    </tr>\n",
              "  </tbody>\n",
              "</table>\n",
              "</div>"
            ],
            "text/plain": [
              "   day_of_week  dow\n",
              "0            0  Mon\n",
              "1            0  Mon\n",
              "2            0  Mon\n",
              "3            0  Mon\n",
              "4            0  Mon"
            ]
          },
          "metadata": {
            "tags": []
          },
          "execution_count": 41
        }
      ]
    },
    {
      "cell_type": "code",
      "metadata": {
        "colab": {
          "base_uri": "https://localhost:8080/",
          "height": 204
        },
        "id": "XRAeDHzymy9v",
        "outputId": "fd689760-c473-41f7-b8d8-1d0183cbd592"
      },
      "source": [
        "test[['day_of_week','dow']].head()"
      ],
      "execution_count": 42,
      "outputs": [
        {
          "output_type": "execute_result",
          "data": {
            "text/html": [
              "<div>\n",
              "<style scoped>\n",
              "    .dataframe tbody tr th:only-of-type {\n",
              "        vertical-align: middle;\n",
              "    }\n",
              "\n",
              "    .dataframe tbody tr th {\n",
              "        vertical-align: top;\n",
              "    }\n",
              "\n",
              "    .dataframe thead th {\n",
              "        text-align: right;\n",
              "    }\n",
              "</style>\n",
              "<table border=\"1\" class=\"dataframe\">\n",
              "  <thead>\n",
              "    <tr style=\"text-align: right;\">\n",
              "      <th></th>\n",
              "      <th>day_of_week</th>\n",
              "      <th>dow</th>\n",
              "    </tr>\n",
              "  </thead>\n",
              "  <tbody>\n",
              "    <tr>\n",
              "      <th>0</th>\n",
              "      <td>1</td>\n",
              "      <td>Tue</td>\n",
              "    </tr>\n",
              "    <tr>\n",
              "      <th>1</th>\n",
              "      <td>1</td>\n",
              "      <td>Tue</td>\n",
              "    </tr>\n",
              "    <tr>\n",
              "      <th>2</th>\n",
              "      <td>1</td>\n",
              "      <td>Tue</td>\n",
              "    </tr>\n",
              "    <tr>\n",
              "      <th>3</th>\n",
              "      <td>1</td>\n",
              "      <td>Tue</td>\n",
              "    </tr>\n",
              "    <tr>\n",
              "      <th>4</th>\n",
              "      <td>1</td>\n",
              "      <td>Tue</td>\n",
              "    </tr>\n",
              "  </tbody>\n",
              "</table>\n",
              "</div>"
            ],
            "text/plain": [
              "   day_of_week  dow\n",
              "0            1  Tue\n",
              "1            1  Tue\n",
              "2            1  Tue\n",
              "3            1  Tue\n",
              "4            1  Tue"
            ]
          },
          "metadata": {
            "tags": []
          },
          "execution_count": 42
        }
      ]
    },
    {
      "cell_type": "markdown",
      "metadata": {
        "id": "lr9fJLofwV2n"
      },
      "source": [
        "### Missing Value"
      ]
    },
    {
      "cell_type": "code",
      "metadata": {
        "id": "Zki-PfenpBpc"
      },
      "source": [
        "building_info = train[['num','비전기냉방설비운영', '태양광보유']].drop_duplicates()\n",
        "test.drop(columns=['비전기냉방설비운영', '태양광보유'], inplace = True)\n",
        "test = pd.merge(test, building_info, on= 'num')"
      ],
      "execution_count": 43,
      "outputs": []
    },
    {
      "cell_type": "code",
      "metadata": {
        "colab": {
          "base_uri": "https://localhost:8080/"
        },
        "id": "Dtg2ynyXvjLe",
        "outputId": "733ac9d7-b47e-4f06-eb3e-428292a32ee2"
      },
      "source": [
        "test.isnull().sum()"
      ],
      "execution_count": 44,
      "outputs": [
        {
          "output_type": "execute_result",
          "data": {
            "text/plain": [
              "num             0\n",
              "date_time       0\n",
              "기온(°C)          0\n",
              "풍속(m/s)         0\n",
              "습도(%)           0\n",
              "강수량(mm, 6시간)    0\n",
              "일조(hr, 3시간)     0\n",
              "year            0\n",
              "month           0\n",
              "day             0\n",
              "hour            0\n",
              "min             0\n",
              "sec             0\n",
              "day_of_week     0\n",
              "dow             0\n",
              "weekday         0\n",
              "불쾌지수            0\n",
              "weekend         0\n",
              "비전기냉방설비운영       0\n",
              "태양광보유           0\n",
              "dtype: int64"
            ]
          },
          "metadata": {
            "tags": []
          },
          "execution_count": 44
        }
      ]
    },
    {
      "cell_type": "code",
      "metadata": {
        "colab": {
          "base_uri": "https://localhost:8080/",
          "height": 204
        },
        "id": "G-jNgPgrqYxR",
        "outputId": "e1a9c008-102e-4cb5-dcca-5a6ed1d8ae46"
      },
      "source": [
        "train.head()"
      ],
      "execution_count": 45,
      "outputs": [
        {
          "output_type": "execute_result",
          "data": {
            "text/html": [
              "<div>\n",
              "<style scoped>\n",
              "    .dataframe tbody tr th:only-of-type {\n",
              "        vertical-align: middle;\n",
              "    }\n",
              "\n",
              "    .dataframe tbody tr th {\n",
              "        vertical-align: top;\n",
              "    }\n",
              "\n",
              "    .dataframe thead th {\n",
              "        text-align: right;\n",
              "    }\n",
              "</style>\n",
              "<table border=\"1\" class=\"dataframe\">\n",
              "  <thead>\n",
              "    <tr style=\"text-align: right;\">\n",
              "      <th></th>\n",
              "      <th>num</th>\n",
              "      <th>date_time</th>\n",
              "      <th>전력사용량(kWh)</th>\n",
              "      <th>기온(°C)</th>\n",
              "      <th>풍속(m/s)</th>\n",
              "      <th>습도(%)</th>\n",
              "      <th>강수량(mm)</th>\n",
              "      <th>일조(hr)</th>\n",
              "      <th>비전기냉방설비운영</th>\n",
              "      <th>태양광보유</th>\n",
              "      <th>year</th>\n",
              "      <th>month</th>\n",
              "      <th>day</th>\n",
              "      <th>hour</th>\n",
              "      <th>min</th>\n",
              "      <th>sec</th>\n",
              "      <th>day_of_week</th>\n",
              "      <th>dow</th>\n",
              "      <th>weekday</th>\n",
              "      <th>불쾌지수</th>\n",
              "      <th>weekend</th>\n",
              "    </tr>\n",
              "  </thead>\n",
              "  <tbody>\n",
              "    <tr>\n",
              "      <th>0</th>\n",
              "      <td>1</td>\n",
              "      <td>2020-06-01 00:00:00</td>\n",
              "      <td>8179.056</td>\n",
              "      <td>17.6</td>\n",
              "      <td>2.5</td>\n",
              "      <td>92.0</td>\n",
              "      <td>0.8</td>\n",
              "      <td>0.0</td>\n",
              "      <td>0.0</td>\n",
              "      <td>0.0</td>\n",
              "      <td>2020</td>\n",
              "      <td>6</td>\n",
              "      <td>1</td>\n",
              "      <td>0</td>\n",
              "      <td>0</td>\n",
              "      <td>0</td>\n",
              "      <td>0</td>\n",
              "      <td>Mon</td>\n",
              "      <td>0</td>\n",
              "      <td>63.43008</td>\n",
              "      <td>0</td>\n",
              "    </tr>\n",
              "    <tr>\n",
              "      <th>1</th>\n",
              "      <td>1</td>\n",
              "      <td>2020-06-01 01:00:00</td>\n",
              "      <td>8135.640</td>\n",
              "      <td>17.7</td>\n",
              "      <td>2.9</td>\n",
              "      <td>91.0</td>\n",
              "      <td>0.3</td>\n",
              "      <td>0.0</td>\n",
              "      <td>0.0</td>\n",
              "      <td>0.0</td>\n",
              "      <td>2020</td>\n",
              "      <td>6</td>\n",
              "      <td>1</td>\n",
              "      <td>1</td>\n",
              "      <td>0</td>\n",
              "      <td>0</td>\n",
              "      <td>0</td>\n",
              "      <td>Mon</td>\n",
              "      <td>0</td>\n",
              "      <td>63.56993</td>\n",
              "      <td>0</td>\n",
              "    </tr>\n",
              "    <tr>\n",
              "      <th>2</th>\n",
              "      <td>1</td>\n",
              "      <td>2020-06-01 02:00:00</td>\n",
              "      <td>8107.128</td>\n",
              "      <td>17.5</td>\n",
              "      <td>3.2</td>\n",
              "      <td>91.0</td>\n",
              "      <td>0.0</td>\n",
              "      <td>0.0</td>\n",
              "      <td>0.0</td>\n",
              "      <td>0.0</td>\n",
              "      <td>2020</td>\n",
              "      <td>6</td>\n",
              "      <td>1</td>\n",
              "      <td>2</td>\n",
              "      <td>0</td>\n",
              "      <td>0</td>\n",
              "      <td>0</td>\n",
              "      <td>Mon</td>\n",
              "      <td>0</td>\n",
              "      <td>63.22775</td>\n",
              "      <td>0</td>\n",
              "    </tr>\n",
              "    <tr>\n",
              "      <th>3</th>\n",
              "      <td>1</td>\n",
              "      <td>2020-06-01 03:00:00</td>\n",
              "      <td>8048.808</td>\n",
              "      <td>17.1</td>\n",
              "      <td>3.2</td>\n",
              "      <td>91.0</td>\n",
              "      <td>0.0</td>\n",
              "      <td>0.0</td>\n",
              "      <td>0.0</td>\n",
              "      <td>0.0</td>\n",
              "      <td>2020</td>\n",
              "      <td>6</td>\n",
              "      <td>1</td>\n",
              "      <td>3</td>\n",
              "      <td>0</td>\n",
              "      <td>0</td>\n",
              "      <td>0</td>\n",
              "      <td>Mon</td>\n",
              "      <td>0</td>\n",
              "      <td>62.54339</td>\n",
              "      <td>0</td>\n",
              "    </tr>\n",
              "    <tr>\n",
              "      <th>4</th>\n",
              "      <td>1</td>\n",
              "      <td>2020-06-01 04:00:00</td>\n",
              "      <td>8043.624</td>\n",
              "      <td>17.0</td>\n",
              "      <td>3.3</td>\n",
              "      <td>92.0</td>\n",
              "      <td>0.0</td>\n",
              "      <td>0.0</td>\n",
              "      <td>0.0</td>\n",
              "      <td>0.0</td>\n",
              "      <td>2020</td>\n",
              "      <td>6</td>\n",
              "      <td>1</td>\n",
              "      <td>4</td>\n",
              "      <td>0</td>\n",
              "      <td>0</td>\n",
              "      <td>0</td>\n",
              "      <td>Mon</td>\n",
              "      <td>0</td>\n",
              "      <td>62.39760</td>\n",
              "      <td>0</td>\n",
              "    </tr>\n",
              "  </tbody>\n",
              "</table>\n",
              "</div>"
            ],
            "text/plain": [
              "   num           date_time  전력사용량(kWh)  기온(°C)  ...  dow  weekday      불쾌지수  weekend\n",
              "0    1 2020-06-01 00:00:00    8179.056    17.6  ...  Mon        0  63.43008        0\n",
              "1    1 2020-06-01 01:00:00    8135.640    17.7  ...  Mon        0  63.56993        0\n",
              "2    1 2020-06-01 02:00:00    8107.128    17.5  ...  Mon        0  63.22775        0\n",
              "3    1 2020-06-01 03:00:00    8048.808    17.1  ...  Mon        0  62.54339        0\n",
              "4    1 2020-06-01 04:00:00    8043.624    17.0  ...  Mon        0  62.39760        0\n",
              "\n",
              "[5 rows x 21 columns]"
            ]
          },
          "metadata": {
            "tags": []
          },
          "execution_count": 45
        }
      ]
    },
    {
      "cell_type": "code",
      "metadata": {
        "colab": {
          "base_uri": "https://localhost:8080/",
          "height": 204
        },
        "id": "Tc9-uXO_q4p3",
        "outputId": "bdbba719-d7f6-4c7c-e30c-dea2d62a824a"
      },
      "source": [
        "test.head()"
      ],
      "execution_count": 46,
      "outputs": [
        {
          "output_type": "execute_result",
          "data": {
            "text/html": [
              "<div>\n",
              "<style scoped>\n",
              "    .dataframe tbody tr th:only-of-type {\n",
              "        vertical-align: middle;\n",
              "    }\n",
              "\n",
              "    .dataframe tbody tr th {\n",
              "        vertical-align: top;\n",
              "    }\n",
              "\n",
              "    .dataframe thead th {\n",
              "        text-align: right;\n",
              "    }\n",
              "</style>\n",
              "<table border=\"1\" class=\"dataframe\">\n",
              "  <thead>\n",
              "    <tr style=\"text-align: right;\">\n",
              "      <th></th>\n",
              "      <th>num</th>\n",
              "      <th>date_time</th>\n",
              "      <th>기온(°C)</th>\n",
              "      <th>풍속(m/s)</th>\n",
              "      <th>습도(%)</th>\n",
              "      <th>강수량(mm, 6시간)</th>\n",
              "      <th>일조(hr, 3시간)</th>\n",
              "      <th>year</th>\n",
              "      <th>month</th>\n",
              "      <th>day</th>\n",
              "      <th>hour</th>\n",
              "      <th>min</th>\n",
              "      <th>sec</th>\n",
              "      <th>day_of_week</th>\n",
              "      <th>dow</th>\n",
              "      <th>weekday</th>\n",
              "      <th>불쾌지수</th>\n",
              "      <th>weekend</th>\n",
              "      <th>비전기냉방설비운영</th>\n",
              "      <th>태양광보유</th>\n",
              "    </tr>\n",
              "  </thead>\n",
              "  <tbody>\n",
              "    <tr>\n",
              "      <th>0</th>\n",
              "      <td>1</td>\n",
              "      <td>2020-08-25 00:00:00</td>\n",
              "      <td>27.800000</td>\n",
              "      <td>1.500000</td>\n",
              "      <td>74.000000</td>\n",
              "      <td>0.0</td>\n",
              "      <td>0.0</td>\n",
              "      <td>2020</td>\n",
              "      <td>8</td>\n",
              "      <td>25</td>\n",
              "      <td>0</td>\n",
              "      <td>0</td>\n",
              "      <td>0</td>\n",
              "      <td>1</td>\n",
              "      <td>Tue</td>\n",
              "      <td>0</td>\n",
              "      <td>78.602280</td>\n",
              "      <td>0</td>\n",
              "      <td>0.0</td>\n",
              "      <td>0.0</td>\n",
              "    </tr>\n",
              "    <tr>\n",
              "      <th>1</th>\n",
              "      <td>1</td>\n",
              "      <td>2020-08-25 01:00:00</td>\n",
              "      <td>27.806027</td>\n",
              "      <td>1.366667</td>\n",
              "      <td>75.017358</td>\n",
              "      <td>0.0</td>\n",
              "      <td>0.0</td>\n",
              "      <td>2020</td>\n",
              "      <td>8</td>\n",
              "      <td>25</td>\n",
              "      <td>1</td>\n",
              "      <td>0</td>\n",
              "      <td>0</td>\n",
              "      <td>1</td>\n",
              "      <td>Tue</td>\n",
              "      <td>0</td>\n",
              "      <td>78.746152</td>\n",
              "      <td>0</td>\n",
              "      <td>0.0</td>\n",
              "      <td>0.0</td>\n",
              "    </tr>\n",
              "    <tr>\n",
              "      <th>2</th>\n",
              "      <td>1</td>\n",
              "      <td>2020-08-25 02:00:00</td>\n",
              "      <td>27.639360</td>\n",
              "      <td>1.233333</td>\n",
              "      <td>76.350691</td>\n",
              "      <td>0.0</td>\n",
              "      <td>0.0</td>\n",
              "      <td>2020</td>\n",
              "      <td>8</td>\n",
              "      <td>25</td>\n",
              "      <td>2</td>\n",
              "      <td>0</td>\n",
              "      <td>0</td>\n",
              "      <td>1</td>\n",
              "      <td>Tue</td>\n",
              "      <td>0</td>\n",
              "      <td>78.661547</td>\n",
              "      <td>0</td>\n",
              "      <td>0.0</td>\n",
              "      <td>0.0</td>\n",
              "    </tr>\n",
              "    <tr>\n",
              "      <th>3</th>\n",
              "      <td>1</td>\n",
              "      <td>2020-08-25 03:00:00</td>\n",
              "      <td>27.300000</td>\n",
              "      <td>1.100000</td>\n",
              "      <td>78.000000</td>\n",
              "      <td>0.0</td>\n",
              "      <td>0.0</td>\n",
              "      <td>2020</td>\n",
              "      <td>8</td>\n",
              "      <td>25</td>\n",
              "      <td>3</td>\n",
              "      <td>0</td>\n",
              "      <td>0</td>\n",
              "      <td>1</td>\n",
              "      <td>Tue</td>\n",
              "      <td>0</td>\n",
              "      <td>78.340060</td>\n",
              "      <td>0</td>\n",
              "      <td>0.0</td>\n",
              "      <td>0.0</td>\n",
              "    </tr>\n",
              "    <tr>\n",
              "      <th>4</th>\n",
              "      <td>1</td>\n",
              "      <td>2020-08-25 04:00:00</td>\n",
              "      <td>26.787947</td>\n",
              "      <td>1.166667</td>\n",
              "      <td>79.965285</td>\n",
              "      <td>0.0</td>\n",
              "      <td>0.0</td>\n",
              "      <td>2020</td>\n",
              "      <td>8</td>\n",
              "      <td>25</td>\n",
              "      <td>4</td>\n",
              "      <td>0</td>\n",
              "      <td>0</td>\n",
              "      <td>1</td>\n",
              "      <td>Tue</td>\n",
              "      <td>0</td>\n",
              "      <td>77.770049</td>\n",
              "      <td>0</td>\n",
              "      <td>0.0</td>\n",
              "      <td>0.0</td>\n",
              "    </tr>\n",
              "  </tbody>\n",
              "</table>\n",
              "</div>"
            ],
            "text/plain": [
              "   num           date_time     기온(°C)  ...  weekend  비전기냉방설비운영  태양광보유\n",
              "0    1 2020-08-25 00:00:00  27.800000  ...        0        0.0    0.0\n",
              "1    1 2020-08-25 01:00:00  27.806027  ...        0        0.0    0.0\n",
              "2    1 2020-08-25 02:00:00  27.639360  ...        0        0.0    0.0\n",
              "3    1 2020-08-25 03:00:00  27.300000  ...        0        0.0    0.0\n",
              "4    1 2020-08-25 04:00:00  26.787947  ...        0        0.0    0.0\n",
              "\n",
              "[5 rows x 20 columns]"
            ]
          },
          "metadata": {
            "tags": []
          },
          "execution_count": 46
        }
      ]
    },
    {
      "cell_type": "code",
      "metadata": {
        "id": "jzPBJMHfrEjw"
      },
      "source": [
        "train['불쾌지수'] = 1.8*train['기온(°C)'] - 0.55*(1-(train['습도(%)']/100))*(1.8*train['기온(°C)']-26) + 32\n",
        "test['불쾌지수'] = 1.8*test['기온(°C)'] - 0.55*(1-(test['습도(%)']/100))*(1.8*test['기온(°C)']-26) + 32"
      ],
      "execution_count": 47,
      "outputs": []
    },
    {
      "cell_type": "code",
      "metadata": {
        "colab": {
          "base_uri": "https://localhost:8080/"
        },
        "id": "nJ5RGtCZm4aE",
        "outputId": "3c22f682-89d8-4553-aec1-6b2dac9398c4"
      },
      "source": [
        "train['일조(hr)'].value_counts()"
      ],
      "execution_count": 48,
      "outputs": [
        {
          "output_type": "execute_result",
          "data": {
            "text/plain": [
              "0.0    85394\n",
              "1.0    15137\n",
              "0.1     3376\n",
              "0.9     3361\n",
              "0.8     2385\n",
              "0.7     2306\n",
              "0.2     2228\n",
              "0.3     2216\n",
              "0.6     2083\n",
              "0.4     2024\n",
              "0.5     1890\n",
              "Name: 일조(hr), dtype: int64"
            ]
          },
          "metadata": {
            "tags": []
          },
          "execution_count": 48
        }
      ]
    },
    {
      "cell_type": "code",
      "metadata": {
        "colab": {
          "base_uri": "https://localhost:8080/",
          "height": 825
        },
        "id": "vDpoUyKbdMZm",
        "outputId": "0e1070ba-709f-49a9-fbc5-9cf128e43542"
      },
      "source": [
        "test[['num','date_time','일조(hr, 3시간)']].head(25)"
      ],
      "execution_count": 49,
      "outputs": [
        {
          "output_type": "execute_result",
          "data": {
            "text/html": [
              "<div>\n",
              "<style scoped>\n",
              "    .dataframe tbody tr th:only-of-type {\n",
              "        vertical-align: middle;\n",
              "    }\n",
              "\n",
              "    .dataframe tbody tr th {\n",
              "        vertical-align: top;\n",
              "    }\n",
              "\n",
              "    .dataframe thead th {\n",
              "        text-align: right;\n",
              "    }\n",
              "</style>\n",
              "<table border=\"1\" class=\"dataframe\">\n",
              "  <thead>\n",
              "    <tr style=\"text-align: right;\">\n",
              "      <th></th>\n",
              "      <th>num</th>\n",
              "      <th>date_time</th>\n",
              "      <th>일조(hr, 3시간)</th>\n",
              "    </tr>\n",
              "  </thead>\n",
              "  <tbody>\n",
              "    <tr>\n",
              "      <th>0</th>\n",
              "      <td>1</td>\n",
              "      <td>2020-08-25 00:00:00</td>\n",
              "      <td>0.0</td>\n",
              "    </tr>\n",
              "    <tr>\n",
              "      <th>1</th>\n",
              "      <td>1</td>\n",
              "      <td>2020-08-25 01:00:00</td>\n",
              "      <td>0.0</td>\n",
              "    </tr>\n",
              "    <tr>\n",
              "      <th>2</th>\n",
              "      <td>1</td>\n",
              "      <td>2020-08-25 02:00:00</td>\n",
              "      <td>0.0</td>\n",
              "    </tr>\n",
              "    <tr>\n",
              "      <th>3</th>\n",
              "      <td>1</td>\n",
              "      <td>2020-08-25 03:00:00</td>\n",
              "      <td>0.0</td>\n",
              "    </tr>\n",
              "    <tr>\n",
              "      <th>4</th>\n",
              "      <td>1</td>\n",
              "      <td>2020-08-25 04:00:00</td>\n",
              "      <td>0.0</td>\n",
              "    </tr>\n",
              "    <tr>\n",
              "      <th>5</th>\n",
              "      <td>1</td>\n",
              "      <td>2020-08-25 05:00:00</td>\n",
              "      <td>0.0</td>\n",
              "    </tr>\n",
              "    <tr>\n",
              "      <th>6</th>\n",
              "      <td>1</td>\n",
              "      <td>2020-08-25 06:00:00</td>\n",
              "      <td>0.0</td>\n",
              "    </tr>\n",
              "    <tr>\n",
              "      <th>7</th>\n",
              "      <td>1</td>\n",
              "      <td>2020-08-25 07:00:00</td>\n",
              "      <td>0.0</td>\n",
              "    </tr>\n",
              "    <tr>\n",
              "      <th>8</th>\n",
              "      <td>1</td>\n",
              "      <td>2020-08-25 08:00:00</td>\n",
              "      <td>0.0</td>\n",
              "    </tr>\n",
              "    <tr>\n",
              "      <th>9</th>\n",
              "      <td>1</td>\n",
              "      <td>2020-08-25 09:00:00</td>\n",
              "      <td>1.1</td>\n",
              "    </tr>\n",
              "    <tr>\n",
              "      <th>10</th>\n",
              "      <td>1</td>\n",
              "      <td>2020-08-25 10:00:00</td>\n",
              "      <td>1.1</td>\n",
              "    </tr>\n",
              "    <tr>\n",
              "      <th>11</th>\n",
              "      <td>1</td>\n",
              "      <td>2020-08-25 11:00:00</td>\n",
              "      <td>1.1</td>\n",
              "    </tr>\n",
              "    <tr>\n",
              "      <th>12</th>\n",
              "      <td>1</td>\n",
              "      <td>2020-08-25 12:00:00</td>\n",
              "      <td>3.0</td>\n",
              "    </tr>\n",
              "    <tr>\n",
              "      <th>13</th>\n",
              "      <td>1</td>\n",
              "      <td>2020-08-25 13:00:00</td>\n",
              "      <td>3.0</td>\n",
              "    </tr>\n",
              "    <tr>\n",
              "      <th>14</th>\n",
              "      <td>1</td>\n",
              "      <td>2020-08-25 14:00:00</td>\n",
              "      <td>3.0</td>\n",
              "    </tr>\n",
              "    <tr>\n",
              "      <th>15</th>\n",
              "      <td>1</td>\n",
              "      <td>2020-08-25 15:00:00</td>\n",
              "      <td>2.7</td>\n",
              "    </tr>\n",
              "    <tr>\n",
              "      <th>16</th>\n",
              "      <td>1</td>\n",
              "      <td>2020-08-25 16:00:00</td>\n",
              "      <td>2.7</td>\n",
              "    </tr>\n",
              "    <tr>\n",
              "      <th>17</th>\n",
              "      <td>1</td>\n",
              "      <td>2020-08-25 17:00:00</td>\n",
              "      <td>2.7</td>\n",
              "    </tr>\n",
              "    <tr>\n",
              "      <th>18</th>\n",
              "      <td>1</td>\n",
              "      <td>2020-08-25 18:00:00</td>\n",
              "      <td>0.8</td>\n",
              "    </tr>\n",
              "    <tr>\n",
              "      <th>19</th>\n",
              "      <td>1</td>\n",
              "      <td>2020-08-25 19:00:00</td>\n",
              "      <td>0.8</td>\n",
              "    </tr>\n",
              "    <tr>\n",
              "      <th>20</th>\n",
              "      <td>1</td>\n",
              "      <td>2020-08-25 20:00:00</td>\n",
              "      <td>0.8</td>\n",
              "    </tr>\n",
              "    <tr>\n",
              "      <th>21</th>\n",
              "      <td>1</td>\n",
              "      <td>2020-08-25 21:00:00</td>\n",
              "      <td>0.0</td>\n",
              "    </tr>\n",
              "    <tr>\n",
              "      <th>22</th>\n",
              "      <td>1</td>\n",
              "      <td>2020-08-25 22:00:00</td>\n",
              "      <td>0.0</td>\n",
              "    </tr>\n",
              "    <tr>\n",
              "      <th>23</th>\n",
              "      <td>1</td>\n",
              "      <td>2020-08-25 23:00:00</td>\n",
              "      <td>0.0</td>\n",
              "    </tr>\n",
              "    <tr>\n",
              "      <th>24</th>\n",
              "      <td>1</td>\n",
              "      <td>2020-08-26 00:00:00</td>\n",
              "      <td>0.0</td>\n",
              "    </tr>\n",
              "  </tbody>\n",
              "</table>\n",
              "</div>"
            ],
            "text/plain": [
              "    num           date_time  일조(hr, 3시간)\n",
              "0     1 2020-08-25 00:00:00          0.0\n",
              "1     1 2020-08-25 01:00:00          0.0\n",
              "2     1 2020-08-25 02:00:00          0.0\n",
              "3     1 2020-08-25 03:00:00          0.0\n",
              "4     1 2020-08-25 04:00:00          0.0\n",
              "5     1 2020-08-25 05:00:00          0.0\n",
              "6     1 2020-08-25 06:00:00          0.0\n",
              "7     1 2020-08-25 07:00:00          0.0\n",
              "8     1 2020-08-25 08:00:00          0.0\n",
              "9     1 2020-08-25 09:00:00          1.1\n",
              "10    1 2020-08-25 10:00:00          1.1\n",
              "11    1 2020-08-25 11:00:00          1.1\n",
              "12    1 2020-08-25 12:00:00          3.0\n",
              "13    1 2020-08-25 13:00:00          3.0\n",
              "14    1 2020-08-25 14:00:00          3.0\n",
              "15    1 2020-08-25 15:00:00          2.7\n",
              "16    1 2020-08-25 16:00:00          2.7\n",
              "17    1 2020-08-25 17:00:00          2.7\n",
              "18    1 2020-08-25 18:00:00          0.8\n",
              "19    1 2020-08-25 19:00:00          0.8\n",
              "20    1 2020-08-25 20:00:00          0.8\n",
              "21    1 2020-08-25 21:00:00          0.0\n",
              "22    1 2020-08-25 22:00:00          0.0\n",
              "23    1 2020-08-25 23:00:00          0.0\n",
              "24    1 2020-08-26 00:00:00          0.0"
            ]
          },
          "metadata": {
            "tags": []
          },
          "execution_count": 49
        }
      ]
    },
    {
      "cell_type": "code",
      "metadata": {
        "id": "AgN8uDAU0aFQ"
      },
      "source": [
        "test['일조(hr, 3시간)'] = test['일조(hr, 3시간)'].interpolate(method='pad')"
      ],
      "execution_count": 50,
      "outputs": []
    },
    {
      "cell_type": "code",
      "metadata": {
        "colab": {
          "base_uri": "https://localhost:8080/",
          "height": 825
        },
        "id": "lHtN3_4X0eBg",
        "outputId": "792854ff-3ea3-4614-f3d1-bee79f9b5ab4"
      },
      "source": [
        "test[['num','date_time','일조(hr, 3시간)']].head(25)"
      ],
      "execution_count": 51,
      "outputs": [
        {
          "output_type": "execute_result",
          "data": {
            "text/html": [
              "<div>\n",
              "<style scoped>\n",
              "    .dataframe tbody tr th:only-of-type {\n",
              "        vertical-align: middle;\n",
              "    }\n",
              "\n",
              "    .dataframe tbody tr th {\n",
              "        vertical-align: top;\n",
              "    }\n",
              "\n",
              "    .dataframe thead th {\n",
              "        text-align: right;\n",
              "    }\n",
              "</style>\n",
              "<table border=\"1\" class=\"dataframe\">\n",
              "  <thead>\n",
              "    <tr style=\"text-align: right;\">\n",
              "      <th></th>\n",
              "      <th>num</th>\n",
              "      <th>date_time</th>\n",
              "      <th>일조(hr, 3시간)</th>\n",
              "    </tr>\n",
              "  </thead>\n",
              "  <tbody>\n",
              "    <tr>\n",
              "      <th>0</th>\n",
              "      <td>1</td>\n",
              "      <td>2020-08-25 00:00:00</td>\n",
              "      <td>0.0</td>\n",
              "    </tr>\n",
              "    <tr>\n",
              "      <th>1</th>\n",
              "      <td>1</td>\n",
              "      <td>2020-08-25 01:00:00</td>\n",
              "      <td>0.0</td>\n",
              "    </tr>\n",
              "    <tr>\n",
              "      <th>2</th>\n",
              "      <td>1</td>\n",
              "      <td>2020-08-25 02:00:00</td>\n",
              "      <td>0.0</td>\n",
              "    </tr>\n",
              "    <tr>\n",
              "      <th>3</th>\n",
              "      <td>1</td>\n",
              "      <td>2020-08-25 03:00:00</td>\n",
              "      <td>0.0</td>\n",
              "    </tr>\n",
              "    <tr>\n",
              "      <th>4</th>\n",
              "      <td>1</td>\n",
              "      <td>2020-08-25 04:00:00</td>\n",
              "      <td>0.0</td>\n",
              "    </tr>\n",
              "    <tr>\n",
              "      <th>5</th>\n",
              "      <td>1</td>\n",
              "      <td>2020-08-25 05:00:00</td>\n",
              "      <td>0.0</td>\n",
              "    </tr>\n",
              "    <tr>\n",
              "      <th>6</th>\n",
              "      <td>1</td>\n",
              "      <td>2020-08-25 06:00:00</td>\n",
              "      <td>0.0</td>\n",
              "    </tr>\n",
              "    <tr>\n",
              "      <th>7</th>\n",
              "      <td>1</td>\n",
              "      <td>2020-08-25 07:00:00</td>\n",
              "      <td>0.0</td>\n",
              "    </tr>\n",
              "    <tr>\n",
              "      <th>8</th>\n",
              "      <td>1</td>\n",
              "      <td>2020-08-25 08:00:00</td>\n",
              "      <td>0.0</td>\n",
              "    </tr>\n",
              "    <tr>\n",
              "      <th>9</th>\n",
              "      <td>1</td>\n",
              "      <td>2020-08-25 09:00:00</td>\n",
              "      <td>1.1</td>\n",
              "    </tr>\n",
              "    <tr>\n",
              "      <th>10</th>\n",
              "      <td>1</td>\n",
              "      <td>2020-08-25 10:00:00</td>\n",
              "      <td>1.1</td>\n",
              "    </tr>\n",
              "    <tr>\n",
              "      <th>11</th>\n",
              "      <td>1</td>\n",
              "      <td>2020-08-25 11:00:00</td>\n",
              "      <td>1.1</td>\n",
              "    </tr>\n",
              "    <tr>\n",
              "      <th>12</th>\n",
              "      <td>1</td>\n",
              "      <td>2020-08-25 12:00:00</td>\n",
              "      <td>3.0</td>\n",
              "    </tr>\n",
              "    <tr>\n",
              "      <th>13</th>\n",
              "      <td>1</td>\n",
              "      <td>2020-08-25 13:00:00</td>\n",
              "      <td>3.0</td>\n",
              "    </tr>\n",
              "    <tr>\n",
              "      <th>14</th>\n",
              "      <td>1</td>\n",
              "      <td>2020-08-25 14:00:00</td>\n",
              "      <td>3.0</td>\n",
              "    </tr>\n",
              "    <tr>\n",
              "      <th>15</th>\n",
              "      <td>1</td>\n",
              "      <td>2020-08-25 15:00:00</td>\n",
              "      <td>2.7</td>\n",
              "    </tr>\n",
              "    <tr>\n",
              "      <th>16</th>\n",
              "      <td>1</td>\n",
              "      <td>2020-08-25 16:00:00</td>\n",
              "      <td>2.7</td>\n",
              "    </tr>\n",
              "    <tr>\n",
              "      <th>17</th>\n",
              "      <td>1</td>\n",
              "      <td>2020-08-25 17:00:00</td>\n",
              "      <td>2.7</td>\n",
              "    </tr>\n",
              "    <tr>\n",
              "      <th>18</th>\n",
              "      <td>1</td>\n",
              "      <td>2020-08-25 18:00:00</td>\n",
              "      <td>0.8</td>\n",
              "    </tr>\n",
              "    <tr>\n",
              "      <th>19</th>\n",
              "      <td>1</td>\n",
              "      <td>2020-08-25 19:00:00</td>\n",
              "      <td>0.8</td>\n",
              "    </tr>\n",
              "    <tr>\n",
              "      <th>20</th>\n",
              "      <td>1</td>\n",
              "      <td>2020-08-25 20:00:00</td>\n",
              "      <td>0.8</td>\n",
              "    </tr>\n",
              "    <tr>\n",
              "      <th>21</th>\n",
              "      <td>1</td>\n",
              "      <td>2020-08-25 21:00:00</td>\n",
              "      <td>0.0</td>\n",
              "    </tr>\n",
              "    <tr>\n",
              "      <th>22</th>\n",
              "      <td>1</td>\n",
              "      <td>2020-08-25 22:00:00</td>\n",
              "      <td>0.0</td>\n",
              "    </tr>\n",
              "    <tr>\n",
              "      <th>23</th>\n",
              "      <td>1</td>\n",
              "      <td>2020-08-25 23:00:00</td>\n",
              "      <td>0.0</td>\n",
              "    </tr>\n",
              "    <tr>\n",
              "      <th>24</th>\n",
              "      <td>1</td>\n",
              "      <td>2020-08-26 00:00:00</td>\n",
              "      <td>0.0</td>\n",
              "    </tr>\n",
              "  </tbody>\n",
              "</table>\n",
              "</div>"
            ],
            "text/plain": [
              "    num           date_time  일조(hr, 3시간)\n",
              "0     1 2020-08-25 00:00:00          0.0\n",
              "1     1 2020-08-25 01:00:00          0.0\n",
              "2     1 2020-08-25 02:00:00          0.0\n",
              "3     1 2020-08-25 03:00:00          0.0\n",
              "4     1 2020-08-25 04:00:00          0.0\n",
              "5     1 2020-08-25 05:00:00          0.0\n",
              "6     1 2020-08-25 06:00:00          0.0\n",
              "7     1 2020-08-25 07:00:00          0.0\n",
              "8     1 2020-08-25 08:00:00          0.0\n",
              "9     1 2020-08-25 09:00:00          1.1\n",
              "10    1 2020-08-25 10:00:00          1.1\n",
              "11    1 2020-08-25 11:00:00          1.1\n",
              "12    1 2020-08-25 12:00:00          3.0\n",
              "13    1 2020-08-25 13:00:00          3.0\n",
              "14    1 2020-08-25 14:00:00          3.0\n",
              "15    1 2020-08-25 15:00:00          2.7\n",
              "16    1 2020-08-25 16:00:00          2.7\n",
              "17    1 2020-08-25 17:00:00          2.7\n",
              "18    1 2020-08-25 18:00:00          0.8\n",
              "19    1 2020-08-25 19:00:00          0.8\n",
              "20    1 2020-08-25 20:00:00          0.8\n",
              "21    1 2020-08-25 21:00:00          0.0\n",
              "22    1 2020-08-25 22:00:00          0.0\n",
              "23    1 2020-08-25 23:00:00          0.0\n",
              "24    1 2020-08-26 00:00:00          0.0"
            ]
          },
          "metadata": {
            "tags": []
          },
          "execution_count": 51
        }
      ]
    },
    {
      "cell_type": "code",
      "metadata": {
        "colab": {
          "base_uri": "https://localhost:8080/",
          "height": 794
        },
        "id": "5MGHuUb10hBp",
        "outputId": "87607fdb-7ec5-4ca6-f9b0-16ffc9f9e2f6"
      },
      "source": [
        "test[['num','date_time','기온(°C)', '풍속(m/s)', '습도(%)']].head(24)"
      ],
      "execution_count": 52,
      "outputs": [
        {
          "output_type": "execute_result",
          "data": {
            "text/html": [
              "<div>\n",
              "<style scoped>\n",
              "    .dataframe tbody tr th:only-of-type {\n",
              "        vertical-align: middle;\n",
              "    }\n",
              "\n",
              "    .dataframe tbody tr th {\n",
              "        vertical-align: top;\n",
              "    }\n",
              "\n",
              "    .dataframe thead th {\n",
              "        text-align: right;\n",
              "    }\n",
              "</style>\n",
              "<table border=\"1\" class=\"dataframe\">\n",
              "  <thead>\n",
              "    <tr style=\"text-align: right;\">\n",
              "      <th></th>\n",
              "      <th>num</th>\n",
              "      <th>date_time</th>\n",
              "      <th>기온(°C)</th>\n",
              "      <th>풍속(m/s)</th>\n",
              "      <th>습도(%)</th>\n",
              "    </tr>\n",
              "  </thead>\n",
              "  <tbody>\n",
              "    <tr>\n",
              "      <th>0</th>\n",
              "      <td>1</td>\n",
              "      <td>2020-08-25 00:00:00</td>\n",
              "      <td>27.800000</td>\n",
              "      <td>1.500000</td>\n",
              "      <td>74.000000</td>\n",
              "    </tr>\n",
              "    <tr>\n",
              "      <th>1</th>\n",
              "      <td>1</td>\n",
              "      <td>2020-08-25 01:00:00</td>\n",
              "      <td>27.806027</td>\n",
              "      <td>1.366667</td>\n",
              "      <td>75.017358</td>\n",
              "    </tr>\n",
              "    <tr>\n",
              "      <th>2</th>\n",
              "      <td>1</td>\n",
              "      <td>2020-08-25 02:00:00</td>\n",
              "      <td>27.639360</td>\n",
              "      <td>1.233333</td>\n",
              "      <td>76.350691</td>\n",
              "    </tr>\n",
              "    <tr>\n",
              "      <th>3</th>\n",
              "      <td>1</td>\n",
              "      <td>2020-08-25 03:00:00</td>\n",
              "      <td>27.300000</td>\n",
              "      <td>1.100000</td>\n",
              "      <td>78.000000</td>\n",
              "    </tr>\n",
              "    <tr>\n",
              "      <th>4</th>\n",
              "      <td>1</td>\n",
              "      <td>2020-08-25 04:00:00</td>\n",
              "      <td>26.787947</td>\n",
              "      <td>1.166667</td>\n",
              "      <td>79.965285</td>\n",
              "    </tr>\n",
              "    <tr>\n",
              "      <th>5</th>\n",
              "      <td>1</td>\n",
              "      <td>2020-08-25 05:00:00</td>\n",
              "      <td>26.198116</td>\n",
              "      <td>1.233333</td>\n",
              "      <td>82.041681</td>\n",
              "    </tr>\n",
              "    <tr>\n",
              "      <th>6</th>\n",
              "      <td>1</td>\n",
              "      <td>2020-08-25 06:00:00</td>\n",
              "      <td>26.100000</td>\n",
              "      <td>1.300000</td>\n",
              "      <td>83.000000</td>\n",
              "    </tr>\n",
              "    <tr>\n",
              "      <th>7</th>\n",
              "      <td>1</td>\n",
              "      <td>2020-08-25 07:00:00</td>\n",
              "      <td>26.588515</td>\n",
              "      <td>1.266667</td>\n",
              "      <td>82.635378</td>\n",
              "    </tr>\n",
              "    <tr>\n",
              "      <th>8</th>\n",
              "      <td>1</td>\n",
              "      <td>2020-08-25 08:00:00</td>\n",
              "      <td>27.605279</td>\n",
              "      <td>1.233333</td>\n",
              "      <td>80.843668</td>\n",
              "    </tr>\n",
              "    <tr>\n",
              "      <th>9</th>\n",
              "      <td>1</td>\n",
              "      <td>2020-08-25 09:00:00</td>\n",
              "      <td>28.800000</td>\n",
              "      <td>1.200000</td>\n",
              "      <td>77.000000</td>\n",
              "    </tr>\n",
              "    <tr>\n",
              "      <th>10</th>\n",
              "      <td>1</td>\n",
              "      <td>2020-08-25 10:00:00</td>\n",
              "      <td>30.114297</td>\n",
              "      <td>1.933333</td>\n",
              "      <td>71.000227</td>\n",
              "    </tr>\n",
              "    <tr>\n",
              "      <th>11</th>\n",
              "      <td>1</td>\n",
              "      <td>2020-08-25 11:00:00</td>\n",
              "      <td>31.503545</td>\n",
              "      <td>2.666667</td>\n",
              "      <td>63.340753</td>\n",
              "    </tr>\n",
              "    <tr>\n",
              "      <th>12</th>\n",
              "      <td>1</td>\n",
              "      <td>2020-08-25 12:00:00</td>\n",
              "      <td>32.700000</td>\n",
              "      <td>3.400000</td>\n",
              "      <td>57.000000</td>\n",
              "    </tr>\n",
              "    <tr>\n",
              "      <th>13</th>\n",
              "      <td>1</td>\n",
              "      <td>2020-08-25 13:00:00</td>\n",
              "      <td>33.659037</td>\n",
              "      <td>3.600000</td>\n",
              "      <td>52.474373</td>\n",
              "    </tr>\n",
              "    <tr>\n",
              "      <th>14</th>\n",
              "      <td>1</td>\n",
              "      <td>2020-08-25 14:00:00</td>\n",
              "      <td>34.329006</td>\n",
              "      <td>3.800000</td>\n",
              "      <td>49.889594</td>\n",
              "    </tr>\n",
              "    <tr>\n",
              "      <th>15</th>\n",
              "      <td>1</td>\n",
              "      <td>2020-08-25 15:00:00</td>\n",
              "      <td>34.400000</td>\n",
              "      <td>4.000000</td>\n",
              "      <td>50.000000</td>\n",
              "    </tr>\n",
              "    <tr>\n",
              "      <th>16</th>\n",
              "      <td>1</td>\n",
              "      <td>2020-08-25 16:00:00</td>\n",
              "      <td>33.820368</td>\n",
              "      <td>3.733333</td>\n",
              "      <td>52.931315</td>\n",
              "    </tr>\n",
              "    <tr>\n",
              "      <th>17</th>\n",
              "      <td>1</td>\n",
              "      <td>2020-08-25 17:00:00</td>\n",
              "      <td>32.689084</td>\n",
              "      <td>3.466667</td>\n",
              "      <td>58.210574</td>\n",
              "    </tr>\n",
              "    <tr>\n",
              "      <th>18</th>\n",
              "      <td>1</td>\n",
              "      <td>2020-08-25 18:00:00</td>\n",
              "      <td>31.600000</td>\n",
              "      <td>3.200000</td>\n",
              "      <td>63.000000</td>\n",
              "    </tr>\n",
              "    <tr>\n",
              "      <th>19</th>\n",
              "      <td>1</td>\n",
              "      <td>2020-08-25 19:00:00</td>\n",
              "      <td>30.652090</td>\n",
              "      <td>2.466667</td>\n",
              "      <td>66.826628</td>\n",
              "    </tr>\n",
              "    <tr>\n",
              "      <th>20</th>\n",
              "      <td>1</td>\n",
              "      <td>2020-08-25 20:00:00</td>\n",
              "      <td>29.858711</td>\n",
              "      <td>1.733333</td>\n",
              "      <td>69.735849</td>\n",
              "    </tr>\n",
              "    <tr>\n",
              "      <th>21</th>\n",
              "      <td>1</td>\n",
              "      <td>2020-08-25 21:00:00</td>\n",
              "      <td>29.300000</td>\n",
              "      <td>1.000000</td>\n",
              "      <td>72.000000</td>\n",
              "    </tr>\n",
              "    <tr>\n",
              "      <th>22</th>\n",
              "      <td>1</td>\n",
              "      <td>2020-08-25 22:00:00</td>\n",
              "      <td>28.989313</td>\n",
              "      <td>1.566667</td>\n",
              "      <td>73.664472</td>\n",
              "    </tr>\n",
              "    <tr>\n",
              "      <th>23</th>\n",
              "      <td>1</td>\n",
              "      <td>2020-08-25 23:00:00</td>\n",
              "      <td>28.880870</td>\n",
              "      <td>2.133333</td>\n",
              "      <td>74.818779</td>\n",
              "    </tr>\n",
              "  </tbody>\n",
              "</table>\n",
              "</div>"
            ],
            "text/plain": [
              "    num           date_time     기온(°C)   풍속(m/s)      습도(%)\n",
              "0     1 2020-08-25 00:00:00  27.800000  1.500000  74.000000\n",
              "1     1 2020-08-25 01:00:00  27.806027  1.366667  75.017358\n",
              "2     1 2020-08-25 02:00:00  27.639360  1.233333  76.350691\n",
              "3     1 2020-08-25 03:00:00  27.300000  1.100000  78.000000\n",
              "4     1 2020-08-25 04:00:00  26.787947  1.166667  79.965285\n",
              "5     1 2020-08-25 05:00:00  26.198116  1.233333  82.041681\n",
              "6     1 2020-08-25 06:00:00  26.100000  1.300000  83.000000\n",
              "7     1 2020-08-25 07:00:00  26.588515  1.266667  82.635378\n",
              "8     1 2020-08-25 08:00:00  27.605279  1.233333  80.843668\n",
              "9     1 2020-08-25 09:00:00  28.800000  1.200000  77.000000\n",
              "10    1 2020-08-25 10:00:00  30.114297  1.933333  71.000227\n",
              "11    1 2020-08-25 11:00:00  31.503545  2.666667  63.340753\n",
              "12    1 2020-08-25 12:00:00  32.700000  3.400000  57.000000\n",
              "13    1 2020-08-25 13:00:00  33.659037  3.600000  52.474373\n",
              "14    1 2020-08-25 14:00:00  34.329006  3.800000  49.889594\n",
              "15    1 2020-08-25 15:00:00  34.400000  4.000000  50.000000\n",
              "16    1 2020-08-25 16:00:00  33.820368  3.733333  52.931315\n",
              "17    1 2020-08-25 17:00:00  32.689084  3.466667  58.210574\n",
              "18    1 2020-08-25 18:00:00  31.600000  3.200000  63.000000\n",
              "19    1 2020-08-25 19:00:00  30.652090  2.466667  66.826628\n",
              "20    1 2020-08-25 20:00:00  29.858711  1.733333  69.735849\n",
              "21    1 2020-08-25 21:00:00  29.300000  1.000000  72.000000\n",
              "22    1 2020-08-25 22:00:00  28.989313  1.566667  73.664472\n",
              "23    1 2020-08-25 23:00:00  28.880870  2.133333  74.818779"
            ]
          },
          "metadata": {
            "tags": []
          },
          "execution_count": 52
        }
      ]
    },
    {
      "cell_type": "code",
      "metadata": {
        "colab": {
          "base_uri": "https://localhost:8080/",
          "height": 794
        },
        "id": "rgRjlARN08Sy",
        "outputId": "f146a3fa-c57f-4c29-d754-3cd5412705ba"
      },
      "source": [
        "train[['num','date_time','기온(°C)', '풍속(m/s)', '습도(%)']].head(24)"
      ],
      "execution_count": 53,
      "outputs": [
        {
          "output_type": "execute_result",
          "data": {
            "text/html": [
              "<div>\n",
              "<style scoped>\n",
              "    .dataframe tbody tr th:only-of-type {\n",
              "        vertical-align: middle;\n",
              "    }\n",
              "\n",
              "    .dataframe tbody tr th {\n",
              "        vertical-align: top;\n",
              "    }\n",
              "\n",
              "    .dataframe thead th {\n",
              "        text-align: right;\n",
              "    }\n",
              "</style>\n",
              "<table border=\"1\" class=\"dataframe\">\n",
              "  <thead>\n",
              "    <tr style=\"text-align: right;\">\n",
              "      <th></th>\n",
              "      <th>num</th>\n",
              "      <th>date_time</th>\n",
              "      <th>기온(°C)</th>\n",
              "      <th>풍속(m/s)</th>\n",
              "      <th>습도(%)</th>\n",
              "    </tr>\n",
              "  </thead>\n",
              "  <tbody>\n",
              "    <tr>\n",
              "      <th>0</th>\n",
              "      <td>1</td>\n",
              "      <td>2020-06-01 00:00:00</td>\n",
              "      <td>17.6</td>\n",
              "      <td>2.5</td>\n",
              "      <td>92.0</td>\n",
              "    </tr>\n",
              "    <tr>\n",
              "      <th>1</th>\n",
              "      <td>1</td>\n",
              "      <td>2020-06-01 01:00:00</td>\n",
              "      <td>17.7</td>\n",
              "      <td>2.9</td>\n",
              "      <td>91.0</td>\n",
              "    </tr>\n",
              "    <tr>\n",
              "      <th>2</th>\n",
              "      <td>1</td>\n",
              "      <td>2020-06-01 02:00:00</td>\n",
              "      <td>17.5</td>\n",
              "      <td>3.2</td>\n",
              "      <td>91.0</td>\n",
              "    </tr>\n",
              "    <tr>\n",
              "      <th>3</th>\n",
              "      <td>1</td>\n",
              "      <td>2020-06-01 03:00:00</td>\n",
              "      <td>17.1</td>\n",
              "      <td>3.2</td>\n",
              "      <td>91.0</td>\n",
              "    </tr>\n",
              "    <tr>\n",
              "      <th>4</th>\n",
              "      <td>1</td>\n",
              "      <td>2020-06-01 04:00:00</td>\n",
              "      <td>17.0</td>\n",
              "      <td>3.3</td>\n",
              "      <td>92.0</td>\n",
              "    </tr>\n",
              "    <tr>\n",
              "      <th>5</th>\n",
              "      <td>1</td>\n",
              "      <td>2020-06-01 05:00:00</td>\n",
              "      <td>16.9</td>\n",
              "      <td>3.4</td>\n",
              "      <td>93.0</td>\n",
              "    </tr>\n",
              "    <tr>\n",
              "      <th>6</th>\n",
              "      <td>1</td>\n",
              "      <td>2020-06-01 06:00:00</td>\n",
              "      <td>16.7</td>\n",
              "      <td>3.4</td>\n",
              "      <td>90.0</td>\n",
              "    </tr>\n",
              "    <tr>\n",
              "      <th>7</th>\n",
              "      <td>1</td>\n",
              "      <td>2020-06-01 07:00:00</td>\n",
              "      <td>16.9</td>\n",
              "      <td>2.3</td>\n",
              "      <td>86.0</td>\n",
              "    </tr>\n",
              "    <tr>\n",
              "      <th>8</th>\n",
              "      <td>1</td>\n",
              "      <td>2020-06-01 08:00:00</td>\n",
              "      <td>17.8</td>\n",
              "      <td>3.3</td>\n",
              "      <td>80.0</td>\n",
              "    </tr>\n",
              "    <tr>\n",
              "      <th>9</th>\n",
              "      <td>1</td>\n",
              "      <td>2020-06-01 09:00:00</td>\n",
              "      <td>19.3</td>\n",
              "      <td>2.1</td>\n",
              "      <td>73.0</td>\n",
              "    </tr>\n",
              "    <tr>\n",
              "      <th>10</th>\n",
              "      <td>1</td>\n",
              "      <td>2020-06-01 10:00:00</td>\n",
              "      <td>20.5</td>\n",
              "      <td>3.4</td>\n",
              "      <td>62.0</td>\n",
              "    </tr>\n",
              "    <tr>\n",
              "      <th>11</th>\n",
              "      <td>1</td>\n",
              "      <td>2020-06-01 11:00:00</td>\n",
              "      <td>22.1</td>\n",
              "      <td>3.6</td>\n",
              "      <td>52.0</td>\n",
              "    </tr>\n",
              "    <tr>\n",
              "      <th>12</th>\n",
              "      <td>1</td>\n",
              "      <td>2020-06-01 12:00:00</td>\n",
              "      <td>23.1</td>\n",
              "      <td>4.0</td>\n",
              "      <td>49.0</td>\n",
              "    </tr>\n",
              "    <tr>\n",
              "      <th>13</th>\n",
              "      <td>1</td>\n",
              "      <td>2020-06-01 13:00:00</td>\n",
              "      <td>23.1</td>\n",
              "      <td>5.1</td>\n",
              "      <td>42.0</td>\n",
              "    </tr>\n",
              "    <tr>\n",
              "      <th>14</th>\n",
              "      <td>1</td>\n",
              "      <td>2020-06-01 14:00:00</td>\n",
              "      <td>23.6</td>\n",
              "      <td>5.1</td>\n",
              "      <td>39.0</td>\n",
              "    </tr>\n",
              "    <tr>\n",
              "      <th>15</th>\n",
              "      <td>1</td>\n",
              "      <td>2020-06-01 15:00:00</td>\n",
              "      <td>23.8</td>\n",
              "      <td>5.5</td>\n",
              "      <td>40.0</td>\n",
              "    </tr>\n",
              "    <tr>\n",
              "      <th>16</th>\n",
              "      <td>1</td>\n",
              "      <td>2020-06-01 16:00:00</td>\n",
              "      <td>24.4</td>\n",
              "      <td>3.0</td>\n",
              "      <td>39.0</td>\n",
              "    </tr>\n",
              "    <tr>\n",
              "      <th>17</th>\n",
              "      <td>1</td>\n",
              "      <td>2020-06-01 17:00:00</td>\n",
              "      <td>23.6</td>\n",
              "      <td>4.4</td>\n",
              "      <td>41.0</td>\n",
              "    </tr>\n",
              "    <tr>\n",
              "      <th>18</th>\n",
              "      <td>1</td>\n",
              "      <td>2020-06-01 18:00:00</td>\n",
              "      <td>22.7</td>\n",
              "      <td>4.1</td>\n",
              "      <td>42.0</td>\n",
              "    </tr>\n",
              "    <tr>\n",
              "      <th>19</th>\n",
              "      <td>1</td>\n",
              "      <td>2020-06-01 19:00:00</td>\n",
              "      <td>21.3</td>\n",
              "      <td>4.2</td>\n",
              "      <td>44.0</td>\n",
              "    </tr>\n",
              "    <tr>\n",
              "      <th>20</th>\n",
              "      <td>1</td>\n",
              "      <td>2020-06-01 20:00:00</td>\n",
              "      <td>19.8</td>\n",
              "      <td>2.5</td>\n",
              "      <td>51.0</td>\n",
              "    </tr>\n",
              "    <tr>\n",
              "      <th>21</th>\n",
              "      <td>1</td>\n",
              "      <td>2020-06-01 21:00:00</td>\n",
              "      <td>18.6</td>\n",
              "      <td>2.5</td>\n",
              "      <td>55.0</td>\n",
              "    </tr>\n",
              "    <tr>\n",
              "      <th>22</th>\n",
              "      <td>1</td>\n",
              "      <td>2020-06-01 22:00:00</td>\n",
              "      <td>17.9</td>\n",
              "      <td>2.0</td>\n",
              "      <td>62.0</td>\n",
              "    </tr>\n",
              "    <tr>\n",
              "      <th>23</th>\n",
              "      <td>1</td>\n",
              "      <td>2020-06-01 23:00:00</td>\n",
              "      <td>17.2</td>\n",
              "      <td>2.0</td>\n",
              "      <td>68.0</td>\n",
              "    </tr>\n",
              "  </tbody>\n",
              "</table>\n",
              "</div>"
            ],
            "text/plain": [
              "    num           date_time  기온(°C)  풍속(m/s)  습도(%)\n",
              "0     1 2020-06-01 00:00:00    17.6      2.5   92.0\n",
              "1     1 2020-06-01 01:00:00    17.7      2.9   91.0\n",
              "2     1 2020-06-01 02:00:00    17.5      3.2   91.0\n",
              "3     1 2020-06-01 03:00:00    17.1      3.2   91.0\n",
              "4     1 2020-06-01 04:00:00    17.0      3.3   92.0\n",
              "5     1 2020-06-01 05:00:00    16.9      3.4   93.0\n",
              "6     1 2020-06-01 06:00:00    16.7      3.4   90.0\n",
              "7     1 2020-06-01 07:00:00    16.9      2.3   86.0\n",
              "8     1 2020-06-01 08:00:00    17.8      3.3   80.0\n",
              "9     1 2020-06-01 09:00:00    19.3      2.1   73.0\n",
              "10    1 2020-06-01 10:00:00    20.5      3.4   62.0\n",
              "11    1 2020-06-01 11:00:00    22.1      3.6   52.0\n",
              "12    1 2020-06-01 12:00:00    23.1      4.0   49.0\n",
              "13    1 2020-06-01 13:00:00    23.1      5.1   42.0\n",
              "14    1 2020-06-01 14:00:00    23.6      5.1   39.0\n",
              "15    1 2020-06-01 15:00:00    23.8      5.5   40.0\n",
              "16    1 2020-06-01 16:00:00    24.4      3.0   39.0\n",
              "17    1 2020-06-01 17:00:00    23.6      4.4   41.0\n",
              "18    1 2020-06-01 18:00:00    22.7      4.1   42.0\n",
              "19    1 2020-06-01 19:00:00    21.3      4.2   44.0\n",
              "20    1 2020-06-01 20:00:00    19.8      2.5   51.0\n",
              "21    1 2020-06-01 21:00:00    18.6      2.5   55.0\n",
              "22    1 2020-06-01 22:00:00    17.9      2.0   62.0\n",
              "23    1 2020-06-01 23:00:00    17.2      2.0   68.0"
            ]
          },
          "metadata": {
            "tags": []
          },
          "execution_count": 53
        }
      ]
    },
    {
      "cell_type": "code",
      "metadata": {
        "id": "UIe2Yy_y2IkR"
      },
      "source": [
        "num_1 = train.loc[train['num'] == 1]\n",
        "num_1_day_1 = num_1.loc[num_1['day'] == 1]\n",
        "num_1_j_1 = num_1_day_1.loc[num_1_day_1['month'] == 6]"
      ],
      "execution_count": 54,
      "outputs": []
    },
    {
      "cell_type": "code",
      "metadata": {
        "colab": {
          "base_uri": "https://localhost:8080/",
          "height": 424
        },
        "id": "S1MwQAKO13TH",
        "outputId": "d8924764-bd55-4202-858e-a87eeb437964"
      },
      "source": [
        "sns.lineplot(data = num_1_j_1, x = 'date_time', y = '기온(°C)')"
      ],
      "execution_count": 55,
      "outputs": [
        {
          "output_type": "execute_result",
          "data": {
            "text/plain": [
              "<matplotlib.axes._subplots.AxesSubplot at 0x7f24ec3e3b50>"
            ]
          },
          "metadata": {
            "tags": []
          },
          "execution_count": 55
        },
        {
          "output_type": "stream",
          "text": [
            "/usr/local/lib/python3.7/dist-packages/matplotlib/backends/backend_agg.py:214: RuntimeWarning: Glyph 44592 missing from current font.\n",
            "  font.set_text(s, 0.0, flags=flags)\n",
            "/usr/local/lib/python3.7/dist-packages/matplotlib/backends/backend_agg.py:214: RuntimeWarning: Glyph 50728 missing from current font.\n",
            "  font.set_text(s, 0.0, flags=flags)\n",
            "/usr/local/lib/python3.7/dist-packages/matplotlib/backends/backend_agg.py:183: RuntimeWarning: Glyph 44592 missing from current font.\n",
            "  font.set_text(s, 0, flags=flags)\n",
            "/usr/local/lib/python3.7/dist-packages/matplotlib/backends/backend_agg.py:183: RuntimeWarning: Glyph 50728 missing from current font.\n",
            "  font.set_text(s, 0, flags=flags)\n"
          ],
          "name": "stderr"
        },
        {
          "output_type": "display_data",
          "data": {
            "image/png": "[encoded data removed]",
            "text/plain": [
              "<Figure size 432x288 with 1 Axes>"
            ]
          },
          "metadata": {
            "tags": [],
            "needs_background": "light"
          }
        }
      ]
    },
    {
      "cell_type": "code",
      "metadata": {
        "colab": {
          "base_uri": "https://localhost:8080/",
          "height": 425
        },
        "id": "TMKP1H3025OP",
        "outputId": "2a0e21e8-c7e0-4988-a482-9c1fe916cf40"
      },
      "source": [
        "sns.lineplot(data = num_1_j_1, x = 'date_time', y = '풍속(m/s)')"
      ],
      "execution_count": 56,
      "outputs": [
        {
          "output_type": "execute_result",
          "data": {
            "text/plain": [
              "<matplotlib.axes._subplots.AxesSubplot at 0x7f24eb2576d0>"
            ]
          },
          "metadata": {
            "tags": []
          },
          "execution_count": 56
        },
        {
          "output_type": "stream",
          "text": [
            "/usr/local/lib/python3.7/dist-packages/matplotlib/backends/backend_agg.py:214: RuntimeWarning: Glyph 54413 missing from current font.\n",
            "  font.set_text(s, 0.0, flags=flags)\n",
            "/usr/local/lib/python3.7/dist-packages/matplotlib/backends/backend_agg.py:214: RuntimeWarning: Glyph 49549 missing from current font.\n",
            "  font.set_text(s, 0.0, flags=flags)\n",
            "/usr/local/lib/python3.7/dist-packages/matplotlib/backends/backend_agg.py:183: RuntimeWarning: Glyph 54413 missing from current font.\n",
            "  font.set_text(s, 0, flags=flags)\n",
            "/usr/local/lib/python3.7/dist-packages/matplotlib/backends/backend_agg.py:183: RuntimeWarning: Glyph 49549 missing from current font.\n",
            "  font.set_text(s, 0, flags=flags)\n"
          ],
          "name": "stderr"
        },
        {
          "output_type": "display_data",
          "data": {
            "image/png": "[encoded data removed]",
            "text/plain": [
              "<Figure size 432x288 with 1 Axes>"
            ]
          },
          "metadata": {
            "tags": [],
            "needs_background": "light"
          }
        }
      ]
    },
    {
      "cell_type": "code",
      "metadata": {
        "colab": {
          "base_uri": "https://localhost:8080/",
          "height": 424
        },
        "id": "GZXn-4hE258X",
        "outputId": "f5bc5325-711c-4f78-87b0-e73313b3fdd7"
      },
      "source": [
        "sns.lineplot(data = num_1_j_1, x = 'date_time', y = '습도(%)')"
      ],
      "execution_count": 57,
      "outputs": [
        {
          "output_type": "execute_result",
          "data": {
            "text/plain": [
              "<matplotlib.axes._subplots.AxesSubplot at 0x7f24ebb266d0>"
            ]
          },
          "metadata": {
            "tags": []
          },
          "execution_count": 57
        },
        {
          "output_type": "stream",
          "text": [
            "/usr/local/lib/python3.7/dist-packages/matplotlib/backends/backend_agg.py:214: RuntimeWarning: Glyph 49845 missing from current font.\n",
            "  font.set_text(s, 0.0, flags=flags)\n",
            "/usr/local/lib/python3.7/dist-packages/matplotlib/backends/backend_agg.py:214: RuntimeWarning: Glyph 46020 missing from current font.\n",
            "  font.set_text(s, 0.0, flags=flags)\n",
            "/usr/local/lib/python3.7/dist-packages/matplotlib/backends/backend_agg.py:183: RuntimeWarning: Glyph 49845 missing from current font.\n",
            "  font.set_text(s, 0, flags=flags)\n",
            "/usr/local/lib/python3.7/dist-packages/matplotlib/backends/backend_agg.py:183: RuntimeWarning: Glyph 46020 missing from current font.\n",
            "  font.set_text(s, 0, flags=flags)\n"
          ],
          "name": "stderr"
        },
        {
          "output_type": "display_data",
          "data": {
            "image/png": "[encoded data removed]",
            "text/plain": [
              "<Figure size 432x288 with 1 Axes>"
            ]
          },
          "metadata": {
            "tags": [],
            "needs_background": "light"
          }
        }
      ]
    },
    {
      "cell_type": "code",
      "metadata": {
        "id": "ppecjKoP3EG_"
      },
      "source": [
        "#기온 결측치 채우기\n",
        "test['기온(°C)'] = test['기온(°C)'].interpolate(method='quadratic')\n",
        "#마지막 na 채우기\n",
        "test['기온(°C)'] = test['기온(°C)'].interpolate(method='linear')\n",
        "\n",
        "#풍속 결측치 채우기\n",
        "test['풍속(m/s)'] = test['풍속(m/s)'].interpolate(method='linear')\n",
        "\n",
        "#습도 결측치 채우기\n",
        "test['습도(%)'] = test['습도(%)'].interpolate(method='quadratic')\n",
        "#마지막 na 채우기\n",
        "test['습도(%)'] = test['습도(%)'].interpolate(method='linear')\n",
        "\n",
        "#강수량 결측치 채우기\n",
        "test['강수량(mm, 6시간)'] = test['강수량(mm, 6시간)'].interpolate(method='linear')"
      ],
      "execution_count": 58,
      "outputs": []
    },
    {
      "cell_type": "code",
      "metadata": {
        "id": "1d7CH0-b8BRg"
      },
      "source": [
        "train['불쾌지수'] = 1.8*train['기온(°C)'] - 0.55*(1-(train['습도(%)']/100))*(1.8*train['기온(°C)']-26) + 32\n",
        "test['불쾌지수'] = 1.8*test['기온(°C)'] - 0.55*(1-(test['습도(%)']/100))*(1.8*test['기온(°C)']-26) + 32\n",
        "\n",
        "# (데이터프레임 변수 순서 정리)\n",
        "train = train[['num','date_time','month', 'day', 'hour','weekday','weekend','기온(°C)','습도(%)','불쾌지수','풍속(m/s)','강수량(mm)','일조(hr)','비전기냉방설비운영','태양광보유','전력사용량(kWh)']]\n",
        "test = test[['num','date_time','month', 'day', 'hour','weekday','weekend','기온(°C)','습도(%)','불쾌지수','풍속(m/s)','강수량(mm, 6시간)','일조(hr, 3시간)','비전기냉방설비운영','태양광보유']]"
      ],
      "execution_count": 59,
      "outputs": []
    },
    {
      "cell_type": "markdown",
      "metadata": {
        "id": "HTySIkXi9H1J"
      },
      "source": [
        "# Modeling\n",
        "\n",
        "## 1) LGBM"
      ]
    },
    {
      "cell_type": "code",
      "metadata": {
        "id": "YCQHw--49ays"
      },
      "source": [
        "from sklearn.metrics import mean_absolute_error\n",
        "from sklearn.model_selection import KFold\n",
        "from lightgbm import LGBMRegressor"
      ],
      "execution_count": 60,
      "outputs": []
    },
    {
      "cell_type": "code",
      "metadata": {
        "id": "fRz8Xm_l8DzZ"
      },
      "source": [
        "train_x=train.drop('전력사용량(kWh)', axis=1)\n",
        "train_y=train[['전력사용량(kWh)']]\n",
        "\n",
        "\n",
        "train_x.drop('date_time', axis=1, inplace=True)\n",
        "test.drop('date_time', axis=1, inplace=True)\n",
        "\n",
        "\n",
        "cross=KFold(n_splits=5, shuffle=True, random_state=42)\n",
        "folds=[]\n",
        "for train_idx, valid_idx in cross.split(train_x, train_y):\n",
        "    folds.append((train_idx, valid_idx))"
      ],
      "execution_count": 63,
      "outputs": []
    },
    {
      "cell_type": "code",
      "metadata": {
        "colab": {
          "base_uri": "https://localhost:8080/"
        },
        "id": "Fzd8RP1h9kfF",
        "outputId": "833a175d-219d-48cc-ab0b-4904b0c352a6"
      },
      "source": [
        "## ref : https://www.dacon.io/competitions/official/235713/codeshare/2476?page=1&dtype=recent\n",
        "\n",
        "models={}\n",
        "for fold in range(5):\n",
        "    print(f'===================={fold+1}=======================')\n",
        "\n",
        "    start = time.time()\n",
        "\n",
        "    train_idx, valid_idx=folds[fold]\n",
        "    X_train=train_x.iloc[train_idx, :]\n",
        "    y_train=train_y.iloc[train_idx, :]\n",
        "    X_valid=train_x.iloc[valid_idx, :]\n",
        "    y_valid=train_y.iloc[valid_idx, :]\n",
        "    \n",
        "    model=LGBMRegressor(n_estimators=100)\n",
        "    model.fit(X_train, y_train, eval_set=[(X_train, y_train), (X_valid, y_valid)], \n",
        "             early_stopping_rounds=30, verbose=100)\n",
        "    models[fold]=model\n",
        "    \n",
        "    print('')\n",
        "    print((time.time() - start) / 60 , 'mins')\n",
        "    print(f'================================================\\n\\n')\n"
      ],
      "execution_count": 65,
      "outputs": [
        {
          "output_type": "stream",
          "text": [
            "====================1=======================\n",
            "Training until validation scores don't improve for 30 rounds.\n",
            "[100]\ttraining's l2: 94199.2\tvalid_1's l2: 93428.1\n",
            "Did not meet early stopping. Best iteration is:\n",
            "[100]\ttraining's l2: 94199.2\tvalid_1's l2: 93428.1\n",
            "\n",
            "0.016114433606465656 mins\n",
            "================================================\n",
            "\n",
            "\n",
            "====================2=======================\n",
            "Training until validation scores don't improve for 30 rounds.\n",
            "[100]\ttraining's l2: 93010.8\tvalid_1's l2: 103767\n",
            "Did not meet early stopping. Best iteration is:\n",
            "[100]\ttraining's l2: 93010.8\tvalid_1's l2: 103767\n",
            "\n",
            "0.01645661195119222 mins\n",
            "================================================\n",
            "\n",
            "\n",
            "====================3=======================\n",
            "Training until validation scores don't improve for 30 rounds.\n",
            "[100]\ttraining's l2: 94955.6\tvalid_1's l2: 94857.2\n",
            "Did not meet early stopping. Best iteration is:\n",
            "[100]\ttraining's l2: 94955.6\tvalid_1's l2: 94857.2\n",
            "\n",
            "0.016076159477233887 mins\n",
            "================================================\n",
            "\n",
            "\n",
            "====================4=======================\n",
            "Training until validation scores don't improve for 30 rounds.\n",
            "[100]\ttraining's l2: 93043.2\tvalid_1's l2: 95809\n",
            "Did not meet early stopping. Best iteration is:\n",
            "[100]\ttraining's l2: 93043.2\tvalid_1's l2: 95809\n",
            "\n",
            "0.016358725229899087 mins\n",
            "================================================\n",
            "\n",
            "\n",
            "====================5=======================\n",
            "Training until validation scores don't improve for 30 rounds.\n",
            "[100]\ttraining's l2: 94531.5\tvalid_1's l2: 100608\n",
            "Did not meet early stopping. Best iteration is:\n",
            "[100]\ttraining's l2: 94531.5\tvalid_1's l2: 100608\n",
            "\n",
            "0.01634847323099772 mins\n",
            "================================================\n",
            "\n",
            "\n"
          ],
          "name": "stdout"
        }
      ]
    },
    {
      "cell_type": "code",
      "metadata": {
        "id": "KO0VYX8Z-JI4"
      },
      "source": [
        "for i in range(5):\n",
        "    submission['answer'] += models[i].predict(test)/5 "
      ],
      "execution_count": 66,
      "outputs": []
    },
    {
      "cell_type": "code",
      "metadata": {
        "colab": {
          "base_uri": "https://localhost:8080/",
          "height": 204
        },
        "id": "vrffNRN8-esk",
        "outputId": "be5b87e8-2c9f-4ca9-d4e3-2803f67d4eec"
      },
      "source": [
        "submission.head()"
      ],
      "execution_count": 67,
      "outputs": [
        {
          "output_type": "execute_result",
          "data": {
            "text/html": [
              "<div>\n",
              "<style scoped>\n",
              "    .dataframe tbody tr th:only-of-type {\n",
              "        vertical-align: middle;\n",
              "    }\n",
              "\n",
              "    .dataframe tbody tr th {\n",
              "        vertical-align: top;\n",
              "    }\n",
              "\n",
              "    .dataframe thead th {\n",
              "        text-align: right;\n",
              "    }\n",
              "</style>\n",
              "<table border=\"1\" class=\"dataframe\">\n",
              "  <thead>\n",
              "    <tr style=\"text-align: right;\">\n",
              "      <th></th>\n",
              "      <th>num_date_time</th>\n",
              "      <th>answer</th>\n",
              "    </tr>\n",
              "  </thead>\n",
              "  <tbody>\n",
              "    <tr>\n",
              "      <th>0</th>\n",
              "      <td>1 2020-08-25 00</td>\n",
              "      <td>8594.988779</td>\n",
              "    </tr>\n",
              "    <tr>\n",
              "      <th>1</th>\n",
              "      <td>1 2020-08-25 01</td>\n",
              "      <td>8550.739670</td>\n",
              "    </tr>\n",
              "    <tr>\n",
              "      <th>2</th>\n",
              "      <td>1 2020-08-25 02</td>\n",
              "      <td>8538.556972</td>\n",
              "    </tr>\n",
              "    <tr>\n",
              "      <th>3</th>\n",
              "      <td>1 2020-08-25 03</td>\n",
              "      <td>8549.776655</td>\n",
              "    </tr>\n",
              "    <tr>\n",
              "      <th>4</th>\n",
              "      <td>1 2020-08-25 04</td>\n",
              "      <td>8545.885604</td>\n",
              "    </tr>\n",
              "  </tbody>\n",
              "</table>\n",
              "</div>"
            ],
            "text/plain": [
              "     num_date_time       answer\n",
              "0  1 2020-08-25 00  8594.988779\n",
              "1  1 2020-08-25 01  8550.739670\n",
              "2  1 2020-08-25 02  8538.556972\n",
              "3  1 2020-08-25 03  8549.776655\n",
              "4  1 2020-08-25 04  8545.885604"
            ]
          },
          "metadata": {
            "tags": []
          },
          "execution_count": 67
        }
      ]
    },
    {
      "cell_type": "code",
      "metadata": {
        "id": "Jvag2qIv-j1L"
      },
      "source": [
        "submission.to_csv('baseline_submission3_lgbm.csv', index=False)"
      ],
      "execution_count": 68,
      "outputs": []
    },
    {
      "cell_type": "markdown",
      "metadata": {
        "id": "Gvb_psL0-t48"
      },
      "source": [
        "## 2) LSTM"
      ]
    },
    {
      "cell_type": "code",
      "metadata": {
        "id": "XKJz-NpS-o9u"
      },
      "source": [
        "import tensorflow as tf\n",
        "from tensorflow import keras\n",
        "from tensorflow.keras.models import Sequential\n",
        "from tensorflow.keras.layers import Dense, LSTM, Reshape, GRU, RNN\n",
        "\n",
        "tf.keras.backend.set_floatx('float64')\n"
      ],
      "execution_count": 72,
      "outputs": []
    },
    {
      "cell_type": "code",
      "metadata": {
        "id": "1XAm9usq_DZo"
      },
      "source": [
        ""
      ],
      "execution_count": null,
      "outputs": []
    }
  ]
}