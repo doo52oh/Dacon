{
  "nbformat": 4,
  "nbformat_minor": 0,
  "metadata": {
    "colab": {
      "name": "잡케어추천알고리즘경진대회_EDA_데이터변경.ipynb",
      "provenance": [],
      "collapsed_sections": [],
      "authorship_tag": "ABX9TyMxGDPZhIVdB5jcJJ49hSM3",
      "include_colab_link": true
    },
    "kernelspec": {
      "name": "python3",
      "display_name": "Python 3"
    },
    "language_info": {
      "name": "python"
    }
  },
  "cells": [
    {
      "cell_type": "markdown",
      "metadata": {
        "id": "view-in-github",
        "colab_type": "text"
      },
      "source": [
        "<a href=\"https://colab.research.google.com/github/doo52oh/Dacon/blob/main/%EC%9E%A1%EC%BC%80%EC%96%B4%EC%B6%94%EC%B2%9C/%EC%9E%A1%EC%BC%80%EC%96%B4%EC%B6%94%EC%B2%9C%EC%95%8C%EA%B3%A0%EB%A6%AC%EC%A6%98%EA%B2%BD%EC%A7%84%EB%8C%80%ED%9A%8C_EDA_%EB%8D%B0%EC%9D%B4%ED%84%B0%EB%B3%80%EA%B2%BD.ipynb\" target=\"_parent\"><img src=\"https://colab.research.google.com/assets/colab-badge.svg\" alt=\"Open In Colab\"/></a>"
      ]
    },
    {
      "cell_type": "markdown",
      "source": [
        "# 잡케어 추천 알고리즘 EDA\n",
        "\n",
        "[My EDA - 모두다 그리자 :D](https://dacon.io/codeshare/3895) 참고"
      ],
      "metadata": {
        "id": "OzWDk2pvxZgg"
      }
    },
    {
      "cell_type": "code",
      "source": [
        "from google.colab import drive\n",
        "from typing import Dict\n",
        "\n",
        "import numpy as np\n",
        "import pandas as pd\n",
        "import seaborn as sns\n",
        "import matplotlib.pyplot as plt\n",
        "import warnings\n",
        "\n",
        "from datetime import datetime\n",
        "\n",
        "plt.style.use('fivethirtyeight')\n",
        "sns.set_theme(style=\"whitegrid\")\n",
        "warnings.filterwarnings('ignore')\n",
        "\n",
        "drive.mount(\"/content/drive\")"
      ],
      "metadata": {
        "id": "vzmdrhZwuwUi",
        "colab": {
          "base_uri": "https://localhost:8080/"
        },
        "outputId": "886ec266-a355-45cf-e6bd-0d0023646f6d"
      },
      "execution_count": 1,
      "outputs": [
        {
          "output_type": "stream",
          "name": "stdout",
          "text": [
            "Drive already mounted at /content/drive; to attempt to forcibly remount, call drive.mount(\"/content/drive\", force_remount=True).\n"
          ]
        }
      ]
    },
    {
      "cell_type": "code",
      "source": [
        "DATA_PATH = \"/content/drive/MyDrive/Dacon/JobCare/data/\"\n",
        "SUBMIT_PATH = \"/content/drive/MyDrive/Dacon/JobCare/submit/\"\n",
        "SEED = 42"
      ],
      "metadata": {
        "id": "Zh5N1FwoMsBI"
      },
      "execution_count": 2,
      "outputs": []
    },
    {
      "cell_type": "code",
      "execution_count": 3,
      "metadata": {
        "colab": {
          "base_uri": "https://localhost:8080/"
        },
        "id": "hP7YHQoOhPSW",
        "outputId": "60d7dea4-ab48-44c4-9b0a-3dcbd07bc1c9"
      },
      "outputs": [
        {
          "output_type": "stream",
          "name": "stdout",
          "text": [
            "train_data.shape:  (501951, 35)\n",
            "test_data.shape:  (46404, 34)\n"
          ]
        }
      ],
      "source": [
        "train_data = pd.read_csv(f'{DATA_PATH}train.csv')\n",
        "test_data = pd.read_csv(f'{DATA_PATH}test.csv')\n",
        "\n",
        "d_code = pd.read_csv(f'{DATA_PATH}속성_D_코드.csv', index_col=0).T.to_dict()\n",
        "h_code = pd.read_csv(f'{DATA_PATH}속성_H_코드.csv', index_col=0).T.to_dict()\n",
        "l_code = pd.read_csv(f'{DATA_PATH}속성_L_코드.csv', index_col=0).T.to_dict()\n",
        "\n",
        "print(\"train_data.shape: \", train_data.shape)\n",
        "print(\"test_data.shape: \", test_data.shape)"
      ]
    },
    {
      "cell_type": "code",
      "source": [
        "train_data.head()"
      ],
      "metadata": {
        "colab": {
          "base_uri": "https://localhost:8080/",
          "height": 357
        },
        "id": "R864GIhDuuL2",
        "outputId": "475767b8-c693-4ae3-995b-b54cc6751353"
      },
      "execution_count": 4,
      "outputs": [
        {
          "output_type": "execute_result",
          "data": {
            "text/html": [
              "\n",
              "  <div id=\"df-62079c98-122c-42f9-b301-607286c56c1a\">\n",
              "    <div class=\"colab-df-container\">\n",
              "      <div>\n",
              "<style scoped>\n",
              "    .dataframe tbody tr th:only-of-type {\n",
              "        vertical-align: middle;\n",
              "    }\n",
              "\n",
              "    .dataframe tbody tr th {\n",
              "        vertical-align: top;\n",
              "    }\n",
              "\n",
              "    .dataframe thead th {\n",
              "        text-align: right;\n",
              "    }\n",
              "</style>\n",
              "<table border=\"1\" class=\"dataframe\">\n",
              "  <thead>\n",
              "    <tr style=\"text-align: right;\">\n",
              "      <th></th>\n",
              "      <th>id</th>\n",
              "      <th>d_l_match_yn</th>\n",
              "      <th>d_m_match_yn</th>\n",
              "      <th>d_s_match_yn</th>\n",
              "      <th>h_l_match_yn</th>\n",
              "      <th>h_m_match_yn</th>\n",
              "      <th>h_s_match_yn</th>\n",
              "      <th>person_attribute_a</th>\n",
              "      <th>person_attribute_a_1</th>\n",
              "      <th>person_attribute_b</th>\n",
              "      <th>person_prefer_c</th>\n",
              "      <th>person_prefer_d_1</th>\n",
              "      <th>person_prefer_d_2</th>\n",
              "      <th>person_prefer_d_3</th>\n",
              "      <th>person_prefer_e</th>\n",
              "      <th>person_prefer_f</th>\n",
              "      <th>person_prefer_g</th>\n",
              "      <th>person_prefer_h_1</th>\n",
              "      <th>person_prefer_h_2</th>\n",
              "      <th>person_prefer_h_3</th>\n",
              "      <th>contents_attribute_i</th>\n",
              "      <th>contents_attribute_a</th>\n",
              "      <th>contents_attribute_j_1</th>\n",
              "      <th>contents_attribute_j</th>\n",
              "      <th>contents_attribute_c</th>\n",
              "      <th>contents_attribute_k</th>\n",
              "      <th>contents_attribute_l</th>\n",
              "      <th>contents_attribute_d</th>\n",
              "      <th>contents_attribute_m</th>\n",
              "      <th>contents_attribute_e</th>\n",
              "      <th>contents_attribute_h</th>\n",
              "      <th>person_rn</th>\n",
              "      <th>contents_rn</th>\n",
              "      <th>contents_open_dt</th>\n",
              "      <th>target</th>\n",
              "    </tr>\n",
              "  </thead>\n",
              "  <tbody>\n",
              "    <tr>\n",
              "      <th>0</th>\n",
              "      <td>0</td>\n",
              "      <td>True</td>\n",
              "      <td>True</td>\n",
              "      <td>True</td>\n",
              "      <td>False</td>\n",
              "      <td>False</td>\n",
              "      <td>False</td>\n",
              "      <td>1</td>\n",
              "      <td>4</td>\n",
              "      <td>3</td>\n",
              "      <td>5</td>\n",
              "      <td>275</td>\n",
              "      <td>370</td>\n",
              "      <td>369</td>\n",
              "      <td>8</td>\n",
              "      <td>1</td>\n",
              "      <td>1</td>\n",
              "      <td>4</td>\n",
              "      <td>95</td>\n",
              "      <td>59</td>\n",
              "      <td>3</td>\n",
              "      <td>3</td>\n",
              "      <td>10</td>\n",
              "      <td>2</td>\n",
              "      <td>1</td>\n",
              "      <td>2</td>\n",
              "      <td>1608</td>\n",
              "      <td>275</td>\n",
              "      <td>1</td>\n",
              "      <td>4</td>\n",
              "      <td>139</td>\n",
              "      <td>618822</td>\n",
              "      <td>354805</td>\n",
              "      <td>2020-01-17 12:09:36</td>\n",
              "      <td>1</td>\n",
              "    </tr>\n",
              "    <tr>\n",
              "      <th>1</th>\n",
              "      <td>1</td>\n",
              "      <td>False</td>\n",
              "      <td>False</td>\n",
              "      <td>False</td>\n",
              "      <td>True</td>\n",
              "      <td>True</td>\n",
              "      <td>False</td>\n",
              "      <td>1</td>\n",
              "      <td>3</td>\n",
              "      <td>4</td>\n",
              "      <td>1</td>\n",
              "      <td>114</td>\n",
              "      <td>181</td>\n",
              "      <td>175</td>\n",
              "      <td>4</td>\n",
              "      <td>1</td>\n",
              "      <td>1</td>\n",
              "      <td>131</td>\n",
              "      <td>101</td>\n",
              "      <td>96</td>\n",
              "      <td>1</td>\n",
              "      <td>3</td>\n",
              "      <td>5</td>\n",
              "      <td>1</td>\n",
              "      <td>1</td>\n",
              "      <td>2</td>\n",
              "      <td>1608</td>\n",
              "      <td>275</td>\n",
              "      <td>1</td>\n",
              "      <td>4</td>\n",
              "      <td>133</td>\n",
              "      <td>571659</td>\n",
              "      <td>346213</td>\n",
              "      <td>2020-06-18 17:48:52</td>\n",
              "      <td>0</td>\n",
              "    </tr>\n",
              "    <tr>\n",
              "      <th>2</th>\n",
              "      <td>2</td>\n",
              "      <td>False</td>\n",
              "      <td>False</td>\n",
              "      <td>False</td>\n",
              "      <td>True</td>\n",
              "      <td>False</td>\n",
              "      <td>False</td>\n",
              "      <td>2</td>\n",
              "      <td>0</td>\n",
              "      <td>3</td>\n",
              "      <td>5</td>\n",
              "      <td>464</td>\n",
              "      <td>175</td>\n",
              "      <td>452</td>\n",
              "      <td>3</td>\n",
              "      <td>1</td>\n",
              "      <td>1</td>\n",
              "      <td>54</td>\n",
              "      <td>263</td>\n",
              "      <td>56</td>\n",
              "      <td>3</td>\n",
              "      <td>1</td>\n",
              "      <td>10</td>\n",
              "      <td>2</td>\n",
              "      <td>1</td>\n",
              "      <td>1</td>\n",
              "      <td>1600</td>\n",
              "      <td>94</td>\n",
              "      <td>1</td>\n",
              "      <td>4</td>\n",
              "      <td>53</td>\n",
              "      <td>399816</td>\n",
              "      <td>206408</td>\n",
              "      <td>2020-07-08 20:00:10</td>\n",
              "      <td>0</td>\n",
              "    </tr>\n",
              "    <tr>\n",
              "      <th>3</th>\n",
              "      <td>3</td>\n",
              "      <td>False</td>\n",
              "      <td>False</td>\n",
              "      <td>False</td>\n",
              "      <td>True</td>\n",
              "      <td>False</td>\n",
              "      <td>False</td>\n",
              "      <td>2</td>\n",
              "      <td>0</td>\n",
              "      <td>2</td>\n",
              "      <td>5</td>\n",
              "      <td>703</td>\n",
              "      <td>705</td>\n",
              "      <td>704</td>\n",
              "      <td>3</td>\n",
              "      <td>1</td>\n",
              "      <td>1</td>\n",
              "      <td>72</td>\n",
              "      <td>227</td>\n",
              "      <td>2</td>\n",
              "      <td>1</td>\n",
              "      <td>3</td>\n",
              "      <td>5</td>\n",
              "      <td>1</td>\n",
              "      <td>1</td>\n",
              "      <td>2</td>\n",
              "      <td>1608</td>\n",
              "      <td>275</td>\n",
              "      <td>5</td>\n",
              "      <td>3</td>\n",
              "      <td>74</td>\n",
              "      <td>827967</td>\n",
              "      <td>572323</td>\n",
              "      <td>2020-01-13 18:09:34</td>\n",
              "      <td>0</td>\n",
              "    </tr>\n",
              "    <tr>\n",
              "      <th>4</th>\n",
              "      <td>4</td>\n",
              "      <td>True</td>\n",
              "      <td>True</td>\n",
              "      <td>True</td>\n",
              "      <td>False</td>\n",
              "      <td>False</td>\n",
              "      <td>False</td>\n",
              "      <td>1</td>\n",
              "      <td>3</td>\n",
              "      <td>4</td>\n",
              "      <td>5</td>\n",
              "      <td>275</td>\n",
              "      <td>370</td>\n",
              "      <td>369</td>\n",
              "      <td>4</td>\n",
              "      <td>1</td>\n",
              "      <td>1</td>\n",
              "      <td>214</td>\n",
              "      <td>210</td>\n",
              "      <td>209</td>\n",
              "      <td>1</td>\n",
              "      <td>1</td>\n",
              "      <td>10</td>\n",
              "      <td>2</td>\n",
              "      <td>1</td>\n",
              "      <td>2</td>\n",
              "      <td>1608</td>\n",
              "      <td>275</td>\n",
              "      <td>1</td>\n",
              "      <td>4</td>\n",
              "      <td>74</td>\n",
              "      <td>831614</td>\n",
              "      <td>573899</td>\n",
              "      <td>2020-03-09 20:39:22</td>\n",
              "      <td>0</td>\n",
              "    </tr>\n",
              "  </tbody>\n",
              "</table>\n",
              "</div>\n",
              "      <button class=\"colab-df-convert\" onclick=\"convertToInteractive('df-62079c98-122c-42f9-b301-607286c56c1a')\"\n",
              "              title=\"Convert this dataframe to an interactive table.\"\n",
              "              style=\"display:none;\">\n",
              "        \n",
              "  <svg xmlns=\"http://www.w3.org/2000/svg\" height=\"24px\"viewBox=\"0 0 24 24\"\n",
              "       width=\"24px\">\n",
              "    <path d=\"M0 0h24v24H0V0z\" fill=\"none\"/>\n",
              "    <path d=\"M18.56 5.44l.94 2.06.94-2.06 2.06-.94-2.06-.94-.94-2.06-.94 2.06-2.06.94zm-11 1L8.5 8.5l.94-2.06 2.06-.94-2.06-.94L8.5 2.5l-.94 2.06-2.06.94zm10 10l.94 2.06.94-2.06 2.06-.94-2.06-.94-.94-2.06-.94 2.06-2.06.94z\"/><path d=\"M17.41 7.96l-1.37-1.37c-.4-.4-.92-.59-1.43-.59-.52 0-1.04.2-1.43.59L10.3 9.45l-7.72 7.72c-.78.78-.78 2.05 0 2.83L4 21.41c.39.39.9.59 1.41.59.51 0 1.02-.2 1.41-.59l7.78-7.78 2.81-2.81c.8-.78.8-2.07 0-2.86zM5.41 20L4 18.59l7.72-7.72 1.47 1.35L5.41 20z\"/>\n",
              "  </svg>\n",
              "      </button>\n",
              "      \n",
              "  <style>\n",
              "    .colab-df-container {\n",
              "      display:flex;\n",
              "      flex-wrap:wrap;\n",
              "      gap: 12px;\n",
              "    }\n",
              "\n",
              "    .colab-df-convert {\n",
              "      background-color: #E8F0FE;\n",
              "      border: none;\n",
              "      border-radius: 50%;\n",
              "      cursor: pointer;\n",
              "      display: none;\n",
              "      fill: #1967D2;\n",
              "      height: 32px;\n",
              "      padding: 0 0 0 0;\n",
              "      width: 32px;\n",
              "    }\n",
              "\n",
              "    .colab-df-convert:hover {\n",
              "      background-color: #E2EBFA;\n",
              "      box-shadow: 0px 1px 2px rgba(60, 64, 67, 0.3), 0px 1px 3px 1px rgba(60, 64, 67, 0.15);\n",
              "      fill: #174EA6;\n",
              "    }\n",
              "\n",
              "    [theme=dark] .colab-df-convert {\n",
              "      background-color: #3B4455;\n",
              "      fill: #D2E3FC;\n",
              "    }\n",
              "\n",
              "    [theme=dark] .colab-df-convert:hover {\n",
              "      background-color: #434B5C;\n",
              "      box-shadow: 0px 1px 3px 1px rgba(0, 0, 0, 0.15);\n",
              "      filter: drop-shadow(0px 1px 2px rgba(0, 0, 0, 0.3));\n",
              "      fill: #FFFFFF;\n",
              "    }\n",
              "  </style>\n",
              "\n",
              "      <script>\n",
              "        const buttonEl =\n",
              "          document.querySelector('#df-62079c98-122c-42f9-b301-607286c56c1a button.colab-df-convert');\n",
              "        buttonEl.style.display =\n",
              "          google.colab.kernel.accessAllowed ? 'block' : 'none';\n",
              "\n",
              "        async function convertToInteractive(key) {\n",
              "          const element = document.querySelector('#df-62079c98-122c-42f9-b301-607286c56c1a');\n",
              "          const dataTable =\n",
              "            await google.colab.kernel.invokeFunction('convertToInteractive',\n",
              "                                                     [key], {});\n",
              "          if (!dataTable) return;\n",
              "\n",
              "          const docLinkHtml = 'Like what you see? Visit the ' +\n",
              "            '<a target=\"_blank\" href=https://colab.research.google.com/notebooks/data_table.ipynb>data table notebook</a>'\n",
              "            + ' to learn more about interactive tables.';\n",
              "          element.innerHTML = '';\n",
              "          dataTable['output_type'] = 'display_data';\n",
              "          await google.colab.output.renderOutput(dataTable, element);\n",
              "          const docLink = document.createElement('div');\n",
              "          docLink.innerHTML = docLinkHtml;\n",
              "          element.appendChild(docLink);\n",
              "        }\n",
              "      </script>\n",
              "    </div>\n",
              "  </div>\n",
              "  "
            ],
            "text/plain": [
              "   id  d_l_match_yn  d_m_match_yn  ...  contents_rn     contents_open_dt  target\n",
              "0   0          True          True  ...       354805  2020-01-17 12:09:36       1\n",
              "1   1         False         False  ...       346213  2020-06-18 17:48:52       0\n",
              "2   2         False         False  ...       206408  2020-07-08 20:00:10       0\n",
              "3   3         False         False  ...       572323  2020-01-13 18:09:34       0\n",
              "4   4          True          True  ...       573899  2020-03-09 20:39:22       0\n",
              "\n",
              "[5 rows x 35 columns]"
            ]
          },
          "metadata": {},
          "execution_count": 4
        }
      ]
    },
    {
      "cell_type": "markdown",
      "source": [
        "## 데이터 - 속성 코드 매칭\n",
        "\n",
        "참조 : [데이터 - 속성 코드 매칭](https://dacon.io/competitions/official/235863/codeshare/3877?page=1&dtype=recent)"
      ],
      "metadata": {
        "id": "tLBmPfcuw13L"
      }
    },
    {
      "cell_type": "code",
      "source": [
        "def add_code(\n",
        "    df: pd.DataFrame,\n",
        "    d_code: Dict[int, Dict[str, int]], \n",
        "    h_code: Dict[int, Dict[str, int]], \n",
        "    l_code: Dict[int, Dict[str, int]],\n",
        ") -> pd.DataFrame:\n",
        "    \n",
        "    # Copy input data\n",
        "    df = df.copy()   \n",
        "\n",
        "    # D Code\n",
        "    df['person_prefer_d_1_n'] = df['person_prefer_d_1'].apply(lambda x: d_code[x]['속성 D 세분류코드'])\n",
        "    df['person_prefer_d_1_s'] = df['person_prefer_d_1'].apply(lambda x: d_code[x]['속성 D 소분류코드'])\n",
        "    df['person_prefer_d_1_m'] = df['person_prefer_d_1'].apply(lambda x: d_code[x]['속성 D 중분류코드'])\n",
        "    df['person_prefer_d_1_l'] = df['person_prefer_d_1'].apply(lambda x: d_code[x]['속성 D 대분류코드'])\n",
        "\n",
        "    df['person_prefer_d_2_n'] = df['person_prefer_d_2'].apply(lambda x: d_code[x]['속성 D 세분류코드'])\n",
        "    df['person_prefer_d_2_s'] = df['person_prefer_d_2'].apply(lambda x: d_code[x]['속성 D 소분류코드'])\n",
        "    df['person_prefer_d_2_m'] = df['person_prefer_d_2'].apply(lambda x: d_code[x]['속성 D 중분류코드'])\n",
        "    df['person_prefer_d_2_l'] = df['person_prefer_d_2'].apply(lambda x: d_code[x]['속성 D 대분류코드'])\n",
        "\n",
        "    df['person_prefer_d_3_n'] = df['person_prefer_d_3'].apply(lambda x: d_code[x]['속성 D 세분류코드'])\n",
        "    df['person_prefer_d_3_s'] = df['person_prefer_d_3'].apply(lambda x: d_code[x]['속성 D 소분류코드'])\n",
        "    df['person_prefer_d_3_m'] = df['person_prefer_d_3'].apply(lambda x: d_code[x]['속성 D 중분류코드'])\n",
        "    df['person_prefer_d_3_l'] = df['person_prefer_d_3'].apply(lambda x: d_code[x]['속성 D 대분류코드'])\n",
        "\n",
        "    df['contents_attribute_d_n'] = df['contents_attribute_d'].apply(lambda x: d_code[x]['속성 D 세분류코드'])\n",
        "    df['contents_attribute_d_s'] = df['contents_attribute_d'].apply(lambda x: d_code[x]['속성 D 소분류코드'])\n",
        "    df['contents_attribute_d_m'] = df['contents_attribute_d'].apply(lambda x: d_code[x]['속성 D 중분류코드'])\n",
        "    df['contents_attribute_d_l'] = df['contents_attribute_d'].apply(lambda x: d_code[x]['속성 D 대분류코드'])\n",
        "\n",
        "    # H Code\n",
        "    df['person_prefer_h_1_l'] = df['person_prefer_h_1'].apply(lambda x: h_code[x]['속성 H 대분류코드'])\n",
        "    df['person_prefer_h_1_m'] = df['person_prefer_h_1'].apply(lambda x: h_code[x]['속성 H 중분류코드'])\n",
        "    \n",
        "    df['person_prefer_h_2_l'] = df['person_prefer_h_2'].apply(lambda x: h_code[x]['속성 H 대분류코드'])\n",
        "    df['person_prefer_h_2_m'] = df['person_prefer_h_2'].apply(lambda x: h_code[x]['속성 H 중분류코드'])\n",
        "    \n",
        "    df['person_prefer_h_3_l'] = df['person_prefer_h_3'].apply(lambda x: h_code[x]['속성 H 대분류코드'])\n",
        "    df['person_prefer_h_3_m'] = df['person_prefer_h_3'].apply(lambda x: h_code[x]['속성 H 중분류코드'])\n",
        "\n",
        "    df['contents_attribute_h_l'] = df['contents_attribute_h'].apply(lambda x: h_code[x]['속성 H 대분류코드'])\n",
        "    df['contents_attribute_h_m'] = df['contents_attribute_h'].apply(lambda x: h_code[x]['속성 H 중분류코드'])\n",
        "\n",
        "    # L Code\n",
        "    df['contents_attribute_l_n'] = df['contents_attribute_l'].apply(lambda x: l_code[x]['속성 L 세분류코드'])\n",
        "    df['contents_attribute_l_s'] = df['contents_attribute_l'].apply(lambda x: l_code[x]['속성 L 소분류코드'])\n",
        "    df['contents_attribute_l_m'] = df['contents_attribute_l'].apply(lambda x: l_code[x]['속성 L 중분류코드'])\n",
        "    df['contents_attribute_l_l'] = df['contents_attribute_l'].apply(lambda x: l_code[x]['속성 L 대분류코드'])\n",
        "    \n",
        "    return df\n",
        "\n",
        "train_data = add_code(train_data, d_code, h_code, l_code)\n",
        "test_data = add_code(test_data, d_code, h_code, l_code)\n",
        "print(\"train_data.shape: \", train_data.shape)\n",
        "print(\"test_data.shape: \", test_data.shape)"
      ],
      "metadata": {
        "colab": {
          "base_uri": "https://localhost:8080/"
        },
        "id": "LkGlcrRqwtG4",
        "outputId": "bf34ee41-90f8-45b0-a1ea-12fbb18f2ecd"
      },
      "execution_count": 5,
      "outputs": [
        {
          "output_type": "stream",
          "name": "stdout",
          "text": [
            "train_data.shape:  (501951, 63)\n",
            "test_data.shape:  (46404, 62)\n"
          ]
        }
      ]
    },
    {
      "cell_type": "code",
      "source": [
        "train_data.head()"
      ],
      "metadata": {
        "colab": {
          "base_uri": "https://localhost:8080/",
          "height": 357
        },
        "id": "mT1zVkeejakh",
        "outputId": "2c00f95e-bbc2-495c-dea9-5e257769340b"
      },
      "execution_count": 6,
      "outputs": [
        {
          "output_type": "execute_result",
          "data": {
            "text/html": [
              "\n",
              "  <div id=\"df-301a684b-44c8-4dd8-8c2a-a84f5d84227d\">\n",
              "    <div class=\"colab-df-container\">\n",
              "      <div>\n",
              "<style scoped>\n",
              "    .dataframe tbody tr th:only-of-type {\n",
              "        vertical-align: middle;\n",
              "    }\n",
              "\n",
              "    .dataframe tbody tr th {\n",
              "        vertical-align: top;\n",
              "    }\n",
              "\n",
              "    .dataframe thead th {\n",
              "        text-align: right;\n",
              "    }\n",
              "</style>\n",
              "<table border=\"1\" class=\"dataframe\">\n",
              "  <thead>\n",
              "    <tr style=\"text-align: right;\">\n",
              "      <th></th>\n",
              "      <th>id</th>\n",
              "      <th>d_l_match_yn</th>\n",
              "      <th>d_m_match_yn</th>\n",
              "      <th>d_s_match_yn</th>\n",
              "      <th>h_l_match_yn</th>\n",
              "      <th>h_m_match_yn</th>\n",
              "      <th>h_s_match_yn</th>\n",
              "      <th>person_attribute_a</th>\n",
              "      <th>person_attribute_a_1</th>\n",
              "      <th>person_attribute_b</th>\n",
              "      <th>person_prefer_c</th>\n",
              "      <th>person_prefer_d_1</th>\n",
              "      <th>person_prefer_d_2</th>\n",
              "      <th>person_prefer_d_3</th>\n",
              "      <th>person_prefer_e</th>\n",
              "      <th>person_prefer_f</th>\n",
              "      <th>person_prefer_g</th>\n",
              "      <th>person_prefer_h_1</th>\n",
              "      <th>person_prefer_h_2</th>\n",
              "      <th>person_prefer_h_3</th>\n",
              "      <th>contents_attribute_i</th>\n",
              "      <th>contents_attribute_a</th>\n",
              "      <th>contents_attribute_j_1</th>\n",
              "      <th>contents_attribute_j</th>\n",
              "      <th>contents_attribute_c</th>\n",
              "      <th>contents_attribute_k</th>\n",
              "      <th>contents_attribute_l</th>\n",
              "      <th>contents_attribute_d</th>\n",
              "      <th>contents_attribute_m</th>\n",
              "      <th>contents_attribute_e</th>\n",
              "      <th>contents_attribute_h</th>\n",
              "      <th>person_rn</th>\n",
              "      <th>contents_rn</th>\n",
              "      <th>contents_open_dt</th>\n",
              "      <th>target</th>\n",
              "      <th>person_prefer_d_1_n</th>\n",
              "      <th>person_prefer_d_1_s</th>\n",
              "      <th>person_prefer_d_1_m</th>\n",
              "      <th>person_prefer_d_1_l</th>\n",
              "      <th>person_prefer_d_2_n</th>\n",
              "      <th>person_prefer_d_2_s</th>\n",
              "      <th>person_prefer_d_2_m</th>\n",
              "      <th>person_prefer_d_2_l</th>\n",
              "      <th>person_prefer_d_3_n</th>\n",
              "      <th>person_prefer_d_3_s</th>\n",
              "      <th>person_prefer_d_3_m</th>\n",
              "      <th>person_prefer_d_3_l</th>\n",
              "      <th>contents_attribute_d_n</th>\n",
              "      <th>contents_attribute_d_s</th>\n",
              "      <th>contents_attribute_d_m</th>\n",
              "      <th>contents_attribute_d_l</th>\n",
              "      <th>person_prefer_h_1_l</th>\n",
              "      <th>person_prefer_h_1_m</th>\n",
              "      <th>person_prefer_h_2_l</th>\n",
              "      <th>person_prefer_h_2_m</th>\n",
              "      <th>person_prefer_h_3_l</th>\n",
              "      <th>person_prefer_h_3_m</th>\n",
              "      <th>contents_attribute_h_l</th>\n",
              "      <th>contents_attribute_h_m</th>\n",
              "      <th>contents_attribute_l_n</th>\n",
              "      <th>contents_attribute_l_s</th>\n",
              "      <th>contents_attribute_l_m</th>\n",
              "      <th>contents_attribute_l_l</th>\n",
              "    </tr>\n",
              "  </thead>\n",
              "  <tbody>\n",
              "    <tr>\n",
              "      <th>0</th>\n",
              "      <td>0</td>\n",
              "      <td>True</td>\n",
              "      <td>True</td>\n",
              "      <td>True</td>\n",
              "      <td>False</td>\n",
              "      <td>False</td>\n",
              "      <td>False</td>\n",
              "      <td>1</td>\n",
              "      <td>4</td>\n",
              "      <td>3</td>\n",
              "      <td>5</td>\n",
              "      <td>275</td>\n",
              "      <td>370</td>\n",
              "      <td>369</td>\n",
              "      <td>8</td>\n",
              "      <td>1</td>\n",
              "      <td>1</td>\n",
              "      <td>4</td>\n",
              "      <td>95</td>\n",
              "      <td>59</td>\n",
              "      <td>3</td>\n",
              "      <td>3</td>\n",
              "      <td>10</td>\n",
              "      <td>2</td>\n",
              "      <td>1</td>\n",
              "      <td>2</td>\n",
              "      <td>1608</td>\n",
              "      <td>275</td>\n",
              "      <td>1</td>\n",
              "      <td>4</td>\n",
              "      <td>139</td>\n",
              "      <td>618822</td>\n",
              "      <td>354805</td>\n",
              "      <td>2020-01-17 12:09:36</td>\n",
              "      <td>1</td>\n",
              "      <td>275</td>\n",
              "      <td>274</td>\n",
              "      <td>274</td>\n",
              "      <td>216</td>\n",
              "      <td>369</td>\n",
              "      <td>368</td>\n",
              "      <td>297</td>\n",
              "      <td>216</td>\n",
              "      <td>369</td>\n",
              "      <td>368</td>\n",
              "      <td>297</td>\n",
              "      <td>216</td>\n",
              "      <td>275</td>\n",
              "      <td>274</td>\n",
              "      <td>274</td>\n",
              "      <td>216</td>\n",
              "      <td>3</td>\n",
              "      <td>316</td>\n",
              "      <td>94</td>\n",
              "      <td>398</td>\n",
              "      <td>58</td>\n",
              "      <td>368</td>\n",
              "      <td>94</td>\n",
              "      <td>422</td>\n",
              "      <td>1607</td>\n",
              "      <td>1606</td>\n",
              "      <td>1605</td>\n",
              "      <td>2016</td>\n",
              "    </tr>\n",
              "    <tr>\n",
              "      <th>1</th>\n",
              "      <td>1</td>\n",
              "      <td>False</td>\n",
              "      <td>False</td>\n",
              "      <td>False</td>\n",
              "      <td>True</td>\n",
              "      <td>True</td>\n",
              "      <td>False</td>\n",
              "      <td>1</td>\n",
              "      <td>3</td>\n",
              "      <td>4</td>\n",
              "      <td>1</td>\n",
              "      <td>114</td>\n",
              "      <td>181</td>\n",
              "      <td>175</td>\n",
              "      <td>4</td>\n",
              "      <td>1</td>\n",
              "      <td>1</td>\n",
              "      <td>131</td>\n",
              "      <td>101</td>\n",
              "      <td>96</td>\n",
              "      <td>1</td>\n",
              "      <td>3</td>\n",
              "      <td>5</td>\n",
              "      <td>1</td>\n",
              "      <td>1</td>\n",
              "      <td>2</td>\n",
              "      <td>1608</td>\n",
              "      <td>275</td>\n",
              "      <td>1</td>\n",
              "      <td>4</td>\n",
              "      <td>133</td>\n",
              "      <td>571659</td>\n",
              "      <td>346213</td>\n",
              "      <td>2020-06-18 17:48:52</td>\n",
              "      <td>0</td>\n",
              "      <td>114</td>\n",
              "      <td>109</td>\n",
              "      <td>56</td>\n",
              "      <td>1</td>\n",
              "      <td>175</td>\n",
              "      <td>152</td>\n",
              "      <td>56</td>\n",
              "      <td>1</td>\n",
              "      <td>175</td>\n",
              "      <td>152</td>\n",
              "      <td>56</td>\n",
              "      <td>1</td>\n",
              "      <td>275</td>\n",
              "      <td>274</td>\n",
              "      <td>274</td>\n",
              "      <td>216</td>\n",
              "      <td>94</td>\n",
              "      <td>417</td>\n",
              "      <td>94</td>\n",
              "      <td>400</td>\n",
              "      <td>94</td>\n",
              "      <td>399</td>\n",
              "      <td>94</td>\n",
              "      <td>417</td>\n",
              "      <td>1607</td>\n",
              "      <td>1606</td>\n",
              "      <td>1605</td>\n",
              "      <td>2016</td>\n",
              "    </tr>\n",
              "    <tr>\n",
              "      <th>2</th>\n",
              "      <td>2</td>\n",
              "      <td>False</td>\n",
              "      <td>False</td>\n",
              "      <td>False</td>\n",
              "      <td>True</td>\n",
              "      <td>False</td>\n",
              "      <td>False</td>\n",
              "      <td>2</td>\n",
              "      <td>0</td>\n",
              "      <td>3</td>\n",
              "      <td>5</td>\n",
              "      <td>464</td>\n",
              "      <td>175</td>\n",
              "      <td>452</td>\n",
              "      <td>3</td>\n",
              "      <td>1</td>\n",
              "      <td>1</td>\n",
              "      <td>54</td>\n",
              "      <td>263</td>\n",
              "      <td>56</td>\n",
              "      <td>3</td>\n",
              "      <td>1</td>\n",
              "      <td>10</td>\n",
              "      <td>2</td>\n",
              "      <td>1</td>\n",
              "      <td>1</td>\n",
              "      <td>1600</td>\n",
              "      <td>94</td>\n",
              "      <td>1</td>\n",
              "      <td>4</td>\n",
              "      <td>53</td>\n",
              "      <td>399816</td>\n",
              "      <td>206408</td>\n",
              "      <td>2020-07-08 20:00:10</td>\n",
              "      <td>0</td>\n",
              "      <td>464</td>\n",
              "      <td>463</td>\n",
              "      <td>450</td>\n",
              "      <td>377</td>\n",
              "      <td>175</td>\n",
              "      <td>152</td>\n",
              "      <td>56</td>\n",
              "      <td>1</td>\n",
              "      <td>452</td>\n",
              "      <td>451</td>\n",
              "      <td>450</td>\n",
              "      <td>377</td>\n",
              "      <td>92</td>\n",
              "      <td>91</td>\n",
              "      <td>56</td>\n",
              "      <td>1</td>\n",
              "      <td>48</td>\n",
              "      <td>364</td>\n",
              "      <td>250</td>\n",
              "      <td>528</td>\n",
              "      <td>48</td>\n",
              "      <td>366</td>\n",
              "      <td>48</td>\n",
              "      <td>363</td>\n",
              "      <td>1599</td>\n",
              "      <td>1595</td>\n",
              "      <td>1572</td>\n",
              "      <td>2016</td>\n",
              "    </tr>\n",
              "    <tr>\n",
              "      <th>3</th>\n",
              "      <td>3</td>\n",
              "      <td>False</td>\n",
              "      <td>False</td>\n",
              "      <td>False</td>\n",
              "      <td>True</td>\n",
              "      <td>False</td>\n",
              "      <td>False</td>\n",
              "      <td>2</td>\n",
              "      <td>0</td>\n",
              "      <td>2</td>\n",
              "      <td>5</td>\n",
              "      <td>703</td>\n",
              "      <td>705</td>\n",
              "      <td>704</td>\n",
              "      <td>3</td>\n",
              "      <td>1</td>\n",
              "      <td>1</td>\n",
              "      <td>72</td>\n",
              "      <td>227</td>\n",
              "      <td>2</td>\n",
              "      <td>1</td>\n",
              "      <td>3</td>\n",
              "      <td>5</td>\n",
              "      <td>1</td>\n",
              "      <td>1</td>\n",
              "      <td>2</td>\n",
              "      <td>1608</td>\n",
              "      <td>275</td>\n",
              "      <td>5</td>\n",
              "      <td>3</td>\n",
              "      <td>74</td>\n",
              "      <td>827967</td>\n",
              "      <td>572323</td>\n",
              "      <td>2020-01-13 18:09:34</td>\n",
              "      <td>0</td>\n",
              "      <td>703</td>\n",
              "      <td>703</td>\n",
              "      <td>690</td>\n",
              "      <td>618</td>\n",
              "      <td>703</td>\n",
              "      <td>703</td>\n",
              "      <td>690</td>\n",
              "      <td>618</td>\n",
              "      <td>703</td>\n",
              "      <td>703</td>\n",
              "      <td>690</td>\n",
              "      <td>618</td>\n",
              "      <td>275</td>\n",
              "      <td>274</td>\n",
              "      <td>274</td>\n",
              "      <td>216</td>\n",
              "      <td>71</td>\n",
              "      <td>379</td>\n",
              "      <td>226</td>\n",
              "      <td>495</td>\n",
              "      <td>1</td>\n",
              "      <td>315</td>\n",
              "      <td>71</td>\n",
              "      <td>381</td>\n",
              "      <td>1607</td>\n",
              "      <td>1606</td>\n",
              "      <td>1605</td>\n",
              "      <td>2016</td>\n",
              "    </tr>\n",
              "    <tr>\n",
              "      <th>4</th>\n",
              "      <td>4</td>\n",
              "      <td>True</td>\n",
              "      <td>True</td>\n",
              "      <td>True</td>\n",
              "      <td>False</td>\n",
              "      <td>False</td>\n",
              "      <td>False</td>\n",
              "      <td>1</td>\n",
              "      <td>3</td>\n",
              "      <td>4</td>\n",
              "      <td>5</td>\n",
              "      <td>275</td>\n",
              "      <td>370</td>\n",
              "      <td>369</td>\n",
              "      <td>4</td>\n",
              "      <td>1</td>\n",
              "      <td>1</td>\n",
              "      <td>214</td>\n",
              "      <td>210</td>\n",
              "      <td>209</td>\n",
              "      <td>1</td>\n",
              "      <td>1</td>\n",
              "      <td>10</td>\n",
              "      <td>2</td>\n",
              "      <td>1</td>\n",
              "      <td>2</td>\n",
              "      <td>1608</td>\n",
              "      <td>275</td>\n",
              "      <td>1</td>\n",
              "      <td>4</td>\n",
              "      <td>74</td>\n",
              "      <td>831614</td>\n",
              "      <td>573899</td>\n",
              "      <td>2020-03-09 20:39:22</td>\n",
              "      <td>0</td>\n",
              "      <td>275</td>\n",
              "      <td>274</td>\n",
              "      <td>274</td>\n",
              "      <td>216</td>\n",
              "      <td>369</td>\n",
              "      <td>368</td>\n",
              "      <td>297</td>\n",
              "      <td>216</td>\n",
              "      <td>369</td>\n",
              "      <td>368</td>\n",
              "      <td>297</td>\n",
              "      <td>216</td>\n",
              "      <td>275</td>\n",
              "      <td>274</td>\n",
              "      <td>274</td>\n",
              "      <td>216</td>\n",
              "      <td>208</td>\n",
              "      <td>483</td>\n",
              "      <td>208</td>\n",
              "      <td>481</td>\n",
              "      <td>208</td>\n",
              "      <td>480</td>\n",
              "      <td>71</td>\n",
              "      <td>381</td>\n",
              "      <td>1607</td>\n",
              "      <td>1606</td>\n",
              "      <td>1605</td>\n",
              "      <td>2016</td>\n",
              "    </tr>\n",
              "  </tbody>\n",
              "</table>\n",
              "</div>\n",
              "      <button class=\"colab-df-convert\" onclick=\"convertToInteractive('df-301a684b-44c8-4dd8-8c2a-a84f5d84227d')\"\n",
              "              title=\"Convert this dataframe to an interactive table.\"\n",
              "              style=\"display:none;\">\n",
              "        \n",
              "  <svg xmlns=\"http://www.w3.org/2000/svg\" height=\"24px\"viewBox=\"0 0 24 24\"\n",
              "       width=\"24px\">\n",
              "    <path d=\"M0 0h24v24H0V0z\" fill=\"none\"/>\n",
              "    <path d=\"M18.56 5.44l.94 2.06.94-2.06 2.06-.94-2.06-.94-.94-2.06-.94 2.06-2.06.94zm-11 1L8.5 8.5l.94-2.06 2.06-.94-2.06-.94L8.5 2.5l-.94 2.06-2.06.94zm10 10l.94 2.06.94-2.06 2.06-.94-2.06-.94-.94-2.06-.94 2.06-2.06.94z\"/><path d=\"M17.41 7.96l-1.37-1.37c-.4-.4-.92-.59-1.43-.59-.52 0-1.04.2-1.43.59L10.3 9.45l-7.72 7.72c-.78.78-.78 2.05 0 2.83L4 21.41c.39.39.9.59 1.41.59.51 0 1.02-.2 1.41-.59l7.78-7.78 2.81-2.81c.8-.78.8-2.07 0-2.86zM5.41 20L4 18.59l7.72-7.72 1.47 1.35L5.41 20z\"/>\n",
              "  </svg>\n",
              "      </button>\n",
              "      \n",
              "  <style>\n",
              "    .colab-df-container {\n",
              "      display:flex;\n",
              "      flex-wrap:wrap;\n",
              "      gap: 12px;\n",
              "    }\n",
              "\n",
              "    .colab-df-convert {\n",
              "      background-color: #E8F0FE;\n",
              "      border: none;\n",
              "      border-radius: 50%;\n",
              "      cursor: pointer;\n",
              "      display: none;\n",
              "      fill: #1967D2;\n",
              "      height: 32px;\n",
              "      padding: 0 0 0 0;\n",
              "      width: 32px;\n",
              "    }\n",
              "\n",
              "    .colab-df-convert:hover {\n",
              "      background-color: #E2EBFA;\n",
              "      box-shadow: 0px 1px 2px rgba(60, 64, 67, 0.3), 0px 1px 3px 1px rgba(60, 64, 67, 0.15);\n",
              "      fill: #174EA6;\n",
              "    }\n",
              "\n",
              "    [theme=dark] .colab-df-convert {\n",
              "      background-color: #3B4455;\n",
              "      fill: #D2E3FC;\n",
              "    }\n",
              "\n",
              "    [theme=dark] .colab-df-convert:hover {\n",
              "      background-color: #434B5C;\n",
              "      box-shadow: 0px 1px 3px 1px rgba(0, 0, 0, 0.15);\n",
              "      filter: drop-shadow(0px 1px 2px rgba(0, 0, 0, 0.3));\n",
              "      fill: #FFFFFF;\n",
              "    }\n",
              "  </style>\n",
              "\n",
              "      <script>\n",
              "        const buttonEl =\n",
              "          document.querySelector('#df-301a684b-44c8-4dd8-8c2a-a84f5d84227d button.colab-df-convert');\n",
              "        buttonEl.style.display =\n",
              "          google.colab.kernel.accessAllowed ? 'block' : 'none';\n",
              "\n",
              "        async function convertToInteractive(key) {\n",
              "          const element = document.querySelector('#df-301a684b-44c8-4dd8-8c2a-a84f5d84227d');\n",
              "          const dataTable =\n",
              "            await google.colab.kernel.invokeFunction('convertToInteractive',\n",
              "                                                     [key], {});\n",
              "          if (!dataTable) return;\n",
              "\n",
              "          const docLinkHtml = 'Like what you see? Visit the ' +\n",
              "            '<a target=\"_blank\" href=https://colab.research.google.com/notebooks/data_table.ipynb>data table notebook</a>'\n",
              "            + ' to learn more about interactive tables.';\n",
              "          element.innerHTML = '';\n",
              "          dataTable['output_type'] = 'display_data';\n",
              "          await google.colab.output.renderOutput(dataTable, element);\n",
              "          const docLink = document.createElement('div');\n",
              "          docLink.innerHTML = docLinkHtml;\n",
              "          element.appendChild(docLink);\n",
              "        }\n",
              "      </script>\n",
              "    </div>\n",
              "  </div>\n",
              "  "
            ],
            "text/plain": [
              "   id  d_l_match_yn  ...  contents_attribute_l_m  contents_attribute_l_l\n",
              "0   0          True  ...                    1605                    2016\n",
              "1   1         False  ...                    1605                    2016\n",
              "2   2         False  ...                    1572                    2016\n",
              "3   3         False  ...                    1605                    2016\n",
              "4   4          True  ...                    1605                    2016\n",
              "\n",
              "[5 rows x 63 columns]"
            ]
          },
          "metadata": {},
          "execution_count": 6
        }
      ]
    },
    {
      "cell_type": "markdown",
      "source": [
        "## 날짜데이터 전처리\n",
        "\n",
        "* contents_open_dt 데이터에 대해서 전처리를 합니다.\n",
        "* 년, 달, 일 데이터를 남기고 시간, 분 데이터는 버립니다."
      ],
      "metadata": {
        "id": "hBH-JF3exFcn"
      }
    },
    {
      "cell_type": "code",
      "source": [
        "def preprocessing_contents_open_dt(data):\n",
        "    data['contents_open_dt'] = data['contents_open_dt'].astype('str')\n",
        "    DATE = data['contents_open_dt'].apply(lambda x: datetime.strptime(x, '%Y-%m-%d %H:%M:%S'))\n",
        "    \n",
        "    DATE = pd.DataFrame(DATE)\n",
        "    DATE = DATE.rename(columns = {'contents_open_dt': 'date'})\n",
        "    \n",
        "    DATE['Y'] = DATE['date'].apply(lambda x: x.timetuple()[0])\n",
        "    DATE['M'] = DATE['date'].apply(lambda x: x.timetuple()[1])\n",
        "    DATE['D'] = DATE['date'].apply(lambda x: x.timetuple()[2])\n",
        "    DATE['id'] = data['id']\n",
        "    \n",
        "    data = data.merge(DATE, on = 'id', how = 'left')\n",
        "    data = data.drop(columns = ['date', 'contents_open_dt'])\n",
        "    return data\n",
        "\n",
        "train_data = preprocessing_contents_open_dt(train_data)\n",
        "test_data = preprocessing_contents_open_dt(test_data)\n",
        "\n",
        "# 안전하게 확인하고 넘어 갑시다. \n",
        "train_data_labels = train_data['target']\n",
        "train_data, test_data = train_data.align(test_data, join = 'inner', axis = 1)\n",
        "train_data['target'] = train_data_labels\n",
        "print(\"train_data.shape: \", train_data.shape)\n",
        "print(\"test_data.shape: \", test_data.shape)"
      ],
      "metadata": {
        "colab": {
          "base_uri": "https://localhost:8080/"
        },
        "id": "l4QRJUkCw3lO",
        "outputId": "19d9cb06-2604-4b65-89f2-b7e482bfde45"
      },
      "execution_count": 7,
      "outputs": [
        {
          "output_type": "stream",
          "name": "stdout",
          "text": [
            "train_data.shape:  (501951, 65)\n",
            "test_data.shape:  (46404, 64)\n"
          ]
        }
      ]
    },
    {
      "cell_type": "code",
      "source": [
        "job_data = train_data.copy()\n",
        "job_data_test = test_data.copy()"
      ],
      "metadata": {
        "id": "ZyH6HWmYxMTx"
      },
      "execution_count": 8,
      "outputs": []
    },
    {
      "cell_type": "markdown",
      "source": [
        "## Target Columns 분포도 파악\n",
        "* value_counts()를 통해서 target에 대한 데이터 분포도 확인\n",
        "* plot.hist()를 통해서 시각적으로 데이터 분포도 확인\n",
        "* imbalanced class problem 문제가 보이지 않음 (0과 1 비율 약 50:50)"
      ],
      "metadata": {
        "id": "YmFvUpw7THMF"
      }
    },
    {
      "cell_type": "code",
      "source": [
        "print(\"job 데이터 target 분포도:\")\n",
        "print(job_data['target'].value_counts())\n",
        "job_data['target'].plot.hist(title = \"Distribution Of Target\")\n"
      ],
      "metadata": {
        "colab": {
          "base_uri": "https://localhost:8080/",
          "height": 375
        },
        "id": "84aWbpSBTGX2",
        "outputId": "721ac3a2-c008-4ae1-962f-eb15f2a0cdac"
      },
      "execution_count": 9,
      "outputs": [
        {
          "output_type": "stream",
          "name": "stdout",
          "text": [
            "job 데이터 target 분포도:\n",
            "0    251106\n",
            "1    250845\n",
            "Name: target, dtype: int64\n"
          ]
        },
        {
          "output_type": "execute_result",
          "data": {
            "text/plain": [
              "<matplotlib.axes._subplots.AxesSubplot at 0x7fa915dd3750>"
            ]
          },
          "metadata": {},
          "execution_count": 9
        },
        {
          "output_type": "display_data",
          "data": {
            "image/png": "[encoded data removed]",
            "text/plain": [
              "<Figure size 432x288 with 1 Axes>"
            ]
          },
          "metadata": {
            "needs_background": "light"
          }
        }
      ]
    },
    {
      "cell_type": "markdown",
      "source": [
        "## 데이터에 포함된 결측치 파악\n",
        "* 모든 데이터에서 결측치가 포함되어 있지 않음\n",
        "* 결측치가 포함되어 있지 않기 때문에 결측치 처리를 하지 않아도 됨\n",
        "  * 결측치가 포함되어 있다면 SimpleImputer 함수를 통해서 처리한다.\n",
        "  * 평균 값으로 하고자 한다면 strategy = 'mean'\n",
        "  * 중앙 값으로 하고자 한다면 strateget = 'median'\n",
        "    * 대부분은 중앙 값으로 대체하는 게 옳다. 평균 값은 이상치에 따라서 외곡이 크기 때문이다. 이는 EDA를 통해서 데이터 분포를 파악해서 상황에 따라서 유동적으로 사용해야 함."
      ],
      "metadata": {
        "id": "_-YRGEFzTtD4"
      }
    },
    {
      "cell_type": "code",
      "source": [
        "mis_val = job_data.isnull().sum()\n",
        "mis_val_bool = mis_val >= 1\n",
        "\n",
        "mis_val_df = pd.concat([mis_val, mis_val_bool], axis = 1)\n",
        "mis_val_df = mis_val_df.rename(columns = {0: 'mis_val', 1: 'mis_val_bool'})\n",
        "\n",
        "print(\"데이터 결측치 값: \")\n",
        "print(mis_val_df['mis_val_bool'].value_counts())\n",
        "\n",
        "mis_val_df['mis_val_bool'].astype(int).plot.hist(title = \"Distribution Of Missing Values\")"
      ],
      "metadata": {
        "colab": {
          "base_uri": "https://localhost:8080/",
          "height": 357
        },
        "id": "zxIOgwGJTRoa",
        "outputId": "52c41f44-5dc0-4c8a-ab04-ec6cc7632835"
      },
      "execution_count": 10,
      "outputs": [
        {
          "output_type": "stream",
          "name": "stdout",
          "text": [
            "데이터 결측치 값: \n",
            "False    65\n",
            "Name: mis_val_bool, dtype: int64\n"
          ]
        },
        {
          "output_type": "execute_result",
          "data": {
            "text/plain": [
              "<matplotlib.axes._subplots.AxesSubplot at 0x7fa8fd277e50>"
            ]
          },
          "metadata": {},
          "execution_count": 10
        },
        {
          "output_type": "display_data",
          "data": {
            "image/png": "[encoded data removed]",
            "text/plain": [
              "<Figure size 432x288 with 1 Axes>"
            ]
          },
          "metadata": {
            "needs_background": "light"
          }
        }
      ]
    },
    {
      "cell_type": "code",
      "source": [
        "mis_val_df.head(60)"
      ],
      "metadata": {
        "colab": {
          "base_uri": "https://localhost:8080/",
          "height": 1000
        },
        "id": "88XihYcCT6Qx",
        "outputId": "27be111a-82b3-4877-af50-ba891a9994de"
      },
      "execution_count": 11,
      "outputs": [
        {
          "output_type": "execute_result",
          "data": {
            "text/html": [
              "\n",
              "  <div id=\"df-b0c94de5-63bd-4848-836a-214eb34e3f67\">\n",
              "    <div class=\"colab-df-container\">\n",
              "      <div>\n",
              "<style scoped>\n",
              "    .dataframe tbody tr th:only-of-type {\n",
              "        vertical-align: middle;\n",
              "    }\n",
              "\n",
              "    .dataframe tbody tr th {\n",
              "        vertical-align: top;\n",
              "    }\n",
              "\n",
              "    .dataframe thead th {\n",
              "        text-align: right;\n",
              "    }\n",
              "</style>\n",
              "<table border=\"1\" class=\"dataframe\">\n",
              "  <thead>\n",
              "    <tr style=\"text-align: right;\">\n",
              "      <th></th>\n",
              "      <th>mis_val</th>\n",
              "      <th>mis_val_bool</th>\n",
              "    </tr>\n",
              "  </thead>\n",
              "  <tbody>\n",
              "    <tr>\n",
              "      <th>id</th>\n",
              "      <td>0</td>\n",
              "      <td>False</td>\n",
              "    </tr>\n",
              "    <tr>\n",
              "      <th>d_l_match_yn</th>\n",
              "      <td>0</td>\n",
              "      <td>False</td>\n",
              "    </tr>\n",
              "    <tr>\n",
              "      <th>d_m_match_yn</th>\n",
              "      <td>0</td>\n",
              "      <td>False</td>\n",
              "    </tr>\n",
              "    <tr>\n",
              "      <th>d_s_match_yn</th>\n",
              "      <td>0</td>\n",
              "      <td>False</td>\n",
              "    </tr>\n",
              "    <tr>\n",
              "      <th>h_l_match_yn</th>\n",
              "      <td>0</td>\n",
              "      <td>False</td>\n",
              "    </tr>\n",
              "    <tr>\n",
              "      <th>h_m_match_yn</th>\n",
              "      <td>0</td>\n",
              "      <td>False</td>\n",
              "    </tr>\n",
              "    <tr>\n",
              "      <th>h_s_match_yn</th>\n",
              "      <td>0</td>\n",
              "      <td>False</td>\n",
              "    </tr>\n",
              "    <tr>\n",
              "      <th>person_attribute_a</th>\n",
              "      <td>0</td>\n",
              "      <td>False</td>\n",
              "    </tr>\n",
              "    <tr>\n",
              "      <th>person_attribute_a_1</th>\n",
              "      <td>0</td>\n",
              "      <td>False</td>\n",
              "    </tr>\n",
              "    <tr>\n",
              "      <th>person_attribute_b</th>\n",
              "      <td>0</td>\n",
              "      <td>False</td>\n",
              "    </tr>\n",
              "    <tr>\n",
              "      <th>person_prefer_c</th>\n",
              "      <td>0</td>\n",
              "      <td>False</td>\n",
              "    </tr>\n",
              "    <tr>\n",
              "      <th>person_prefer_d_1</th>\n",
              "      <td>0</td>\n",
              "      <td>False</td>\n",
              "    </tr>\n",
              "    <tr>\n",
              "      <th>person_prefer_d_2</th>\n",
              "      <td>0</td>\n",
              "      <td>False</td>\n",
              "    </tr>\n",
              "    <tr>\n",
              "      <th>person_prefer_d_3</th>\n",
              "      <td>0</td>\n",
              "      <td>False</td>\n",
              "    </tr>\n",
              "    <tr>\n",
              "      <th>person_prefer_e</th>\n",
              "      <td>0</td>\n",
              "      <td>False</td>\n",
              "    </tr>\n",
              "    <tr>\n",
              "      <th>person_prefer_f</th>\n",
              "      <td>0</td>\n",
              "      <td>False</td>\n",
              "    </tr>\n",
              "    <tr>\n",
              "      <th>person_prefer_g</th>\n",
              "      <td>0</td>\n",
              "      <td>False</td>\n",
              "    </tr>\n",
              "    <tr>\n",
              "      <th>person_prefer_h_1</th>\n",
              "      <td>0</td>\n",
              "      <td>False</td>\n",
              "    </tr>\n",
              "    <tr>\n",
              "      <th>person_prefer_h_2</th>\n",
              "      <td>0</td>\n",
              "      <td>False</td>\n",
              "    </tr>\n",
              "    <tr>\n",
              "      <th>person_prefer_h_3</th>\n",
              "      <td>0</td>\n",
              "      <td>False</td>\n",
              "    </tr>\n",
              "    <tr>\n",
              "      <th>contents_attribute_i</th>\n",
              "      <td>0</td>\n",
              "      <td>False</td>\n",
              "    </tr>\n",
              "    <tr>\n",
              "      <th>contents_attribute_a</th>\n",
              "      <td>0</td>\n",
              "      <td>False</td>\n",
              "    </tr>\n",
              "    <tr>\n",
              "      <th>contents_attribute_j_1</th>\n",
              "      <td>0</td>\n",
              "      <td>False</td>\n",
              "    </tr>\n",
              "    <tr>\n",
              "      <th>contents_attribute_j</th>\n",
              "      <td>0</td>\n",
              "      <td>False</td>\n",
              "    </tr>\n",
              "    <tr>\n",
              "      <th>contents_attribute_c</th>\n",
              "      <td>0</td>\n",
              "      <td>False</td>\n",
              "    </tr>\n",
              "    <tr>\n",
              "      <th>contents_attribute_k</th>\n",
              "      <td>0</td>\n",
              "      <td>False</td>\n",
              "    </tr>\n",
              "    <tr>\n",
              "      <th>contents_attribute_l</th>\n",
              "      <td>0</td>\n",
              "      <td>False</td>\n",
              "    </tr>\n",
              "    <tr>\n",
              "      <th>contents_attribute_d</th>\n",
              "      <td>0</td>\n",
              "      <td>False</td>\n",
              "    </tr>\n",
              "    <tr>\n",
              "      <th>contents_attribute_m</th>\n",
              "      <td>0</td>\n",
              "      <td>False</td>\n",
              "    </tr>\n",
              "    <tr>\n",
              "      <th>contents_attribute_e</th>\n",
              "      <td>0</td>\n",
              "      <td>False</td>\n",
              "    </tr>\n",
              "    <tr>\n",
              "      <th>contents_attribute_h</th>\n",
              "      <td>0</td>\n",
              "      <td>False</td>\n",
              "    </tr>\n",
              "    <tr>\n",
              "      <th>person_rn</th>\n",
              "      <td>0</td>\n",
              "      <td>False</td>\n",
              "    </tr>\n",
              "    <tr>\n",
              "      <th>contents_rn</th>\n",
              "      <td>0</td>\n",
              "      <td>False</td>\n",
              "    </tr>\n",
              "    <tr>\n",
              "      <th>person_prefer_d_1_n</th>\n",
              "      <td>0</td>\n",
              "      <td>False</td>\n",
              "    </tr>\n",
              "    <tr>\n",
              "      <th>person_prefer_d_1_s</th>\n",
              "      <td>0</td>\n",
              "      <td>False</td>\n",
              "    </tr>\n",
              "    <tr>\n",
              "      <th>person_prefer_d_1_m</th>\n",
              "      <td>0</td>\n",
              "      <td>False</td>\n",
              "    </tr>\n",
              "    <tr>\n",
              "      <th>person_prefer_d_1_l</th>\n",
              "      <td>0</td>\n",
              "      <td>False</td>\n",
              "    </tr>\n",
              "    <tr>\n",
              "      <th>person_prefer_d_2_n</th>\n",
              "      <td>0</td>\n",
              "      <td>False</td>\n",
              "    </tr>\n",
              "    <tr>\n",
              "      <th>person_prefer_d_2_s</th>\n",
              "      <td>0</td>\n",
              "      <td>False</td>\n",
              "    </tr>\n",
              "    <tr>\n",
              "      <th>person_prefer_d_2_m</th>\n",
              "      <td>0</td>\n",
              "      <td>False</td>\n",
              "    </tr>\n",
              "    <tr>\n",
              "      <th>person_prefer_d_2_l</th>\n",
              "      <td>0</td>\n",
              "      <td>False</td>\n",
              "    </tr>\n",
              "    <tr>\n",
              "      <th>person_prefer_d_3_n</th>\n",
              "      <td>0</td>\n",
              "      <td>False</td>\n",
              "    </tr>\n",
              "    <tr>\n",
              "      <th>person_prefer_d_3_s</th>\n",
              "      <td>0</td>\n",
              "      <td>False</td>\n",
              "    </tr>\n",
              "    <tr>\n",
              "      <th>person_prefer_d_3_m</th>\n",
              "      <td>0</td>\n",
              "      <td>False</td>\n",
              "    </tr>\n",
              "    <tr>\n",
              "      <th>person_prefer_d_3_l</th>\n",
              "      <td>0</td>\n",
              "      <td>False</td>\n",
              "    </tr>\n",
              "    <tr>\n",
              "      <th>contents_attribute_d_n</th>\n",
              "      <td>0</td>\n",
              "      <td>False</td>\n",
              "    </tr>\n",
              "    <tr>\n",
              "      <th>contents_attribute_d_s</th>\n",
              "      <td>0</td>\n",
              "      <td>False</td>\n",
              "    </tr>\n",
              "    <tr>\n",
              "      <th>contents_attribute_d_m</th>\n",
              "      <td>0</td>\n",
              "      <td>False</td>\n",
              "    </tr>\n",
              "    <tr>\n",
              "      <th>contents_attribute_d_l</th>\n",
              "      <td>0</td>\n",
              "      <td>False</td>\n",
              "    </tr>\n",
              "    <tr>\n",
              "      <th>person_prefer_h_1_l</th>\n",
              "      <td>0</td>\n",
              "      <td>False</td>\n",
              "    </tr>\n",
              "    <tr>\n",
              "      <th>person_prefer_h_1_m</th>\n",
              "      <td>0</td>\n",
              "      <td>False</td>\n",
              "    </tr>\n",
              "    <tr>\n",
              "      <th>person_prefer_h_2_l</th>\n",
              "      <td>0</td>\n",
              "      <td>False</td>\n",
              "    </tr>\n",
              "    <tr>\n",
              "      <th>person_prefer_h_2_m</th>\n",
              "      <td>0</td>\n",
              "      <td>False</td>\n",
              "    </tr>\n",
              "    <tr>\n",
              "      <th>person_prefer_h_3_l</th>\n",
              "      <td>0</td>\n",
              "      <td>False</td>\n",
              "    </tr>\n",
              "    <tr>\n",
              "      <th>person_prefer_h_3_m</th>\n",
              "      <td>0</td>\n",
              "      <td>False</td>\n",
              "    </tr>\n",
              "    <tr>\n",
              "      <th>contents_attribute_h_l</th>\n",
              "      <td>0</td>\n",
              "      <td>False</td>\n",
              "    </tr>\n",
              "    <tr>\n",
              "      <th>contents_attribute_h_m</th>\n",
              "      <td>0</td>\n",
              "      <td>False</td>\n",
              "    </tr>\n",
              "    <tr>\n",
              "      <th>contents_attribute_l_n</th>\n",
              "      <td>0</td>\n",
              "      <td>False</td>\n",
              "    </tr>\n",
              "    <tr>\n",
              "      <th>contents_attribute_l_s</th>\n",
              "      <td>0</td>\n",
              "      <td>False</td>\n",
              "    </tr>\n",
              "    <tr>\n",
              "      <th>contents_attribute_l_m</th>\n",
              "      <td>0</td>\n",
              "      <td>False</td>\n",
              "    </tr>\n",
              "  </tbody>\n",
              "</table>\n",
              "</div>\n",
              "      <button class=\"colab-df-convert\" onclick=\"convertToInteractive('df-b0c94de5-63bd-4848-836a-214eb34e3f67')\"\n",
              "              title=\"Convert this dataframe to an interactive table.\"\n",
              "              style=\"display:none;\">\n",
              "        \n",
              "  <svg xmlns=\"http://www.w3.org/2000/svg\" height=\"24px\"viewBox=\"0 0 24 24\"\n",
              "       width=\"24px\">\n",
              "    <path d=\"M0 0h24v24H0V0z\" fill=\"none\"/>\n",
              "    <path d=\"M18.56 5.44l.94 2.06.94-2.06 2.06-.94-2.06-.94-.94-2.06-.94 2.06-2.06.94zm-11 1L8.5 8.5l.94-2.06 2.06-.94-2.06-.94L8.5 2.5l-.94 2.06-2.06.94zm10 10l.94 2.06.94-2.06 2.06-.94-2.06-.94-.94-2.06-.94 2.06-2.06.94z\"/><path d=\"M17.41 7.96l-1.37-1.37c-.4-.4-.92-.59-1.43-.59-.52 0-1.04.2-1.43.59L10.3 9.45l-7.72 7.72c-.78.78-.78 2.05 0 2.83L4 21.41c.39.39.9.59 1.41.59.51 0 1.02-.2 1.41-.59l7.78-7.78 2.81-2.81c.8-.78.8-2.07 0-2.86zM5.41 20L4 18.59l7.72-7.72 1.47 1.35L5.41 20z\"/>\n",
              "  </svg>\n",
              "      </button>\n",
              "      \n",
              "  <style>\n",
              "    .colab-df-container {\n",
              "      display:flex;\n",
              "      flex-wrap:wrap;\n",
              "      gap: 12px;\n",
              "    }\n",
              "\n",
              "    .colab-df-convert {\n",
              "      background-color: #E8F0FE;\n",
              "      border: none;\n",
              "      border-radius: 50%;\n",
              "      cursor: pointer;\n",
              "      display: none;\n",
              "      fill: #1967D2;\n",
              "      height: 32px;\n",
              "      padding: 0 0 0 0;\n",
              "      width: 32px;\n",
              "    }\n",
              "\n",
              "    .colab-df-convert:hover {\n",
              "      background-color: #E2EBFA;\n",
              "      box-shadow: 0px 1px 2px rgba(60, 64, 67, 0.3), 0px 1px 3px 1px rgba(60, 64, 67, 0.15);\n",
              "      fill: #174EA6;\n",
              "    }\n",
              "\n",
              "    [theme=dark] .colab-df-convert {\n",
              "      background-color: #3B4455;\n",
              "      fill: #D2E3FC;\n",
              "    }\n",
              "\n",
              "    [theme=dark] .colab-df-convert:hover {\n",
              "      background-color: #434B5C;\n",
              "      box-shadow: 0px 1px 3px 1px rgba(0, 0, 0, 0.15);\n",
              "      filter: drop-shadow(0px 1px 2px rgba(0, 0, 0, 0.3));\n",
              "      fill: #FFFFFF;\n",
              "    }\n",
              "  </style>\n",
              "\n",
              "      <script>\n",
              "        const buttonEl =\n",
              "          document.querySelector('#df-b0c94de5-63bd-4848-836a-214eb34e3f67 button.colab-df-convert');\n",
              "        buttonEl.style.display =\n",
              "          google.colab.kernel.accessAllowed ? 'block' : 'none';\n",
              "\n",
              "        async function convertToInteractive(key) {\n",
              "          const element = document.querySelector('#df-b0c94de5-63bd-4848-836a-214eb34e3f67');\n",
              "          const dataTable =\n",
              "            await google.colab.kernel.invokeFunction('convertToInteractive',\n",
              "                                                     [key], {});\n",
              "          if (!dataTable) return;\n",
              "\n",
              "          const docLinkHtml = 'Like what you see? Visit the ' +\n",
              "            '<a target=\"_blank\" href=https://colab.research.google.com/notebooks/data_table.ipynb>data table notebook</a>'\n",
              "            + ' to learn more about interactive tables.';\n",
              "          element.innerHTML = '';\n",
              "          dataTable['output_type'] = 'display_data';\n",
              "          await google.colab.output.renderOutput(dataTable, element);\n",
              "          const docLink = document.createElement('div');\n",
              "          docLink.innerHTML = docLinkHtml;\n",
              "          element.appendChild(docLink);\n",
              "        }\n",
              "      </script>\n",
              "    </div>\n",
              "  </div>\n",
              "  "
            ],
            "text/plain": [
              "                        mis_val  mis_val_bool\n",
              "id                            0         False\n",
              "d_l_match_yn                  0         False\n",
              "d_m_match_yn                  0         False\n",
              "d_s_match_yn                  0         False\n",
              "h_l_match_yn                  0         False\n",
              "h_m_match_yn                  0         False\n",
              "h_s_match_yn                  0         False\n",
              "person_attribute_a            0         False\n",
              "person_attribute_a_1          0         False\n",
              "person_attribute_b            0         False\n",
              "person_prefer_c               0         False\n",
              "person_prefer_d_1             0         False\n",
              "person_prefer_d_2             0         False\n",
              "person_prefer_d_3             0         False\n",
              "person_prefer_e               0         False\n",
              "person_prefer_f               0         False\n",
              "person_prefer_g               0         False\n",
              "person_prefer_h_1             0         False\n",
              "person_prefer_h_2             0         False\n",
              "person_prefer_h_3             0         False\n",
              "contents_attribute_i          0         False\n",
              "contents_attribute_a          0         False\n",
              "contents_attribute_j_1        0         False\n",
              "contents_attribute_j          0         False\n",
              "contents_attribute_c          0         False\n",
              "contents_attribute_k          0         False\n",
              "contents_attribute_l          0         False\n",
              "contents_attribute_d          0         False\n",
              "contents_attribute_m          0         False\n",
              "contents_attribute_e          0         False\n",
              "contents_attribute_h          0         False\n",
              "person_rn                     0         False\n",
              "contents_rn                   0         False\n",
              "person_prefer_d_1_n           0         False\n",
              "person_prefer_d_1_s           0         False\n",
              "person_prefer_d_1_m           0         False\n",
              "person_prefer_d_1_l           0         False\n",
              "person_prefer_d_2_n           0         False\n",
              "person_prefer_d_2_s           0         False\n",
              "person_prefer_d_2_m           0         False\n",
              "person_prefer_d_2_l           0         False\n",
              "person_prefer_d_3_n           0         False\n",
              "person_prefer_d_3_s           0         False\n",
              "person_prefer_d_3_m           0         False\n",
              "person_prefer_d_3_l           0         False\n",
              "contents_attribute_d_n        0         False\n",
              "contents_attribute_d_s        0         False\n",
              "contents_attribute_d_m        0         False\n",
              "contents_attribute_d_l        0         False\n",
              "person_prefer_h_1_l           0         False\n",
              "person_prefer_h_1_m           0         False\n",
              "person_prefer_h_2_l           0         False\n",
              "person_prefer_h_2_m           0         False\n",
              "person_prefer_h_3_l           0         False\n",
              "person_prefer_h_3_m           0         False\n",
              "contents_attribute_h_l        0         False\n",
              "contents_attribute_h_m        0         False\n",
              "contents_attribute_l_n        0         False\n",
              "contents_attribute_l_s        0         False\n",
              "contents_attribute_l_m        0         False"
            ]
          },
          "metadata": {},
          "execution_count": 11
        }
      ]
    },
    {
      "cell_type": "markdown",
      "source": [
        "## 데이터 컬럼에 대한 분포도 확인\n",
        "* int형이 39개 (target 값이 여기에 속함) --> 21.12.26 데이터 변경 이후 59개\n",
        "* float64형이 16개                       --> 21.12.26 데이터 변경 이후 0개\n",
        "* bool 형이 6개"
      ],
      "metadata": {
        "id": "aYHbIUmdUrZm"
      }
    },
    {
      "cell_type": "code",
      "source": [
        "job_data.dtypes.value_counts()"
      ],
      "metadata": {
        "colab": {
          "base_uri": "https://localhost:8080/"
        },
        "id": "nQ08gwL7Uib7",
        "outputId": "2dafd1b1-7876-417d-c6e1-b4f42387747a"
      },
      "execution_count": 12,
      "outputs": [
        {
          "output_type": "execute_result",
          "data": {
            "text/plain": [
              "int64    59\n",
              "bool      6\n",
              "dtype: int64"
            ]
          },
          "metadata": {},
          "execution_count": 12
        }
      ]
    },
    {
      "cell_type": "markdown",
      "source": [
        "**int형에 속하는 컬럼들에 특징 값 분포**\n",
        "* 특징 값 분포를 통해서 Label Encoding과 Ont-Hot Encoding 방식을 결정\n",
        "* 가장 많은 특징 값을 갖는 것이 'person_rn'\n",
        "* 동일한 특징 값을 갖는 특징들은 ['person_prefer_f', 'person_prefer_g', 'Y'] 라는 것을 파악\n",
        "* 모든 값에 대해서 동일한 값을 갖는 것을 주목해야 한다.\n",
        "* 이러한 특징 값들은 추후 모델 학습에서 Drop 시키고 학습을 실시 하겠습니다."
      ],
      "metadata": {
        "id": "nM6wIKmJUzYo"
      }
    },
    {
      "cell_type": "code",
      "source": [
        "job_data.select_dtypes('int64').apply(pd.Series.nunique, axis=0)"
      ],
      "metadata": {
        "colab": {
          "base_uri": "https://localhost:8080/"
        },
        "id": "CGObf_VvUwsR",
        "outputId": "e8f079a7-8075-44e0-d742-87c1aa84b047"
      },
      "execution_count": 13,
      "outputs": [
        {
          "output_type": "execute_result",
          "data": {
            "text/plain": [
              "id                        501951\n",
              "person_attribute_a             2\n",
              "person_attribute_a_1           8\n",
              "person_attribute_b             6\n",
              "person_prefer_c                5\n",
              "person_prefer_d_1           1093\n",
              "person_prefer_d_2           1081\n",
              "person_prefer_d_3           1043\n",
              "person_prefer_e               12\n",
              "person_prefer_f                1\n",
              "person_prefer_g                1\n",
              "person_prefer_h_1            279\n",
              "person_prefer_h_2            279\n",
              "person_prefer_h_3            279\n",
              "contents_attribute_i           3\n",
              "contents_attribute_a           3\n",
              "contents_attribute_j_1         9\n",
              "contents_attribute_j           2\n",
              "contents_attribute_c           4\n",
              "contents_attribute_k           2\n",
              "contents_attribute_l        1752\n",
              "contents_attribute_d        1065\n",
              "contents_attribute_m           5\n",
              "contents_attribute_e          12\n",
              "contents_attribute_h         250\n",
              "person_rn                 300177\n",
              "contents_rn               283359\n",
              "person_prefer_d_1_n          443\n",
              "person_prefer_d_1_s          137\n",
              "person_prefer_d_1_m           36\n",
              "person_prefer_d_1_l           11\n",
              "person_prefer_d_2_n          435\n",
              "person_prefer_d_2_s          137\n",
              "person_prefer_d_2_m           36\n",
              "person_prefer_d_2_l           11\n",
              "person_prefer_d_3_n          420\n",
              "person_prefer_d_3_s          136\n",
              "person_prefer_d_3_m           36\n",
              "person_prefer_d_3_l           11\n",
              "contents_attribute_d_n       431\n",
              "contents_attribute_d_s       137\n",
              "contents_attribute_d_m        36\n",
              "contents_attribute_d_l        11\n",
              "person_prefer_h_1_l           19\n",
              "person_prefer_h_1_m          246\n",
              "person_prefer_h_2_l           19\n",
              "person_prefer_h_2_m          246\n",
              "person_prefer_h_3_l           19\n",
              "person_prefer_h_3_m          246\n",
              "contents_attribute_h_l        17\n",
              "contents_attribute_h_m       228\n",
              "contents_attribute_l_n       736\n",
              "contents_attribute_l_s       305\n",
              "contents_attribute_l_m        79\n",
              "contents_attribute_l_l        21\n",
              "Y                              1\n",
              "M                             11\n",
              "D                             31\n",
              "target                         2\n",
              "dtype: int64"
            ]
          },
          "metadata": {},
          "execution_count": 13
        }
      ]
    },
    {
      "cell_type": "markdown",
      "source": [
        "## INT형 특징들에 대한 EDA 실시\n",
        "\n",
        "### person_attribute_a\n",
        "* 회원 속성 A 특징 값\n",
        "* **Categorical Features**\n",
        "* 2개의 unique한 값을 갖고 있기 때문에 많은 그래프를 그리지 않음\n",
        "* 다른 특징 값과 연계해서 많이 그리도록 하겠음"
      ],
      "metadata": {
        "id": "QdWUmkV6Vhga"
      }
    },
    {
      "cell_type": "code",
      "source": [
        "# 속성 값에 따른 분포도 파악\n",
        "job_data['person_attribute_a'].value_counts().plot.bar(title = 'person_attribute_a')"
      ],
      "metadata": {
        "colab": {
          "base_uri": "https://localhost:8080/",
          "height": 300
        },
        "id": "Kg_-nHpCVTX8",
        "outputId": "186c3357-1a11-4898-b561-916965728356"
      },
      "execution_count": 16,
      "outputs": [
        {
          "output_type": "execute_result",
          "data": {
            "text/plain": [
              "<matplotlib.axes._subplots.AxesSubplot at 0x7fa8f93b55d0>"
            ]
          },
          "metadata": {},
          "execution_count": 16
        },
        {
          "output_type": "display_data",
          "data": {
            "image/png": "[encoded data removed]",
            "text/plain": [
              "<Figure size 432x288 with 1 Axes>"
            ]
          },
          "metadata": {
            "needs_background": "light"
          }
        }
      ]
    },
    {
      "cell_type": "code",
      "source": [
        "f, ax = plt.subplots(1, 2, figsize = (8, 8))\n",
        "\n",
        "x = 'person_attribute_a'\n",
        "y = 'target'\n",
        "\n",
        "sns.countplot('person_attribute_a', hue = 'target', data = job_data, ax = ax[0])\n",
        "\n",
        "sns.histplot(job_data,\n",
        "            x = \"person_attribute_a\",\n",
        "            hue=\"target\",\n",
        "            multiple=\"stack\", \n",
        "            palette=\"pastel\",\n",
        "            edgecolor=\".10\",\n",
        "            linewidth=\".20\",\n",
        "            bins = 2,\n",
        "            ax = ax[1])\n",
        "\n",
        "plt.tight_layout(h_pad = 2.5)"
      ],
      "metadata": {
        "colab": {
          "base_uri": "https://localhost:8080/",
          "height": 585
        },
        "id": "sqX_IlsiV2jk",
        "outputId": "35ffb9f6-c50c-4a22-8b07-da919d1d0dff"
      },
      "execution_count": 17,
      "outputs": [
        {
          "output_type": "display_data",
          "data": {
            "image/png": "[encoded data removed]",
            "text/plain": [
              "<Figure size 576x576 with 2 Axes>"
            ]
          },
          "metadata": {
            "needs_background": "light"
          }
        }
      ]
    },
    {
      "cell_type": "code",
      "source": [
        "sns.factorplot(x, y, data = job_data)"
      ],
      "metadata": {
        "colab": {
          "base_uri": "https://localhost:8080/",
          "height": 388
        },
        "id": "jlzrWTfqV6EV",
        "outputId": "b4017426-c462-4f15-d331-9f22fb37f281"
      },
      "execution_count": 18,
      "outputs": [
        {
          "output_type": "execute_result",
          "data": {
            "text/plain": [
              "<seaborn.axisgrid.FacetGrid at 0x7fa8f93b1690>"
            ]
          },
          "metadata": {},
          "execution_count": 18
        },
        {
          "output_type": "display_data",
          "data": {
            "image/png": "[encoded data removed]",
            "text/plain": [
              "<Figure size 360x360 with 1 Axes>"
            ]
          },
          "metadata": {
            "needs_background": "light"
          }
        }
      ]
    },
    {
      "cell_type": "markdown",
      "source": [
        "1의 특징 값을 값을 갖는 사람들이 target 1일 확률이 더욱 높음"
      ],
      "metadata": {
        "id": "puH_OMJ6WZNr"
      }
    },
    {
      "cell_type": "markdown",
      "source": [
        "**person_attribute_a_1**\n",
        "\n",
        "* 회원 속성 A 하위 속성 1 특징 값"
      ],
      "metadata": {
        "id": "aYSiuDSqWbTm"
      }
    },
    {
      "cell_type": "code",
      "source": [
        "print(\"person_attribute_a_1: \")\n",
        "print(job_data['person_attribute_a_1'].value_counts())\n",
        "\n",
        "sns.countplot('person_attribute_a_1', data =job_data)"
      ],
      "metadata": {
        "colab": {
          "base_uri": "https://localhost:8080/",
          "height": 485
        },
        "id": "S8Vecrh0WV1D",
        "outputId": "48417110-b666-4747-f288-60a3997f92ac"
      },
      "execution_count": 19,
      "outputs": [
        {
          "output_type": "stream",
          "name": "stdout",
          "text": [
            "person_attribute_a_1: \n",
            "0    158626\n",
            "1     61195\n",
            "5     57783\n",
            "2     51895\n",
            "6     49820\n",
            "3     46340\n",
            "4     44325\n",
            "7     31967\n",
            "Name: person_attribute_a_1, dtype: int64\n"
          ]
        },
        {
          "output_type": "execute_result",
          "data": {
            "text/plain": [
              "<matplotlib.axes._subplots.AxesSubplot at 0x7fa8fd292690>"
            ]
          },
          "metadata": {},
          "execution_count": 19
        },
        {
          "output_type": "display_data",
          "data": {
            "image/png": "[encoded data removed]",
            "text/plain": [
              "<Figure size 432x288 with 1 Axes>"
            ]
          },
          "metadata": {
            "needs_background": "light"
          }
        }
      ]
    },
    {
      "cell_type": "markdown",
      "source": [
        "대부분의 사람들이 0의 값을 취하고 있는 것을 볼 수 있음"
      ],
      "metadata": {
        "id": "bfNAehYcWnU8"
      }
    },
    {
      "cell_type": "code",
      "source": [
        "value = job_data['person_attribute_a_1'].value_counts()\n",
        "value_percent = job_data['person_attribute_a_1'].value_counts() / len(job_data) * 100\n",
        "value_table = pd.concat([value, value_percent], axis=1)\n",
        "value_table.columns = ['Num Of Values', '% of Total Values']\n",
        "value_table"
      ],
      "metadata": {
        "colab": {
          "base_uri": "https://localhost:8080/",
          "height": 300
        },
        "id": "qzXCK4ofWgmm",
        "outputId": "d469d967-839a-4b91-d162-fc477fb72dfe"
      },
      "execution_count": 20,
      "outputs": [
        {
          "output_type": "execute_result",
          "data": {
            "text/html": [
              "\n",
              "  <div id=\"df-8755f821-ae99-418f-8c22-92c81bd5629e\">\n",
              "    <div class=\"colab-df-container\">\n",
              "      <div>\n",
              "<style scoped>\n",
              "    .dataframe tbody tr th:only-of-type {\n",
              "        vertical-align: middle;\n",
              "    }\n",
              "\n",
              "    .dataframe tbody tr th {\n",
              "        vertical-align: top;\n",
              "    }\n",
              "\n",
              "    .dataframe thead th {\n",
              "        text-align: right;\n",
              "    }\n",
              "</style>\n",
              "<table border=\"1\" class=\"dataframe\">\n",
              "  <thead>\n",
              "    <tr style=\"text-align: right;\">\n",
              "      <th></th>\n",
              "      <th>Num Of Values</th>\n",
              "      <th>% of Total Values</th>\n",
              "    </tr>\n",
              "  </thead>\n",
              "  <tbody>\n",
              "    <tr>\n",
              "      <th>0</th>\n",
              "      <td>158626</td>\n",
              "      <td>31.601889</td>\n",
              "    </tr>\n",
              "    <tr>\n",
              "      <th>1</th>\n",
              "      <td>61195</td>\n",
              "      <td>12.191429</td>\n",
              "    </tr>\n",
              "    <tr>\n",
              "      <th>5</th>\n",
              "      <td>57783</td>\n",
              "      <td>11.511681</td>\n",
              "    </tr>\n",
              "    <tr>\n",
              "      <th>2</th>\n",
              "      <td>51895</td>\n",
              "      <td>10.338659</td>\n",
              "    </tr>\n",
              "    <tr>\n",
              "      <th>6</th>\n",
              "      <td>49820</td>\n",
              "      <td>9.925272</td>\n",
              "    </tr>\n",
              "    <tr>\n",
              "      <th>3</th>\n",
              "      <td>46340</td>\n",
              "      <td>9.231977</td>\n",
              "    </tr>\n",
              "    <tr>\n",
              "      <th>4</th>\n",
              "      <td>44325</td>\n",
              "      <td>8.830543</td>\n",
              "    </tr>\n",
              "    <tr>\n",
              "      <th>7</th>\n",
              "      <td>31967</td>\n",
              "      <td>6.368550</td>\n",
              "    </tr>\n",
              "  </tbody>\n",
              "</table>\n",
              "</div>\n",
              "      <button class=\"colab-df-convert\" onclick=\"convertToInteractive('df-8755f821-ae99-418f-8c22-92c81bd5629e')\"\n",
              "              title=\"Convert this dataframe to an interactive table.\"\n",
              "              style=\"display:none;\">\n",
              "        \n",
              "  <svg xmlns=\"http://www.w3.org/2000/svg\" height=\"24px\"viewBox=\"0 0 24 24\"\n",
              "       width=\"24px\">\n",
              "    <path d=\"M0 0h24v24H0V0z\" fill=\"none\"/>\n",
              "    <path d=\"M18.56 5.44l.94 2.06.94-2.06 2.06-.94-2.06-.94-.94-2.06-.94 2.06-2.06.94zm-11 1L8.5 8.5l.94-2.06 2.06-.94-2.06-.94L8.5 2.5l-.94 2.06-2.06.94zm10 10l.94 2.06.94-2.06 2.06-.94-2.06-.94-.94-2.06-.94 2.06-2.06.94z\"/><path d=\"M17.41 7.96l-1.37-1.37c-.4-.4-.92-.59-1.43-.59-.52 0-1.04.2-1.43.59L10.3 9.45l-7.72 7.72c-.78.78-.78 2.05 0 2.83L4 21.41c.39.39.9.59 1.41.59.51 0 1.02-.2 1.41-.59l7.78-7.78 2.81-2.81c.8-.78.8-2.07 0-2.86zM5.41 20L4 18.59l7.72-7.72 1.47 1.35L5.41 20z\"/>\n",
              "  </svg>\n",
              "      </button>\n",
              "      \n",
              "  <style>\n",
              "    .colab-df-container {\n",
              "      display:flex;\n",
              "      flex-wrap:wrap;\n",
              "      gap: 12px;\n",
              "    }\n",
              "\n",
              "    .colab-df-convert {\n",
              "      background-color: #E8F0FE;\n",
              "      border: none;\n",
              "      border-radius: 50%;\n",
              "      cursor: pointer;\n",
              "      display: none;\n",
              "      fill: #1967D2;\n",
              "      height: 32px;\n",
              "      padding: 0 0 0 0;\n",
              "      width: 32px;\n",
              "    }\n",
              "\n",
              "    .colab-df-convert:hover {\n",
              "      background-color: #E2EBFA;\n",
              "      box-shadow: 0px 1px 2px rgba(60, 64, 67, 0.3), 0px 1px 3px 1px rgba(60, 64, 67, 0.15);\n",
              "      fill: #174EA6;\n",
              "    }\n",
              "\n",
              "    [theme=dark] .colab-df-convert {\n",
              "      background-color: #3B4455;\n",
              "      fill: #D2E3FC;\n",
              "    }\n",
              "\n",
              "    [theme=dark] .colab-df-convert:hover {\n",
              "      background-color: #434B5C;\n",
              "      box-shadow: 0px 1px 3px 1px rgba(0, 0, 0, 0.15);\n",
              "      filter: drop-shadow(0px 1px 2px rgba(0, 0, 0, 0.3));\n",
              "      fill: #FFFFFF;\n",
              "    }\n",
              "  </style>\n",
              "\n",
              "      <script>\n",
              "        const buttonEl =\n",
              "          document.querySelector('#df-8755f821-ae99-418f-8c22-92c81bd5629e button.colab-df-convert');\n",
              "        buttonEl.style.display =\n",
              "          google.colab.kernel.accessAllowed ? 'block' : 'none';\n",
              "\n",
              "        async function convertToInteractive(key) {\n",
              "          const element = document.querySelector('#df-8755f821-ae99-418f-8c22-92c81bd5629e');\n",
              "          const dataTable =\n",
              "            await google.colab.kernel.invokeFunction('convertToInteractive',\n",
              "                                                     [key], {});\n",
              "          if (!dataTable) return;\n",
              "\n",
              "          const docLinkHtml = 'Like what you see? Visit the ' +\n",
              "            '<a target=\"_blank\" href=https://colab.research.google.com/notebooks/data_table.ipynb>data table notebook</a>'\n",
              "            + ' to learn more about interactive tables.';\n",
              "          element.innerHTML = '';\n",
              "          dataTable['output_type'] = 'display_data';\n",
              "          await google.colab.output.renderOutput(dataTable, element);\n",
              "          const docLink = document.createElement('div');\n",
              "          docLink.innerHTML = docLinkHtml;\n",
              "          element.appendChild(docLink);\n",
              "        }\n",
              "      </script>\n",
              "    </div>\n",
              "  </div>\n",
              "  "
            ],
            "text/plain": [
              "   Num Of Values  % of Total Values\n",
              "0         158626          31.601889\n",
              "1          61195          12.191429\n",
              "5          57783          11.511681\n",
              "2          51895          10.338659\n",
              "6          49820           9.925272\n",
              "3          46340           9.231977\n",
              "4          44325           8.830543\n",
              "7          31967           6.368550"
            ]
          },
          "metadata": {},
          "execution_count": 20
        }
      ]
    },
    {
      "cell_type": "code",
      "source": [
        "f, ax = plt.subplots(2,2, figsize=(15,15))\n",
        "\n",
        "sns.countplot('person_attribute_a_1', hue = 'target', data =job_data, ax=ax[0][0])\n",
        "sns.histplot(job_data,\n",
        "            x = \"person_attribute_a_1\",\n",
        "            hue=\"target\",\n",
        "            multiple=\"stack\", \n",
        "            palette=\"Pastel1\",\n",
        "            edgecolor=\".10\",\n",
        "            linewidth=\".20\",\n",
        "            bins = 8,\n",
        "            ax = ax[0][1])\n",
        "sns.kdeplot(data=job_data, x=\"person_attribute_a_1\", hue='target', ax=ax[1][0])\n",
        "sns.violinplot(data=job_data, x=\"target\", y=\"person_attribute_a_1\", ax=ax[1][1])\n",
        "plt.show()"
      ],
      "metadata": {
        "colab": {
          "base_uri": "https://localhost:8080/",
          "height": 883
        },
        "id": "-PDHUSeuWpkr",
        "outputId": "f66edaf9-cbe0-4b8c-d7d0-92434ae68a3e"
      },
      "execution_count": 21,
      "outputs": [
        {
          "output_type": "display_data",
          "data": {
            "image/png": "[encoded data removed]",
            "text/plain": [
              "<Figure size 1080x1080 with 4 Axes>"
            ]
          },
          "metadata": {
            "needs_background": "light"
          }
        }
      ]
    },
    {
      "cell_type": "markdown",
      "source": [
        "* person_attribute_a_1 값들은 모두 비슷한 형태의 모양을 뜀\n",
        "* Violinplot의 모양이 매우 흥미롭게 느껴짐\n",
        "  * target 값이 0인 것과 1인 것에 있어서 매우 유사한 형태로 뛰고 있음\n",
        "  * 이를 통해서 어떠한 특징 값을 갖더라도 그 값에 해당하는 사람은 target에 있어서 비슷한 형태를 취하는 것 으로 추정됨\n",
        "* 하지만 대부분의 사람들이 0의 값을 취하는 것은 신기하게 느껴지네요."
      ],
      "metadata": {
        "id": "cFbZWrb-W0v5"
      }
    },
    {
      "cell_type": "markdown",
      "source": [
        "**person_attribute_a에 따른 person_attribute_a_1 분포도**\n",
        "* 이름이 비슷해서 혼동 되기 쉽습니다.\n",
        "* person_attribute_a는 위에서 보았던 이진 데이터 입니다. (1과 2의 값을 갖던)"
      ],
      "metadata": {
        "id": "ReXE1zuyXoXW"
      }
    },
    {
      "cell_type": "code",
      "source": [
        "sns.catplot(x=\"person_attribute_a_1\", y=\"target\", kind=\"bar\", data=job_data)"
      ],
      "metadata": {
        "colab": {
          "base_uri": "https://localhost:8080/",
          "height": 388
        },
        "id": "AFQ8TcgMWv8M",
        "outputId": "ee6c706b-8bce-4133-9f81-81f0914bca15"
      },
      "execution_count": 22,
      "outputs": [
        {
          "output_type": "execute_result",
          "data": {
            "text/plain": [
              "<seaborn.axisgrid.FacetGrid at 0x7fa8fd490bd0>"
            ]
          },
          "metadata": {},
          "execution_count": 22
        },
        {
          "output_type": "display_data",
          "data": {
            "image/png": "[encoded data removed]",
            "text/plain": [
              "<Figure size 360x360 with 1 Axes>"
            ]
          },
          "metadata": {
            "needs_background": "light"
          }
        }
      ]
    },
    {
      "cell_type": "code",
      "source": [
        "sns.catplot(x=\"person_attribute_a_1\", y=\"target\", col = \"person_attribute_a\" , kind=\"bar\", data=job_data)"
      ],
      "metadata": {
        "colab": {
          "base_uri": "https://localhost:8080/",
          "height": 388
        },
        "id": "AYNauyVZXuMB",
        "outputId": "1c933c6c-89b2-45e5-b432-7527c155a5c0"
      },
      "execution_count": 23,
      "outputs": [
        {
          "output_type": "execute_result",
          "data": {
            "text/plain": [
              "<seaborn.axisgrid.FacetGrid at 0x7fa8fc601050>"
            ]
          },
          "metadata": {},
          "execution_count": 23
        },
        {
          "output_type": "display_data",
          "data": {
            "image/png": "[encoded data removed]",
            "text/plain": [
              "<Figure size 720x360 with 2 Axes>"
            ]
          },
          "metadata": {
            "needs_background": "light"
          }
        }
      ]
    },
    {
      "cell_type": "markdown",
      "source": [
        "* person_attribute_a 값이 1일 때 target 값이 더욱 높은 것을 앞에서 보았음\n",
        "* person_attribute_a 값에 따라서 person_attribute_a_1 분포도는 크게 변하지 않는 것으로 보임\n",
        "* 하지만 두 경우 모두 person_attribute_a_1 값이 7일 때 target 값일 확률이 높은 것으로 보임"
      ],
      "metadata": {
        "id": "dQEIW8YjXx-s"
      }
    },
    {
      "cell_type": "code",
      "source": [
        "sns.lmplot(x = 'person_attribute_a_1', y = 'target', data = job_data)"
      ],
      "metadata": {
        "colab": {
          "base_uri": "https://localhost:8080/",
          "height": 388
        },
        "id": "A2hEzoGpXwGb",
        "outputId": "f8660a41-fb83-4586-d136-a708154e080d"
      },
      "execution_count": 24,
      "outputs": [
        {
          "output_type": "execute_result",
          "data": {
            "text/plain": [
              "<seaborn.axisgrid.FacetGrid at 0x7fa8e87c99d0>"
            ]
          },
          "metadata": {},
          "execution_count": 24
        },
        {
          "output_type": "display_data",
          "data": {
            "image/png": "[encoded data removed]",
            "text/plain": [
              "<Figure size 360x360 with 1 Axes>"
            ]
          },
          "metadata": {
            "needs_background": "light"
          }
        }
      ]
    },
    {
      "cell_type": "code",
      "source": [
        "pd.crosstab(job_data.person_attribute_a_1,job_data.target,margins=True).style.background_gradient(cmap='summer_r')"
      ],
      "metadata": {
        "colab": {
          "base_uri": "https://localhost:8080/",
          "height": 363
        },
        "id": "OeTnCcWhX2bd",
        "outputId": "659e0e10-b2c2-4da4-b664-372c32795eb7"
      },
      "execution_count": 25,
      "outputs": [
        {
          "output_type": "execute_result",
          "data": {
            "text/html": [
              "<style  type=\"text/css\" >\n",
              "#T_fb57d852_6b0f_11ec_934b_0242ac1c0002row0_col0{\n",
              "            background-color:  #b8dc66;\n",
              "            color:  #000000;\n",
              "        }#T_fb57d852_6b0f_11ec_934b_0242ac1c0002row0_col1{\n",
              "            background-color:  #bdde66;\n",
              "            color:  #000000;\n",
              "        }#T_fb57d852_6b0f_11ec_934b_0242ac1c0002row0_col2{\n",
              "            background-color:  #bbdd66;\n",
              "            color:  #000000;\n",
              "        }#T_fb57d852_6b0f_11ec_934b_0242ac1c0002row1_col0{\n",
              "            background-color:  #edf666;\n",
              "            color:  #000000;\n",
              "        }#T_fb57d852_6b0f_11ec_934b_0242ac1c0002row1_col1,#T_fb57d852_6b0f_11ec_934b_0242ac1c0002row2_col0{\n",
              "            background-color:  #f2f866;\n",
              "            color:  #000000;\n",
              "        }#T_fb57d852_6b0f_11ec_934b_0242ac1c0002row1_col2{\n",
              "            background-color:  #f0f866;\n",
              "            color:  #000000;\n",
              "        }#T_fb57d852_6b0f_11ec_934b_0242ac1c0002row2_col1,#T_fb57d852_6b0f_11ec_934b_0242ac1c0002row6_col1{\n",
              "            background-color:  #f7fb66;\n",
              "            color:  #000000;\n",
              "        }#T_fb57d852_6b0f_11ec_934b_0242ac1c0002row2_col2,#T_fb57d852_6b0f_11ec_934b_0242ac1c0002row3_col0{\n",
              "            background-color:  #f5fa66;\n",
              "            color:  #000000;\n",
              "        }#T_fb57d852_6b0f_11ec_934b_0242ac1c0002row3_col1{\n",
              "            background-color:  #fbfd66;\n",
              "            color:  #000000;\n",
              "        }#T_fb57d852_6b0f_11ec_934b_0242ac1c0002row3_col2{\n",
              "            background-color:  #f8fc66;\n",
              "            color:  #000000;\n",
              "        }#T_fb57d852_6b0f_11ec_934b_0242ac1c0002row4_col0,#T_fb57d852_6b0f_11ec_934b_0242ac1c0002row6_col2{\n",
              "            background-color:  #f6fa66;\n",
              "            color:  #000000;\n",
              "        }#T_fb57d852_6b0f_11ec_934b_0242ac1c0002row4_col1{\n",
              "            background-color:  #fcfe66;\n",
              "            color:  #000000;\n",
              "        }#T_fb57d852_6b0f_11ec_934b_0242ac1c0002row4_col2{\n",
              "            background-color:  #f9fc66;\n",
              "            color:  #000000;\n",
              "        }#T_fb57d852_6b0f_11ec_934b_0242ac1c0002row5_col0{\n",
              "            background-color:  #eff766;\n",
              "            color:  #000000;\n",
              "        }#T_fb57d852_6b0f_11ec_934b_0242ac1c0002row5_col1,#T_fb57d852_6b0f_11ec_934b_0242ac1c0002row6_col0{\n",
              "            background-color:  #f4fa66;\n",
              "            color:  #000000;\n",
              "        }#T_fb57d852_6b0f_11ec_934b_0242ac1c0002row5_col2{\n",
              "            background-color:  #f1f866;\n",
              "            color:  #000000;\n",
              "        }#T_fb57d852_6b0f_11ec_934b_0242ac1c0002row7_col0,#T_fb57d852_6b0f_11ec_934b_0242ac1c0002row7_col1,#T_fb57d852_6b0f_11ec_934b_0242ac1c0002row7_col2{\n",
              "            background-color:  #ffff66;\n",
              "            color:  #000000;\n",
              "        }#T_fb57d852_6b0f_11ec_934b_0242ac1c0002row8_col0,#T_fb57d852_6b0f_11ec_934b_0242ac1c0002row8_col1,#T_fb57d852_6b0f_11ec_934b_0242ac1c0002row8_col2{\n",
              "            background-color:  #008066;\n",
              "            color:  #f1f1f1;\n",
              "        }</style><table id=\"T_fb57d852_6b0f_11ec_934b_0242ac1c0002\" class=\"dataframe\"><thead>    <tr>        <th class=\"index_name level0\" >target</th>        <th class=\"col_heading level0 col0\" >0</th>        <th class=\"col_heading level0 col1\" >1</th>        <th class=\"col_heading level0 col2\" >All</th>    </tr>    <tr>        <th class=\"index_name level0\" >person_attribute_a_1</th>        <th class=\"blank\" ></th>        <th class=\"blank\" ></th>        <th class=\"blank\" ></th>    </tr></thead><tbody>\n",
              "                <tr>\n",
              "                        <th id=\"T_fb57d852_6b0f_11ec_934b_0242ac1c0002level0_row0\" class=\"row_heading level0 row0\" >0</th>\n",
              "                        <td id=\"T_fb57d852_6b0f_11ec_934b_0242ac1c0002row0_col0\" class=\"data row0 col0\" >80423</td>\n",
              "                        <td id=\"T_fb57d852_6b0f_11ec_934b_0242ac1c0002row0_col1\" class=\"data row0 col1\" >78203</td>\n",
              "                        <td id=\"T_fb57d852_6b0f_11ec_934b_0242ac1c0002row0_col2\" class=\"data row0 col2\" >158626</td>\n",
              "            </tr>\n",
              "            <tr>\n",
              "                        <th id=\"T_fb57d852_6b0f_11ec_934b_0242ac1c0002level0_row1\" class=\"row_heading level0 row1\" >1</th>\n",
              "                        <td id=\"T_fb57d852_6b0f_11ec_934b_0242ac1c0002row1_col0\" class=\"data row1 col0\" >30739</td>\n",
              "                        <td id=\"T_fb57d852_6b0f_11ec_934b_0242ac1c0002row1_col1\" class=\"data row1 col1\" >30456</td>\n",
              "                        <td id=\"T_fb57d852_6b0f_11ec_934b_0242ac1c0002row1_col2\" class=\"data row1 col2\" >61195</td>\n",
              "            </tr>\n",
              "            <tr>\n",
              "                        <th id=\"T_fb57d852_6b0f_11ec_934b_0242ac1c0002level0_row2\" class=\"row_heading level0 row2\" >2</th>\n",
              "                        <td id=\"T_fb57d852_6b0f_11ec_934b_0242ac1c0002row2_col0\" class=\"data row2 col0\" >26135</td>\n",
              "                        <td id=\"T_fb57d852_6b0f_11ec_934b_0242ac1c0002row2_col1\" class=\"data row2 col1\" >25760</td>\n",
              "                        <td id=\"T_fb57d852_6b0f_11ec_934b_0242ac1c0002row2_col2\" class=\"data row2 col2\" >51895</td>\n",
              "            </tr>\n",
              "            <tr>\n",
              "                        <th id=\"T_fb57d852_6b0f_11ec_934b_0242ac1c0002level0_row3\" class=\"row_heading level0 row3\" >3</th>\n",
              "                        <td id=\"T_fb57d852_6b0f_11ec_934b_0242ac1c0002row3_col0\" class=\"data row3 col0\" >23779</td>\n",
              "                        <td id=\"T_fb57d852_6b0f_11ec_934b_0242ac1c0002row3_col1\" class=\"data row3 col1\" >22561</td>\n",
              "                        <td id=\"T_fb57d852_6b0f_11ec_934b_0242ac1c0002row3_col2\" class=\"data row3 col2\" >46340</td>\n",
              "            </tr>\n",
              "            <tr>\n",
              "                        <th id=\"T_fb57d852_6b0f_11ec_934b_0242ac1c0002level0_row4\" class=\"row_heading level0 row4\" >4</th>\n",
              "                        <td id=\"T_fb57d852_6b0f_11ec_934b_0242ac1c0002row4_col0\" class=\"data row4 col0\" >22889</td>\n",
              "                        <td id=\"T_fb57d852_6b0f_11ec_934b_0242ac1c0002row4_col1\" class=\"data row4 col1\" >21436</td>\n",
              "                        <td id=\"T_fb57d852_6b0f_11ec_934b_0242ac1c0002row4_col2\" class=\"data row4 col2\" >44325</td>\n",
              "            </tr>\n",
              "            <tr>\n",
              "                        <th id=\"T_fb57d852_6b0f_11ec_934b_0242ac1c0002level0_row5\" class=\"row_heading level0 row5\" >5</th>\n",
              "                        <td id=\"T_fb57d852_6b0f_11ec_934b_0242ac1c0002row5_col0\" class=\"data row5 col0\" >29101</td>\n",
              "                        <td id=\"T_fb57d852_6b0f_11ec_934b_0242ac1c0002row5_col1\" class=\"data row5 col1\" >28682</td>\n",
              "                        <td id=\"T_fb57d852_6b0f_11ec_934b_0242ac1c0002row5_col2\" class=\"data row5 col2\" >57783</td>\n",
              "            </tr>\n",
              "            <tr>\n",
              "                        <th id=\"T_fb57d852_6b0f_11ec_934b_0242ac1c0002level0_row6\" class=\"row_heading level0 row6\" >6</th>\n",
              "                        <td id=\"T_fb57d852_6b0f_11ec_934b_0242ac1c0002row6_col0\" class=\"data row6 col0\" >24159</td>\n",
              "                        <td id=\"T_fb57d852_6b0f_11ec_934b_0242ac1c0002row6_col1\" class=\"data row6 col1\" >25661</td>\n",
              "                        <td id=\"T_fb57d852_6b0f_11ec_934b_0242ac1c0002row6_col2\" class=\"data row6 col2\" >49820</td>\n",
              "            </tr>\n",
              "            <tr>\n",
              "                        <th id=\"T_fb57d852_6b0f_11ec_934b_0242ac1c0002level0_row7\" class=\"row_heading level0 row7\" >7</th>\n",
              "                        <td id=\"T_fb57d852_6b0f_11ec_934b_0242ac1c0002row7_col0\" class=\"data row7 col0\" >13881</td>\n",
              "                        <td id=\"T_fb57d852_6b0f_11ec_934b_0242ac1c0002row7_col1\" class=\"data row7 col1\" >18086</td>\n",
              "                        <td id=\"T_fb57d852_6b0f_11ec_934b_0242ac1c0002row7_col2\" class=\"data row7 col2\" >31967</td>\n",
              "            </tr>\n",
              "            <tr>\n",
              "                        <th id=\"T_fb57d852_6b0f_11ec_934b_0242ac1c0002level0_row8\" class=\"row_heading level0 row8\" >All</th>\n",
              "                        <td id=\"T_fb57d852_6b0f_11ec_934b_0242ac1c0002row8_col0\" class=\"data row8 col0\" >251106</td>\n",
              "                        <td id=\"T_fb57d852_6b0f_11ec_934b_0242ac1c0002row8_col1\" class=\"data row8 col1\" >250845</td>\n",
              "                        <td id=\"T_fb57d852_6b0f_11ec_934b_0242ac1c0002row8_col2\" class=\"data row8 col2\" >501951</td>\n",
              "            </tr>\n",
              "    </tbody></table>"
            ],
            "text/plain": [
              "<pandas.io.formats.style.Styler at 0x7fa8e87c4310>"
            ]
          },
          "metadata": {},
          "execution_count": 25
        }
      ]
    },
    {
      "cell_type": "markdown",
      "source": [
        "### person_attribute_b\n",
        "\n",
        "* 회원 속성 B 특징 값"
      ],
      "metadata": {
        "id": "9d3DfdKyX9kc"
      }
    },
    {
      "cell_type": "code",
      "source": [
        ""
      ],
      "metadata": {
        "id": "2TU5yUg7X4l7"
      },
      "execution_count": 25,
      "outputs": []
    }
  ]
}