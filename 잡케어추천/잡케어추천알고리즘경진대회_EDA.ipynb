{
  "nbformat": 4,
  "nbformat_minor": 0,
  "metadata": {
    "colab": {
      "name": "잡케어추천알고리즘경진대회_EDA.ipynb",
      "provenance": [],
      "collapsed_sections": [],
      "authorship_tag": "ABX9TyOoL4jHBSFhm600MiPBObPX",
      "include_colab_link": true
    },
    "kernelspec": {
      "name": "python3",
      "display_name": "Python 3"
    },
    "language_info": {
      "name": "python"
    }
  },
  "cells": [
    {
      "cell_type": "markdown",
      "metadata": {
        "id": "view-in-github",
        "colab_type": "text"
      },
      "source": [
        "<a href=\"https://colab.research.google.com/github/doo52oh/Dacon/blob/main/%EC%9E%A1%EC%BC%80%EC%96%B4%EC%B6%94%EC%B2%9C/%EC%9E%A1%EC%BC%80%EC%96%B4%EC%B6%94%EC%B2%9C%EC%95%8C%EA%B3%A0%EB%A6%AC%EC%A6%98%EA%B2%BD%EC%A7%84%EB%8C%80%ED%9A%8C_EDA.ipynb\" target=\"_parent\"><img src=\"https://colab.research.google.com/assets/colab-badge.svg\" alt=\"Open In Colab\"/></a>"
      ]
    },
    {
      "cell_type": "markdown",
      "source": [
        "# 잡케어 추천 알고리즘 EDA\n",
        "\n",
        "[My EDA - 모두다 그리자 :D](https://dacon.io/codeshare/3895) 참고"
      ],
      "metadata": {
        "id": "OzWDk2pvxZgg"
      }
    },
    {
      "cell_type": "code",
      "source": [
        "from google.colab import drive\n",
        "\n",
        "import numpy as np\n",
        "import pandas as pd\n",
        "import seaborn as sns\n",
        "import matplotlib.pyplot as plt\n",
        "import warnings\n",
        "\n",
        "from datetime import datetime\n",
        "\n",
        "plt.style.use('fivethirtyeight')\n",
        "sns.set_theme(style=\"whitegrid\")\n",
        "warnings.filterwarnings('ignore')\n",
        "\n",
        "drive.mount(\"/content/drive\")"
      ],
      "metadata": {
        "id": "vzmdrhZwuwUi",
        "colab": {
          "base_uri": "https://localhost:8080/"
        },
        "outputId": "2f950120-4a58-4f50-ef6c-8b4ed5fe74ef"
      },
      "execution_count": 1,
      "outputs": [
        {
          "output_type": "stream",
          "name": "stdout",
          "text": [
            "Mounted at /content/drive\n"
          ]
        }
      ]
    },
    {
      "cell_type": "code",
      "source": [
        "DATA_PATH = \"/content/drive/MyDrive/Dacon/JobCare/data/\"\n",
        "SUBMIT_PATH = \"/content/drive/MyDrive/Dacon/JobCare/submit/\"\n",
        "SEED = 42"
      ],
      "metadata": {
        "id": "Zh5N1FwoMsBI"
      },
      "execution_count": 2,
      "outputs": []
    },
    {
      "cell_type": "code",
      "execution_count": 3,
      "metadata": {
        "colab": {
          "base_uri": "https://localhost:8080/"
        },
        "id": "hP7YHQoOhPSW",
        "outputId": "e1ed7ed1-3d4d-4b82-ac96-6d401e0f5e7a"
      },
      "outputs": [
        {
          "output_type": "stream",
          "name": "stdout",
          "text": [
            "train_data.shape:  (501951, 35)\n",
            "test_data.shape:  (46404, 34)\n"
          ]
        }
      ],
      "source": [
        "train_data = pd.read_csv(f'{DATA_PATH}train.csv')\n",
        "test_data = pd.read_csv(f'{DATA_PATH}test.csv')\n",
        "\n",
        "d_code = pd.read_csv(f'{DATA_PATH}속성_D_코드.csv', index_col=0).T.to_dict()\n",
        "h_code = pd.read_csv(f'{DATA_PATH}속성_H_코드.csv', index_col=0).T.to_dict()\n",
        "l_code = pd.read_csv(f'{DATA_PATH}속성_L_코드.csv', index_col=0).T.to_dict()\n",
        "\n",
        "print(\"train_data.shape: \", train_data.shape)\n",
        "print(\"test_data.shape: \", test_data.shape)"
      ]
    },
    {
      "cell_type": "code",
      "source": [
        "train_data.head()"
      ],
      "metadata": {
        "colab": {
          "base_uri": "https://localhost:8080/",
          "height": 357
        },
        "id": "R864GIhDuuL2",
        "outputId": "8e6b844a-dfd0-48a2-acd9-37140a6d76e7"
      },
      "execution_count": 4,
      "outputs": [
        {
          "output_type": "execute_result",
          "data": {
            "text/html": [
              "\n",
              "  <div id=\"df-9bc4f3f1-7fce-4061-917f-15d9e3e2f655\">\n",
              "    <div class=\"colab-df-container\">\n",
              "      <div>\n",
              "<style scoped>\n",
              "    .dataframe tbody tr th:only-of-type {\n",
              "        vertical-align: middle;\n",
              "    }\n",
              "\n",
              "    .dataframe tbody tr th {\n",
              "        vertical-align: top;\n",
              "    }\n",
              "\n",
              "    .dataframe thead th {\n",
              "        text-align: right;\n",
              "    }\n",
              "</style>\n",
              "<table border=\"1\" class=\"dataframe\">\n",
              "  <thead>\n",
              "    <tr style=\"text-align: right;\">\n",
              "      <th></th>\n",
              "      <th>id</th>\n",
              "      <th>d_l_match_yn</th>\n",
              "      <th>d_m_match_yn</th>\n",
              "      <th>d_s_match_yn</th>\n",
              "      <th>h_l_match_yn</th>\n",
              "      <th>h_m_match_yn</th>\n",
              "      <th>h_s_match_yn</th>\n",
              "      <th>person_attribute_a</th>\n",
              "      <th>person_attribute_a_1</th>\n",
              "      <th>person_attribute_b</th>\n",
              "      <th>person_prefer_c</th>\n",
              "      <th>person_prefer_d_1</th>\n",
              "      <th>person_prefer_d_2</th>\n",
              "      <th>person_prefer_d_3</th>\n",
              "      <th>person_prefer_e</th>\n",
              "      <th>person_prefer_f</th>\n",
              "      <th>person_prefer_g</th>\n",
              "      <th>person_prefer_h_1</th>\n",
              "      <th>person_prefer_h_2</th>\n",
              "      <th>person_prefer_h_3</th>\n",
              "      <th>contents_attribute_i</th>\n",
              "      <th>contents_attribute_a</th>\n",
              "      <th>contents_attribute_j_1</th>\n",
              "      <th>contents_attribute_j</th>\n",
              "      <th>contents_attribute_c</th>\n",
              "      <th>contents_attribute_k</th>\n",
              "      <th>contents_attribute_l</th>\n",
              "      <th>contents_attribute_d</th>\n",
              "      <th>contents_attribute_m</th>\n",
              "      <th>contents_attribute_e</th>\n",
              "      <th>contents_attribute_h</th>\n",
              "      <th>person_rn</th>\n",
              "      <th>contents_rn</th>\n",
              "      <th>contents_open_dt</th>\n",
              "      <th>target</th>\n",
              "    </tr>\n",
              "  </thead>\n",
              "  <tbody>\n",
              "    <tr>\n",
              "      <th>0</th>\n",
              "      <td>0</td>\n",
              "      <td>True</td>\n",
              "      <td>True</td>\n",
              "      <td>True</td>\n",
              "      <td>False</td>\n",
              "      <td>False</td>\n",
              "      <td>False</td>\n",
              "      <td>1</td>\n",
              "      <td>4</td>\n",
              "      <td>3</td>\n",
              "      <td>5</td>\n",
              "      <td>275</td>\n",
              "      <td>370</td>\n",
              "      <td>369</td>\n",
              "      <td>8</td>\n",
              "      <td>1</td>\n",
              "      <td>1</td>\n",
              "      <td>4</td>\n",
              "      <td>95</td>\n",
              "      <td>59</td>\n",
              "      <td>3</td>\n",
              "      <td>3</td>\n",
              "      <td>10</td>\n",
              "      <td>2</td>\n",
              "      <td>1</td>\n",
              "      <td>2</td>\n",
              "      <td>1608</td>\n",
              "      <td>275</td>\n",
              "      <td>1</td>\n",
              "      <td>4</td>\n",
              "      <td>139</td>\n",
              "      <td>618822</td>\n",
              "      <td>354805</td>\n",
              "      <td>2020-01-17 12:09:36</td>\n",
              "      <td>1</td>\n",
              "    </tr>\n",
              "    <tr>\n",
              "      <th>1</th>\n",
              "      <td>1</td>\n",
              "      <td>False</td>\n",
              "      <td>False</td>\n",
              "      <td>False</td>\n",
              "      <td>True</td>\n",
              "      <td>True</td>\n",
              "      <td>False</td>\n",
              "      <td>1</td>\n",
              "      <td>3</td>\n",
              "      <td>4</td>\n",
              "      <td>1</td>\n",
              "      <td>114</td>\n",
              "      <td>181</td>\n",
              "      <td>175</td>\n",
              "      <td>4</td>\n",
              "      <td>1</td>\n",
              "      <td>1</td>\n",
              "      <td>131</td>\n",
              "      <td>101</td>\n",
              "      <td>96</td>\n",
              "      <td>1</td>\n",
              "      <td>3</td>\n",
              "      <td>5</td>\n",
              "      <td>1</td>\n",
              "      <td>1</td>\n",
              "      <td>2</td>\n",
              "      <td>1608</td>\n",
              "      <td>275</td>\n",
              "      <td>1</td>\n",
              "      <td>4</td>\n",
              "      <td>133</td>\n",
              "      <td>571659</td>\n",
              "      <td>346213</td>\n",
              "      <td>2020-06-18 17:48:52</td>\n",
              "      <td>0</td>\n",
              "    </tr>\n",
              "    <tr>\n",
              "      <th>2</th>\n",
              "      <td>2</td>\n",
              "      <td>False</td>\n",
              "      <td>False</td>\n",
              "      <td>False</td>\n",
              "      <td>True</td>\n",
              "      <td>False</td>\n",
              "      <td>False</td>\n",
              "      <td>2</td>\n",
              "      <td>0</td>\n",
              "      <td>3</td>\n",
              "      <td>5</td>\n",
              "      <td>464</td>\n",
              "      <td>175</td>\n",
              "      <td>452</td>\n",
              "      <td>3</td>\n",
              "      <td>1</td>\n",
              "      <td>1</td>\n",
              "      <td>54</td>\n",
              "      <td>263</td>\n",
              "      <td>56</td>\n",
              "      <td>3</td>\n",
              "      <td>1</td>\n",
              "      <td>10</td>\n",
              "      <td>2</td>\n",
              "      <td>1</td>\n",
              "      <td>1</td>\n",
              "      <td>1600</td>\n",
              "      <td>94</td>\n",
              "      <td>1</td>\n",
              "      <td>4</td>\n",
              "      <td>53</td>\n",
              "      <td>399816</td>\n",
              "      <td>206408</td>\n",
              "      <td>2020-07-08 20:00:10</td>\n",
              "      <td>0</td>\n",
              "    </tr>\n",
              "    <tr>\n",
              "      <th>3</th>\n",
              "      <td>3</td>\n",
              "      <td>False</td>\n",
              "      <td>False</td>\n",
              "      <td>False</td>\n",
              "      <td>True</td>\n",
              "      <td>False</td>\n",
              "      <td>False</td>\n",
              "      <td>2</td>\n",
              "      <td>0</td>\n",
              "      <td>2</td>\n",
              "      <td>5</td>\n",
              "      <td>703</td>\n",
              "      <td>705</td>\n",
              "      <td>704</td>\n",
              "      <td>3</td>\n",
              "      <td>1</td>\n",
              "      <td>1</td>\n",
              "      <td>72</td>\n",
              "      <td>227</td>\n",
              "      <td>2</td>\n",
              "      <td>1</td>\n",
              "      <td>3</td>\n",
              "      <td>5</td>\n",
              "      <td>1</td>\n",
              "      <td>1</td>\n",
              "      <td>2</td>\n",
              "      <td>1608</td>\n",
              "      <td>275</td>\n",
              "      <td>5</td>\n",
              "      <td>3</td>\n",
              "      <td>74</td>\n",
              "      <td>827967</td>\n",
              "      <td>572323</td>\n",
              "      <td>2020-01-13 18:09:34</td>\n",
              "      <td>0</td>\n",
              "    </tr>\n",
              "    <tr>\n",
              "      <th>4</th>\n",
              "      <td>4</td>\n",
              "      <td>True</td>\n",
              "      <td>True</td>\n",
              "      <td>True</td>\n",
              "      <td>False</td>\n",
              "      <td>False</td>\n",
              "      <td>False</td>\n",
              "      <td>1</td>\n",
              "      <td>3</td>\n",
              "      <td>4</td>\n",
              "      <td>5</td>\n",
              "      <td>275</td>\n",
              "      <td>370</td>\n",
              "      <td>369</td>\n",
              "      <td>4</td>\n",
              "      <td>1</td>\n",
              "      <td>1</td>\n",
              "      <td>214</td>\n",
              "      <td>210</td>\n",
              "      <td>209</td>\n",
              "      <td>1</td>\n",
              "      <td>1</td>\n",
              "      <td>10</td>\n",
              "      <td>2</td>\n",
              "      <td>1</td>\n",
              "      <td>2</td>\n",
              "      <td>1608</td>\n",
              "      <td>275</td>\n",
              "      <td>1</td>\n",
              "      <td>4</td>\n",
              "      <td>74</td>\n",
              "      <td>831614</td>\n",
              "      <td>573899</td>\n",
              "      <td>2020-03-09 20:39:22</td>\n",
              "      <td>0</td>\n",
              "    </tr>\n",
              "  </tbody>\n",
              "</table>\n",
              "</div>\n",
              "      <button class=\"colab-df-convert\" onclick=\"convertToInteractive('df-9bc4f3f1-7fce-4061-917f-15d9e3e2f655')\"\n",
              "              title=\"Convert this dataframe to an interactive table.\"\n",
              "              style=\"display:none;\">\n",
              "        \n",
              "  <svg xmlns=\"http://www.w3.org/2000/svg\" height=\"24px\"viewBox=\"0 0 24 24\"\n",
              "       width=\"24px\">\n",
              "    <path d=\"M0 0h24v24H0V0z\" fill=\"none\"/>\n",
              "    <path d=\"M18.56 5.44l.94 2.06.94-2.06 2.06-.94-2.06-.94-.94-2.06-.94 2.06-2.06.94zm-11 1L8.5 8.5l.94-2.06 2.06-.94-2.06-.94L8.5 2.5l-.94 2.06-2.06.94zm10 10l.94 2.06.94-2.06 2.06-.94-2.06-.94-.94-2.06-.94 2.06-2.06.94z\"/><path d=\"M17.41 7.96l-1.37-1.37c-.4-.4-.92-.59-1.43-.59-.52 0-1.04.2-1.43.59L10.3 9.45l-7.72 7.72c-.78.78-.78 2.05 0 2.83L4 21.41c.39.39.9.59 1.41.59.51 0 1.02-.2 1.41-.59l7.78-7.78 2.81-2.81c.8-.78.8-2.07 0-2.86zM5.41 20L4 18.59l7.72-7.72 1.47 1.35L5.41 20z\"/>\n",
              "  </svg>\n",
              "      </button>\n",
              "      \n",
              "  <style>\n",
              "    .colab-df-container {\n",
              "      display:flex;\n",
              "      flex-wrap:wrap;\n",
              "      gap: 12px;\n",
              "    }\n",
              "\n",
              "    .colab-df-convert {\n",
              "      background-color: #E8F0FE;\n",
              "      border: none;\n",
              "      border-radius: 50%;\n",
              "      cursor: pointer;\n",
              "      display: none;\n",
              "      fill: #1967D2;\n",
              "      height: 32px;\n",
              "      padding: 0 0 0 0;\n",
              "      width: 32px;\n",
              "    }\n",
              "\n",
              "    .colab-df-convert:hover {\n",
              "      background-color: #E2EBFA;\n",
              "      box-shadow: 0px 1px 2px rgba(60, 64, 67, 0.3), 0px 1px 3px 1px rgba(60, 64, 67, 0.15);\n",
              "      fill: #174EA6;\n",
              "    }\n",
              "\n",
              "    [theme=dark] .colab-df-convert {\n",
              "      background-color: #3B4455;\n",
              "      fill: #D2E3FC;\n",
              "    }\n",
              "\n",
              "    [theme=dark] .colab-df-convert:hover {\n",
              "      background-color: #434B5C;\n",
              "      box-shadow: 0px 1px 3px 1px rgba(0, 0, 0, 0.15);\n",
              "      filter: drop-shadow(0px 1px 2px rgba(0, 0, 0, 0.3));\n",
              "      fill: #FFFFFF;\n",
              "    }\n",
              "  </style>\n",
              "\n",
              "      <script>\n",
              "        const buttonEl =\n",
              "          document.querySelector('#df-9bc4f3f1-7fce-4061-917f-15d9e3e2f655 button.colab-df-convert');\n",
              "        buttonEl.style.display =\n",
              "          google.colab.kernel.accessAllowed ? 'block' : 'none';\n",
              "\n",
              "        async function convertToInteractive(key) {\n",
              "          const element = document.querySelector('#df-9bc4f3f1-7fce-4061-917f-15d9e3e2f655');\n",
              "          const dataTable =\n",
              "            await google.colab.kernel.invokeFunction('convertToInteractive',\n",
              "                                                     [key], {});\n",
              "          if (!dataTable) return;\n",
              "\n",
              "          const docLinkHtml = 'Like what you see? Visit the ' +\n",
              "            '<a target=\"_blank\" href=https://colab.research.google.com/notebooks/data_table.ipynb>data table notebook</a>'\n",
              "            + ' to learn more about interactive tables.';\n",
              "          element.innerHTML = '';\n",
              "          dataTable['output_type'] = 'display_data';\n",
              "          await google.colab.output.renderOutput(dataTable, element);\n",
              "          const docLink = document.createElement('div');\n",
              "          docLink.innerHTML = docLinkHtml;\n",
              "          element.appendChild(docLink);\n",
              "        }\n",
              "      </script>\n",
              "    </div>\n",
              "  </div>\n",
              "  "
            ],
            "text/plain": [
              "   id  d_l_match_yn  d_m_match_yn  ...  contents_rn     contents_open_dt  target\n",
              "0   0          True          True  ...       354805  2020-01-17 12:09:36       1\n",
              "1   1         False         False  ...       346213  2020-06-18 17:48:52       0\n",
              "2   2         False         False  ...       206408  2020-07-08 20:00:10       0\n",
              "3   3         False         False  ...       572323  2020-01-13 18:09:34       0\n",
              "4   4          True          True  ...       573899  2020-03-09 20:39:22       0\n",
              "\n",
              "[5 rows x 35 columns]"
            ]
          },
          "metadata": {},
          "execution_count": 4
        }
      ]
    },
    {
      "cell_type": "markdown",
      "source": [
        "## 데이터 - 속성 코드 매칭\n",
        "\n",
        "참조 : [데이터 - 속성 코드 매칭](https://dacon.io/competitions/official/235863/codeshare/3877?page=1&dtype=recent)"
      ],
      "metadata": {
        "id": "tLBmPfcuw13L"
      }
    },
    {
      "cell_type": "code",
      "source": [
        "def add_code(df, d_code, h_code, l_code):\n",
        "    df = df.copy()   \n",
        "\n",
        "    # D Code\n",
        "    df['person_prefer_d_1_n'] = df['person_prefer_d_1'].apply(lambda x: d_code[x]['속성 D 세분류코드'])\n",
        "    df['person_prefer_d_1_s'] = df['person_prefer_d_1'].apply(lambda x: d_code[x]['속성 D 소분류코드'])\n",
        "    df['person_prefer_d_1_m'] = df['person_prefer_d_1'].apply(lambda x: d_code[x]['속성 D 중분류코드'])\n",
        "    df['person_prefer_d_1_l'] = df['person_prefer_d_1'].apply(lambda x: d_code[x]['속성 D 대분류코드'])\n",
        "\n",
        "    df['person_prefer_d_2_n'] = df['person_prefer_d_2'].apply(lambda x: d_code[x]['속성 D 세분류코드'])\n",
        "    df['person_prefer_d_2_s'] = df['person_prefer_d_2'].apply(lambda x: d_code[x]['속성 D 소분류코드'])\n",
        "    df['person_prefer_d_2_m'] = df['person_prefer_d_2'].apply(lambda x: d_code[x]['속성 D 중분류코드'])\n",
        "    df['person_prefer_d_2_l'] = df['person_prefer_d_2'].apply(lambda x: d_code[x]['속성 D 대분류코드'])\n",
        "\n",
        "    df['person_prefer_d_3_n'] = df['person_prefer_d_3'].apply(lambda x: d_code[x]['속성 D 세분류코드'])\n",
        "    df['person_prefer_d_3_s'] = df['person_prefer_d_3'].apply(lambda x: d_code[x]['속성 D 소분류코드'])\n",
        "    df['person_prefer_d_3_m'] = df['person_prefer_d_3'].apply(lambda x: d_code[x]['속성 D 중분류코드'])\n",
        "    df['person_prefer_d_3_l'] = df['person_prefer_d_3'].apply(lambda x: d_code[x]['속성 D 대분류코드'])\n",
        "\n",
        "    df['contents_attribute_d_n'] = df['contents_attribute_d'].apply(lambda x: d_code[x]['속성 D 세분류코드'])\n",
        "    df['contents_attribute_d_s'] = df['contents_attribute_d'].apply(lambda x: d_code[x]['속성 D 소분류코드'])\n",
        "    df['contents_attribute_d_m'] = df['contents_attribute_d'].apply(lambda x: d_code[x]['속성 D 중분류코드'])\n",
        "    df['contents_attribute_d_l'] = df['contents_attribute_d'].apply(lambda x: d_code[x]['속성 D 대분류코드'])\n",
        "\n",
        "    # H Code\n",
        "    df['person_prefer_h_1_u'] = df['person_prefer_h_1'].apply(lambda x: h_code[x]['속성 H 상위코드'])\n",
        "    df['person_prefer_h_2_u'] = df['person_prefer_h_2'].apply(lambda x: h_code[x]['속성 H 상위코드'])\n",
        "    df['person_prefer_h_3_u'] = df['person_prefer_h_3'].apply(lambda x: h_code[x]['속성 H 상위코드'])\n",
        "    df['contents_attribute_h_u'] = df['contents_attribute_h'].apply(lambda x: h_code[x]['속성 H 상위코드'])\n",
        "\n",
        "    # L Code\n",
        "    df['contents_attribute_l_n'] = df['contents_attribute_l'].apply(lambda x: l_code[x]['속성 L 세분류코드'])\n",
        "    df['contents_attribute_l_s'] = df['contents_attribute_l'].apply(lambda x: l_code[x]['속성 L 소분류코드'])\n",
        "    df['contents_attribute_l_m'] = df['contents_attribute_l'].apply(lambda x: l_code[x]['속성 L 중분류코드'])\n",
        "    df['contents_attribute_l_l'] = df['contents_attribute_l'].apply(lambda x: l_code[x]['속성 L 대분류코드'])\n",
        "    return df\n",
        "\n",
        "train_data = add_code(train_data, d_code, h_code, l_code)\n",
        "test_data = add_code(test_data, d_code, h_code, l_code)\n",
        "print(\"train_data.shape: \", train_data.shape)\n",
        "print(\"test_data.shape: \", test_data.shape)"
      ],
      "metadata": {
        "colab": {
          "base_uri": "https://localhost:8080/"
        },
        "id": "LkGlcrRqwtG4",
        "outputId": "713d414c-9eaf-41d9-f164-d1f85b179fd9"
      },
      "execution_count": 5,
      "outputs": [
        {
          "output_type": "stream",
          "name": "stdout",
          "text": [
            "train_data.shape:  (501951, 59)\n",
            "test_data.shape:  (46404, 58)\n"
          ]
        }
      ]
    },
    {
      "cell_type": "markdown",
      "source": [
        "## 날짜데이터 전처리\n",
        "\n",
        "* contents_open_dt 데이터에 대해서 전처리를 합니다.\n",
        "* 년, 달, 일 데이터를 남기고 시간, 분 데이터는 버립니다."
      ],
      "metadata": {
        "id": "hBH-JF3exFcn"
      }
    },
    {
      "cell_type": "code",
      "source": [
        "def preprocessing_contents_open_dt(data):\n",
        "    data['contents_open_dt'] = data['contents_open_dt'].astype('str')\n",
        "    DATE = data['contents_open_dt'].apply(lambda x: datetime.strptime(x, '%Y-%m-%d %H:%M:%S'))\n",
        "    \n",
        "    DATE = pd.DataFrame(DATE)\n",
        "    DATE = DATE.rename(columns = {'contents_open_dt': 'date'})\n",
        "    \n",
        "    DATE['Y'] = DATE['date'].apply(lambda x: x.timetuple()[0])\n",
        "    DATE['M'] = DATE['date'].apply(lambda x: x.timetuple()[1])\n",
        "    DATE['D'] = DATE['date'].apply(lambda x: x.timetuple()[2])\n",
        "    DATE['id'] = data['id']\n",
        "    \n",
        "    data = data.merge(DATE, on = 'id', how = 'left')\n",
        "    data = data.drop(columns = ['date', 'contents_open_dt'])\n",
        "    return data\n",
        "\n",
        "train_data = preprocessing_contents_open_dt(train_data)\n",
        "test_data = preprocessing_contents_open_dt(test_data)\n",
        "\n",
        "# 안전하게 확인하고 넘어 갑시다. \n",
        "train_data_labels = train_data['target']\n",
        "train_data, test_data = train_data.align(test_data, join = 'inner', axis = 1)\n",
        "train_data['target'] = train_data_labels\n",
        "print(\"train_data.shape: \", train_data.shape)\n",
        "print(\"test_data.shape: \", test_data.shape)"
      ],
      "metadata": {
        "colab": {
          "base_uri": "https://localhost:8080/"
        },
        "id": "l4QRJUkCw3lO",
        "outputId": "60b1b37c-ce10-4148-f01d-ebb3ab78b943"
      },
      "execution_count": 6,
      "outputs": [
        {
          "output_type": "stream",
          "name": "stdout",
          "text": [
            "train_data.shape:  (501951, 61)\n",
            "test_data.shape:  (46404, 60)\n"
          ]
        }
      ]
    },
    {
      "cell_type": "code",
      "source": [
        "job_data = train_data.copy()\n",
        "job_data_test = test_data.copy()"
      ],
      "metadata": {
        "id": "ZyH6HWmYxMTx"
      },
      "execution_count": 7,
      "outputs": []
    },
    {
      "cell_type": "markdown",
      "source": [
        "## Target Columns 분포도 파악\n",
        "* value_counts()를 통해서 target에 대한 데이터 분포도 확인\n",
        "* plot.hist()를 통해서 시각적으로 데이터 분포도 확인\n",
        "* imbalanced class problem 문제가 보이지 않음 (0과 1 비율 약 50:50)"
      ],
      "metadata": {
        "id": "YmFvUpw7THMF"
      }
    },
    {
      "cell_type": "code",
      "source": [
        "print(\"job 데이터 target 분포도:\")\n",
        "print(job_data['target'].value_counts())\n",
        "job_data['target'].plot.hist(title = \"Distribution Of Target\")\n"
      ],
      "metadata": {
        "colab": {
          "base_uri": "https://localhost:8080/",
          "height": 375
        },
        "id": "84aWbpSBTGX2",
        "outputId": "53312d5f-8b54-43c5-dce1-dcf2d5939647"
      },
      "execution_count": 8,
      "outputs": [
        {
          "output_type": "stream",
          "name": "stdout",
          "text": [
            "job 데이터 target 분포도:\n",
            "0    251106\n",
            "1    250845\n",
            "Name: target, dtype: int64\n"
          ]
        },
        {
          "output_type": "execute_result",
          "data": {
            "text/plain": [
              "<matplotlib.axes._subplots.AxesSubplot at 0x7f3c601aa850>"
            ]
          },
          "metadata": {},
          "execution_count": 8
        },
        {
          "output_type": "display_data",
          "data": {
            "image/png": "[encoded data removed]",
            "text/plain": [
              "<Figure size 432x288 with 1 Axes>"
            ]
          },
          "metadata": {
            "needs_background": "light"
          }
        }
      ]
    },
    {
      "cell_type": "markdown",
      "source": [
        "## 데이터에 포함된 결측치 파악\n",
        "* 모든 데이터에서 결측치가 포함되어 있지 않음\n",
        "* 결측치가 포함되어 있지 않기 때문에 결측치 처리를 하지 않아도 됨\n",
        "  * 결측치가 포함되어 있다면 SimpleImputer 함수를 통해서 처리한다.\n",
        "  * 평균 값으로 하고자 한다면 strategy = 'mean'\n",
        "  * 중앙 값으로 하고자 한다면 strateget = 'median'\n",
        "    * 대부분은 중앙 값으로 대체하는 게 옳다. 평균 값은 이상치에 따라서 외곡이 크기 때문이다. 이는 EDA를 통해서 데이터 분포를 파악해서 상황에 따라서 유동적으로 사용해야 함."
      ],
      "metadata": {
        "id": "_-YRGEFzTtD4"
      }
    },
    {
      "cell_type": "code",
      "source": [
        "mis_val = job_data.isnull().sum()\n",
        "mis_val_bool = mis_val >= 1\n",
        "\n",
        "mis_val_df = pd.concat([mis_val, mis_val_bool], axis = 1)\n",
        "mis_val_df = mis_val_df.rename(columns = {0: 'mis_val', 1: 'mis_val_bool'})\n",
        "\n",
        "print(\"데이터 결측치 값: \")\n",
        "print(mis_val_df['mis_val_bool'].value_counts())\n",
        "\n",
        "mis_val_df['mis_val_bool'].astype(int).plot.hist(title = \"Distribution Of Missing Values\")"
      ],
      "metadata": {
        "colab": {
          "base_uri": "https://localhost:8080/",
          "height": 357
        },
        "id": "zxIOgwGJTRoa",
        "outputId": "21afe190-536d-43ae-b190-e7dec411fbbd"
      },
      "execution_count": 14,
      "outputs": [
        {
          "output_type": "stream",
          "name": "stdout",
          "text": [
            "데이터 결측치 값: \n",
            "False    61\n",
            "Name: mis_val_bool, dtype: int64\n"
          ]
        },
        {
          "output_type": "execute_result",
          "data": {
            "text/plain": [
              "<matplotlib.axes._subplots.AxesSubplot at 0x7f3c5bca0710>"
            ]
          },
          "metadata": {},
          "execution_count": 14
        },
        {
          "output_type": "display_data",
          "data": {
            "image/png": "[encoded data removed]",
            "text/plain": [
              "<Figure size 432x288 with 1 Axes>"
            ]
          },
          "metadata": {
            "needs_background": "light"
          }
        }
      ]
    },
    {
      "cell_type": "code",
      "source": [
        "mis_val_df.head(60)"
      ],
      "metadata": {
        "colab": {
          "base_uri": "https://localhost:8080/",
          "height": 1000
        },
        "id": "88XihYcCT6Qx",
        "outputId": "a5ad8789-2c3b-4727-efdc-d684658392a3"
      },
      "execution_count": 15,
      "outputs": [
        {
          "output_type": "execute_result",
          "data": {
            "text/html": [
              "\n",
              "  <div id=\"df-8eff5aa7-6380-4719-9d5e-8a3ad0122378\">\n",
              "    <div class=\"colab-df-container\">\n",
              "      <div>\n",
              "<style scoped>\n",
              "    .dataframe tbody tr th:only-of-type {\n",
              "        vertical-align: middle;\n",
              "    }\n",
              "\n",
              "    .dataframe tbody tr th {\n",
              "        vertical-align: top;\n",
              "    }\n",
              "\n",
              "    .dataframe thead th {\n",
              "        text-align: right;\n",
              "    }\n",
              "</style>\n",
              "<table border=\"1\" class=\"dataframe\">\n",
              "  <thead>\n",
              "    <tr style=\"text-align: right;\">\n",
              "      <th></th>\n",
              "      <th>mis_val</th>\n",
              "      <th>mis_val_bool</th>\n",
              "    </tr>\n",
              "  </thead>\n",
              "  <tbody>\n",
              "    <tr>\n",
              "      <th>id</th>\n",
              "      <td>0</td>\n",
              "      <td>False</td>\n",
              "    </tr>\n",
              "    <tr>\n",
              "      <th>d_l_match_yn</th>\n",
              "      <td>0</td>\n",
              "      <td>False</td>\n",
              "    </tr>\n",
              "    <tr>\n",
              "      <th>d_m_match_yn</th>\n",
              "      <td>0</td>\n",
              "      <td>False</td>\n",
              "    </tr>\n",
              "    <tr>\n",
              "      <th>d_s_match_yn</th>\n",
              "      <td>0</td>\n",
              "      <td>False</td>\n",
              "    </tr>\n",
              "    <tr>\n",
              "      <th>h_l_match_yn</th>\n",
              "      <td>0</td>\n",
              "      <td>False</td>\n",
              "    </tr>\n",
              "    <tr>\n",
              "      <th>h_m_match_yn</th>\n",
              "      <td>0</td>\n",
              "      <td>False</td>\n",
              "    </tr>\n",
              "    <tr>\n",
              "      <th>h_s_match_yn</th>\n",
              "      <td>0</td>\n",
              "      <td>False</td>\n",
              "    </tr>\n",
              "    <tr>\n",
              "      <th>person_attribute_a</th>\n",
              "      <td>0</td>\n",
              "      <td>False</td>\n",
              "    </tr>\n",
              "    <tr>\n",
              "      <th>person_attribute_a_1</th>\n",
              "      <td>0</td>\n",
              "      <td>False</td>\n",
              "    </tr>\n",
              "    <tr>\n",
              "      <th>person_attribute_b</th>\n",
              "      <td>0</td>\n",
              "      <td>False</td>\n",
              "    </tr>\n",
              "    <tr>\n",
              "      <th>person_prefer_c</th>\n",
              "      <td>0</td>\n",
              "      <td>False</td>\n",
              "    </tr>\n",
              "    <tr>\n",
              "      <th>person_prefer_d_1</th>\n",
              "      <td>0</td>\n",
              "      <td>False</td>\n",
              "    </tr>\n",
              "    <tr>\n",
              "      <th>person_prefer_d_2</th>\n",
              "      <td>0</td>\n",
              "      <td>False</td>\n",
              "    </tr>\n",
              "    <tr>\n",
              "      <th>person_prefer_d_3</th>\n",
              "      <td>0</td>\n",
              "      <td>False</td>\n",
              "    </tr>\n",
              "    <tr>\n",
              "      <th>person_prefer_e</th>\n",
              "      <td>0</td>\n",
              "      <td>False</td>\n",
              "    </tr>\n",
              "    <tr>\n",
              "      <th>person_prefer_f</th>\n",
              "      <td>0</td>\n",
              "      <td>False</td>\n",
              "    </tr>\n",
              "    <tr>\n",
              "      <th>person_prefer_g</th>\n",
              "      <td>0</td>\n",
              "      <td>False</td>\n",
              "    </tr>\n",
              "    <tr>\n",
              "      <th>person_prefer_h_1</th>\n",
              "      <td>0</td>\n",
              "      <td>False</td>\n",
              "    </tr>\n",
              "    <tr>\n",
              "      <th>person_prefer_h_2</th>\n",
              "      <td>0</td>\n",
              "      <td>False</td>\n",
              "    </tr>\n",
              "    <tr>\n",
              "      <th>person_prefer_h_3</th>\n",
              "      <td>0</td>\n",
              "      <td>False</td>\n",
              "    </tr>\n",
              "    <tr>\n",
              "      <th>contents_attribute_i</th>\n",
              "      <td>0</td>\n",
              "      <td>False</td>\n",
              "    </tr>\n",
              "    <tr>\n",
              "      <th>contents_attribute_a</th>\n",
              "      <td>0</td>\n",
              "      <td>False</td>\n",
              "    </tr>\n",
              "    <tr>\n",
              "      <th>contents_attribute_j_1</th>\n",
              "      <td>0</td>\n",
              "      <td>False</td>\n",
              "    </tr>\n",
              "    <tr>\n",
              "      <th>contents_attribute_j</th>\n",
              "      <td>0</td>\n",
              "      <td>False</td>\n",
              "    </tr>\n",
              "    <tr>\n",
              "      <th>contents_attribute_c</th>\n",
              "      <td>0</td>\n",
              "      <td>False</td>\n",
              "    </tr>\n",
              "    <tr>\n",
              "      <th>contents_attribute_k</th>\n",
              "      <td>0</td>\n",
              "      <td>False</td>\n",
              "    </tr>\n",
              "    <tr>\n",
              "      <th>contents_attribute_l</th>\n",
              "      <td>0</td>\n",
              "      <td>False</td>\n",
              "    </tr>\n",
              "    <tr>\n",
              "      <th>contents_attribute_d</th>\n",
              "      <td>0</td>\n",
              "      <td>False</td>\n",
              "    </tr>\n",
              "    <tr>\n",
              "      <th>contents_attribute_m</th>\n",
              "      <td>0</td>\n",
              "      <td>False</td>\n",
              "    </tr>\n",
              "    <tr>\n",
              "      <th>contents_attribute_e</th>\n",
              "      <td>0</td>\n",
              "      <td>False</td>\n",
              "    </tr>\n",
              "    <tr>\n",
              "      <th>contents_attribute_h</th>\n",
              "      <td>0</td>\n",
              "      <td>False</td>\n",
              "    </tr>\n",
              "    <tr>\n",
              "      <th>person_rn</th>\n",
              "      <td>0</td>\n",
              "      <td>False</td>\n",
              "    </tr>\n",
              "    <tr>\n",
              "      <th>contents_rn</th>\n",
              "      <td>0</td>\n",
              "      <td>False</td>\n",
              "    </tr>\n",
              "    <tr>\n",
              "      <th>person_prefer_d_1_n</th>\n",
              "      <td>0</td>\n",
              "      <td>False</td>\n",
              "    </tr>\n",
              "    <tr>\n",
              "      <th>person_prefer_d_1_s</th>\n",
              "      <td>0</td>\n",
              "      <td>False</td>\n",
              "    </tr>\n",
              "    <tr>\n",
              "      <th>person_prefer_d_1_m</th>\n",
              "      <td>0</td>\n",
              "      <td>False</td>\n",
              "    </tr>\n",
              "    <tr>\n",
              "      <th>person_prefer_d_1_l</th>\n",
              "      <td>0</td>\n",
              "      <td>False</td>\n",
              "    </tr>\n",
              "    <tr>\n",
              "      <th>person_prefer_d_2_n</th>\n",
              "      <td>0</td>\n",
              "      <td>False</td>\n",
              "    </tr>\n",
              "    <tr>\n",
              "      <th>person_prefer_d_2_s</th>\n",
              "      <td>0</td>\n",
              "      <td>False</td>\n",
              "    </tr>\n",
              "    <tr>\n",
              "      <th>person_prefer_d_2_m</th>\n",
              "      <td>0</td>\n",
              "      <td>False</td>\n",
              "    </tr>\n",
              "    <tr>\n",
              "      <th>person_prefer_d_2_l</th>\n",
              "      <td>0</td>\n",
              "      <td>False</td>\n",
              "    </tr>\n",
              "    <tr>\n",
              "      <th>person_prefer_d_3_n</th>\n",
              "      <td>0</td>\n",
              "      <td>False</td>\n",
              "    </tr>\n",
              "    <tr>\n",
              "      <th>person_prefer_d_3_s</th>\n",
              "      <td>0</td>\n",
              "      <td>False</td>\n",
              "    </tr>\n",
              "    <tr>\n",
              "      <th>person_prefer_d_3_m</th>\n",
              "      <td>0</td>\n",
              "      <td>False</td>\n",
              "    </tr>\n",
              "    <tr>\n",
              "      <th>person_prefer_d_3_l</th>\n",
              "      <td>0</td>\n",
              "      <td>False</td>\n",
              "    </tr>\n",
              "    <tr>\n",
              "      <th>contents_attribute_d_n</th>\n",
              "      <td>0</td>\n",
              "      <td>False</td>\n",
              "    </tr>\n",
              "    <tr>\n",
              "      <th>contents_attribute_d_s</th>\n",
              "      <td>0</td>\n",
              "      <td>False</td>\n",
              "    </tr>\n",
              "    <tr>\n",
              "      <th>contents_attribute_d_m</th>\n",
              "      <td>0</td>\n",
              "      <td>False</td>\n",
              "    </tr>\n",
              "    <tr>\n",
              "      <th>contents_attribute_d_l</th>\n",
              "      <td>0</td>\n",
              "      <td>False</td>\n",
              "    </tr>\n",
              "    <tr>\n",
              "      <th>person_prefer_h_1_u</th>\n",
              "      <td>0</td>\n",
              "      <td>False</td>\n",
              "    </tr>\n",
              "    <tr>\n",
              "      <th>person_prefer_h_2_u</th>\n",
              "      <td>0</td>\n",
              "      <td>False</td>\n",
              "    </tr>\n",
              "    <tr>\n",
              "      <th>person_prefer_h_3_u</th>\n",
              "      <td>0</td>\n",
              "      <td>False</td>\n",
              "    </tr>\n",
              "    <tr>\n",
              "      <th>contents_attribute_h_u</th>\n",
              "      <td>0</td>\n",
              "      <td>False</td>\n",
              "    </tr>\n",
              "    <tr>\n",
              "      <th>contents_attribute_l_n</th>\n",
              "      <td>0</td>\n",
              "      <td>False</td>\n",
              "    </tr>\n",
              "    <tr>\n",
              "      <th>contents_attribute_l_s</th>\n",
              "      <td>0</td>\n",
              "      <td>False</td>\n",
              "    </tr>\n",
              "    <tr>\n",
              "      <th>contents_attribute_l_m</th>\n",
              "      <td>0</td>\n",
              "      <td>False</td>\n",
              "    </tr>\n",
              "    <tr>\n",
              "      <th>contents_attribute_l_l</th>\n",
              "      <td>0</td>\n",
              "      <td>False</td>\n",
              "    </tr>\n",
              "    <tr>\n",
              "      <th>Y</th>\n",
              "      <td>0</td>\n",
              "      <td>False</td>\n",
              "    </tr>\n",
              "    <tr>\n",
              "      <th>M</th>\n",
              "      <td>0</td>\n",
              "      <td>False</td>\n",
              "    </tr>\n",
              "    <tr>\n",
              "      <th>D</th>\n",
              "      <td>0</td>\n",
              "      <td>False</td>\n",
              "    </tr>\n",
              "  </tbody>\n",
              "</table>\n",
              "</div>\n",
              "      <button class=\"colab-df-convert\" onclick=\"convertToInteractive('df-8eff5aa7-6380-4719-9d5e-8a3ad0122378')\"\n",
              "              title=\"Convert this dataframe to an interactive table.\"\n",
              "              style=\"display:none;\">\n",
              "        \n",
              "  <svg xmlns=\"http://www.w3.org/2000/svg\" height=\"24px\"viewBox=\"0 0 24 24\"\n",
              "       width=\"24px\">\n",
              "    <path d=\"M0 0h24v24H0V0z\" fill=\"none\"/>\n",
              "    <path d=\"M18.56 5.44l.94 2.06.94-2.06 2.06-.94-2.06-.94-.94-2.06-.94 2.06-2.06.94zm-11 1L8.5 8.5l.94-2.06 2.06-.94-2.06-.94L8.5 2.5l-.94 2.06-2.06.94zm10 10l.94 2.06.94-2.06 2.06-.94-2.06-.94-.94-2.06-.94 2.06-2.06.94z\"/><path d=\"M17.41 7.96l-1.37-1.37c-.4-.4-.92-.59-1.43-.59-.52 0-1.04.2-1.43.59L10.3 9.45l-7.72 7.72c-.78.78-.78 2.05 0 2.83L4 21.41c.39.39.9.59 1.41.59.51 0 1.02-.2 1.41-.59l7.78-7.78 2.81-2.81c.8-.78.8-2.07 0-2.86zM5.41 20L4 18.59l7.72-7.72 1.47 1.35L5.41 20z\"/>\n",
              "  </svg>\n",
              "      </button>\n",
              "      \n",
              "  <style>\n",
              "    .colab-df-container {\n",
              "      display:flex;\n",
              "      flex-wrap:wrap;\n",
              "      gap: 12px;\n",
              "    }\n",
              "\n",
              "    .colab-df-convert {\n",
              "      background-color: #E8F0FE;\n",
              "      border: none;\n",
              "      border-radius: 50%;\n",
              "      cursor: pointer;\n",
              "      display: none;\n",
              "      fill: #1967D2;\n",
              "      height: 32px;\n",
              "      padding: 0 0 0 0;\n",
              "      width: 32px;\n",
              "    }\n",
              "\n",
              "    .colab-df-convert:hover {\n",
              "      background-color: #E2EBFA;\n",
              "      box-shadow: 0px 1px 2px rgba(60, 64, 67, 0.3), 0px 1px 3px 1px rgba(60, 64, 67, 0.15);\n",
              "      fill: #174EA6;\n",
              "    }\n",
              "\n",
              "    [theme=dark] .colab-df-convert {\n",
              "      background-color: #3B4455;\n",
              "      fill: #D2E3FC;\n",
              "    }\n",
              "\n",
              "    [theme=dark] .colab-df-convert:hover {\n",
              "      background-color: #434B5C;\n",
              "      box-shadow: 0px 1px 3px 1px rgba(0, 0, 0, 0.15);\n",
              "      filter: drop-shadow(0px 1px 2px rgba(0, 0, 0, 0.3));\n",
              "      fill: #FFFFFF;\n",
              "    }\n",
              "  </style>\n",
              "\n",
              "      <script>\n",
              "        const buttonEl =\n",
              "          document.querySelector('#df-8eff5aa7-6380-4719-9d5e-8a3ad0122378 button.colab-df-convert');\n",
              "        buttonEl.style.display =\n",
              "          google.colab.kernel.accessAllowed ? 'block' : 'none';\n",
              "\n",
              "        async function convertToInteractive(key) {\n",
              "          const element = document.querySelector('#df-8eff5aa7-6380-4719-9d5e-8a3ad0122378');\n",
              "          const dataTable =\n",
              "            await google.colab.kernel.invokeFunction('convertToInteractive',\n",
              "                                                     [key], {});\n",
              "          if (!dataTable) return;\n",
              "\n",
              "          const docLinkHtml = 'Like what you see? Visit the ' +\n",
              "            '<a target=\"_blank\" href=https://colab.research.google.com/notebooks/data_table.ipynb>data table notebook</a>'\n",
              "            + ' to learn more about interactive tables.';\n",
              "          element.innerHTML = '';\n",
              "          dataTable['output_type'] = 'display_data';\n",
              "          await google.colab.output.renderOutput(dataTable, element);\n",
              "          const docLink = document.createElement('div');\n",
              "          docLink.innerHTML = docLinkHtml;\n",
              "          element.appendChild(docLink);\n",
              "        }\n",
              "      </script>\n",
              "    </div>\n",
              "  </div>\n",
              "  "
            ],
            "text/plain": [
              "                        mis_val  mis_val_bool\n",
              "id                            0         False\n",
              "d_l_match_yn                  0         False\n",
              "d_m_match_yn                  0         False\n",
              "d_s_match_yn                  0         False\n",
              "h_l_match_yn                  0         False\n",
              "h_m_match_yn                  0         False\n",
              "h_s_match_yn                  0         False\n",
              "person_attribute_a            0         False\n",
              "person_attribute_a_1          0         False\n",
              "person_attribute_b            0         False\n",
              "person_prefer_c               0         False\n",
              "person_prefer_d_1             0         False\n",
              "person_prefer_d_2             0         False\n",
              "person_prefer_d_3             0         False\n",
              "person_prefer_e               0         False\n",
              "person_prefer_f               0         False\n",
              "person_prefer_g               0         False\n",
              "person_prefer_h_1             0         False\n",
              "person_prefer_h_2             0         False\n",
              "person_prefer_h_3             0         False\n",
              "contents_attribute_i          0         False\n",
              "contents_attribute_a          0         False\n",
              "contents_attribute_j_1        0         False\n",
              "contents_attribute_j          0         False\n",
              "contents_attribute_c          0         False\n",
              "contents_attribute_k          0         False\n",
              "contents_attribute_l          0         False\n",
              "contents_attribute_d          0         False\n",
              "contents_attribute_m          0         False\n",
              "contents_attribute_e          0         False\n",
              "contents_attribute_h          0         False\n",
              "person_rn                     0         False\n",
              "contents_rn                   0         False\n",
              "person_prefer_d_1_n           0         False\n",
              "person_prefer_d_1_s           0         False\n",
              "person_prefer_d_1_m           0         False\n",
              "person_prefer_d_1_l           0         False\n",
              "person_prefer_d_2_n           0         False\n",
              "person_prefer_d_2_s           0         False\n",
              "person_prefer_d_2_m           0         False\n",
              "person_prefer_d_2_l           0         False\n",
              "person_prefer_d_3_n           0         False\n",
              "person_prefer_d_3_s           0         False\n",
              "person_prefer_d_3_m           0         False\n",
              "person_prefer_d_3_l           0         False\n",
              "contents_attribute_d_n        0         False\n",
              "contents_attribute_d_s        0         False\n",
              "contents_attribute_d_m        0         False\n",
              "contents_attribute_d_l        0         False\n",
              "person_prefer_h_1_u           0         False\n",
              "person_prefer_h_2_u           0         False\n",
              "person_prefer_h_3_u           0         False\n",
              "contents_attribute_h_u        0         False\n",
              "contents_attribute_l_n        0         False\n",
              "contents_attribute_l_s        0         False\n",
              "contents_attribute_l_m        0         False\n",
              "contents_attribute_l_l        0         False\n",
              "Y                             0         False\n",
              "M                             0         False\n",
              "D                             0         False"
            ]
          },
          "metadata": {},
          "execution_count": 15
        }
      ]
    },
    {
      "cell_type": "markdown",
      "source": [
        "## 데이터 컬럼에 대한 분포도 확인\n",
        "* int형이 39개 (target 값이 여기에 속함)\n",
        "* float64형이 16개\n",
        "* bool 형이 6개"
      ],
      "metadata": {
        "id": "aYHbIUmdUrZm"
      }
    },
    {
      "cell_type": "code",
      "source": [
        "job_data.dtypes.value_counts()"
      ],
      "metadata": {
        "colab": {
          "base_uri": "https://localhost:8080/"
        },
        "id": "nQ08gwL7Uib7",
        "outputId": "ea7c6a3a-ffff-4d04-936c-2fcf601e9802"
      },
      "execution_count": 16,
      "outputs": [
        {
          "output_type": "execute_result",
          "data": {
            "text/plain": [
              "int64      39\n",
              "float64    16\n",
              "bool        6\n",
              "dtype: int64"
            ]
          },
          "metadata": {},
          "execution_count": 16
        }
      ]
    },
    {
      "cell_type": "markdown",
      "source": [
        "**int형에 속하는 컬럼들에 특징 값 분포**\n",
        "* 특징 값 분포를 통해서 Label Encoding과 Ont-Hot Encoding 방식을 결정\n",
        "* 가장 많은 특징 값을 갖는 것이 'person_rn'\n",
        "* 동일한 특징 값을 갖는 특징들은 ['person_prefer_f', 'person_prefer_g', 'Y'] 라는 것을 파악\n",
        "* 모든 값에 대해서 동일한 값을 갖는 것을 주목해야 한다.\n",
        "* 이러한 특징 값들은 추후 모델 학습에서 Drop 시키고 학습을 실시 하겠습니다."
      ],
      "metadata": {
        "id": "nM6wIKmJUzYo"
      }
    },
    {
      "cell_type": "code",
      "source": [
        "job_data.select_dtypes('int64').apply(pd.Series.nunique, axis=0)"
      ],
      "metadata": {
        "colab": {
          "base_uri": "https://localhost:8080/"
        },
        "id": "CGObf_VvUwsR",
        "outputId": "59662206-14db-49f3-b928-1ba7677f0ab2"
      },
      "execution_count": 17,
      "outputs": [
        {
          "output_type": "execute_result",
          "data": {
            "text/plain": [
              "id                        501951\n",
              "person_attribute_a             2\n",
              "person_attribute_a_1           8\n",
              "person_attribute_b             6\n",
              "person_prefer_c                5\n",
              "person_prefer_d_1           1093\n",
              "person_prefer_d_2           1081\n",
              "person_prefer_d_3           1043\n",
              "person_prefer_e               12\n",
              "person_prefer_f                1\n",
              "person_prefer_g                1\n",
              "person_prefer_h_1            279\n",
              "person_prefer_h_2            279\n",
              "person_prefer_h_3            279\n",
              "contents_attribute_i           3\n",
              "contents_attribute_a           3\n",
              "contents_attribute_j_1         9\n",
              "contents_attribute_j           2\n",
              "contents_attribute_c           4\n",
              "contents_attribute_k           2\n",
              "contents_attribute_l        1752\n",
              "contents_attribute_d        1065\n",
              "contents_attribute_m           5\n",
              "contents_attribute_e          12\n",
              "contents_attribute_h         250\n",
              "person_rn                 300177\n",
              "contents_rn               283359\n",
              "person_prefer_h_1_u           19\n",
              "person_prefer_h_2_u           19\n",
              "person_prefer_h_3_u           19\n",
              "contents_attribute_h_u        17\n",
              "contents_attribute_l_n       736\n",
              "contents_attribute_l_s       305\n",
              "contents_attribute_l_m        79\n",
              "contents_attribute_l_l        21\n",
              "Y                              1\n",
              "M                             11\n",
              "D                             31\n",
              "target                         2\n",
              "dtype: int64"
            ]
          },
          "metadata": {},
          "execution_count": 17
        }
      ]
    },
    {
      "cell_type": "markdown",
      "source": [
        "**Float형에 속하는 컬럼들에 특징 값 분포**\n",
        "* Float형인 것에 비해서 생각보다 특징 값의 분포도가 크지 않음."
      ],
      "metadata": {
        "id": "nZY8TmqjVC1C"
      }
    },
    {
      "cell_type": "code",
      "source": [
        "job_data.select_dtypes('float64').apply(pd.Series.nunique, axis=0)"
      ],
      "metadata": {
        "colab": {
          "base_uri": "https://localhost:8080/"
        },
        "id": "IWCTnrIpU9RK",
        "outputId": "2c5bd498-0e26-41bd-dc6d-a5677bb7ea36"
      },
      "execution_count": 18,
      "outputs": [
        {
          "output_type": "execute_result",
          "data": {
            "text/plain": [
              "person_prefer_d_1_n       443\n",
              "person_prefer_d_1_s        36\n",
              "person_prefer_d_1_m       137\n",
              "person_prefer_d_1_l        11\n",
              "person_prefer_d_2_n       435\n",
              "person_prefer_d_2_s        36\n",
              "person_prefer_d_2_m       137\n",
              "person_prefer_d_2_l        11\n",
              "person_prefer_d_3_n       420\n",
              "person_prefer_d_3_s        36\n",
              "person_prefer_d_3_m       136\n",
              "person_prefer_d_3_l        11\n",
              "contents_attribute_d_n    431\n",
              "contents_attribute_d_s     36\n",
              "contents_attribute_d_m    137\n",
              "contents_attribute_d_l     11\n",
              "dtype: int64"
            ]
          },
          "metadata": {},
          "execution_count": 18
        }
      ]
    },
    {
      "cell_type": "markdown",
      "source": [
        "**Float형에서 같은 특징 값 개수를 갖는 특징들 파악**\n",
        "\n"
      ],
      "metadata": {
        "id": "qZ90hQanVPjm"
      }
    },
    {
      "cell_type": "code",
      "source": [
        "index = job_data.select_dtypes('float64').apply(pd.Series.nunique, axis=0).index\n",
        "values = job_data.select_dtypes('float64').apply(pd.Series.nunique, axis=0).values\n",
        "pd.crosstab(index, values, margins = True).style.background_gradient(cmap='summer_r')"
      ],
      "metadata": {
        "colab": {
          "base_uri": "https://localhost:8080/",
          "height": 613
        },
        "id": "uozMMr5EVMEW",
        "outputId": "d5a52d60-b1d9-4120-e3ef-f0f3dde77f06"
      },
      "execution_count": 19,
      "outputs": [
        {
          "output_type": "execute_result",
          "data": {
            "text/html": [
              "<style  type=\"text/css\" >\n",
              "#T_d5037800_6722_11ec_aaae_0242ac1c0002row0_col0,#T_d5037800_6722_11ec_aaae_0242ac1c0002row3_col1,#T_d5037800_6722_11ec_aaae_0242ac1c0002row4_col0,#T_d5037800_6722_11ec_aaae_0242ac1c0002row7_col1,#T_d5037800_6722_11ec_aaae_0242ac1c0002row8_col0,#T_d5037800_6722_11ec_aaae_0242ac1c0002row11_col1,#T_d5037800_6722_11ec_aaae_0242ac1c0002row12_col0,#T_d5037800_6722_11ec_aaae_0242ac1c0002row15_col1{\n",
              "            background-color:  #bfdf66;\n",
              "            color:  #000000;\n",
              "        }#T_d5037800_6722_11ec_aaae_0242ac1c0002row0_col1,#T_d5037800_6722_11ec_aaae_0242ac1c0002row0_col2,#T_d5037800_6722_11ec_aaae_0242ac1c0002row0_col3,#T_d5037800_6722_11ec_aaae_0242ac1c0002row0_col4,#T_d5037800_6722_11ec_aaae_0242ac1c0002row0_col5,#T_d5037800_6722_11ec_aaae_0242ac1c0002row0_col6,#T_d5037800_6722_11ec_aaae_0242ac1c0002row0_col7,#T_d5037800_6722_11ec_aaae_0242ac1c0002row0_col8,#T_d5037800_6722_11ec_aaae_0242ac1c0002row1_col0,#T_d5037800_6722_11ec_aaae_0242ac1c0002row1_col1,#T_d5037800_6722_11ec_aaae_0242ac1c0002row1_col2,#T_d5037800_6722_11ec_aaae_0242ac1c0002row1_col4,#T_d5037800_6722_11ec_aaae_0242ac1c0002row1_col5,#T_d5037800_6722_11ec_aaae_0242ac1c0002row1_col6,#T_d5037800_6722_11ec_aaae_0242ac1c0002row1_col7,#T_d5037800_6722_11ec_aaae_0242ac1c0002row1_col8,#T_d5037800_6722_11ec_aaae_0242ac1c0002row2_col0,#T_d5037800_6722_11ec_aaae_0242ac1c0002row2_col1,#T_d5037800_6722_11ec_aaae_0242ac1c0002row2_col2,#T_d5037800_6722_11ec_aaae_0242ac1c0002row2_col3,#T_d5037800_6722_11ec_aaae_0242ac1c0002row2_col4,#T_d5037800_6722_11ec_aaae_0242ac1c0002row2_col6,#T_d5037800_6722_11ec_aaae_0242ac1c0002row2_col7,#T_d5037800_6722_11ec_aaae_0242ac1c0002row2_col8,#T_d5037800_6722_11ec_aaae_0242ac1c0002row3_col0,#T_d5037800_6722_11ec_aaae_0242ac1c0002row3_col2,#T_d5037800_6722_11ec_aaae_0242ac1c0002row3_col3,#T_d5037800_6722_11ec_aaae_0242ac1c0002row3_col4,#T_d5037800_6722_11ec_aaae_0242ac1c0002row3_col5,#T_d5037800_6722_11ec_aaae_0242ac1c0002row3_col6,#T_d5037800_6722_11ec_aaae_0242ac1c0002row3_col7,#T_d5037800_6722_11ec_aaae_0242ac1c0002row3_col8,#T_d5037800_6722_11ec_aaae_0242ac1c0002row4_col1,#T_d5037800_6722_11ec_aaae_0242ac1c0002row4_col2,#T_d5037800_6722_11ec_aaae_0242ac1c0002row4_col3,#T_d5037800_6722_11ec_aaae_0242ac1c0002row4_col4,#T_d5037800_6722_11ec_aaae_0242ac1c0002row4_col5,#T_d5037800_6722_11ec_aaae_0242ac1c0002row4_col6,#T_d5037800_6722_11ec_aaae_0242ac1c0002row4_col7,#T_d5037800_6722_11ec_aaae_0242ac1c0002row4_col8,#T_d5037800_6722_11ec_aaae_0242ac1c0002row5_col0,#T_d5037800_6722_11ec_aaae_0242ac1c0002row5_col1,#T_d5037800_6722_11ec_aaae_0242ac1c0002row5_col2,#T_d5037800_6722_11ec_aaae_0242ac1c0002row5_col4,#T_d5037800_6722_11ec_aaae_0242ac1c0002row5_col5,#T_d5037800_6722_11ec_aaae_0242ac1c0002row5_col6,#T_d5037800_6722_11ec_aaae_0242ac1c0002row5_col7,#T_d5037800_6722_11ec_aaae_0242ac1c0002row5_col8,#T_d5037800_6722_11ec_aaae_0242ac1c0002row6_col0,#T_d5037800_6722_11ec_aaae_0242ac1c0002row6_col1,#T_d5037800_6722_11ec_aaae_0242ac1c0002row6_col2,#T_d5037800_6722_11ec_aaae_0242ac1c0002row6_col3,#T_d5037800_6722_11ec_aaae_0242ac1c0002row6_col4,#T_d5037800_6722_11ec_aaae_0242ac1c0002row6_col5,#T_d5037800_6722_11ec_aaae_0242ac1c0002row6_col6,#T_d5037800_6722_11ec_aaae_0242ac1c0002row6_col8,#T_d5037800_6722_11ec_aaae_0242ac1c0002row7_col0,#T_d5037800_6722_11ec_aaae_0242ac1c0002row7_col2,#T_d5037800_6722_11ec_aaae_0242ac1c0002row7_col3,#T_d5037800_6722_11ec_aaae_0242ac1c0002row7_col4,#T_d5037800_6722_11ec_aaae_0242ac1c0002row7_col5,#T_d5037800_6722_11ec_aaae_0242ac1c0002row7_col6,#T_d5037800_6722_11ec_aaae_0242ac1c0002row7_col7,#T_d5037800_6722_11ec_aaae_0242ac1c0002row7_col8,#T_d5037800_6722_11ec_aaae_0242ac1c0002row8_col1,#T_d5037800_6722_11ec_aaae_0242ac1c0002row8_col2,#T_d5037800_6722_11ec_aaae_0242ac1c0002row8_col3,#T_d5037800_6722_11ec_aaae_0242ac1c0002row8_col4,#T_d5037800_6722_11ec_aaae_0242ac1c0002row8_col5,#T_d5037800_6722_11ec_aaae_0242ac1c0002row8_col6,#T_d5037800_6722_11ec_aaae_0242ac1c0002row8_col7,#T_d5037800_6722_11ec_aaae_0242ac1c0002row8_col8,#T_d5037800_6722_11ec_aaae_0242ac1c0002row9_col0,#T_d5037800_6722_11ec_aaae_0242ac1c0002row9_col1,#T_d5037800_6722_11ec_aaae_0242ac1c0002row9_col2,#T_d5037800_6722_11ec_aaae_0242ac1c0002row9_col4,#T_d5037800_6722_11ec_aaae_0242ac1c0002row9_col5,#T_d5037800_6722_11ec_aaae_0242ac1c0002row9_col6,#T_d5037800_6722_11ec_aaae_0242ac1c0002row9_col7,#T_d5037800_6722_11ec_aaae_0242ac1c0002row9_col8,#T_d5037800_6722_11ec_aaae_0242ac1c0002row10_col0,#T_d5037800_6722_11ec_aaae_0242ac1c0002row10_col1,#T_d5037800_6722_11ec_aaae_0242ac1c0002row10_col2,#T_d5037800_6722_11ec_aaae_0242ac1c0002row10_col3,#T_d5037800_6722_11ec_aaae_0242ac1c0002row10_col4,#T_d5037800_6722_11ec_aaae_0242ac1c0002row10_col5,#T_d5037800_6722_11ec_aaae_0242ac1c0002row10_col7,#T_d5037800_6722_11ec_aaae_0242ac1c0002row10_col8,#T_d5037800_6722_11ec_aaae_0242ac1c0002row11_col0,#T_d5037800_6722_11ec_aaae_0242ac1c0002row11_col2,#T_d5037800_6722_11ec_aaae_0242ac1c0002row11_col3,#T_d5037800_6722_11ec_aaae_0242ac1c0002row11_col4,#T_d5037800_6722_11ec_aaae_0242ac1c0002row11_col5,#T_d5037800_6722_11ec_aaae_0242ac1c0002row11_col6,#T_d5037800_6722_11ec_aaae_0242ac1c0002row11_col7,#T_d5037800_6722_11ec_aaae_0242ac1c0002row11_col8,#T_d5037800_6722_11ec_aaae_0242ac1c0002row12_col1,#T_d5037800_6722_11ec_aaae_0242ac1c0002row12_col2,#T_d5037800_6722_11ec_aaae_0242ac1c0002row12_col3,#T_d5037800_6722_11ec_aaae_0242ac1c0002row12_col4,#T_d5037800_6722_11ec_aaae_0242ac1c0002row12_col5,#T_d5037800_6722_11ec_aaae_0242ac1c0002row12_col6,#T_d5037800_6722_11ec_aaae_0242ac1c0002row12_col7,#T_d5037800_6722_11ec_aaae_0242ac1c0002row12_col8,#T_d5037800_6722_11ec_aaae_0242ac1c0002row13_col0,#T_d5037800_6722_11ec_aaae_0242ac1c0002row13_col1,#T_d5037800_6722_11ec_aaae_0242ac1c0002row13_col3,#T_d5037800_6722_11ec_aaae_0242ac1c0002row13_col4,#T_d5037800_6722_11ec_aaae_0242ac1c0002row13_col5,#T_d5037800_6722_11ec_aaae_0242ac1c0002row13_col6,#T_d5037800_6722_11ec_aaae_0242ac1c0002row13_col7,#T_d5037800_6722_11ec_aaae_0242ac1c0002row13_col8,#T_d5037800_6722_11ec_aaae_0242ac1c0002row14_col0,#T_d5037800_6722_11ec_aaae_0242ac1c0002row14_col1,#T_d5037800_6722_11ec_aaae_0242ac1c0002row14_col2,#T_d5037800_6722_11ec_aaae_0242ac1c0002row14_col3,#T_d5037800_6722_11ec_aaae_0242ac1c0002row14_col5,#T_d5037800_6722_11ec_aaae_0242ac1c0002row14_col6,#T_d5037800_6722_11ec_aaae_0242ac1c0002row14_col7,#T_d5037800_6722_11ec_aaae_0242ac1c0002row14_col8,#T_d5037800_6722_11ec_aaae_0242ac1c0002row15_col0,#T_d5037800_6722_11ec_aaae_0242ac1c0002row15_col2,#T_d5037800_6722_11ec_aaae_0242ac1c0002row15_col3,#T_d5037800_6722_11ec_aaae_0242ac1c0002row15_col4,#T_d5037800_6722_11ec_aaae_0242ac1c0002row15_col5,#T_d5037800_6722_11ec_aaae_0242ac1c0002row15_col6,#T_d5037800_6722_11ec_aaae_0242ac1c0002row15_col7,#T_d5037800_6722_11ec_aaae_0242ac1c0002row15_col8{\n",
              "            background-color:  #ffff66;\n",
              "            color:  #000000;\n",
              "        }#T_d5037800_6722_11ec_aaae_0242ac1c0002row1_col3,#T_d5037800_6722_11ec_aaae_0242ac1c0002row5_col3,#T_d5037800_6722_11ec_aaae_0242ac1c0002row9_col3{\n",
              "            background-color:  #aad466;\n",
              "            color:  #000000;\n",
              "        }#T_d5037800_6722_11ec_aaae_0242ac1c0002row2_col5,#T_d5037800_6722_11ec_aaae_0242ac1c0002row6_col7,#T_d5037800_6722_11ec_aaae_0242ac1c0002row10_col6,#T_d5037800_6722_11ec_aaae_0242ac1c0002row13_col2,#T_d5037800_6722_11ec_aaae_0242ac1c0002row14_col4,#T_d5037800_6722_11ec_aaae_0242ac1c0002row16_col0,#T_d5037800_6722_11ec_aaae_0242ac1c0002row16_col1,#T_d5037800_6722_11ec_aaae_0242ac1c0002row16_col2,#T_d5037800_6722_11ec_aaae_0242ac1c0002row16_col3,#T_d5037800_6722_11ec_aaae_0242ac1c0002row16_col4,#T_d5037800_6722_11ec_aaae_0242ac1c0002row16_col5,#T_d5037800_6722_11ec_aaae_0242ac1c0002row16_col6,#T_d5037800_6722_11ec_aaae_0242ac1c0002row16_col7,#T_d5037800_6722_11ec_aaae_0242ac1c0002row16_col8{\n",
              "            background-color:  #008066;\n",
              "            color:  #f1f1f1;\n",
              "        }</style><table id=\"T_d5037800_6722_11ec_aaae_0242ac1c0002\" class=\"dataframe\"><thead>    <tr>        <th class=\"index_name level0\" >col_0</th>        <th class=\"col_heading level0 col0\" >11</th>        <th class=\"col_heading level0 col1\" >36</th>        <th class=\"col_heading level0 col2\" >136</th>        <th class=\"col_heading level0 col3\" >137</th>        <th class=\"col_heading level0 col4\" >420</th>        <th class=\"col_heading level0 col5\" >431</th>        <th class=\"col_heading level0 col6\" >435</th>        <th class=\"col_heading level0 col7\" >443</th>        <th class=\"col_heading level0 col8\" >All</th>    </tr>    <tr>        <th class=\"index_name level0\" >row_0</th>        <th class=\"blank\" ></th>        <th class=\"blank\" ></th>        <th class=\"blank\" ></th>        <th class=\"blank\" ></th>        <th class=\"blank\" ></th>        <th class=\"blank\" ></th>        <th class=\"blank\" ></th>        <th class=\"blank\" ></th>        <th class=\"blank\" ></th>    </tr></thead><tbody>\n",
              "                <tr>\n",
              "                        <th id=\"T_d5037800_6722_11ec_aaae_0242ac1c0002level0_row0\" class=\"row_heading level0 row0\" >contents_attribute_d_l</th>\n",
              "                        <td id=\"T_d5037800_6722_11ec_aaae_0242ac1c0002row0_col0\" class=\"data row0 col0\" >1</td>\n",
              "                        <td id=\"T_d5037800_6722_11ec_aaae_0242ac1c0002row0_col1\" class=\"data row0 col1\" >0</td>\n",
              "                        <td id=\"T_d5037800_6722_11ec_aaae_0242ac1c0002row0_col2\" class=\"data row0 col2\" >0</td>\n",
              "                        <td id=\"T_d5037800_6722_11ec_aaae_0242ac1c0002row0_col3\" class=\"data row0 col3\" >0</td>\n",
              "                        <td id=\"T_d5037800_6722_11ec_aaae_0242ac1c0002row0_col4\" class=\"data row0 col4\" >0</td>\n",
              "                        <td id=\"T_d5037800_6722_11ec_aaae_0242ac1c0002row0_col5\" class=\"data row0 col5\" >0</td>\n",
              "                        <td id=\"T_d5037800_6722_11ec_aaae_0242ac1c0002row0_col6\" class=\"data row0 col6\" >0</td>\n",
              "                        <td id=\"T_d5037800_6722_11ec_aaae_0242ac1c0002row0_col7\" class=\"data row0 col7\" >0</td>\n",
              "                        <td id=\"T_d5037800_6722_11ec_aaae_0242ac1c0002row0_col8\" class=\"data row0 col8\" >1</td>\n",
              "            </tr>\n",
              "            <tr>\n",
              "                        <th id=\"T_d5037800_6722_11ec_aaae_0242ac1c0002level0_row1\" class=\"row_heading level0 row1\" >contents_attribute_d_m</th>\n",
              "                        <td id=\"T_d5037800_6722_11ec_aaae_0242ac1c0002row1_col0\" class=\"data row1 col0\" >0</td>\n",
              "                        <td id=\"T_d5037800_6722_11ec_aaae_0242ac1c0002row1_col1\" class=\"data row1 col1\" >0</td>\n",
              "                        <td id=\"T_d5037800_6722_11ec_aaae_0242ac1c0002row1_col2\" class=\"data row1 col2\" >0</td>\n",
              "                        <td id=\"T_d5037800_6722_11ec_aaae_0242ac1c0002row1_col3\" class=\"data row1 col3\" >1</td>\n",
              "                        <td id=\"T_d5037800_6722_11ec_aaae_0242ac1c0002row1_col4\" class=\"data row1 col4\" >0</td>\n",
              "                        <td id=\"T_d5037800_6722_11ec_aaae_0242ac1c0002row1_col5\" class=\"data row1 col5\" >0</td>\n",
              "                        <td id=\"T_d5037800_6722_11ec_aaae_0242ac1c0002row1_col6\" class=\"data row1 col6\" >0</td>\n",
              "                        <td id=\"T_d5037800_6722_11ec_aaae_0242ac1c0002row1_col7\" class=\"data row1 col7\" >0</td>\n",
              "                        <td id=\"T_d5037800_6722_11ec_aaae_0242ac1c0002row1_col8\" class=\"data row1 col8\" >1</td>\n",
              "            </tr>\n",
              "            <tr>\n",
              "                        <th id=\"T_d5037800_6722_11ec_aaae_0242ac1c0002level0_row2\" class=\"row_heading level0 row2\" >contents_attribute_d_n</th>\n",
              "                        <td id=\"T_d5037800_6722_11ec_aaae_0242ac1c0002row2_col0\" class=\"data row2 col0\" >0</td>\n",
              "                        <td id=\"T_d5037800_6722_11ec_aaae_0242ac1c0002row2_col1\" class=\"data row2 col1\" >0</td>\n",
              "                        <td id=\"T_d5037800_6722_11ec_aaae_0242ac1c0002row2_col2\" class=\"data row2 col2\" >0</td>\n",
              "                        <td id=\"T_d5037800_6722_11ec_aaae_0242ac1c0002row2_col3\" class=\"data row2 col3\" >0</td>\n",
              "                        <td id=\"T_d5037800_6722_11ec_aaae_0242ac1c0002row2_col4\" class=\"data row2 col4\" >0</td>\n",
              "                        <td id=\"T_d5037800_6722_11ec_aaae_0242ac1c0002row2_col5\" class=\"data row2 col5\" >1</td>\n",
              "                        <td id=\"T_d5037800_6722_11ec_aaae_0242ac1c0002row2_col6\" class=\"data row2 col6\" >0</td>\n",
              "                        <td id=\"T_d5037800_6722_11ec_aaae_0242ac1c0002row2_col7\" class=\"data row2 col7\" >0</td>\n",
              "                        <td id=\"T_d5037800_6722_11ec_aaae_0242ac1c0002row2_col8\" class=\"data row2 col8\" >1</td>\n",
              "            </tr>\n",
              "            <tr>\n",
              "                        <th id=\"T_d5037800_6722_11ec_aaae_0242ac1c0002level0_row3\" class=\"row_heading level0 row3\" >contents_attribute_d_s</th>\n",
              "                        <td id=\"T_d5037800_6722_11ec_aaae_0242ac1c0002row3_col0\" class=\"data row3 col0\" >0</td>\n",
              "                        <td id=\"T_d5037800_6722_11ec_aaae_0242ac1c0002row3_col1\" class=\"data row3 col1\" >1</td>\n",
              "                        <td id=\"T_d5037800_6722_11ec_aaae_0242ac1c0002row3_col2\" class=\"data row3 col2\" >0</td>\n",
              "                        <td id=\"T_d5037800_6722_11ec_aaae_0242ac1c0002row3_col3\" class=\"data row3 col3\" >0</td>\n",
              "                        <td id=\"T_d5037800_6722_11ec_aaae_0242ac1c0002row3_col4\" class=\"data row3 col4\" >0</td>\n",
              "                        <td id=\"T_d5037800_6722_11ec_aaae_0242ac1c0002row3_col5\" class=\"data row3 col5\" >0</td>\n",
              "                        <td id=\"T_d5037800_6722_11ec_aaae_0242ac1c0002row3_col6\" class=\"data row3 col6\" >0</td>\n",
              "                        <td id=\"T_d5037800_6722_11ec_aaae_0242ac1c0002row3_col7\" class=\"data row3 col7\" >0</td>\n",
              "                        <td id=\"T_d5037800_6722_11ec_aaae_0242ac1c0002row3_col8\" class=\"data row3 col8\" >1</td>\n",
              "            </tr>\n",
              "            <tr>\n",
              "                        <th id=\"T_d5037800_6722_11ec_aaae_0242ac1c0002level0_row4\" class=\"row_heading level0 row4\" >person_prefer_d_1_l</th>\n",
              "                        <td id=\"T_d5037800_6722_11ec_aaae_0242ac1c0002row4_col0\" class=\"data row4 col0\" >1</td>\n",
              "                        <td id=\"T_d5037800_6722_11ec_aaae_0242ac1c0002row4_col1\" class=\"data row4 col1\" >0</td>\n",
              "                        <td id=\"T_d5037800_6722_11ec_aaae_0242ac1c0002row4_col2\" class=\"data row4 col2\" >0</td>\n",
              "                        <td id=\"T_d5037800_6722_11ec_aaae_0242ac1c0002row4_col3\" class=\"data row4 col3\" >0</td>\n",
              "                        <td id=\"T_d5037800_6722_11ec_aaae_0242ac1c0002row4_col4\" class=\"data row4 col4\" >0</td>\n",
              "                        <td id=\"T_d5037800_6722_11ec_aaae_0242ac1c0002row4_col5\" class=\"data row4 col5\" >0</td>\n",
              "                        <td id=\"T_d5037800_6722_11ec_aaae_0242ac1c0002row4_col6\" class=\"data row4 col6\" >0</td>\n",
              "                        <td id=\"T_d5037800_6722_11ec_aaae_0242ac1c0002row4_col7\" class=\"data row4 col7\" >0</td>\n",
              "                        <td id=\"T_d5037800_6722_11ec_aaae_0242ac1c0002row4_col8\" class=\"data row4 col8\" >1</td>\n",
              "            </tr>\n",
              "            <tr>\n",
              "                        <th id=\"T_d5037800_6722_11ec_aaae_0242ac1c0002level0_row5\" class=\"row_heading level0 row5\" >person_prefer_d_1_m</th>\n",
              "                        <td id=\"T_d5037800_6722_11ec_aaae_0242ac1c0002row5_col0\" class=\"data row5 col0\" >0</td>\n",
              "                        <td id=\"T_d5037800_6722_11ec_aaae_0242ac1c0002row5_col1\" class=\"data row5 col1\" >0</td>\n",
              "                        <td id=\"T_d5037800_6722_11ec_aaae_0242ac1c0002row5_col2\" class=\"data row5 col2\" >0</td>\n",
              "                        <td id=\"T_d5037800_6722_11ec_aaae_0242ac1c0002row5_col3\" class=\"data row5 col3\" >1</td>\n",
              "                        <td id=\"T_d5037800_6722_11ec_aaae_0242ac1c0002row5_col4\" class=\"data row5 col4\" >0</td>\n",
              "                        <td id=\"T_d5037800_6722_11ec_aaae_0242ac1c0002row5_col5\" class=\"data row5 col5\" >0</td>\n",
              "                        <td id=\"T_d5037800_6722_11ec_aaae_0242ac1c0002row5_col6\" class=\"data row5 col6\" >0</td>\n",
              "                        <td id=\"T_d5037800_6722_11ec_aaae_0242ac1c0002row5_col7\" class=\"data row5 col7\" >0</td>\n",
              "                        <td id=\"T_d5037800_6722_11ec_aaae_0242ac1c0002row5_col8\" class=\"data row5 col8\" >1</td>\n",
              "            </tr>\n",
              "            <tr>\n",
              "                        <th id=\"T_d5037800_6722_11ec_aaae_0242ac1c0002level0_row6\" class=\"row_heading level0 row6\" >person_prefer_d_1_n</th>\n",
              "                        <td id=\"T_d5037800_6722_11ec_aaae_0242ac1c0002row6_col0\" class=\"data row6 col0\" >0</td>\n",
              "                        <td id=\"T_d5037800_6722_11ec_aaae_0242ac1c0002row6_col1\" class=\"data row6 col1\" >0</td>\n",
              "                        <td id=\"T_d5037800_6722_11ec_aaae_0242ac1c0002row6_col2\" class=\"data row6 col2\" >0</td>\n",
              "                        <td id=\"T_d5037800_6722_11ec_aaae_0242ac1c0002row6_col3\" class=\"data row6 col3\" >0</td>\n",
              "                        <td id=\"T_d5037800_6722_11ec_aaae_0242ac1c0002row6_col4\" class=\"data row6 col4\" >0</td>\n",
              "                        <td id=\"T_d5037800_6722_11ec_aaae_0242ac1c0002row6_col5\" class=\"data row6 col5\" >0</td>\n",
              "                        <td id=\"T_d5037800_6722_11ec_aaae_0242ac1c0002row6_col6\" class=\"data row6 col6\" >0</td>\n",
              "                        <td id=\"T_d5037800_6722_11ec_aaae_0242ac1c0002row6_col7\" class=\"data row6 col7\" >1</td>\n",
              "                        <td id=\"T_d5037800_6722_11ec_aaae_0242ac1c0002row6_col8\" class=\"data row6 col8\" >1</td>\n",
              "            </tr>\n",
              "            <tr>\n",
              "                        <th id=\"T_d5037800_6722_11ec_aaae_0242ac1c0002level0_row7\" class=\"row_heading level0 row7\" >person_prefer_d_1_s</th>\n",
              "                        <td id=\"T_d5037800_6722_11ec_aaae_0242ac1c0002row7_col0\" class=\"data row7 col0\" >0</td>\n",
              "                        <td id=\"T_d5037800_6722_11ec_aaae_0242ac1c0002row7_col1\" class=\"data row7 col1\" >1</td>\n",
              "                        <td id=\"T_d5037800_6722_11ec_aaae_0242ac1c0002row7_col2\" class=\"data row7 col2\" >0</td>\n",
              "                        <td id=\"T_d5037800_6722_11ec_aaae_0242ac1c0002row7_col3\" class=\"data row7 col3\" >0</td>\n",
              "                        <td id=\"T_d5037800_6722_11ec_aaae_0242ac1c0002row7_col4\" class=\"data row7 col4\" >0</td>\n",
              "                        <td id=\"T_d5037800_6722_11ec_aaae_0242ac1c0002row7_col5\" class=\"data row7 col5\" >0</td>\n",
              "                        <td id=\"T_d5037800_6722_11ec_aaae_0242ac1c0002row7_col6\" class=\"data row7 col6\" >0</td>\n",
              "                        <td id=\"T_d5037800_6722_11ec_aaae_0242ac1c0002row7_col7\" class=\"data row7 col7\" >0</td>\n",
              "                        <td id=\"T_d5037800_6722_11ec_aaae_0242ac1c0002row7_col8\" class=\"data row7 col8\" >1</td>\n",
              "            </tr>\n",
              "            <tr>\n",
              "                        <th id=\"T_d5037800_6722_11ec_aaae_0242ac1c0002level0_row8\" class=\"row_heading level0 row8\" >person_prefer_d_2_l</th>\n",
              "                        <td id=\"T_d5037800_6722_11ec_aaae_0242ac1c0002row8_col0\" class=\"data row8 col0\" >1</td>\n",
              "                        <td id=\"T_d5037800_6722_11ec_aaae_0242ac1c0002row8_col1\" class=\"data row8 col1\" >0</td>\n",
              "                        <td id=\"T_d5037800_6722_11ec_aaae_0242ac1c0002row8_col2\" class=\"data row8 col2\" >0</td>\n",
              "                        <td id=\"T_d5037800_6722_11ec_aaae_0242ac1c0002row8_col3\" class=\"data row8 col3\" >0</td>\n",
              "                        <td id=\"T_d5037800_6722_11ec_aaae_0242ac1c0002row8_col4\" class=\"data row8 col4\" >0</td>\n",
              "                        <td id=\"T_d5037800_6722_11ec_aaae_0242ac1c0002row8_col5\" class=\"data row8 col5\" >0</td>\n",
              "                        <td id=\"T_d5037800_6722_11ec_aaae_0242ac1c0002row8_col6\" class=\"data row8 col6\" >0</td>\n",
              "                        <td id=\"T_d5037800_6722_11ec_aaae_0242ac1c0002row8_col7\" class=\"data row8 col7\" >0</td>\n",
              "                        <td id=\"T_d5037800_6722_11ec_aaae_0242ac1c0002row8_col8\" class=\"data row8 col8\" >1</td>\n",
              "            </tr>\n",
              "            <tr>\n",
              "                        <th id=\"T_d5037800_6722_11ec_aaae_0242ac1c0002level0_row9\" class=\"row_heading level0 row9\" >person_prefer_d_2_m</th>\n",
              "                        <td id=\"T_d5037800_6722_11ec_aaae_0242ac1c0002row9_col0\" class=\"data row9 col0\" >0</td>\n",
              "                        <td id=\"T_d5037800_6722_11ec_aaae_0242ac1c0002row9_col1\" class=\"data row9 col1\" >0</td>\n",
              "                        <td id=\"T_d5037800_6722_11ec_aaae_0242ac1c0002row9_col2\" class=\"data row9 col2\" >0</td>\n",
              "                        <td id=\"T_d5037800_6722_11ec_aaae_0242ac1c0002row9_col3\" class=\"data row9 col3\" >1</td>\n",
              "                        <td id=\"T_d5037800_6722_11ec_aaae_0242ac1c0002row9_col4\" class=\"data row9 col4\" >0</td>\n",
              "                        <td id=\"T_d5037800_6722_11ec_aaae_0242ac1c0002row9_col5\" class=\"data row9 col5\" >0</td>\n",
              "                        <td id=\"T_d5037800_6722_11ec_aaae_0242ac1c0002row9_col6\" class=\"data row9 col6\" >0</td>\n",
              "                        <td id=\"T_d5037800_6722_11ec_aaae_0242ac1c0002row9_col7\" class=\"data row9 col7\" >0</td>\n",
              "                        <td id=\"T_d5037800_6722_11ec_aaae_0242ac1c0002row9_col8\" class=\"data row9 col8\" >1</td>\n",
              "            </tr>\n",
              "            <tr>\n",
              "                        <th id=\"T_d5037800_6722_11ec_aaae_0242ac1c0002level0_row10\" class=\"row_heading level0 row10\" >person_prefer_d_2_n</th>\n",
              "                        <td id=\"T_d5037800_6722_11ec_aaae_0242ac1c0002row10_col0\" class=\"data row10 col0\" >0</td>\n",
              "                        <td id=\"T_d5037800_6722_11ec_aaae_0242ac1c0002row10_col1\" class=\"data row10 col1\" >0</td>\n",
              "                        <td id=\"T_d5037800_6722_11ec_aaae_0242ac1c0002row10_col2\" class=\"data row10 col2\" >0</td>\n",
              "                        <td id=\"T_d5037800_6722_11ec_aaae_0242ac1c0002row10_col3\" class=\"data row10 col3\" >0</td>\n",
              "                        <td id=\"T_d5037800_6722_11ec_aaae_0242ac1c0002row10_col4\" class=\"data row10 col4\" >0</td>\n",
              "                        <td id=\"T_d5037800_6722_11ec_aaae_0242ac1c0002row10_col5\" class=\"data row10 col5\" >0</td>\n",
              "                        <td id=\"T_d5037800_6722_11ec_aaae_0242ac1c0002row10_col6\" class=\"data row10 col6\" >1</td>\n",
              "                        <td id=\"T_d5037800_6722_11ec_aaae_0242ac1c0002row10_col7\" class=\"data row10 col7\" >0</td>\n",
              "                        <td id=\"T_d5037800_6722_11ec_aaae_0242ac1c0002row10_col8\" class=\"data row10 col8\" >1</td>\n",
              "            </tr>\n",
              "            <tr>\n",
              "                        <th id=\"T_d5037800_6722_11ec_aaae_0242ac1c0002level0_row11\" class=\"row_heading level0 row11\" >person_prefer_d_2_s</th>\n",
              "                        <td id=\"T_d5037800_6722_11ec_aaae_0242ac1c0002row11_col0\" class=\"data row11 col0\" >0</td>\n",
              "                        <td id=\"T_d5037800_6722_11ec_aaae_0242ac1c0002row11_col1\" class=\"data row11 col1\" >1</td>\n",
              "                        <td id=\"T_d5037800_6722_11ec_aaae_0242ac1c0002row11_col2\" class=\"data row11 col2\" >0</td>\n",
              "                        <td id=\"T_d5037800_6722_11ec_aaae_0242ac1c0002row11_col3\" class=\"data row11 col3\" >0</td>\n",
              "                        <td id=\"T_d5037800_6722_11ec_aaae_0242ac1c0002row11_col4\" class=\"data row11 col4\" >0</td>\n",
              "                        <td id=\"T_d5037800_6722_11ec_aaae_0242ac1c0002row11_col5\" class=\"data row11 col5\" >0</td>\n",
              "                        <td id=\"T_d5037800_6722_11ec_aaae_0242ac1c0002row11_col6\" class=\"data row11 col6\" >0</td>\n",
              "                        <td id=\"T_d5037800_6722_11ec_aaae_0242ac1c0002row11_col7\" class=\"data row11 col7\" >0</td>\n",
              "                        <td id=\"T_d5037800_6722_11ec_aaae_0242ac1c0002row11_col8\" class=\"data row11 col8\" >1</td>\n",
              "            </tr>\n",
              "            <tr>\n",
              "                        <th id=\"T_d5037800_6722_11ec_aaae_0242ac1c0002level0_row12\" class=\"row_heading level0 row12\" >person_prefer_d_3_l</th>\n",
              "                        <td id=\"T_d5037800_6722_11ec_aaae_0242ac1c0002row12_col0\" class=\"data row12 col0\" >1</td>\n",
              "                        <td id=\"T_d5037800_6722_11ec_aaae_0242ac1c0002row12_col1\" class=\"data row12 col1\" >0</td>\n",
              "                        <td id=\"T_d5037800_6722_11ec_aaae_0242ac1c0002row12_col2\" class=\"data row12 col2\" >0</td>\n",
              "                        <td id=\"T_d5037800_6722_11ec_aaae_0242ac1c0002row12_col3\" class=\"data row12 col3\" >0</td>\n",
              "                        <td id=\"T_d5037800_6722_11ec_aaae_0242ac1c0002row12_col4\" class=\"data row12 col4\" >0</td>\n",
              "                        <td id=\"T_d5037800_6722_11ec_aaae_0242ac1c0002row12_col5\" class=\"data row12 col5\" >0</td>\n",
              "                        <td id=\"T_d5037800_6722_11ec_aaae_0242ac1c0002row12_col6\" class=\"data row12 col6\" >0</td>\n",
              "                        <td id=\"T_d5037800_6722_11ec_aaae_0242ac1c0002row12_col7\" class=\"data row12 col7\" >0</td>\n",
              "                        <td id=\"T_d5037800_6722_11ec_aaae_0242ac1c0002row12_col8\" class=\"data row12 col8\" >1</td>\n",
              "            </tr>\n",
              "            <tr>\n",
              "                        <th id=\"T_d5037800_6722_11ec_aaae_0242ac1c0002level0_row13\" class=\"row_heading level0 row13\" >person_prefer_d_3_m</th>\n",
              "                        <td id=\"T_d5037800_6722_11ec_aaae_0242ac1c0002row13_col0\" class=\"data row13 col0\" >0</td>\n",
              "                        <td id=\"T_d5037800_6722_11ec_aaae_0242ac1c0002row13_col1\" class=\"data row13 col1\" >0</td>\n",
              "                        <td id=\"T_d5037800_6722_11ec_aaae_0242ac1c0002row13_col2\" class=\"data row13 col2\" >1</td>\n",
              "                        <td id=\"T_d5037800_6722_11ec_aaae_0242ac1c0002row13_col3\" class=\"data row13 col3\" >0</td>\n",
              "                        <td id=\"T_d5037800_6722_11ec_aaae_0242ac1c0002row13_col4\" class=\"data row13 col4\" >0</td>\n",
              "                        <td id=\"T_d5037800_6722_11ec_aaae_0242ac1c0002row13_col5\" class=\"data row13 col5\" >0</td>\n",
              "                        <td id=\"T_d5037800_6722_11ec_aaae_0242ac1c0002row13_col6\" class=\"data row13 col6\" >0</td>\n",
              "                        <td id=\"T_d5037800_6722_11ec_aaae_0242ac1c0002row13_col7\" class=\"data row13 col7\" >0</td>\n",
              "                        <td id=\"T_d5037800_6722_11ec_aaae_0242ac1c0002row13_col8\" class=\"data row13 col8\" >1</td>\n",
              "            </tr>\n",
              "            <tr>\n",
              "                        <th id=\"T_d5037800_6722_11ec_aaae_0242ac1c0002level0_row14\" class=\"row_heading level0 row14\" >person_prefer_d_3_n</th>\n",
              "                        <td id=\"T_d5037800_6722_11ec_aaae_0242ac1c0002row14_col0\" class=\"data row14 col0\" >0</td>\n",
              "                        <td id=\"T_d5037800_6722_11ec_aaae_0242ac1c0002row14_col1\" class=\"data row14 col1\" >0</td>\n",
              "                        <td id=\"T_d5037800_6722_11ec_aaae_0242ac1c0002row14_col2\" class=\"data row14 col2\" >0</td>\n",
              "                        <td id=\"T_d5037800_6722_11ec_aaae_0242ac1c0002row14_col3\" class=\"data row14 col3\" >0</td>\n",
              "                        <td id=\"T_d5037800_6722_11ec_aaae_0242ac1c0002row14_col4\" class=\"data row14 col4\" >1</td>\n",
              "                        <td id=\"T_d5037800_6722_11ec_aaae_0242ac1c0002row14_col5\" class=\"data row14 col5\" >0</td>\n",
              "                        <td id=\"T_d5037800_6722_11ec_aaae_0242ac1c0002row14_col6\" class=\"data row14 col6\" >0</td>\n",
              "                        <td id=\"T_d5037800_6722_11ec_aaae_0242ac1c0002row14_col7\" class=\"data row14 col7\" >0</td>\n",
              "                        <td id=\"T_d5037800_6722_11ec_aaae_0242ac1c0002row14_col8\" class=\"data row14 col8\" >1</td>\n",
              "            </tr>\n",
              "            <tr>\n",
              "                        <th id=\"T_d5037800_6722_11ec_aaae_0242ac1c0002level0_row15\" class=\"row_heading level0 row15\" >person_prefer_d_3_s</th>\n",
              "                        <td id=\"T_d5037800_6722_11ec_aaae_0242ac1c0002row15_col0\" class=\"data row15 col0\" >0</td>\n",
              "                        <td id=\"T_d5037800_6722_11ec_aaae_0242ac1c0002row15_col1\" class=\"data row15 col1\" >1</td>\n",
              "                        <td id=\"T_d5037800_6722_11ec_aaae_0242ac1c0002row15_col2\" class=\"data row15 col2\" >0</td>\n",
              "                        <td id=\"T_d5037800_6722_11ec_aaae_0242ac1c0002row15_col3\" class=\"data row15 col3\" >0</td>\n",
              "                        <td id=\"T_d5037800_6722_11ec_aaae_0242ac1c0002row15_col4\" class=\"data row15 col4\" >0</td>\n",
              "                        <td id=\"T_d5037800_6722_11ec_aaae_0242ac1c0002row15_col5\" class=\"data row15 col5\" >0</td>\n",
              "                        <td id=\"T_d5037800_6722_11ec_aaae_0242ac1c0002row15_col6\" class=\"data row15 col6\" >0</td>\n",
              "                        <td id=\"T_d5037800_6722_11ec_aaae_0242ac1c0002row15_col7\" class=\"data row15 col7\" >0</td>\n",
              "                        <td id=\"T_d5037800_6722_11ec_aaae_0242ac1c0002row15_col8\" class=\"data row15 col8\" >1</td>\n",
              "            </tr>\n",
              "            <tr>\n",
              "                        <th id=\"T_d5037800_6722_11ec_aaae_0242ac1c0002level0_row16\" class=\"row_heading level0 row16\" >All</th>\n",
              "                        <td id=\"T_d5037800_6722_11ec_aaae_0242ac1c0002row16_col0\" class=\"data row16 col0\" >4</td>\n",
              "                        <td id=\"T_d5037800_6722_11ec_aaae_0242ac1c0002row16_col1\" class=\"data row16 col1\" >4</td>\n",
              "                        <td id=\"T_d5037800_6722_11ec_aaae_0242ac1c0002row16_col2\" class=\"data row16 col2\" >1</td>\n",
              "                        <td id=\"T_d5037800_6722_11ec_aaae_0242ac1c0002row16_col3\" class=\"data row16 col3\" >3</td>\n",
              "                        <td id=\"T_d5037800_6722_11ec_aaae_0242ac1c0002row16_col4\" class=\"data row16 col4\" >1</td>\n",
              "                        <td id=\"T_d5037800_6722_11ec_aaae_0242ac1c0002row16_col5\" class=\"data row16 col5\" >1</td>\n",
              "                        <td id=\"T_d5037800_6722_11ec_aaae_0242ac1c0002row16_col6\" class=\"data row16 col6\" >1</td>\n",
              "                        <td id=\"T_d5037800_6722_11ec_aaae_0242ac1c0002row16_col7\" class=\"data row16 col7\" >1</td>\n",
              "                        <td id=\"T_d5037800_6722_11ec_aaae_0242ac1c0002row16_col8\" class=\"data row16 col8\" >16</td>\n",
              "            </tr>\n",
              "    </tbody></table>"
            ],
            "text/plain": [
              "<pandas.io.formats.style.Styler at 0x7f3c5bca1ad0>"
            ]
          },
          "metadata": {},
          "execution_count": 19
        }
      ]
    },
    {
      "cell_type": "markdown",
      "source": [
        "## INT형 특징들에 대한 EDA 실시\n",
        "\n",
        "### person_attribute_a\n",
        "* 회원 속성 A 특징 값\n",
        "* **Categorical Features**\n",
        "* 2개의 unique한 값을 갖고 있기 때문에 많은 그래프를 그리지 않음\n",
        "* 다른 특징 값과 연계해서 많이 그리도록 하겠음"
      ],
      "metadata": {
        "id": "QdWUmkV6Vhga"
      }
    },
    {
      "cell_type": "code",
      "source": [
        "# 속성 값에 따른 분포도 파악\n",
        "job_data['person_attribute_a'].value_counts().plot.bar(title = 'person_attribute_a')"
      ],
      "metadata": {
        "colab": {
          "base_uri": "https://localhost:8080/",
          "height": 300
        },
        "id": "Kg_-nHpCVTX8",
        "outputId": "d558bad9-c891-4c51-b47e-98e7e0a2a922"
      },
      "execution_count": 20,
      "outputs": [
        {
          "output_type": "execute_result",
          "data": {
            "text/plain": [
              "<matplotlib.axes._subplots.AxesSubplot at 0x7f3c5c371a10>"
            ]
          },
          "metadata": {},
          "execution_count": 20
        },
        {
          "output_type": "display_data",
          "data": {
            "image/png": "[encoded data removed]",
            "text/plain": [
              "<Figure size 432x288 with 1 Axes>"
            ]
          },
          "metadata": {
            "needs_background": "light"
          }
        }
      ]
    },
    {
      "cell_type": "code",
      "source": [
        "f, ax = plt.subplots(1, 2, figsize = (8, 8))\n",
        "\n",
        "x = 'person_attribute_a'\n",
        "y = 'target'\n",
        "\n",
        "sns.countplot('person_attribute_a', hue = 'target', data = job_data, ax = ax[0])\n",
        "\n",
        "sns.histplot(job_data,\n",
        "            x = \"person_attribute_a\",\n",
        "            hue=\"target\",\n",
        "            multiple=\"stack\", \n",
        "            palette=\"pastel\",\n",
        "            edgecolor=\".10\",\n",
        "            linewidth=\".20\",\n",
        "            bins = 2,\n",
        "            ax = ax[1])\n",
        "\n",
        "plt.tight_layout(h_pad = 2.5)"
      ],
      "metadata": {
        "colab": {
          "base_uri": "https://localhost:8080/",
          "height": 585
        },
        "id": "sqX_IlsiV2jk",
        "outputId": "3c6b11bb-c7af-41c5-cecf-a5a025a0a836"
      },
      "execution_count": 21,
      "outputs": [
        {
          "output_type": "display_data",
          "data": {
            "image/png": "[encoded data removed]",
            "text/plain": [
              "<Figure size 576x576 with 2 Axes>"
            ]
          },
          "metadata": {
            "needs_background": "light"
          }
        }
      ]
    },
    {
      "cell_type": "code",
      "source": [
        "sns.factorplot(x, y, data = job_data)"
      ],
      "metadata": {
        "colab": {
          "base_uri": "https://localhost:8080/",
          "height": 388
        },
        "id": "jlzrWTfqV6EV",
        "outputId": "8bd596b8-cf91-4c0c-83da-3d4ec61c85a5"
      },
      "execution_count": 22,
      "outputs": [
        {
          "output_type": "execute_result",
          "data": {
            "text/plain": [
              "<seaborn.axisgrid.FacetGrid at 0x7f3c5c21d590>"
            ]
          },
          "metadata": {},
          "execution_count": 22
        },
        {
          "output_type": "display_data",
          "data": {
            "image/png": "[encoded data removed]",
            "text/plain": [
              "<Figure size 360x360 with 1 Axes>"
            ]
          },
          "metadata": {
            "needs_background": "light"
          }
        }
      ]
    },
    {
      "cell_type": "markdown",
      "source": [
        "1의 특징 값을 값을 갖는 사람들이 target 1일 확률이 더욱 높음"
      ],
      "metadata": {
        "id": "puH_OMJ6WZNr"
      }
    },
    {
      "cell_type": "markdown",
      "source": [
        "**person_attribute_a_1**\n",
        "\n",
        "* 회원 속성 A 하위 속성 1 특징 값"
      ],
      "metadata": {
        "id": "aYSiuDSqWbTm"
      }
    },
    {
      "cell_type": "code",
      "source": [
        "print(\"person_attribute_a_1: \")\n",
        "print(job_data['person_attribute_a_1'].value_counts())\n",
        "\n",
        "sns.countplot('person_attribute_a_1', data =job_data)"
      ],
      "metadata": {
        "colab": {
          "base_uri": "https://localhost:8080/",
          "height": 485
        },
        "id": "S8Vecrh0WV1D",
        "outputId": "ee7a8959-6709-4a6d-e1ea-61246f0caed4"
      },
      "execution_count": 23,
      "outputs": [
        {
          "output_type": "stream",
          "name": "stdout",
          "text": [
            "person_attribute_a_1: \n",
            "0    158626\n",
            "1     61195\n",
            "5     57783\n",
            "2     51895\n",
            "6     49820\n",
            "3     46340\n",
            "4     44325\n",
            "7     31967\n",
            "Name: person_attribute_a_1, dtype: int64\n"
          ]
        },
        {
          "output_type": "execute_result",
          "data": {
            "text/plain": [
              "<matplotlib.axes._subplots.AxesSubplot at 0x7f3c5d075d50>"
            ]
          },
          "metadata": {},
          "execution_count": 23
        },
        {
          "output_type": "display_data",
          "data": {
            "image/png": "[encoded data removed]",
            "text/plain": [
              "<Figure size 432x288 with 1 Axes>"
            ]
          },
          "metadata": {
            "needs_background": "light"
          }
        }
      ]
    },
    {
      "cell_type": "markdown",
      "source": [
        "대부분의 사람들이 0의 값을 취하고 있는 것을 볼 수 있음"
      ],
      "metadata": {
        "id": "bfNAehYcWnU8"
      }
    },
    {
      "cell_type": "code",
      "source": [
        "value = job_data['person_attribute_a_1'].value_counts()\n",
        "value_percent = job_data['person_attribute_a_1'].value_counts() / len(job_data) * 100\n",
        "value_table = pd.concat([value, value_percent], axis=1)\n",
        "value_table.columns = ['Num Of Values', '% of Total Values']\n",
        "value_table"
      ],
      "metadata": {
        "colab": {
          "base_uri": "https://localhost:8080/",
          "height": 300
        },
        "id": "qzXCK4ofWgmm",
        "outputId": "05b8c61f-5e6f-40bd-c989-56607b8b1dea"
      },
      "execution_count": 24,
      "outputs": [
        {
          "output_type": "execute_result",
          "data": {
            "text/html": [
              "\n",
              "  <div id=\"df-979a89c5-46d9-4044-974e-2bd4b11826d6\">\n",
              "    <div class=\"colab-df-container\">\n",
              "      <div>\n",
              "<style scoped>\n",
              "    .dataframe tbody tr th:only-of-type {\n",
              "        vertical-align: middle;\n",
              "    }\n",
              "\n",
              "    .dataframe tbody tr th {\n",
              "        vertical-align: top;\n",
              "    }\n",
              "\n",
              "    .dataframe thead th {\n",
              "        text-align: right;\n",
              "    }\n",
              "</style>\n",
              "<table border=\"1\" class=\"dataframe\">\n",
              "  <thead>\n",
              "    <tr style=\"text-align: right;\">\n",
              "      <th></th>\n",
              "      <th>Num Of Values</th>\n",
              "      <th>% of Total Values</th>\n",
              "    </tr>\n",
              "  </thead>\n",
              "  <tbody>\n",
              "    <tr>\n",
              "      <th>0</th>\n",
              "      <td>158626</td>\n",
              "      <td>31.601889</td>\n",
              "    </tr>\n",
              "    <tr>\n",
              "      <th>1</th>\n",
              "      <td>61195</td>\n",
              "      <td>12.191429</td>\n",
              "    </tr>\n",
              "    <tr>\n",
              "      <th>5</th>\n",
              "      <td>57783</td>\n",
              "      <td>11.511681</td>\n",
              "    </tr>\n",
              "    <tr>\n",
              "      <th>2</th>\n",
              "      <td>51895</td>\n",
              "      <td>10.338659</td>\n",
              "    </tr>\n",
              "    <tr>\n",
              "      <th>6</th>\n",
              "      <td>49820</td>\n",
              "      <td>9.925272</td>\n",
              "    </tr>\n",
              "    <tr>\n",
              "      <th>3</th>\n",
              "      <td>46340</td>\n",
              "      <td>9.231977</td>\n",
              "    </tr>\n",
              "    <tr>\n",
              "      <th>4</th>\n",
              "      <td>44325</td>\n",
              "      <td>8.830543</td>\n",
              "    </tr>\n",
              "    <tr>\n",
              "      <th>7</th>\n",
              "      <td>31967</td>\n",
              "      <td>6.368550</td>\n",
              "    </tr>\n",
              "  </tbody>\n",
              "</table>\n",
              "</div>\n",
              "      <button class=\"colab-df-convert\" onclick=\"convertToInteractive('df-979a89c5-46d9-4044-974e-2bd4b11826d6')\"\n",
              "              title=\"Convert this dataframe to an interactive table.\"\n",
              "              style=\"display:none;\">\n",
              "        \n",
              "  <svg xmlns=\"http://www.w3.org/2000/svg\" height=\"24px\"viewBox=\"0 0 24 24\"\n",
              "       width=\"24px\">\n",
              "    <path d=\"M0 0h24v24H0V0z\" fill=\"none\"/>\n",
              "    <path d=\"M18.56 5.44l.94 2.06.94-2.06 2.06-.94-2.06-.94-.94-2.06-.94 2.06-2.06.94zm-11 1L8.5 8.5l.94-2.06 2.06-.94-2.06-.94L8.5 2.5l-.94 2.06-2.06.94zm10 10l.94 2.06.94-2.06 2.06-.94-2.06-.94-.94-2.06-.94 2.06-2.06.94z\"/><path d=\"M17.41 7.96l-1.37-1.37c-.4-.4-.92-.59-1.43-.59-.52 0-1.04.2-1.43.59L10.3 9.45l-7.72 7.72c-.78.78-.78 2.05 0 2.83L4 21.41c.39.39.9.59 1.41.59.51 0 1.02-.2 1.41-.59l7.78-7.78 2.81-2.81c.8-.78.8-2.07 0-2.86zM5.41 20L4 18.59l7.72-7.72 1.47 1.35L5.41 20z\"/>\n",
              "  </svg>\n",
              "      </button>\n",
              "      \n",
              "  <style>\n",
              "    .colab-df-container {\n",
              "      display:flex;\n",
              "      flex-wrap:wrap;\n",
              "      gap: 12px;\n",
              "    }\n",
              "\n",
              "    .colab-df-convert {\n",
              "      background-color: #E8F0FE;\n",
              "      border: none;\n",
              "      border-radius: 50%;\n",
              "      cursor: pointer;\n",
              "      display: none;\n",
              "      fill: #1967D2;\n",
              "      height: 32px;\n",
              "      padding: 0 0 0 0;\n",
              "      width: 32px;\n",
              "    }\n",
              "\n",
              "    .colab-df-convert:hover {\n",
              "      background-color: #E2EBFA;\n",
              "      box-shadow: 0px 1px 2px rgba(60, 64, 67, 0.3), 0px 1px 3px 1px rgba(60, 64, 67, 0.15);\n",
              "      fill: #174EA6;\n",
              "    }\n",
              "\n",
              "    [theme=dark] .colab-df-convert {\n",
              "      background-color: #3B4455;\n",
              "      fill: #D2E3FC;\n",
              "    }\n",
              "\n",
              "    [theme=dark] .colab-df-convert:hover {\n",
              "      background-color: #434B5C;\n",
              "      box-shadow: 0px 1px 3px 1px rgba(0, 0, 0, 0.15);\n",
              "      filter: drop-shadow(0px 1px 2px rgba(0, 0, 0, 0.3));\n",
              "      fill: #FFFFFF;\n",
              "    }\n",
              "  </style>\n",
              "\n",
              "      <script>\n",
              "        const buttonEl =\n",
              "          document.querySelector('#df-979a89c5-46d9-4044-974e-2bd4b11826d6 button.colab-df-convert');\n",
              "        buttonEl.style.display =\n",
              "          google.colab.kernel.accessAllowed ? 'block' : 'none';\n",
              "\n",
              "        async function convertToInteractive(key) {\n",
              "          const element = document.querySelector('#df-979a89c5-46d9-4044-974e-2bd4b11826d6');\n",
              "          const dataTable =\n",
              "            await google.colab.kernel.invokeFunction('convertToInteractive',\n",
              "                                                     [key], {});\n",
              "          if (!dataTable) return;\n",
              "\n",
              "          const docLinkHtml = 'Like what you see? Visit the ' +\n",
              "            '<a target=\"_blank\" href=https://colab.research.google.com/notebooks/data_table.ipynb>data table notebook</a>'\n",
              "            + ' to learn more about interactive tables.';\n",
              "          element.innerHTML = '';\n",
              "          dataTable['output_type'] = 'display_data';\n",
              "          await google.colab.output.renderOutput(dataTable, element);\n",
              "          const docLink = document.createElement('div');\n",
              "          docLink.innerHTML = docLinkHtml;\n",
              "          element.appendChild(docLink);\n",
              "        }\n",
              "      </script>\n",
              "    </div>\n",
              "  </div>\n",
              "  "
            ],
            "text/plain": [
              "   Num Of Values  % of Total Values\n",
              "0         158626          31.601889\n",
              "1          61195          12.191429\n",
              "5          57783          11.511681\n",
              "2          51895          10.338659\n",
              "6          49820           9.925272\n",
              "3          46340           9.231977\n",
              "4          44325           8.830543\n",
              "7          31967           6.368550"
            ]
          },
          "metadata": {},
          "execution_count": 24
        }
      ]
    },
    {
      "cell_type": "code",
      "source": [
        "f, ax = plt.subplots(2,2, figsize=(15,15))\n",
        "\n",
        "sns.countplot('person_attribute_a_1', hue = 'target', data =job_data, ax=ax[0][0])\n",
        "sns.histplot(job_data,\n",
        "            x = \"person_attribute_a_1\",\n",
        "            hue=\"target\",\n",
        "            multiple=\"stack\", \n",
        "            palette=\"Pastel1\",\n",
        "            edgecolor=\".10\",\n",
        "            linewidth=\".20\",\n",
        "            bins = 8,\n",
        "            ax = ax[0][1])\n",
        "sns.kdeplot(data=job_data, x=\"person_attribute_a_1\", hue='target', ax=ax[1][0])\n",
        "sns.violinplot(data=job_data, x=\"target\", y=\"person_attribute_a_1\", ax=ax[1][1])\n",
        "plt.show()"
      ],
      "metadata": {
        "colab": {
          "base_uri": "https://localhost:8080/",
          "height": 883
        },
        "id": "-PDHUSeuWpkr",
        "outputId": "4cf85690-e237-4807-bb21-117dbfea030e"
      },
      "execution_count": 25,
      "outputs": [
        {
          "output_type": "display_data",
          "data": {
            "image/png": "[encoded data removed]",
            "text/plain": [
              "<Figure size 1080x1080 with 4 Axes>"
            ]
          },
          "metadata": {
            "needs_background": "light"
          }
        }
      ]
    },
    {
      "cell_type": "markdown",
      "source": [
        "* person_attribute_a_1 값들은 모두 비슷한 형태의 모양을 뜀\n",
        "* Violinplot의 모양이 매우 흥미롭게 느껴짐\n",
        "  * target 값이 0인 것과 1인 것에 있어서 매우 유사한 형태로 뛰고 있음\n",
        "  * 이를 통해서 어떠한 특징 값을 갖더라도 그 값에 해당하는 사람은 target에 있어서 비슷한 형태를 취하는 것 으로 추정됨\n",
        "* 하지만 대부분의 사람들이 0의 값을 취하는 것은 신기하게 느껴지네요."
      ],
      "metadata": {
        "id": "cFbZWrb-W0v5"
      }
    },
    {
      "cell_type": "markdown",
      "source": [
        "**person_attribute_a에 따른 person_attribute_a_1 분포도**\n",
        "* 이름이 비슷해서 혼동 되기 쉽습니다.\n",
        "* person_attribute_a는 위에서 보았던 이진 데이터 입니다. (1과 2의 값을 갖던)"
      ],
      "metadata": {
        "id": "ReXE1zuyXoXW"
      }
    },
    {
      "cell_type": "code",
      "source": [
        "sns.catplot(x=\"person_attribute_a_1\", y=\"target\", kind=\"bar\", data=job_data)"
      ],
      "metadata": {
        "colab": {
          "base_uri": "https://localhost:8080/",
          "height": 388
        },
        "id": "AFQ8TcgMWv8M",
        "outputId": "ee06550a-5c1d-4a71-8370-4cf1b3aabc03"
      },
      "execution_count": 26,
      "outputs": [
        {
          "output_type": "execute_result",
          "data": {
            "text/plain": [
              "<seaborn.axisgrid.FacetGrid at 0x7f3c5c438290>"
            ]
          },
          "metadata": {},
          "execution_count": 26
        },
        {
          "output_type": "display_data",
          "data": {
            "image/png": "[encoded data removed]",
            "text/plain": [
              "<Figure size 360x360 with 1 Axes>"
            ]
          },
          "metadata": {
            "needs_background": "light"
          }
        }
      ]
    },
    {
      "cell_type": "code",
      "source": [
        "sns.catplot(x=\"person_attribute_a_1\", y=\"target\", col = \"person_attribute_a\" , kind=\"bar\", data=job_data)"
      ],
      "metadata": {
        "colab": {
          "base_uri": "https://localhost:8080/",
          "height": 388
        },
        "id": "AYNauyVZXuMB",
        "outputId": "4bb94b71-adf7-4cfc-996e-be99ea280d2f"
      },
      "execution_count": 27,
      "outputs": [
        {
          "output_type": "execute_result",
          "data": {
            "text/plain": [
              "<seaborn.axisgrid.FacetGrid at 0x7f3c5c42f910>"
            ]
          },
          "metadata": {},
          "execution_count": 27
        },
        {
          "output_type": "display_data",
          "data": {
            "image/png": "[encoded data removed]",
            "text/plain": [
              "<Figure size 720x360 with 2 Axes>"
            ]
          },
          "metadata": {
            "needs_background": "light"
          }
        }
      ]
    },
    {
      "cell_type": "markdown",
      "source": [
        "* person_attribute_a 값이 1일 때 target 값이 더욱 높은 것을 앞에서 보았음\n",
        "* person_attribute_a 값에 따라서 person_attribute_a_1 분포도는 크게 변하지 않는 것으로 보임\n",
        "* 하지만 두 경우 모두 person_attribute_a_1 값이 7일 때 target 값일 확률이 높은 것으로 보임"
      ],
      "metadata": {
        "id": "dQEIW8YjXx-s"
      }
    },
    {
      "cell_type": "code",
      "source": [
        "sns.lmplot(x = 'person_attribute_a_1', y = 'target', data = job_data)"
      ],
      "metadata": {
        "colab": {
          "base_uri": "https://localhost:8080/",
          "height": 388
        },
        "id": "A2hEzoGpXwGb",
        "outputId": "f8fc02fc-3d56-41eb-ac46-569abe9aae3c"
      },
      "execution_count": 28,
      "outputs": [
        {
          "output_type": "execute_result",
          "data": {
            "text/plain": [
              "<seaborn.axisgrid.FacetGrid at 0x7f3c5c31bcd0>"
            ]
          },
          "metadata": {},
          "execution_count": 28
        },
        {
          "output_type": "display_data",
          "data": {
            "image/png": "[encoded data removed]",
            "text/plain": [
              "<Figure size 360x360 with 1 Axes>"
            ]
          },
          "metadata": {
            "needs_background": "light"
          }
        }
      ]
    },
    {
      "cell_type": "code",
      "source": [
        "pd.crosstab(job_data.person_attribute_a_1,job_data.target,margins=True).style.background_gradient(cmap='summer_r')"
      ],
      "metadata": {
        "colab": {
          "base_uri": "https://localhost:8080/",
          "height": 363
        },
        "id": "OeTnCcWhX2bd",
        "outputId": "f49c25ec-8e90-4a87-b7c7-a15e34c11202"
      },
      "execution_count": 29,
      "outputs": [
        {
          "output_type": "execute_result",
          "data": {
            "text/html": [
              "<style  type=\"text/css\" >\n",
              "#T_8dca6550_6724_11ec_aaae_0242ac1c0002row0_col0{\n",
              "            background-color:  #b8dc66;\n",
              "            color:  #000000;\n",
              "        }#T_8dca6550_6724_11ec_aaae_0242ac1c0002row0_col1{\n",
              "            background-color:  #bdde66;\n",
              "            color:  #000000;\n",
              "        }#T_8dca6550_6724_11ec_aaae_0242ac1c0002row0_col2{\n",
              "            background-color:  #bbdd66;\n",
              "            color:  #000000;\n",
              "        }#T_8dca6550_6724_11ec_aaae_0242ac1c0002row1_col0{\n",
              "            background-color:  #edf666;\n",
              "            color:  #000000;\n",
              "        }#T_8dca6550_6724_11ec_aaae_0242ac1c0002row1_col1,#T_8dca6550_6724_11ec_aaae_0242ac1c0002row2_col0{\n",
              "            background-color:  #f2f866;\n",
              "            color:  #000000;\n",
              "        }#T_8dca6550_6724_11ec_aaae_0242ac1c0002row1_col2{\n",
              "            background-color:  #f0f866;\n",
              "            color:  #000000;\n",
              "        }#T_8dca6550_6724_11ec_aaae_0242ac1c0002row2_col1,#T_8dca6550_6724_11ec_aaae_0242ac1c0002row6_col1{\n",
              "            background-color:  #f7fb66;\n",
              "            color:  #000000;\n",
              "        }#T_8dca6550_6724_11ec_aaae_0242ac1c0002row2_col2,#T_8dca6550_6724_11ec_aaae_0242ac1c0002row3_col0{\n",
              "            background-color:  #f5fa66;\n",
              "            color:  #000000;\n",
              "        }#T_8dca6550_6724_11ec_aaae_0242ac1c0002row3_col1{\n",
              "            background-color:  #fbfd66;\n",
              "            color:  #000000;\n",
              "        }#T_8dca6550_6724_11ec_aaae_0242ac1c0002row3_col2{\n",
              "            background-color:  #f8fc66;\n",
              "            color:  #000000;\n",
              "        }#T_8dca6550_6724_11ec_aaae_0242ac1c0002row4_col0,#T_8dca6550_6724_11ec_aaae_0242ac1c0002row6_col2{\n",
              "            background-color:  #f6fa66;\n",
              "            color:  #000000;\n",
              "        }#T_8dca6550_6724_11ec_aaae_0242ac1c0002row4_col1{\n",
              "            background-color:  #fcfe66;\n",
              "            color:  #000000;\n",
              "        }#T_8dca6550_6724_11ec_aaae_0242ac1c0002row4_col2{\n",
              "            background-color:  #f9fc66;\n",
              "            color:  #000000;\n",
              "        }#T_8dca6550_6724_11ec_aaae_0242ac1c0002row5_col0{\n",
              "            background-color:  #eff766;\n",
              "            color:  #000000;\n",
              "        }#T_8dca6550_6724_11ec_aaae_0242ac1c0002row5_col1,#T_8dca6550_6724_11ec_aaae_0242ac1c0002row6_col0{\n",
              "            background-color:  #f4fa66;\n",
              "            color:  #000000;\n",
              "        }#T_8dca6550_6724_11ec_aaae_0242ac1c0002row5_col2{\n",
              "            background-color:  #f1f866;\n",
              "            color:  #000000;\n",
              "        }#T_8dca6550_6724_11ec_aaae_0242ac1c0002row7_col0,#T_8dca6550_6724_11ec_aaae_0242ac1c0002row7_col1,#T_8dca6550_6724_11ec_aaae_0242ac1c0002row7_col2{\n",
              "            background-color:  #ffff66;\n",
              "            color:  #000000;\n",
              "        }#T_8dca6550_6724_11ec_aaae_0242ac1c0002row8_col0,#T_8dca6550_6724_11ec_aaae_0242ac1c0002row8_col1,#T_8dca6550_6724_11ec_aaae_0242ac1c0002row8_col2{\n",
              "            background-color:  #008066;\n",
              "            color:  #f1f1f1;\n",
              "        }</style><table id=\"T_8dca6550_6724_11ec_aaae_0242ac1c0002\" class=\"dataframe\"><thead>    <tr>        <th class=\"index_name level0\" >target</th>        <th class=\"col_heading level0 col0\" >0</th>        <th class=\"col_heading level0 col1\" >1</th>        <th class=\"col_heading level0 col2\" >All</th>    </tr>    <tr>        <th class=\"index_name level0\" >person_attribute_a_1</th>        <th class=\"blank\" ></th>        <th class=\"blank\" ></th>        <th class=\"blank\" ></th>    </tr></thead><tbody>\n",
              "                <tr>\n",
              "                        <th id=\"T_8dca6550_6724_11ec_aaae_0242ac1c0002level0_row0\" class=\"row_heading level0 row0\" >0</th>\n",
              "                        <td id=\"T_8dca6550_6724_11ec_aaae_0242ac1c0002row0_col0\" class=\"data row0 col0\" >80423</td>\n",
              "                        <td id=\"T_8dca6550_6724_11ec_aaae_0242ac1c0002row0_col1\" class=\"data row0 col1\" >78203</td>\n",
              "                        <td id=\"T_8dca6550_6724_11ec_aaae_0242ac1c0002row0_col2\" class=\"data row0 col2\" >158626</td>\n",
              "            </tr>\n",
              "            <tr>\n",
              "                        <th id=\"T_8dca6550_6724_11ec_aaae_0242ac1c0002level0_row1\" class=\"row_heading level0 row1\" >1</th>\n",
              "                        <td id=\"T_8dca6550_6724_11ec_aaae_0242ac1c0002row1_col0\" class=\"data row1 col0\" >30739</td>\n",
              "                        <td id=\"T_8dca6550_6724_11ec_aaae_0242ac1c0002row1_col1\" class=\"data row1 col1\" >30456</td>\n",
              "                        <td id=\"T_8dca6550_6724_11ec_aaae_0242ac1c0002row1_col2\" class=\"data row1 col2\" >61195</td>\n",
              "            </tr>\n",
              "            <tr>\n",
              "                        <th id=\"T_8dca6550_6724_11ec_aaae_0242ac1c0002level0_row2\" class=\"row_heading level0 row2\" >2</th>\n",
              "                        <td id=\"T_8dca6550_6724_11ec_aaae_0242ac1c0002row2_col0\" class=\"data row2 col0\" >26135</td>\n",
              "                        <td id=\"T_8dca6550_6724_11ec_aaae_0242ac1c0002row2_col1\" class=\"data row2 col1\" >25760</td>\n",
              "                        <td id=\"T_8dca6550_6724_11ec_aaae_0242ac1c0002row2_col2\" class=\"data row2 col2\" >51895</td>\n",
              "            </tr>\n",
              "            <tr>\n",
              "                        <th id=\"T_8dca6550_6724_11ec_aaae_0242ac1c0002level0_row3\" class=\"row_heading level0 row3\" >3</th>\n",
              "                        <td id=\"T_8dca6550_6724_11ec_aaae_0242ac1c0002row3_col0\" class=\"data row3 col0\" >23779</td>\n",
              "                        <td id=\"T_8dca6550_6724_11ec_aaae_0242ac1c0002row3_col1\" class=\"data row3 col1\" >22561</td>\n",
              "                        <td id=\"T_8dca6550_6724_11ec_aaae_0242ac1c0002row3_col2\" class=\"data row3 col2\" >46340</td>\n",
              "            </tr>\n",
              "            <tr>\n",
              "                        <th id=\"T_8dca6550_6724_11ec_aaae_0242ac1c0002level0_row4\" class=\"row_heading level0 row4\" >4</th>\n",
              "                        <td id=\"T_8dca6550_6724_11ec_aaae_0242ac1c0002row4_col0\" class=\"data row4 col0\" >22889</td>\n",
              "                        <td id=\"T_8dca6550_6724_11ec_aaae_0242ac1c0002row4_col1\" class=\"data row4 col1\" >21436</td>\n",
              "                        <td id=\"T_8dca6550_6724_11ec_aaae_0242ac1c0002row4_col2\" class=\"data row4 col2\" >44325</td>\n",
              "            </tr>\n",
              "            <tr>\n",
              "                        <th id=\"T_8dca6550_6724_11ec_aaae_0242ac1c0002level0_row5\" class=\"row_heading level0 row5\" >5</th>\n",
              "                        <td id=\"T_8dca6550_6724_11ec_aaae_0242ac1c0002row5_col0\" class=\"data row5 col0\" >29101</td>\n",
              "                        <td id=\"T_8dca6550_6724_11ec_aaae_0242ac1c0002row5_col1\" class=\"data row5 col1\" >28682</td>\n",
              "                        <td id=\"T_8dca6550_6724_11ec_aaae_0242ac1c0002row5_col2\" class=\"data row5 col2\" >57783</td>\n",
              "            </tr>\n",
              "            <tr>\n",
              "                        <th id=\"T_8dca6550_6724_11ec_aaae_0242ac1c0002level0_row6\" class=\"row_heading level0 row6\" >6</th>\n",
              "                        <td id=\"T_8dca6550_6724_11ec_aaae_0242ac1c0002row6_col0\" class=\"data row6 col0\" >24159</td>\n",
              "                        <td id=\"T_8dca6550_6724_11ec_aaae_0242ac1c0002row6_col1\" class=\"data row6 col1\" >25661</td>\n",
              "                        <td id=\"T_8dca6550_6724_11ec_aaae_0242ac1c0002row6_col2\" class=\"data row6 col2\" >49820</td>\n",
              "            </tr>\n",
              "            <tr>\n",
              "                        <th id=\"T_8dca6550_6724_11ec_aaae_0242ac1c0002level0_row7\" class=\"row_heading level0 row7\" >7</th>\n",
              "                        <td id=\"T_8dca6550_6724_11ec_aaae_0242ac1c0002row7_col0\" class=\"data row7 col0\" >13881</td>\n",
              "                        <td id=\"T_8dca6550_6724_11ec_aaae_0242ac1c0002row7_col1\" class=\"data row7 col1\" >18086</td>\n",
              "                        <td id=\"T_8dca6550_6724_11ec_aaae_0242ac1c0002row7_col2\" class=\"data row7 col2\" >31967</td>\n",
              "            </tr>\n",
              "            <tr>\n",
              "                        <th id=\"T_8dca6550_6724_11ec_aaae_0242ac1c0002level0_row8\" class=\"row_heading level0 row8\" >All</th>\n",
              "                        <td id=\"T_8dca6550_6724_11ec_aaae_0242ac1c0002row8_col0\" class=\"data row8 col0\" >251106</td>\n",
              "                        <td id=\"T_8dca6550_6724_11ec_aaae_0242ac1c0002row8_col1\" class=\"data row8 col1\" >250845</td>\n",
              "                        <td id=\"T_8dca6550_6724_11ec_aaae_0242ac1c0002row8_col2\" class=\"data row8 col2\" >501951</td>\n",
              "            </tr>\n",
              "    </tbody></table>"
            ],
            "text/plain": [
              "<pandas.io.formats.style.Styler at 0x7f3c43c73fd0>"
            ]
          },
          "metadata": {},
          "execution_count": 29
        }
      ]
    },
    {
      "cell_type": "markdown",
      "source": [
        "### person_attribute_b\n",
        "\n",
        "* 회원 속성 B 특징 값"
      ],
      "metadata": {
        "id": "9d3DfdKyX9kc"
      }
    },
    {
      "cell_type": "code",
      "source": [
        ""
      ],
      "metadata": {
        "id": "2TU5yUg7X4l7"
      },
      "execution_count": null,
      "outputs": []
    }
  ]
}